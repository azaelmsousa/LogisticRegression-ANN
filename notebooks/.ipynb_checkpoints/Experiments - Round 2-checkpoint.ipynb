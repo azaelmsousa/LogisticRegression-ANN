{
 "cells": [
  {
   "cell_type": "markdown",
   "metadata": {},
   "source": [
    "# Experiments - Round 2\n",
    "## Multinomial Logistic Regression (Softmax Regression)\n",
    "This notebook performs experiments for the classification of garments using the Multinomial Logistic Regression. The Multinomial Logitic Regression uses the softmax function to compute a single model capable of multiclass classification."
   ]
  },
  {
   "cell_type": "code",
   "execution_count": 17,
   "metadata": {},
   "outputs": [
    {
     "data": {
      "text/plain": [
       "<module 'utils.dataset_helper' from '../utils/dataset_helper.py'>"
      ]
     },
     "execution_count": 17,
     "metadata": {},
     "output_type": "execute_result"
    }
   ],
   "source": [
    "import sys\n",
    "sys.path.append('../')\n",
    "import SGD\n",
    "\n",
    "from utils import dataset_helper\n",
    "from importlib import reload\n",
    "from scipy import stats\n",
    "import pandas as pd\n",
    "reload(dataset_helper)"
   ]
  },
  {
   "cell_type": "code",
   "execution_count": 3,
   "metadata": {},
   "outputs": [],
   "source": [
    "X_train, y_train, X_test, y_test  = dataset_helper.load_fasion_mnist(scaling='default')\n",
    "normalization_comparison.append(stats.describe(X_train[0]))"
   ]
  },
  {
   "cell_type": "code",
   "execution_count": 4,
   "metadata": {},
   "outputs": [],
   "source": [
    "X_train, y_train, X_test, y_test  = dataset_helper.load_fasion_mnist(scaling='mean_std')\n",
    "normalization_comparison.append(stats.describe(X_train[0]))"
   ]
  },
  {
   "cell_type": "code",
   "execution_count": 5,
   "metadata": {},
   "outputs": [],
   "source": [
    "X_train, y_train, X_test, y_test  = dataset_helper.load_fasion_mnist(scaling='min_max')\n",
    "normalization_comparison.append(stats.describe(X_train[0]))"
   ]
  },
  {
   "cell_type": "code",
   "execution_count": 6,
   "metadata": {},
   "outputs": [
    {
     "data": {
      "text/html": [
       "<div>\n",
       "<style scoped>\n",
       "    .dataframe tbody tr th:only-of-type {\n",
       "        vertical-align: middle;\n",
       "    }\n",
       "\n",
       "    .dataframe tbody tr th {\n",
       "        vertical-align: top;\n",
       "    }\n",
       "\n",
       "    .dataframe thead th {\n",
       "        text-align: right;\n",
       "    }\n",
       "</style>\n",
       "<table border=\"1\" class=\"dataframe\">\n",
       "  <thead>\n",
       "    <tr style=\"text-align: right;\">\n",
       "      <th></th>\n",
       "      <th>nobs</th>\n",
       "      <th>minmax</th>\n",
       "      <th>mean</th>\n",
       "      <th>variance</th>\n",
       "      <th>skewness</th>\n",
       "      <th>kurtosis</th>\n",
       "    </tr>\n",
       "  </thead>\n",
       "  <tbody>\n",
       "    <tr>\n",
       "      <th>0</th>\n",
       "      <td>784</td>\n",
       "      <td>(0.0, 1.0)</td>\n",
       "      <td>0.381388</td>\n",
       "      <td>0.159553</td>\n",
       "      <td>0.219186</td>\n",
       "      <td>-1.816807</td>\n",
       "    </tr>\n",
       "    <tr>\n",
       "      <th>1</th>\n",
       "      <td>784</td>\n",
       "      <td>(-1.9222308239853982, 4.205628133086459)</td>\n",
       "      <td>0.323895</td>\n",
       "      <td>1.181219</td>\n",
       "      <td>0.584337</td>\n",
       "      <td>0.005424</td>\n",
       "    </tr>\n",
       "    <tr>\n",
       "      <th>2</th>\n",
       "      <td>784</td>\n",
       "      <td>(0.0, 1.0)</td>\n",
       "      <td>0.381489</td>\n",
       "      <td>0.159539</td>\n",
       "      <td>0.218514</td>\n",
       "      <td>-1.816866</td>\n",
       "    </tr>\n",
       "  </tbody>\n",
       "</table>\n",
       "</div>"
      ],
      "text/plain": [
       "   nobs                                    minmax      mean  variance  \\\n",
       "0   784                                (0.0, 1.0)  0.381388  0.159553   \n",
       "1   784  (-1.9222308239853982, 4.205628133086459)  0.323895  1.181219   \n",
       "2   784                                (0.0, 1.0)  0.381489  0.159539   \n",
       "\n",
       "   skewness  kurtosis  \n",
       "0  0.219186 -1.816807  \n",
       "1  0.584337  0.005424  \n",
       "2  0.218514 -1.816866  "
      ]
     },
     "execution_count": 6,
     "metadata": {},
     "output_type": "execute_result"
    }
   ],
   "source": [
    "df = pd.DataFrame(normalization_comparison)\n",
    "df"
   ]
  },
  {
   "cell_type": "code",
   "execution_count": 30,
   "metadata": {},
   "outputs": [
    {
     "name": "stdout",
     "output_type": "stream",
     "text": [
      "48000\n",
      "785\n",
      "Iteration: 0 Cost= 2.077265486475514\n",
      "Iteration: 1 Cost= 1.9190906427399763\n",
      "Iteration: 2 Cost= 1.7889911084487566\n",
      "Iteration: 3 Cost= 1.6811544118230226\n",
      "Iteration: 4 Cost= 1.590984180697094\n",
      "Iteration: 5 Cost= 1.5148578544083742\n",
      "Iteration: 6 Cost= 1.4499507624162182\n",
      "Iteration: 7 Cost= 1.3940754999923606\n",
      "Iteration: 8 Cost= 1.3455346684752725\n",
      "Iteration: 9 Cost= 1.3030051680895967\n",
      "Iteration: 10 Cost= 1.2654481365083645\n",
      "Iteration: 11 Cost= 1.2320412971220212\n",
      "Iteration: 12 Cost= 1.202128049307293\n",
      "Iteration: 13 Cost= 1.1751794705597398\n",
      "Iteration: 14 Cost= 1.1507657680745267\n",
      "Iteration: 15 Cost= 1.1285347782027575\n",
      "Iteration: 16 Cost= 1.1081956356467\n",
      "Iteration: 17 Cost= 1.089506289151974\n",
      "Iteration: 18 Cost= 1.0722638737696262\n",
      "Iteration: 19 Cost= 1.0562972290512964\n"
     ]
    },
    {
     "data": {
      "image/png": "[encoded data removed]",
      "text/plain": [
       "<Figure size 432x288 with 1 Axes>"
      ]
     },
     "metadata": {
      "needs_background": "light"
     },
     "output_type": "display_data"
    },
    {
     "name": "stdout",
     "output_type": "stream",
     "text": [
      "\n",
      "--- Classification\n",
      "[9 2 1 ... 3 1 7]\n",
      "\n",
      "--- Expected Output\n",
      "[9 2 1 ... 8 1 5]\n",
      "\n",
      "myAccuracy:  0.6737\n",
      "skAccuracy:  0.6737\n",
      "\n",
      "myPrecision:  0.7005362695989213\n",
      "skPrecision:  0.6737\n",
      "\n",
      "myRecall:  0.6737000000000001\n",
      "skRecall:  0.6737\n",
      "\n",
      "myF1Score:  0.6868561036691819\n",
      "skF1Score:  0.6737\n"
     ]
    }
   ],
   "source": [
    "from SGD.softmax_logistic import *\n",
    "\n",
    "theta,acc = softmax_logistic.BGD(X_train,y_train,0.1,20)\n",
    "\n",
    "predY = classify_softmax(theta,X_test)\n",
    "\n",
    "print(\"\\n--- Classification\")\n",
    "print(predY)\n",
    "print(\"\\n--- Expected Output\")\n",
    "print(y_test)\n",
    "\n",
    "acc = AccuracyScore(y_test,predY,mode='multi')\n",
    "sk_acc = metrics.accuracy_score(y_test,predY)\n",
    "pre = PrecisionScore(y_test,predY,mode='multi')\n",
    "sk_pre = metrics.precision_score(y_test,predY,average='micro')\n",
    "recall = RecallScore(y_test,predY,mode='multi')\n",
    "sk_recall = metrics.recall_score(y_test,predY,average='micro')\n",
    "f = FbScore(y_test,predY,1,mode='multi')\n",
    "sk_f = metrics.f1_score(y_test,predY,average='micro')\n",
    "\n",
    "print()\n",
    "print(\"myAccuracy: \", str(acc))\n",
    "print(\"skAccuracy: \", str(sk_acc))\n",
    "print()\n",
    "print(\"myPrecision: \",str(pre))\n",
    "print(\"skPrecision: \",str(sk_pre))\n",
    "print()\n",
    "print(\"myRecall: \",str(recall))\n",
    "print(\"skRecall: \",str(sk_recall))\n",
    "print()\n",
    "print(\"myF1Score: \",str(f))\n",
    "print(\"skF1Score: \",str(sk_f))"
   ]
  },
  {
   "cell_type": "code",
   "execution_count": 56,
   "metadata": {
    "scrolled": false
   },
   "outputs": [
    {
     "name": "stdout",
     "output_type": "stream",
     "text": [
      "\n",
      "Stochastic Mini batch\n",
      "----------------------------\n",
      "Number of Iterations: 100\n",
      "Learning rate: 0.0001\n",
      "----------------------------\n",
      "[0 1 2 3 4 5 6 7 8 9]\n",
      "==============================================\n",
      "Training for class 0\n",
      "==============================================\n",
      "Number of samples: 48000\n",
      "Number of parameters: 785\n",
      "It: 1 Batch: 0 Epoch 1 Error 0.39929167 Train Acc: 0.89929167 lr: 0.00010000 Val Acc: 0.90283333\n",
      "It: 10 Batch: 0 Epoch 10 Error 0.39116256 Train Acc: 0.89929167 lr: 0.00010000 Val Acc: 0.90283333\n",
      "It: 20 Batch: 0 Epoch 20 Error 0.38237089 Train Acc: 0.89929167 lr: 0.00010000 Val Acc: 0.90283333\n",
      "It: 30 Batch: 0 Epoch 30 Error 0.37383262 Train Acc: 0.89929167 lr: 0.00010000 Val Acc: 0.90283333\n",
      "It: 40 Batch: 0 Epoch 40 Error 0.36554655 Train Acc: 0.89929167 lr: 0.00010000 Val Acc: 0.90283333\n",
      "It: 50 Batch: 0 Epoch 50 Error 0.35751036 Train Acc: 0.89929167 lr: 0.00010000 Val Acc: 0.90283333\n",
      "It: 60 Batch: 0 Epoch 60 Error 0.34972074 Train Acc: 0.89929167 lr: 0.00010000 Val Acc: 0.90283333\n",
      "It: 70 Batch: 0 Epoch 70 Error 0.34217360 Train Acc: 0.89929167 lr: 0.00010000 Val Acc: 0.90283333\n",
      "It: 80 Batch: 0 Epoch 80 Error 0.33486418 Train Acc: 0.89929167 lr: 0.00010000 Val Acc: 0.90283333\n",
      "It: 90 Batch: 0 Epoch 90 Error 0.32778716 Train Acc: 0.89929167 lr: 0.00010000 Val Acc: 0.90283333\n",
      "It: 100 Batch: 0 Epoch 100 Error 0.32093681 Train Acc: 0.89929167 lr: 0.00010000 Val Acc: 0.90283333\n",
      "Finished \n",
      " Whole Set Train Acc: 0.89929167 Val Acc: 0.90283333\n",
      "==============================================\n",
      "==============================================\n",
      "Training for class 1\n",
      "==============================================\n",
      "Number of samples: 48000\n",
      "Number of parameters: 785\n",
      "It: 1 Batch: 0 Epoch 1 Error 0.40027083 Train Acc: 0.90027083 lr: 0.00010000 Val Acc: 0.89891667\n",
      "It: 10 Batch: 0 Epoch 10 Error 0.39158613 Train Acc: 0.90027083 lr: 0.00010000 Val Acc: 0.89891667\n",
      "It: 20 Batch: 0 Epoch 20 Error 0.38219572 Train Acc: 0.90027083 lr: 0.00010000 Val Acc: 0.89891667\n",
      "It: 30 Batch: 0 Epoch 30 Error 0.37307940 Train Acc: 0.90027083 lr: 0.00010000 Val Acc: 0.89891667\n",
      "It: 40 Batch: 0 Epoch 40 Error 0.36423680 Train Acc: 0.90027083 lr: 0.00010000 Val Acc: 0.89891667\n"
     ]
    },
    {
     "ename": "KeyboardInterrupt",
     "evalue": "",
     "output_type": "error",
     "traceback": [
      "\u001b[0;31m---------------------------------------------------------------------------\u001b[0m",
      "\u001b[0;31mKeyboardInterrupt\u001b[0m                         Traceback (most recent call last)",
      "\u001b[0;32m<ipython-input-56-95010147c6f1>\u001b[0m in \u001b[0;36m<module>\u001b[0;34m()\u001b[0m\n\u001b[1;32m     20\u001b[0m theta = SGD_one_vs_all(lr, max_iter, X_train, y_train, batch_type='Full',                        \n\u001b[1;32m     21\u001b[0m                        \u001b[0mbatch_sz\u001b[0m\u001b[0;34m=\u001b[0m\u001b[0mbatch_sz\u001b[0m\u001b[0;34m,\u001b[0m \u001b[0mprint_interval\u001b[0m\u001b[0;34m=\u001b[0m\u001b[0mprint_interval\u001b[0m\u001b[0;34m,\u001b[0m\u001b[0;34m\u001b[0m\u001b[0m\n\u001b[0;32m---> 22\u001b[0;31m                        \u001b[0mX_val\u001b[0m\u001b[0;34m=\u001b[0m\u001b[0mX_val\u001b[0m\u001b[0;34m,\u001b[0m \u001b[0my_val\u001b[0m \u001b[0;34m=\u001b[0m \u001b[0my_val\u001b[0m\u001b[0;34m,\u001b[0m\u001b[0;34m\u001b[0m\u001b[0m\n\u001b[0m\u001b[1;32m     23\u001b[0m                        )\n\u001b[1;32m     24\u001b[0m \u001b[0mprint\u001b[0m\u001b[0;34m(\u001b[0m\u001b[0;34m\"Time Spent \"\u001b[0m\u001b[0;34m,\u001b[0m \u001b[0mtime\u001b[0m\u001b[0;34m.\u001b[0m\u001b[0mprocess_time\u001b[0m\u001b[0;34m(\u001b[0m\u001b[0;34m)\u001b[0m \u001b[0;34m-\u001b[0m \u001b[0mstart\u001b[0m\u001b[0;34m)\u001b[0m\u001b[0;34m\u001b[0m\u001b[0m\n",
      "\u001b[0;32m/notebooks/local/LogisticRegression-ANN/SGD/custom_SGD.py\u001b[0m in \u001b[0;36mSGD_one_vs_all\u001b[0;34m(lr, max_iter, X, y, lr_optimizer, power_t, t, batch_type, batch_sz, print_interval, X_val, y_val)\u001b[0m\n\u001b[1;32m    386\u001b[0m                        \u001b[0mprint_interval\u001b[0m\u001b[0;34m,\u001b[0m\u001b[0;34m\u001b[0m\u001b[0m\n\u001b[1;32m    387\u001b[0m                        \u001b[0mX_val\u001b[0m\u001b[0;34m,\u001b[0m\u001b[0;34m\u001b[0m\u001b[0m\n\u001b[0;32m--> 388\u001b[0;31m                        cy_val)\n\u001b[0m\u001b[1;32m    389\u001b[0m         \u001b[0mprint\u001b[0m\u001b[0;34m(\u001b[0m\u001b[0;34m\"==============================================\"\u001b[0m\u001b[0;34m)\u001b[0m\u001b[0;34m\u001b[0m\u001b[0m\n\u001b[1;32m    390\u001b[0m \u001b[0;34m\u001b[0m\u001b[0m\n",
      "\u001b[0;32m/notebooks/local/LogisticRegression-ANN/SGD/custom_SGD.py\u001b[0m in \u001b[0;36mSGD\u001b[0;34m(lr, max_iter, X, y, lr_optimizer, power_t, t, batch_type, batch_sz, print_interval, X_val, y_val, multinomial)\u001b[0m\n\u001b[1;32m    315\u001b[0m             \u001b[0mtheta_temp\u001b[0m \u001b[0;34m=\u001b[0m \u001b[0mgrad_logit_step\u001b[0m\u001b[0;34m(\u001b[0m\u001b[0mtheta\u001b[0m\u001b[0;34m,\u001b[0m \u001b[0mX_\u001b[0m\u001b[0;34m,\u001b[0m \u001b[0my_\u001b[0m\u001b[0;34m,\u001b[0m \u001b[0meta\u001b[0m\u001b[0;34m,\u001b[0m \u001b[0merror\u001b[0m\u001b[0;34m)\u001b[0m\u001b[0;34m\u001b[0m\u001b[0m\n\u001b[1;32m    316\u001b[0m \u001b[0;34m\u001b[0m\u001b[0m\n\u001b[0;32m--> 317\u001b[0;31m         \u001b[0my_pred\u001b[0m \u001b[0;34m=\u001b[0m \u001b[0mclassify\u001b[0m\u001b[0;34m(\u001b[0m\u001b[0mtheta_temp\u001b[0m\u001b[0;34m,\u001b[0m \u001b[0mX_\u001b[0m\u001b[0;34m,\u001b[0m \u001b[0mmultinomial_\u001b[0m\u001b[0;34m=\u001b[0m\u001b[0mmultinomial\u001b[0m\u001b[0;34m)\u001b[0m\u001b[0;34m\u001b[0m\u001b[0m\n\u001b[0m\u001b[1;32m    318\u001b[0m \u001b[0;34m\u001b[0m\u001b[0m\n\u001b[1;32m    319\u001b[0m         \u001b[0macc_train\u001b[0m \u001b[0;34m=\u001b[0m \u001b[0mcustom_scores\u001b[0m\u001b[0;34m.\u001b[0m\u001b[0maccuracy_score\u001b[0m\u001b[0;34m(\u001b[0m\u001b[0my_\u001b[0m\u001b[0;34m,\u001b[0m \u001b[0my_pred\u001b[0m\u001b[0;34m)\u001b[0m\u001b[0;34m\u001b[0m\u001b[0m\n",
      "\u001b[0;31mKeyboardInterrupt\u001b[0m: "
     ]
    }
   ],
   "source": [
    "import time\n",
    "from SGD.custom_SGD import *\n",
    "reload(custom_SGD)\n",
    "X, y, _, _  = dataset_helper.load_fasion_mnist()\n",
    "    \n",
    "X_train, X_val, y_train, y_val = train_test_split(X, y, test_size=0.2, random_state=1)\n",
    "\n",
    "lr = .0001\n",
    "max_iter = 100\n",
    "batch_sz = 256\n",
    "print_interval = 10\n",
    "\n",
    "print(\"\")\n",
    "print(\"Stochastic Mini batch\")\n",
    "print(\"----------------------------\")\n",
    "print(\"Number of Iterations:\",max_iter)\n",
    "print(\"Learning rate:\",lr)\n",
    "print(\"----------------------------\")\n",
    "start = time.process_time()\n",
    "theta = SGD_one_vs_all(lr, max_iter, X_train, y_train, batch_type='Full',                        \n",
    "                       batch_sz=batch_sz, print_interval=print_interval, \n",
    "                       X_val=X_val, y_val = y_val,\n",
    "                       )\n",
    "print(\"Time Spent \", time.process_time() - start)\n",
    "y_pred = classify(theta, X_val, binary=False)\n",
    "evalute_multiclass(y_val, y_pred)"
   ]
  },
  {
   "cell_type": "code",
   "execution_count": 58,
   "metadata": {},
   "outputs": [
    {
     "name": "stdout",
     "output_type": "stream",
     "text": [
      "\n",
      "Stochastic Mini batch\n",
      "----------------------------\n",
      "Number of Iterations: 50\n",
      "Learning rate: 0.0001\n",
      "----------------------------\n",
      "[0 1 2 3 4 5 6 7 8 9]\n",
      "==============================================\n",
      "Training softmax model\n",
      "==============================================\n",
      "Number of samples: 48000\n",
      "Number of parameters: 785\n"
     ]
    },
    {
     "ename": "ValueError",
     "evalue": "shapes (12000,784) and (10,785) not aligned: 784 (dim 1) != 10 (dim 0)",
     "output_type": "error",
     "traceback": [
      "\u001b[0;31m---------------------------------------------------------------------------\u001b[0m",
      "\u001b[0;31mValueError\u001b[0m                                Traceback (most recent call last)",
      "\u001b[0;32m<ipython-input-58-7e5b62389de0>\u001b[0m in \u001b[0;36m<module>\u001b[0;34m()\u001b[0m\n\u001b[1;32m     13\u001b[0m theta = SGD_softmax(lr, max_iter, X_train, y_train, batch_type='Full',\n\u001b[1;32m     14\u001b[0m                     \u001b[0mbatch_sz\u001b[0m\u001b[0;34m=\u001b[0m\u001b[0mbatch_sz\u001b[0m\u001b[0;34m,\u001b[0m \u001b[0mprint_interval\u001b[0m\u001b[0;34m=\u001b[0m\u001b[0mprint_interval\u001b[0m\u001b[0;34m,\u001b[0m\u001b[0;34m\u001b[0m\u001b[0m\n\u001b[0;32m---> 15\u001b[0;31m                     X_val=X_val, y_val = y_val)\n\u001b[0m\u001b[1;32m     16\u001b[0m \u001b[0mprint\u001b[0m\u001b[0;34m(\u001b[0m\u001b[0;34m\"Time Spent \"\u001b[0m\u001b[0;34m,\u001b[0m \u001b[0mtime\u001b[0m\u001b[0;34m.\u001b[0m\u001b[0mprocess_time\u001b[0m\u001b[0;34m(\u001b[0m\u001b[0;34m)\u001b[0m \u001b[0;34m-\u001b[0m \u001b[0mstart\u001b[0m\u001b[0;34m)\u001b[0m\u001b[0;34m\u001b[0m\u001b[0m\n\u001b[1;32m     17\u001b[0m \u001b[0my_pred\u001b[0m \u001b[0;34m=\u001b[0m \u001b[0mclassify_softmax\u001b[0m\u001b[0;34m(\u001b[0m\u001b[0mtheta\u001b[0m\u001b[0;34m,\u001b[0m \u001b[0mX_val\u001b[0m\u001b[0;34m)\u001b[0m\u001b[0;34m\u001b[0m\u001b[0m\n",
      "\u001b[0;32m/notebooks/local/LogisticRegression-ANN/SGD/custom_SGD.py\u001b[0m in \u001b[0;36mSGD_softmax\u001b[0;34m(lr, max_iter, X, y, lr_optimizer, power_t, t, batch_type, batch_sz, print_interval, X_val, y_val)\u001b[0m\n\u001b[1;32m    414\u001b[0m \u001b[0;34m\u001b[0m\u001b[0m\n\u001b[1;32m    415\u001b[0m     \u001b[0;32mreturn\u001b[0m \u001b[0mtheta\u001b[0m\u001b[0;34m\u001b[0m\u001b[0m\n\u001b[0;32m--> 416\u001b[0;31m \u001b[0;34m\u001b[0m\u001b[0m\n\u001b[0m\u001b[1;32m    417\u001b[0m \u001b[0;34m\u001b[0m\u001b[0m\n\u001b[1;32m    418\u001b[0m \u001b[0;32mdef\u001b[0m \u001b[0mSGD_test_binary\u001b[0m\u001b[0;34m(\u001b[0m\u001b[0;34m)\u001b[0m\u001b[0;34m:\u001b[0m\u001b[0;34m\u001b[0m\u001b[0m\n",
      "\u001b[0;32m/notebooks/local/LogisticRegression-ANN/SGD/custom_SGD.py\u001b[0m in \u001b[0;36mSGD\u001b[0;34m(lr, max_iter, X, y, lr_optimizer, power_t, t, batch_type, batch_sz, print_interval, X_val, y_val, multinomial)\u001b[0m\n\u001b[1;32m    325\u001b[0m \u001b[0;34m\u001b[0m\u001b[0m\n\u001b[1;32m    326\u001b[0m         \u001b[0;32mif\u001b[0m \u001b[0mX_val\u001b[0m \u001b[0;32mis\u001b[0m \u001b[0;32mnot\u001b[0m \u001b[0;32mNone\u001b[0m\u001b[0;34m:\u001b[0m\u001b[0;34m\u001b[0m\u001b[0m\n\u001b[0;32m--> 327\u001b[0;31m             \u001b[0my_pred_val\u001b[0m \u001b[0;34m=\u001b[0m \u001b[0mclassify\u001b[0m\u001b[0;34m(\u001b[0m\u001b[0mtheta\u001b[0m\u001b[0;34m,\u001b[0m \u001b[0mX_val\u001b[0m\u001b[0;34m)\u001b[0m\u001b[0;34m\u001b[0m\u001b[0m\n\u001b[0m\u001b[1;32m    328\u001b[0m             \u001b[0macc_val\u001b[0m \u001b[0;34m=\u001b[0m \u001b[0mcustom_scores\u001b[0m\u001b[0;34m.\u001b[0m\u001b[0maccuracy_score\u001b[0m\u001b[0;34m(\u001b[0m\u001b[0my_val\u001b[0m\u001b[0;34m,\u001b[0m \u001b[0my_pred_val\u001b[0m\u001b[0;34m)\u001b[0m\u001b[0;34m\u001b[0m\u001b[0m\n\u001b[1;32m    329\u001b[0m \u001b[0;34m\u001b[0m\u001b[0m\n",
      "\u001b[0;32m/notebooks/local/LogisticRegression-ANN/SGD/custom_SGD.py\u001b[0m in \u001b[0;36mclassify\u001b[0;34m(theta, X, th, binary, multinomial_)\u001b[0m\n\u001b[1;32m    128\u001b[0m         \u001b[0;32mif\u001b[0m \u001b[0mtheta\u001b[0m\u001b[0;34m.\u001b[0m\u001b[0mshape\u001b[0m\u001b[0;34m[\u001b[0m\u001b[0;36m0\u001b[0m\u001b[0;34m]\u001b[0m \u001b[0;34m>\u001b[0m \u001b[0mX\u001b[0m\u001b[0;34m.\u001b[0m\u001b[0mshape\u001b[0m\u001b[0;34m[\u001b[0m\u001b[0;36m1\u001b[0m\u001b[0;34m]\u001b[0m\u001b[0;34m:\u001b[0m\u001b[0;34m\u001b[0m\u001b[0m\n\u001b[1;32m    129\u001b[0m             \u001b[0mX\u001b[0m \u001b[0;34m=\u001b[0m \u001b[0mnp\u001b[0m\u001b[0;34m.\u001b[0m\u001b[0minsert\u001b[0m\u001b[0;34m(\u001b[0m\u001b[0mX\u001b[0m\u001b[0;34m,\u001b[0m \u001b[0;36m0\u001b[0m\u001b[0;34m,\u001b[0m \u001b[0;36m1\u001b[0m\u001b[0;34m,\u001b[0m \u001b[0maxis\u001b[0m\u001b[0;34m=\u001b[0m\u001b[0;36m1\u001b[0m\u001b[0;34m)\u001b[0m\u001b[0;34m\u001b[0m\u001b[0m\n\u001b[0;32m--> 130\u001b[0;31m         \u001b[0my\u001b[0m \u001b[0;34m=\u001b[0m \u001b[0mhypothesis\u001b[0m\u001b[0;34m(\u001b[0m\u001b[0mtheta\u001b[0m\u001b[0;34m,\u001b[0m \u001b[0mX\u001b[0m\u001b[0;34m)\u001b[0m\u001b[0;34m\u001b[0m\u001b[0m\n\u001b[0m\u001b[1;32m    131\u001b[0m         \u001b[0my\u001b[0m \u001b[0;34m=\u001b[0m \u001b[0mnp\u001b[0m\u001b[0;34m.\u001b[0m\u001b[0mwhere\u001b[0m\u001b[0;34m(\u001b[0m\u001b[0my\u001b[0m \u001b[0;34m>=\u001b[0m \u001b[0mth\u001b[0m\u001b[0;34m,\u001b[0m \u001b[0;36m1\u001b[0m\u001b[0;34m,\u001b[0m \u001b[0;36m0\u001b[0m\u001b[0;34m)\u001b[0m\u001b[0;34m\u001b[0m\u001b[0m\n\u001b[1;32m    132\u001b[0m         \u001b[0mX\u001b[0m \u001b[0;34m=\u001b[0m \u001b[0mnp\u001b[0m\u001b[0;34m.\u001b[0m\u001b[0mdelete\u001b[0m\u001b[0;34m(\u001b[0m\u001b[0mX\u001b[0m\u001b[0;34m,\u001b[0m \u001b[0;36m0\u001b[0m\u001b[0;34m,\u001b[0m \u001b[0maxis\u001b[0m\u001b[0;34m=\u001b[0m\u001b[0;36m1\u001b[0m\u001b[0;34m)\u001b[0m\u001b[0;34m\u001b[0m\u001b[0m\n",
      "\u001b[0;32m/notebooks/local/LogisticRegression-ANN/SGD/custom_SGD.py\u001b[0m in \u001b[0;36mhypothesis\u001b[0;34m(theta, X, stable)\u001b[0m\n\u001b[1;32m     97\u001b[0m         \u001b[0mGiven\u001b[0m \u001b[0mTheta\u001b[0m \u001b[0mvalue\u001b[0m \u001b[0;32mand\u001b[0m \u001b[0mthe\u001b[0m \u001b[0mX\u001b[0m \u001b[0mset\u001b[0m \u001b[0mit\u001b[0m \u001b[0mreturns\u001b[0m \u001b[0mthe\u001b[0m \u001b[0mlogistic\u001b[0m \u001b[0mvalue\u001b[0m \u001b[0;32mfor\u001b[0m \u001b[0mits\u001b[0m \u001b[0minstances\u001b[0m\u001b[0;34m.\u001b[0m\u001b[0;34m\u001b[0m\u001b[0m\n\u001b[1;32m     98\u001b[0m     \"\"\"\n\u001b[0;32m---> 99\u001b[0;31m     \u001b[0mdot\u001b[0m \u001b[0;34m=\u001b[0m \u001b[0mnp\u001b[0m\u001b[0;34m.\u001b[0m\u001b[0mdot\u001b[0m\u001b[0;34m(\u001b[0m\u001b[0mX\u001b[0m\u001b[0;34m,\u001b[0m \u001b[0mtheta\u001b[0m\u001b[0;34m)\u001b[0m\u001b[0;34m\u001b[0m\u001b[0m\n\u001b[0m\u001b[1;32m    100\u001b[0m \u001b[0;34m\u001b[0m\u001b[0m\n\u001b[1;32m    101\u001b[0m     \u001b[0;31m# Regular Sigmoid Function\u001b[0m\u001b[0;34m\u001b[0m\u001b[0;34m\u001b[0m\u001b[0m\n",
      "\u001b[0;31mValueError\u001b[0m: shapes (12000,784) and (10,785) not aligned: 784 (dim 1) != 10 (dim 0)"
     ]
    }
   ],
   "source": [
    "from utils import dataset_helper\n",
    "lr = .0001\n",
    "max_iter = 50\n",
    "batch_sz = 1\n",
    "print_interval = 10\n",
    "\n",
    "print(\"\")\n",
    "print(\"Stochastic Mini batch\")\n",
    "print(\"----------------------------\")\n",
    "print(\"Number of Iterations:\", max_iter)\n",
    "print(\"Learning rate:\", lr)\n",
    "print(\"----------------------------\")\n",
    "\n",
    "y_val_enc = dataset_helper.one_hot_encode(y_val)\n",
    "y_train_enc = dataset_helper.one_hot_encode(y_train)\n",
    "\n",
    "start = time.process_time()\n",
    "theta = SGD_softmax(lr=lr, max_iter=max_iter, X_train=X_train, y_train=y_train, batch_type='Full',\n",
    "                    batch_sz=batch_sz, print_interval=print_interval, \n",
    "                    X_val=X_val, y_val = y_val)\n",
    "print(\"Time Spent \", time.process_time() - start)\n",
    "y_pred = classify_softmax(theta, X_val)\n",
    "evalute_multiclass(y_val, y_pred)"
   ]
  },
  {
   "cell_type": "code",
   "execution_count": null,
   "metadata": {},
   "outputs": [],
   "source": []
  }
 ],
 "metadata": {
  "kernelspec": {
   "display_name": "Python 3",
   "language": "python",
   "name": "python3"
  },
  "language_info": {
   "codemirror_mode": {
    "name": "ipython",
    "version": 3
   },
   "file_extension": ".py",
   "mimetype": "text/x-python",
   "name": "python",
   "nbconvert_exporter": "python",
   "pygments_lexer": "ipython3",
   "version": "3.5.2"
  }
 },
 "nbformat": 4,
 "nbformat_minor": 2
}
