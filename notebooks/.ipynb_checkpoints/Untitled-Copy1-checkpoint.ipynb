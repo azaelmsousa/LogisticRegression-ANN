{
 "cells": [
  {
   "cell_type": "code",
   "execution_count": 11,
   "metadata": {},
   "outputs": [
    {
     "name": "stdout",
     "output_type": "stream",
     "text": [
      "Input: \n",
      "[[0.05 0.1 ]]\n",
      "Actual Output: \n",
      "[[9.2e-09]\n",
      " [8.6e-09]\n",
      " [8.9e-09]]\n",
      "Predicted Output: \n",
      "[[0.43334963 0.68354026]]\n",
      "Loss: \n",
      "0.32750958587861173\n",
      "\n",
      "\n"
     ]
    },
    {
     "ename": "ValueError",
     "evalue": "shapes (2,1) and (3,3) not aligned: 1 (dim 1) != 3 (dim 0)",
     "output_type": "error",
     "traceback": [
      "\u001b[0;31m---------------------------------------------------------------------------\u001b[0m",
      "\u001b[0;31mValueError\u001b[0m                                Traceback (most recent call last)",
      "\u001b[0;32m<ipython-input-11-13e04b11db32>\u001b[0m in \u001b[0;36m<module>\u001b[0;34m()\u001b[0m\n\u001b[1;32m     70\u001b[0m     \u001b[0mprint\u001b[0m\u001b[0;34m(\u001b[0m\u001b[0;34m\"Loss: \\n\"\u001b[0m \u001b[0;34m+\u001b[0m \u001b[0mstr\u001b[0m\u001b[0;34m(\u001b[0m\u001b[0mnp\u001b[0m\u001b[0;34m.\u001b[0m\u001b[0mmean\u001b[0m\u001b[0;34m(\u001b[0m\u001b[0mnp\u001b[0m\u001b[0;34m.\u001b[0m\u001b[0msquare\u001b[0m\u001b[0;34m(\u001b[0m\u001b[0my\u001b[0m \u001b[0;34m-\u001b[0m \u001b[0mNN\u001b[0m\u001b[0;34m.\u001b[0m\u001b[0mforward\u001b[0m\u001b[0;34m(\u001b[0m\u001b[0mX\u001b[0m\u001b[0;34m)\u001b[0m\u001b[0;34m)\u001b[0m\u001b[0;34m)\u001b[0m\u001b[0;34m)\u001b[0m\u001b[0;34m)\u001b[0m\u001b[0;34m\u001b[0m\u001b[0m\n\u001b[1;32m     71\u001b[0m     \u001b[0mprint\u001b[0m\u001b[0;34m(\u001b[0m\u001b[0;34m\"\\n\"\u001b[0m\u001b[0;34m)\u001b[0m\u001b[0;34m\u001b[0m\u001b[0m\n\u001b[0;32m---> 72\u001b[0;31m     \u001b[0mNN\u001b[0m\u001b[0;34m.\u001b[0m\u001b[0mtrain\u001b[0m\u001b[0;34m(\u001b[0m\u001b[0mX\u001b[0m\u001b[0;34m,\u001b[0m \u001b[0my\u001b[0m\u001b[0;34m)\u001b[0m\u001b[0;34m\u001b[0m\u001b[0m\n\u001b[0m",
      "\u001b[0;32m<ipython-input-11-13e04b11db32>\u001b[0m in \u001b[0;36mtrain\u001b[0;34m(self, X, y)\u001b[0m\n\u001b[1;32m     59\u001b[0m     \u001b[0;32mdef\u001b[0m \u001b[0mtrain\u001b[0m\u001b[0;34m(\u001b[0m\u001b[0mself\u001b[0m\u001b[0;34m,\u001b[0m \u001b[0mX\u001b[0m\u001b[0;34m,\u001b[0m \u001b[0my\u001b[0m\u001b[0;34m)\u001b[0m\u001b[0;34m:\u001b[0m\u001b[0;34m\u001b[0m\u001b[0m\n\u001b[1;32m     60\u001b[0m         \u001b[0mo\u001b[0m \u001b[0;34m=\u001b[0m \u001b[0mself\u001b[0m\u001b[0;34m.\u001b[0m\u001b[0mforward\u001b[0m\u001b[0;34m(\u001b[0m\u001b[0mX\u001b[0m\u001b[0;34m)\u001b[0m\u001b[0;34m\u001b[0m\u001b[0m\n\u001b[0;32m---> 61\u001b[0;31m         \u001b[0mself\u001b[0m\u001b[0;34m.\u001b[0m\u001b[0mbackward\u001b[0m\u001b[0;34m(\u001b[0m\u001b[0mX\u001b[0m\u001b[0;34m,\u001b[0m \u001b[0my\u001b[0m\u001b[0;34m,\u001b[0m \u001b[0mo\u001b[0m\u001b[0;34m)\u001b[0m\u001b[0;34m\u001b[0m\u001b[0m\n\u001b[0m\u001b[1;32m     62\u001b[0m \u001b[0;34m\u001b[0m\u001b[0m\n\u001b[1;32m     63\u001b[0m \u001b[0;34m\u001b[0m\u001b[0m\n",
      "\u001b[0;32m<ipython-input-11-13e04b11db32>\u001b[0m in \u001b[0;36mbackward\u001b[0;34m(self, X, y, o)\u001b[0m\n\u001b[1;32m     53\u001b[0m \u001b[0;34m\u001b[0m\u001b[0m\n\u001b[1;32m     54\u001b[0m         \u001b[0;31m# adjusting first set (input --> hidden) weights\u001b[0m\u001b[0;34m\u001b[0m\u001b[0;34m\u001b[0m\u001b[0m\n\u001b[0;32m---> 55\u001b[0;31m         \u001b[0mself\u001b[0m\u001b[0;34m.\u001b[0m\u001b[0mW1\u001b[0m \u001b[0;34m+=\u001b[0m \u001b[0mX\u001b[0m\u001b[0;34m.\u001b[0m\u001b[0mT\u001b[0m\u001b[0;34m.\u001b[0m\u001b[0mdot\u001b[0m\u001b[0;34m(\u001b[0m\u001b[0mself\u001b[0m\u001b[0;34m.\u001b[0m\u001b[0mz2_delta\u001b[0m\u001b[0;34m)\u001b[0m\u001b[0;34m\u001b[0m\u001b[0m\n\u001b[0m\u001b[1;32m     56\u001b[0m         \u001b[0;31m# adjusting second set (hidden --> output) weights\u001b[0m\u001b[0;34m\u001b[0m\u001b[0;34m\u001b[0m\u001b[0m\n\u001b[1;32m     57\u001b[0m         \u001b[0mself\u001b[0m\u001b[0;34m.\u001b[0m\u001b[0mW2\u001b[0m \u001b[0;34m+=\u001b[0m \u001b[0mself\u001b[0m\u001b[0;34m.\u001b[0m\u001b[0mz2\u001b[0m\u001b[0;34m.\u001b[0m\u001b[0mT\u001b[0m\u001b[0;34m.\u001b[0m\u001b[0mdot\u001b[0m\u001b[0;34m(\u001b[0m\u001b[0mself\u001b[0m\u001b[0;34m.\u001b[0m\u001b[0mo_delta\u001b[0m\u001b[0;34m)\u001b[0m\u001b[0;34m\u001b[0m\u001b[0m\n",
      "\u001b[0;31mValueError\u001b[0m: shapes (2,1) and (3,3) not aligned: 1 (dim 1) != 3 (dim 0)"
     ]
    }
   ],
   "source": [
    "import numpy as np\n",
    "\n",
    "# X = (hours sleeping, hours studying), y = score on test\n",
    "X = X = np.array([[0.05, 0.10]], np.float64)\n",
    "Y = np.array([[0.01, 0.99]], np.float64)\n",
    "\n",
    "# # scale units\n",
    "# X = X/np.amax(X, axis=0)  # maximum of X array\n",
    "# y = y/100  # max test score is 100\n",
    "\n",
    "\n",
    "class Neural_Network(object):\n",
    "    def __init__(self):\n",
    "        # parameters\n",
    "        self.inputSize = 2\n",
    "        self.outputSize = 2\n",
    "        self.hiddenSize = 3\n",
    "\n",
    "        # weights\n",
    "        # (3x2) weight matrix from input to hidden layer\n",
    "        self.W1 = np.random.randn(self.inputSize, self.hiddenSize)\n",
    "        # (3x1) weight matrix from hidden to output layer\n",
    "        self.W2 = np.random.randn(self.hiddenSize, self.outputSize)\n",
    "\n",
    "    def forward(self, X):\n",
    "        # forward propagation through our network\n",
    "        # dot product of X (input) and first set of 3x2 weights\n",
    "        self.z = np.dot(X, self.W1)\n",
    "        self.z2 = self.sigmoid(self.z)  # activation function\n",
    "        # dot product of hidden layer (z2) and second set of 3x1 weights\n",
    "        self.z3 = np.dot(self.z2, self.W2)\n",
    "        o = self.sigmoid(self.z3)  # final activation function\n",
    "        return o\n",
    "\n",
    "    def sigmoid(self, s):\n",
    "        # activation function\n",
    "        return 1/(1+np.exp(-s))\n",
    "\n",
    "    def sigmoidPrime(self, s):\n",
    "        # derivative of sigmoid\n",
    "        return s * (1 - s)\n",
    "\n",
    "    def backward(self, X, y, o):\n",
    "        # backward propgate through the network\n",
    "        self.o_error = y - o  # error in output\n",
    "        # applying derivative of sigmoid to error\n",
    "        self.o_delta = self.o_error*self.sigmoidPrime(o)\n",
    "\n",
    "        # z2 error: how much our hidden layer weights contributed to output error\n",
    "        self.z2_error = self.o_delta.dot(self.W2.T)\n",
    "        # applying derivative of sigmoid to z2 error\n",
    "        self.z2_delta = self.z2_error*self.sigmoidPrime(self.z2)\n",
    "\n",
    "        # adjusting first set (input --> hidden) weights\n",
    "        self.W1 += X.T.dot(self.z2_delta)\n",
    "        # adjusting second set (hidden --> output) weights\n",
    "        self.W2 += self.z2.T.dot(self.o_delta)\n",
    "\n",
    "    def train(self, X, y):\n",
    "        o = self.forward(X)\n",
    "        self.backward(X, y, o)\n",
    "\n",
    "\n",
    "NN = Neural_Network()\n",
    "for i in range(1000):  # trains the NN 1,000 times\n",
    "    print(\"Input: \\n\" + str(X))\n",
    "    print(\"Actual Output: \\n\" + str(y))\n",
    "    print(\"Predicted Output: \\n\" + str(NN.forward(X)))\n",
    "    # mean sum squared loss\n",
    "    print(\"Loss: \\n\" + str(np.mean(np.square(y - NN.forward(X)))))\n",
    "    print(\"\\n\")\n",
    "    NN.train(X, y)\n"
   ]
  },
  {
   "cell_type": "code",
   "execution_count": 20,
   "metadata": {},
   "outputs": [
    {
     "data": {
      "text/plain": [
       "((3, 10), (3, 1))"
      ]
     },
     "execution_count": 20,
     "metadata": {},
     "output_type": "execute_result"
    }
   ],
   "source": [
    "import numpy as np\n",
    "\n",
    "# X = (hours sleeping, hours studying), y = score on test\n",
    "X = X = np.array([[0.05, 0.10]], np.float64)\n",
    "Y = np.array([[0.01, 0.99]], np.float64)\n",
    "\n",
    "# scale units\n",
    "# X = X/np.amax(X, axis=0)  # maximum of X array\n",
    "\n",
    "\n",
    "class Neural_Network(object):\n",
    "    def __init__(self):\n",
    "        # parameters\n",
    "        self.inputSize = 2\n",
    "        self.outputSize = 2\n",
    "        self.hiddenSize = 2\n",
    "\n",
    "        # weights\n",
    "        # (3x2) weight matrix from input to hidden layer\n",
    "        self.W1 = np.array([[0.15, 0.2], [0.25, 0.3]], np.float64)\n",
    "        # (3x1) weight matrix from hidden to output layer\n",
    "        self.W2 = np.array([[0.4, 0.45], [0.50, 0.55]],  np.float64)\n",
    "\n",
    "    def forward(self, X):\n",
    "        # forward propagation through our network\n",
    "        # dot product of X (input) and first set of 3x2 weights\n",
    "        self.z = np.dot(X, self.W1) + 0.35\n",
    "        self.z2 = self.sigmoid(self.z)  # activation function\n",
    "        # dot product of hidden layer (z2) and second set of 3x1 weights\n",
    "        self.z3 = np.dot(self.z2, self.W2) + 0.6\n",
    "        o = self.sigmoid(self.z3)  # final activation function\n",
    "        return o\n",
    "\n",
    "    def sigmoid(self, s):\n",
    "        # activation function\n",
    "        return 1/(1+np.exp(-s))\n",
    "\n",
    "    def sigmoidPrime(self, s):\n",
    "        # derivative of sigmoid\n",
    "        return s * (1 - s)\n",
    "\n",
    "    def backward(self, X, y, o):\n",
    "        # backward propgate through the network\n",
    "        self.o_error = y - o  # error in output\n",
    "        # applying derivative of sigmoid to error\n",
    "        self.o_delta = self.o_error*self.sigmoidPrime(o)\n",
    "\n",
    "        # z2 error: how much our hidden layer weights contributed to output error\n",
    "        self.z2_error = self.o_delta.dot(self.W2.T)\n",
    "        # applying derivative of sigmoid to z2 error\n",
    "        self.z2_delta = self.z2_error*self.sigmoidPrime(self.z2)\n",
    "\n",
    "        # adjusting first set (input --> hidden) weights\n",
    "        self.W1 += 0.5 * X.T.dot(self.z2_delta)\n",
    "        # adjusting second set (hidden --> output) weights\n",
    "        self.W2 += 0.5 * self.z2.T.dot(self.o_delta)\n",
    "\n",
    "    def train(self, X, y):\n",
    "        o = self.forward(X)\n",
    "        self.backward(X, y, o)\n",
    "\n",
    "\n",
    "NN = Neural_Network()\n",
    "for i in range(1000):  # trains the NN 1,000 times\n",
    "    print(\"Input: \\n\" + str(X))\n",
    "    print(\"Actual Output: \\n\" + str(y))\n",
    "    print(\"Predicted Output: \\n\" + str(NN.forward(X)))\n",
    "    # mean sum squared loss\n",
    "    print(\"Loss: \\n\" + str(np.mean(np.square(y - NN.forward(X)))))\n",
    "    print(\"\\n\")\n",
    "    NN.train(X, y)\n"
   ]
  },
  {
   "cell_type": "code",
   "execution_count": 19,
   "metadata": {},
   "outputs": [
    {
     "data": {
      "text/plain": [
       "(10, 1)"
      ]
     },
     "execution_count": 19,
     "metadata": {},
     "output_type": "execute_result"
    }
   ],
   "source": [
    "NN.o_error, NN.z2.T.dot(NN.o_delta).shape"
   ]
  },
  {
   "cell_type": "code",
   "execution_count": null,
   "metadata": {},
   "outputs": [],
   "source": []
  }
 ],
 "metadata": {
  "kernelspec": {
   "display_name": "Python 3",
   "language": "python",
   "name": "python3"
  },
  "language_info": {
   "codemirror_mode": {
    "name": "ipython",
    "version": 3
   },
   "file_extension": ".py",
   "mimetype": "text/x-python",
   "name": "python",
   "nbconvert_exporter": "python",
   "pygments_lexer": "ipython3",
   "version": "3.5.2"
  }
 },
 "nbformat": 4,
 "nbformat_minor": 2
}
