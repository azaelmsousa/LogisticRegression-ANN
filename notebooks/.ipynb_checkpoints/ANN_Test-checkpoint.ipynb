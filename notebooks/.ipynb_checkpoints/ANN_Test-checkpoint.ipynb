{
 "cells": [
  {
   "cell_type": "code",
   "execution_count": 1,
   "metadata": {},
   "outputs": [
    {
     "name": "stderr",
     "output_type": "stream",
     "text": [
      "/root/.local/lib/python3.5/site-packages/sklearn/ensemble/weight_boosting.py:29: DeprecationWarning: numpy.core.umath_tests is an internal NumPy module and should not be imported. It will be removed in a future NumPy release.\n",
      "  from numpy.core.umath_tests import inner1d\n"
     ]
    }
   ],
   "source": [
    "import sys \n",
    "sys.path.append('../')\n",
    "import numpy as np\n",
    "import pandas as pd\n",
    "import matplotlib.pyplot as plt\n",
    "from NN import  activation_functions, loss_functions\n",
    "import NN.network as network\n"
   ]
  },
  {
   "cell_type": "markdown",
   "metadata": {},
   "source": [
    "# Introduction \n",
    "This notebook was made as a base for the Neural Network implementation and tests. \n",
    "The target values for the net and output for each layers follows bellow: \n",
    "```\n",
    "Input Layer:\n",
    "[0.05, 0.10]\n",
    "\n",
    "Hidden Layer:\n",
    "Weigths [0.15, 0.2] [0.25, 0.3]\n",
    "Net [0.3775 0.3925]\n",
    "Out [0.59326999 0.59688438] (softmax)\n",
    "Grad [[0.14978072 0.24950229] [0.19978072 0.29950229]]\n",
    "\n",
    "Output Layer:\n",
    "[[0.4, 0.45], [0.50, 0.55]]\n",
    "Net [1.10590597 1.2249214 ]\n",
    "Out [0.75136507 0.77292847]] (softmax)\n",
    "Grad \n",
    "\n",
    "\n",
    "\n",
    "MSD = 0.2983711\n",
    "```\n"
   ]
  },
  {
   "cell_type": "code",
   "execution_count": 2,
   "metadata": {},
   "outputs": [],
   "source": [
    "# Target Values \n",
    "# Hidden Layer:\n",
    "_NetH = np.array([[0.3775, 0.3925]])\n",
    "_OutH = np.array([[0.59326999, 0.59688438]])\n",
    "\n",
    "# Output Layer:\n",
    "_NetO = np.array([[1.10590597, 1.2249214 ]])\n",
    "_OutO = np.array([[0.75136507, 0.77292847]])\n",
    "\n",
    "_MSD = 0.2983711\n",
    "_error_accepted = 0.00000001"
   ]
  },
  {
   "cell_type": "code",
   "execution_count": 3,
   "metadata": {},
   "outputs": [],
   "source": [
    "def compare_arrays(A, B, eps=_error_accepted): \n",
    "    return (A - B).sum() < eps"
   ]
  },
  {
   "cell_type": "markdown",
   "metadata": {},
   "source": [
    "## Layer by Layer Validation\n",
    "To identify if there is no code broken"
   ]
  },
  {
   "cell_type": "code",
   "execution_count": 4,
   "metadata": {},
   "outputs": [
    {
     "name": "stdout",
     "output_type": "stream",
     "text": [
      "[[0.3825 0.39   0.365 ]\n",
      " [0.3825 0.39   0.365 ]]\n",
      "[[0.59447593 0.5962827  0.59025025]\n",
      " [0.59447593 0.5962827  0.59025025]]\n"
     ]
    }
   ],
   "source": [
    "from importlib import reload\n",
    "reload(network)\n",
    "I = np.array([[0.05, 0.10], [0.05, 0.10]])\n",
    "W = np.array([[0.15, 0.2, 0.1], [0.25, 0.3, 0.1]])\n",
    "h1 = network.Layer(2, 3, 'sigmoid', weights=W, bias=0.35, label=\"H1\")\n",
    "netH, outH =  h1.feed_forward(I)\n",
    "print(netH)\n",
    "print(outH)\n",
    "# assert(compare_arrays(netH, _NetH))\n",
    "# assert(compare_arrays(outH, _OutH))"
   ]
  },
  {
   "cell_type": "code",
   "execution_count": 5,
   "metadata": {
    "scrolled": false
   },
   "outputs": [
    {
     "name": "stdout",
     "output_type": "stream",
     "text": [
      "[[1.43105685 1.52010729]\n",
      " [1.43105685 1.52010729]]\n",
      "[[0.80706593 0.82055428]\n",
      " [0.80706593 0.82055428]]\n"
     ]
    }
   ],
   "source": [
    "from importlib import reload\n",
    "reload(network)\n",
    "\n",
    "W = np.array([[0.4, 0.45], [0.50, 0.55], [0.50, 0.55]])\n",
    "o1 = network.Layer(3, 2, 'sigmoid', weights=W, bias=0.6, label=\"H1\")\n",
    "netO, outO =  o1.feed_forward(h1.out)\n",
    "print(netO)\n",
    "print(outO)\n",
    "# assert(compare_arrays(netO, _NetO))\n",
    "# assert(compare_arrays(outO, _OutO))"
   ]
  },
  {
   "cell_type": "markdown",
   "metadata": {},
   "source": [
    "# Convergence Checkings\n",
    "Based on the sample given by the class teacher"
   ]
  },
  {
   "cell_type": "markdown",
   "metadata": {},
   "source": [
    "## Manual Calculations"
   ]
  },
  {
   "cell_type": "code",
   "execution_count": 6,
   "metadata": {},
   "outputs": [
    {
     "name": "stdout",
     "output_type": "stream",
     "text": [
      "Model Weights\n",
      "-------------------------------\n",
      "H1      (input=2, neurons=2, activation=sigmoid)\n",
      "[[0.15 0.2 ]\n",
      " [0.25 0.3 ]]\n",
      "H1      (input=2, neurons=2, activation=sigmoid)\n",
      "[[0.4  0.45]\n",
      " [0.5  0.55]]\n",
      "-------------------------------\n",
      "Y\n",
      " [1.10590597, 1.2249214]\n",
      "\n",
      "a(Y)\n",
      " [0.75136507, 0.77292847]\n"
     ]
    }
   ],
   "source": [
    "from importlib import reload\n",
    "reload(network)\n",
    "model = network.NN(loss='smd')\n",
    "X = np.array([[0.05, 0.10]])\n",
    "\n",
    "Wh = np.array([[0.15, 0.2], [0.25, 0.3]])\n",
    "h = network.Layer(2, 2, 'sigmoid', weights=Wh, bias=0.35, label=\"H1\")\n",
    "\n",
    "Wo = np.array([[0.4, 0.45], [0.50, 0.55]])\n",
    "o = network.Layer(2, 2, 'sigmoid', weights=Wo, bias=0.6, label=\"H1\")\n",
    "model.add_layer(h)\n",
    "model.add_layer(o)\n",
    "model.show_weights()\n",
    "\n",
    "Y, aY = model.feed_forward(X)\n",
    "Y_, aY_ = ([1.10590597, 1.2249214 ], [0.75136507, 0.77292847])\n",
    "print(\"Y\\n\",Y_)\n",
    "print(\"\\na(Y)\\n\",aY_)\n",
    "\n",
    "# assert(compare_arrays(Y, Y_))\n",
    "# assert(compare_arrays(aY, aY_))\n"
   ]
  },
  {
   "cell_type": "markdown",
   "metadata": {},
   "source": [
    "### Working on the back propagation"
   ]
  },
  {
   "cell_type": "code",
   "execution_count": 7,
   "metadata": {},
   "outputs": [
    {
     "name": "stdout",
     "output_type": "stream",
     "text": [
      "Model Weights\n",
      "-------------------------------\n",
      "H1      (input=2, neurons=2, activation=sigmoid)\n",
      "[[0.15 0.2 ]\n",
      " [0.25 0.3 ]]\n",
      "H1      (input=2, neurons=2, activation=sigmoid)\n",
      "[[0.4  0.45]\n",
      " [0.5  0.55]]\n",
      "-------------------------------\n",
      "0.303658313630144\n"
     ]
    }
   ],
   "source": [
    "from importlib import reload\n",
    "reload(network)\n",
    "model.show_weights()\n",
    "Y = np.array([0.01, 0.99])\n",
    "Etotal = loss_functions.smd(aY, Y)\n",
    "print(Etotal)\n",
    "# assert((Etotal - _MSD) < np.finfo(np.float32).eps)"
   ]
  },
  {
   "cell_type": "markdown",
   "metadata": {},
   "source": [
    "### Emulating the weights update for the layer O "
   ]
  },
  {
   "cell_type": "markdown",
   "metadata": {},
   "source": [
    "## Using the implemented Grad calculation for Layers"
   ]
  },
  {
   "cell_type": "code",
   "execution_count": 8,
   "metadata": {
    "scrolled": false
   },
   "outputs": [
    {
     "name": "stdout",
     "output_type": "stream",
     "text": [
      "0.5025919962777022\n",
      "0.5025919962777022\n",
      "0.5025919962777022\n",
      "0.5025919962777022\n",
      "0.5025919962777022\n",
      "0.5025919962777022\n",
      "0.5025919962777022\n",
      "0.5025919962777022\n",
      "0.5025919962777022\n",
      "0.5025919962777022\n",
      "[[0.62630721 0.63963244]\n",
      " [0.62630721 0.63963244]]\n"
     ]
    }
   ],
   "source": [
    "reload(loss_functions)\n",
    "reload(activation_functions)\n",
    "reload(network)\n",
    "\n",
    "network.DEBUG = False\n",
    "\n",
    "X = np.array([[0.05, 0.10], [0.05, 0.10]], np.float64)\n",
    "Y = np.array([[0.01, 0.99], [0.01, 0.99]], np.float64)\n",
    "\n",
    "# Wh = np.array([[0.15, 0.2], [0.25, 0.3]], np.float64).T\n",
    "h = network.Layer(2, 2, 'sigmoid', bias=0.35, label=\"H1\")\n",
    "\n",
    "# Wo = np.array([[0.4, 0.45], [0.50, 0.55]],  np.float64).T\n",
    "o = network.Layer(2, 2, 'sigmoid', weights=Wo, label=\"O\")\n",
    "\n",
    "\n",
    "for i in range(10):\n",
    "    netH, outH = h.feed_forward(X)\n",
    "    netO, outO = o.feed_forward(outH)\n",
    "    \n",
    "    Etotal = loss_functions.smd(outO, Y)\n",
    "    print(Etotal)\n",
    "\n",
    "print (outO)"
   ]
  },
  {
   "cell_type": "markdown",
   "metadata": {},
   "source": [
    "# Using the Fit Methods with the full network calculation"
   ]
  },
  {
   "cell_type": "markdown",
   "metadata": {},
   "source": [
    "## SMD as the Loss Function"
   ]
  },
  {
   "cell_type": "code",
   "execution_count": 9,
   "metadata": {
    "scrolled": false
   },
   "outputs": [
    {
     "name": "stdout",
     "output_type": "stream",
     "text": [
      "Model Weights\n",
      "-------------------------------\n",
      "H1      (input=2, neurons=3, activation=sigmoid)\n",
      "[[ 0.25808206 -0.48159615  0.15006734]\n",
      " [-0.48051149  0.39875812 -0.1013665 ]]\n",
      "Output  (input=3, neurons=2, activation=sigmoid)\n",
      "[[ 0.1744372   0.32963782]\n",
      " [ 0.26401245 -0.35304232]\n",
      " [ 0.5534064  -0.04651056]]\n",
      "-------------------------------\n",
      "Shuffled\n",
      "It: 1000 Batch: 2 Epoch 499 Error: 0.05889897 lr: 0.500000 \n",
      "It: 2000 Batch: 2 Epoch 999 Error: 0.05600153 lr: 0.500000 \n",
      "It: 3000 Batch: 2 Epoch 1499 Error: 0.05600153 lr: 0.500000 \n",
      "It: 4000 Batch: 2 Epoch 1999 Error: 0.05600153 lr: 0.500000 \n",
      "It: 5000 Batch: 2 Epoch 2499 Error: 0.05600153 lr: 0.500000 \n",
      "It: 6000 Batch: 2 Epoch 2999 Error: 0.05600153 lr: 0.500000 \n",
      "It: 7000 Batch: 2 Epoch 3499 Error: 0.05600153 lr: 0.500000 \n",
      "It: 8000 Batch: 2 Epoch 3999 Error: 0.05600153 lr: 0.500000 \n",
      "It: 9000 Batch: 2 Epoch 4499 Error: 0.05600153 lr: 0.500000 \n",
      "It: 10000 Batch: 2 Epoch 4999 Error: 0.05600153 lr: 0.500000 \n",
      "Finished \n",
      " It: 10000 Batch: 2 Epoch 4999 Train Loss: 0.05600153 lr: 0.500000 \n",
      "[[0.01 0.99]\n",
      " [0.01 0.99]] 8.326672684688674e-17\n"
     ]
    }
   ],
   "source": [
    "from utils import dataset_helper\n",
    "reload(loss_functions)\n",
    "reload(activation_functions)\n",
    "reload(network)\n",
    "reload(dataset_helper)\n",
    "network.DEBUG = False\n",
    "eps = 0.0000000000000001\n",
    "\n",
    "h = network.Layer(2, 3, 'sigmoid', bias=0.35, label=\"H1\")\n",
    "o = network.Layer(3, 2, 'sigmoid', bias=0.6, label=\"Output\")\n",
    "\n",
    "model = network.NN(loss='cross_entropy')\n",
    "model.add_layer(h)\n",
    "model.add_layer(o)\n",
    "model.show_weights()\n",
    "\n",
    "model.fit(X, Y, max_iter=10000, \n",
    "          lr=0.5, epsilon=eps, b_sz=1, \n",
    "          print_interval=1000)\n",
    "\n",
    "_, Y_ = model.feed_forward(X)\n",
    "\n",
    "mae = np.absolute(Y - Y_).mean()\n",
    "print(Y_, mae)\n",
    "assert(mae < 0.1)"
   ]
  },
  {
   "cell_type": "code",
   "execution_count": 10,
   "metadata": {},
   "outputs": [
    {
     "data": {
      "text/plain": [
       "(2, 2)"
      ]
     },
     "execution_count": 10,
     "metadata": {},
     "output_type": "execute_result"
    }
   ],
   "source": [
    "Wh.shape"
   ]
  },
  {
   "cell_type": "markdown",
   "metadata": {},
   "source": [
    "## Cross Entropy "
   ]
  },
  {
   "cell_type": "code",
   "execution_count": 11,
   "metadata": {
    "scrolled": true
   },
   "outputs": [
    {
     "name": "stdout",
     "output_type": "stream",
     "text": [
      "Model Weights\n",
      "-------------------------------\n",
      "H1      (input=2, neurons=2, activation=sigmoid)\n",
      "[[-0.60390357 -0.22636144]\n",
      " [-0.64302163 -0.55359891]]\n",
      "Output  (input=2, neurons=2, activation=sigmoid)\n",
      "[[ 0.4743225  -0.47398861]\n",
      " [ 0.59747869 -0.30106831]]\n",
      "-------------------------------\n",
      "Shuffled\n",
      "It: 2000 Batch: 1 Epoch 1999 Error: 0.06799791 lr: 0.100000 \n",
      "It: 4000 Batch: 1 Epoch 3999 Error: 0.05600168 lr: 0.100000 \n",
      "It: 6000 Batch: 1 Epoch 5999 Error: 0.05600153 lr: 0.100000 \n",
      "It: 8000 Batch: 1 Epoch 7999 Error: 0.05600153 lr: 0.100000 \n",
      "It: 10000 Batch: 1 Epoch 9999 Error: 0.05600153 lr: 0.100000 \n",
      "Finished \n",
      " It: 10000 Batch: 1 Epoch 9999 Train Loss: 0.05600153 lr: 0.100000 \n",
      "[[0.01 0.99]] 6.120891987704269e-12\n"
     ]
    }
   ],
   "source": [
    "from utils import dataset_helper\n",
    "reload(loss_functions)\n",
    "reload(activation_functions)\n",
    "reload(network)\n",
    "reload(dataset_helper)\n",
    "network.DEBUG = False\n",
    "eps = np.finfo(np.float64).eps\n",
    "X = np.array([[0.05, 0.10]], np.float64)\n",
    "Y = np.array([[0.01, 0.99]], np.float64)\n",
    "\n",
    "Wh = None #np.array([[0.15, 0.2], [0.25, 0.3]], np.float64)\n",
    "h = network.Layer(2, 2, 'sigmoid', weights=Wh, bias=0.35, label=\"H1\")\n",
    "\n",
    "Wo = None #np.array([[0.4, 0.45], [0.50, 0.55]], np.float64)\n",
    "o = network.Layer(2, 2, 'sigmoid', weights=Wo, bias=0.6, label=\"Output\")\n",
    "\n",
    "model = network.NN(loss='cross_entropy')\n",
    "model.add_layer(h)\n",
    "model.add_layer(o)\n",
    "model.show_weights()\n",
    "\n",
    "model.fit(X, Y, max_iter=10000,\n",
    "          lr=0.1, epsilon=eps, \n",
    "          print_interval=2000)\n",
    "\n",
    "_, Y_ = model.feed_forward(X)\n",
    "\n",
    "mae = np.absolute(Y - Y_).mean()\n",
    "print(Y_, mae)\n",
    "assert(mae < 0.1)"
   ]
  },
  {
   "cell_type": "code",
   "execution_count": 12,
   "metadata": {
    "scrolled": false
   },
   "outputs": [
    {
     "name": "stdout",
     "output_type": "stream",
     "text": [
      "Model Weights\n",
      "-------------------------------\n",
      "H1      (input=2, neurons=3, activation=sigmoid)\n",
      "[[-0.14395537 -0.55981498  0.31029445]\n",
      " [ 0.34862508 -0.33755733  0.25966238]]\n",
      "Output  (input=3, neurons=2, activation=sigmoid)\n",
      "[[-0.30962275 -0.29964663]\n",
      " [ 0.04418572  0.36172024]\n",
      " [ 0.25583409  0.01899506]]\n",
      "-------------------------------\n",
      "Shuffled\n",
      "It: 2000 Batch: 2 Epoch 666 Error: 0.65406966 lr: 0.090000 \n",
      "It: 4000 Batch: 1 Epoch 1333 Error: 0.64626058 lr: 0.090000 \n",
      "It: 6000 Batch: 3 Epoch 1999 Error: 0.62361494 lr: 0.090000 \n",
      "It: 8000 Batch: 2 Epoch 2666 Error: 0.53864207 lr: 0.090000 \n",
      "It: 10000 Batch: 1 Epoch 3333 Error: 0.32433206 lr: 0.090000 \n",
      "It: 12000 Batch: 3 Epoch 3999 Error: 0.13294588 lr: 0.090000 \n",
      "It: 14000 Batch: 2 Epoch 4666 Error: 0.06173478 lr: 0.090000 \n",
      "It: 16000 Batch: 1 Epoch 5333 Error: 0.03622283 lr: 0.090000 \n",
      "It: 18000 Batch: 3 Epoch 5999 Error: 0.02453301 lr: 0.090000 \n",
      "It: 20000 Batch: 2 Epoch 6666 Error: 0.01813260 lr: 0.090000 \n",
      "It: 22000 Batch: 1 Epoch 7333 Error: 0.01418063 lr: 0.090000 \n",
      "It: 24000 Batch: 3 Epoch 7999 Error: 0.01154197 lr: 0.090000 \n",
      "It: 26000 Batch: 2 Epoch 8666 Error: 0.00967483 lr: 0.090000 \n",
      "It: 28000 Batch: 1 Epoch 9333 Error: 0.00828582 lr: 0.090000 \n",
      "It: 30000 Batch: 3 Epoch 9999 Error: 0.00721686 lr: 0.090000 \n",
      "It: 32000 Batch: 2 Epoch 10666 Error: 0.00638268 lr: 0.090000 \n",
      "It: 34000 Batch: 1 Epoch 11333 Error: 0.00569917 lr: 0.090000 \n",
      "It: 36000 Batch: 3 Epoch 11999 Error: 0.00514471 lr: 0.090000 \n",
      "It: 38000 Batch: 2 Epoch 12666 Error: 0.00467758 lr: 0.090000 \n",
      "It: 40000 Batch: 1 Epoch 13333 Error: 0.00428640 lr: 0.090000 \n",
      "It: 42000 Batch: 3 Epoch 13999 Error: 0.00394963 lr: 0.090000 \n",
      "It: 44000 Batch: 2 Epoch 14666 Error: 0.00365686 lr: 0.090000 \n",
      "It: 46000 Batch: 1 Epoch 15333 Error: 0.00340465 lr: 0.090000 \n",
      "It: 48000 Batch: 3 Epoch 15999 Error: 0.00317991 lr: 0.090000 \n",
      "It: 50000 Batch: 2 Epoch 16666 Error: 0.00298376 lr: 0.090000 \n",
      "Finished \n",
      " It: 50000 Batch: 2 Epoch 16666 Train Loss: 0.00298376 lr: 0.090000 \n",
      "0.0\n",
      "[1 1 0] [1 1 0]\n"
     ]
    }
   ],
   "source": [
    "from utils import dataset_helper\n",
    "reload(loss_functions)\n",
    "reload(activation_functions)\n",
    "reload(network)\n",
    "reload(dataset_helper)\n",
    "network.DEBUG = False\n",
    "\n",
    "eps = np.finfo(np.float64).eps\n",
    "\n",
    "X = np.array([[0.05, 0.10], [0.05, 0.10], [0.10, 0.05]], np.float64)\n",
    "Y = np.array([[0.0, 1], [0.0, 1], [1., 0.]], np.float64)\n",
    "\n",
    "Wh = None #np.array([[0.15, 0.2, 0.1], [0.25, 0.3, 0.1]], np.float64)\n",
    "h = network.Layer(2, 3, 'sigmoid', weights=Wh, bias=0.35, label=\"H1\")\n",
    "\n",
    "Wo = None #np.array([[0.4, 0.45], [0.50, 0.55], [0.50, 0.55]], np.float64)\n",
    "o = network.Layer(3, 2, 'sigmoid', weights=Wo, bias=0.6, label=\"Output\")\n",
    "\n",
    "model = network.NN(loss='cross_entropy')\n",
    "model.add_layer(h)\n",
    "model.add_layer(o)\n",
    "model.show_weights()\n",
    "\n",
    "\n",
    "model.fit(X, Y, max_iter=50000, \n",
    "          lr=0.09, epsilon=eps,\n",
    "          print_interval=2000)\n",
    "\n",
    "Y_ = np.array(model.predict(X))\n",
    "Y_ = Y_.argmax(axis=-1)\n",
    "Y = Y.argmax(axis=-1)\n",
    "mae = np.absolute(Y - Y_).mean()\n",
    "print(mae)\n",
    "print(Y, Y_)\n",
    "assert(mae < 0.1)"
   ]
  },
  {
   "cell_type": "markdown",
   "metadata": {},
   "source": [
    "# Multi class Classification Test"
   ]
  },
  {
   "cell_type": "code",
   "execution_count": 13,
   "metadata": {},
   "outputs": [],
   "source": [
    "nclasses = 3\n",
    "nsamples = 60000\n",
    "nfeatures = 128\n",
    "\n",
    "eps = np.finfo(np.float128).eps\n",
    "\n",
    "\n",
    "vals = dataset_helper.get_toy_data_multiclass(nclasses, nsamples, nfeatures)\n",
    "X,  _, _, _ = vals\n",
    "\n",
    "epoch_sz = X.shape[0]\n",
    "lr = 0.5\n",
    "max_iter = 5 * epoch_sz\n",
    "print_interval = 20*1000\n",
    "decay_iteractions= 1 * epoch_sz\n",
    "decay_rate = 0.5"
   ]
  },
  {
   "cell_type": "markdown",
   "metadata": {},
   "source": [
    "## Using Cross Entropy as the Loss Function"
   ]
  },
  {
   "cell_type": "code",
   "execution_count": 14,
   "metadata": {
    "scrolled": false
   },
   "outputs": [
    {
     "name": "stdout",
     "output_type": "stream",
     "text": [
      "Model Summary\n",
      "-------------------------------\n",
      "H1      (input=128, neurons=64, activation=tanh)\n",
      "Output  (input=64, neurons=3, activation=sigmoid)\n",
      "-------------------------------\n",
      "\n",
      "Shuffled\n",
      "It: 20000 Batch: 20000 Epoch 0 Train Loss: 1.05249990 lr: 0.500000 Val Loss: 0.91090040 Val Acc 0.82491667\n",
      "It: 40000 Batch: 40000 Epoch 0 Train Loss: 0.88437940 lr: 0.500000 Val Loss: 1.25820973 Val Acc 0.87866667\n",
      "It: 60000 Batch: 12000 Epoch 1 Train Loss: 0.63619669 lr: 0.250000 Val Loss: 0.56086932 Val Acc 0.87983333\n",
      "It: 80000 Batch: 32000 Epoch 1 Train Loss: 0.43236875 lr: 0.250000 Val Loss: 0.50522404 Val Acc 0.89433333\n",
      "It: 100000 Batch: 4000 Epoch 2 Train Loss: 0.40055221 lr: 0.125000 Val Loss: 0.42540260 Val Acc 0.89100000\n",
      "It: 120000 Batch: 24000 Epoch 2 Train Loss: 0.27376062 lr: 0.125000 Val Loss: 0.40969728 Val Acc 0.89416667\n",
      "It: 140000 Batch: 44000 Epoch 2 Train Loss: 0.26056156 lr: 0.125000 Val Loss: 0.54319771 Val Acc 0.87250000\n",
      "It: 160000 Batch: 16000 Epoch 3 Train Loss: 0.23048344 lr: 0.062500 Val Loss: 0.26353305 Val Acc 0.89975000\n",
      "It: 180000 Batch: 36000 Epoch 3 Train Loss: 0.22130230 lr: 0.062500 Val Loss: 0.31019547 Val Acc 0.89591667\n",
      "It: 200000 Batch: 8000 Epoch 4 Train Loss: 0.20942707 lr: 0.031250 Val Loss: 0.28242581 Val Acc 0.89533333\n",
      "It: 220000 Batch: 28000 Epoch 4 Train Loss: 0.20174184 lr: 0.031250 Val Loss: 0.25078783 Val Acc 0.89850000\n",
      "It: 240000 Batch: 48000 Epoch 4 Train Loss: 0.20460216 lr: 0.031250 Val Loss: 0.25779279 Val Acc 0.89200000\n",
      "Finished \n",
      " It: 240000 Batch: 48000 Epoch 4 Train Loss: 0.20460216 lr: 0.031250 Val Loss: 0.25779279\n",
      "6\n",
      "Time Spent  50.257137733\n",
      "Validation Stats...\n",
      "Accuracy: 0.892\n",
      "Precision: 0.891\n",
      "Recall: 0.891\n",
      "F1 Score: 0.891340\n",
      "{0: 0, 1: 1, 2: 2}\n",
      "Confusion matrix, without normalization\n",
      "Normalized confusion matrix\n"
     ]
    },
    {
     "data": {
      "image/png": "[encoded data removed]",
      "text/plain": [
       "<Figure size 432x288 with 2 Axes>"
      ]
     },
     "metadata": {
      "needs_background": "light"
     },
     "output_type": "display_data"
    },
    {
     "data": {
      "image/png": "[encoded data removed]",
      "text/plain": [
       "<Figure size 432x288 with 2 Axes>"
      ]
     },
     "metadata": {
      "needs_background": "light"
     },
     "output_type": "display_data"
    },
    {
     "data": {
      "text/plain": [
       "<matplotlib.axes._subplots.AxesSubplot at 0x7f7a768ca470>"
      ]
     },
     "execution_count": 14,
     "metadata": {},
     "output_type": "execute_result"
    },
    {
     "data": {
      "image/png": "[encoded data removed]",
      "text/plain": [
       "<Figure size 432x288 with 1 Axes>"
      ]
     },
     "metadata": {
      "needs_background": "light"
     },
     "output_type": "display_data"
    }
   ],
   "source": [
    "import time\n",
    "import timeit\n",
    "from utils import dataset_helper\n",
    "from utils import custom_scores\n",
    "reload(custom_scores)\n",
    "reload(dataset_helper)\n",
    "reload(loss_functions)\n",
    "reload(activation_functions)\n",
    "reload(network)\n",
    "reload(dataset_helper)\n",
    "\n",
    "X,  X_val, Y, Y_val = vals\n",
    "Y = dataset_helper.one_hot_encode(Y, nclasses)\n",
    "Y_val = dataset_helper.one_hot_encode(Y_val, nclasses)\n",
    "\n",
    "network.DEBUG = False\n",
    "\n",
    "h1 = network.Layer(nfeatures, 64, 'tanh',  label=\"H1\")\n",
    "o = network.Layer(64, nclasses, 'sigmoid', label=\"Output\")\n",
    "\n",
    "model = network.NN(loss='cross_entropy')\n",
    "model.add_layer(h1)\n",
    "model.add_layer(o)\n",
    "model.summary()\n",
    "\n",
    "\n",
    "print(\"\")\n",
    "start = time.process_time()\n",
    "model.fit(X, Y, max_iter=max_iter, \n",
    "          lr=lr, epsilon=eps, b_sz = 1,\n",
    "          decay_iteractions= decay_iteractions, decay_rate = decay_rate,\n",
    "          X_val=X_val, Y_val=Y_val,\n",
    "          print_interval=print_interval)\n",
    "iteraction_log = network.get_iteration_log()\n",
    "\n",
    "Y_ = np.array(model.predict(X))\n",
    "Y_ = Y_.argmax(axis=-1)\n",
    "mae = np.absolute(Y.argmax(axis=-1) - Y_).mean()\n",
    "\n",
    "print(\"Time Spent \", time.process_time() - start)\n",
    "\n",
    "\n",
    "Y_val_ = np.array(model.predict(X_val))\n",
    "\n",
    "\n",
    "import time\n",
    "import timeit\n",
    "from utils import dataset_helper\n",
    "from utils import custom_scores\n",
    "custom_scores.evalute_multiclass(Y_val.argmax(axis=-1), Y_val_.argmax(axis=-1))\n",
    "iteraction_log.index = iteraction_log.it\n",
    "iteraction_log.error_train.plot()\n",
    "iteraction_log.error_val.plot()"
   ]
  },
  {
   "cell_type": "code",
   "execution_count": 15,
   "metadata": {
    "scrolled": false
   },
   "outputs": [
    {
     "name": "stdout",
     "output_type": "stream",
     "text": [
      "Model Summary\n",
      "-------------------------------\n",
      "H1      (input=128, neurons=64, activation=sigmoid)\n",
      "Output  (input=64, neurons=3, activation=sigmoid)\n",
      "-------------------------------\n",
      "\n",
      "Shuffled\n",
      "It: 20000 Batch: 20000 Epoch 0 Train Loss: 0.78256478 lr: 0.500000 Val Loss: 1.29152484 Val Acc 0.78258333\n",
      "It: 40000 Batch: 40000 Epoch 0 Train Loss: 0.69013622 lr: 0.500000 Val Loss: 1.80431278 Val Acc 0.73375000\n",
      "It: 60000 Batch: 12000 Epoch 1 Train Loss: 0.44682160 lr: 0.250000 Val Loss: 0.49232301 Val Acc 0.85958333\n",
      "It: 80000 Batch: 32000 Epoch 1 Train Loss: 0.30835832 lr: 0.250000 Val Loss: 0.55293549 Val Acc 0.81408333\n"
     ]
    },
    {
     "name": "stderr",
     "output_type": "stream",
     "text": [
      "../NN/activation_functions.py:28: RuntimeWarning: overflow encountered in exp\n",
      "  sig = 1. / (1. + np.exp(-h))\n"
     ]
    },
    {
     "name": "stdout",
     "output_type": "stream",
     "text": [
      "It: 100000 Batch: 4000 Epoch 2 Train Loss: 0.28435681 lr: 0.125000 Val Loss: 0.31424465 Val Acc 0.88483333\n",
      "It: 120000 Batch: 24000 Epoch 2 Train Loss: 0.21025534 lr: 0.125000 Val Loss: 0.34023545 Val Acc 0.87683333\n",
      "It: 140000 Batch: 44000 Epoch 2 Train Loss: 0.21023979 lr: 0.125000 Val Loss: 0.31774006 Val Acc 0.88050000\n",
      "It: 160000 Batch: 16000 Epoch 3 Train Loss: 0.18211531 lr: 0.062500 Val Loss: 0.26256171 Val Acc 0.89275000\n",
      "It: 180000 Batch: 36000 Epoch 3 Train Loss: 0.17446506 lr: 0.062500 Val Loss: 0.29804017 Val Acc 0.88975000\n",
      "It: 200000 Batch: 8000 Epoch 4 Train Loss: 0.16825768 lr: 0.031250 Val Loss: 0.26948434 Val Acc 0.89491667\n",
      "It: 220000 Batch: 28000 Epoch 4 Train Loss: 0.16038220 lr: 0.031250 Val Loss: 0.26242246 Val Acc 0.89358333\n",
      "It: 240000 Batch: 48000 Epoch 4 Train Loss: 0.16201862 lr: 0.031250 Val Loss: 0.26746972 Val Acc 0.89275000\n",
      "Finished \n",
      " It: 240000 Batch: 48000 Epoch 4 Train Loss: 0.16201862 lr: 0.031250 Val Loss: 0.26746972\n",
      "6\n",
      "Time Spent  42.96183333600001\n",
      "Validation Stats...\n",
      "Accuracy: 0.893\n",
      "Precision: 0.892\n",
      "Recall: 0.892\n",
      "F1 Score: 0.891774\n",
      "{0: 0, 1: 1, 2: 2}\n",
      "Confusion matrix, without normalization\n",
      "Normalized confusion matrix\n"
     ]
    },
    {
     "data": {
      "image/png": "[encoded data removed]",
      "text/plain": [
       "<Figure size 432x288 with 2 Axes>"
      ]
     },
     "metadata": {
      "needs_background": "light"
     },
     "output_type": "display_data"
    },
    {
     "data": {
      "image/png": "[encoded data removed]",
      "text/plain": [
       "<Figure size 432x288 with 2 Axes>"
      ]
     },
     "metadata": {
      "needs_background": "light"
     },
     "output_type": "display_data"
    },
    {
     "data": {
      "text/plain": [
       "<matplotlib.axes._subplots.AxesSubplot at 0x7f7a76849b38>"
      ]
     },
     "execution_count": 15,
     "metadata": {},
     "output_type": "execute_result"
    },
    {
     "data": {
      "image/png": "[encoded data removed]",
      "text/plain": [
       "<Figure size 432x288 with 1 Axes>"
      ]
     },
     "metadata": {
      "needs_background": "light"
     },
     "output_type": "display_data"
    }
   ],
   "source": [
    "import time\n",
    "import timeit\n",
    "from utils import dataset_helper\n",
    "from utils import custom_scores\n",
    "reload(custom_scores)\n",
    "reload(dataset_helper)\n",
    "reload(loss_functions)\n",
    "reload(activation_functions)\n",
    "reload(network)\n",
    "reload(dataset_helper)\n",
    "\n",
    "X,  X_val, Y, Y_val = vals\n",
    "Y = dataset_helper.one_hot_encode(Y, nclasses)\n",
    "Y_val = dataset_helper.one_hot_encode(Y_val, nclasses)\n",
    "\n",
    "network.DEBUG = False\n",
    "\n",
    "eps = np.finfo(np.float32).eps\n",
    "\n",
    "h1 = network.Layer(nfeatures, 64, 'sigmoid',  label=\"H1\")\n",
    "o = network.Layer(64, nclasses, 'sigmoid', label=\"Output\")\n",
    "\n",
    "model = network.NN(loss='cross_entropy')\n",
    "model.add_layer(h1)\n",
    "model.add_layer(o)\n",
    "model.summary()\n",
    "\n",
    "\n",
    "print(\"\")\n",
    "start = time.process_time()\n",
    "model.fit(X, Y, max_iter=max_iter, \n",
    "          lr=lr, epsilon=eps, b_sz = 1,\n",
    "          decay_iteractions= decay_iteractions, decay_rate = decay_rate,\n",
    "          X_val=X_val, Y_val=Y_val,\n",
    "          print_interval=print_interval)\n",
    "iteraction_log = network.get_iteration_log()\n",
    "\n",
    "Y_ = np.array(model.predict(X))\n",
    "Y_ = Y_.argmax(axis=-1)\n",
    "mae = np.absolute(Y.argmax(axis=-1) - Y_).mean()\n",
    "\n",
    "print(\"Time Spent \", time.process_time() - start)\n",
    "\n",
    "\n",
    "Y_val_ = np.array(model.predict(X_val))\n",
    "\n",
    "\n",
    "import time\n",
    "import timeit\n",
    "from utils import dataset_helper\n",
    "from utils import custom_scores\n",
    "custom_scores.evalute_multiclass(Y_val.argmax(axis=-1), Y_val_.argmax(axis=-1))\n",
    "iteraction_log.index = iteraction_log.it\n",
    "iteraction_log.error_train.plot()\n",
    "iteraction_log.error_val.plot()"
   ]
  },
  {
   "cell_type": "code",
   "execution_count": 16,
   "metadata": {
    "scrolled": false
   },
   "outputs": [
    {
     "name": "stdout",
     "output_type": "stream",
     "text": [
      "Model Summary\n",
      "-------------------------------\n",
      "H1      (input=128, neurons=64, activation=relu)\n",
      "Output  (input=64, neurons=3, activation=sigmoid)\n",
      "-------------------------------\n",
      "\n",
      "Shuffled\n",
      "It: 20000 Batch: 20000 Epoch 0 Train Loss: 0.20679460 lr: 0.010000 Val Loss: 0.23995292 Val Acc 0.89875000\n",
      "It: 40000 Batch: 40000 Epoch 0 Train Loss: 0.17239089 lr: 0.010000 Val Loss: 0.21025171 Val Acc 0.91091667\n",
      "It: 60000 Batch: 12000 Epoch 1 Train Loss: 0.15748842 lr: 0.005000 Val Loss: 0.20554146 Val Acc 0.91400000\n",
      "It: 80000 Batch: 32000 Epoch 1 Train Loss: 0.14415958 lr: 0.005000 Val Loss: 0.19487444 Val Acc 0.91908333\n",
      "It: 100000 Batch: 4000 Epoch 2 Train Loss: 0.14034372 lr: 0.002500 Val Loss: 0.18381211 Val Acc 0.92225000\n",
      "It: 120000 Batch: 24000 Epoch 2 Train Loss: 0.12989859 lr: 0.002500 Val Loss: 0.18942244 Val Acc 0.92100000\n",
      "It: 140000 Batch: 44000 Epoch 2 Train Loss: 0.12665544 lr: 0.002500 Val Loss: 0.18716421 Val Acc 0.92208333\n",
      "It: 160000 Batch: 16000 Epoch 3 Train Loss: 0.12096232 lr: 0.001250 Val Loss: 0.18773335 Val Acc 0.92308333\n",
      "It: 180000 Batch: 36000 Epoch 3 Train Loss: 0.11909338 lr: 0.001250 Val Loss: 0.18964913 Val Acc 0.92358333\n",
      "It: 200000 Batch: 8000 Epoch 4 Train Loss: 0.11334834 lr: 0.000625 Val Loss: 0.19054052 Val Acc 0.92283333\n",
      "It: 220000 Batch: 28000 Epoch 4 Train Loss: 0.11050585 lr: 0.000625 Val Loss: 0.19449447 Val Acc 0.92366667\n",
      "It: 240000 Batch: 48000 Epoch 4 Train Loss: 0.11731677 lr: 0.000625 Val Loss: 0.19141638 Val Acc 0.92258333\n",
      "Finished \n",
      " It: 240000 Batch: 48000 Epoch 4 Train Loss: 0.11731677 lr: 0.000625 Val Loss: 0.19141638\n",
      "6\n",
      "Time Spent  42.266506578999994\n",
      "Validation Stats...\n",
      "Accuracy: 0.923\n",
      "Precision: 0.922\n",
      "Recall: 0.922\n",
      "F1 Score: 0.922186\n",
      "{0: 0, 1: 1, 2: 2}\n",
      "Confusion matrix, without normalization\n",
      "Normalized confusion matrix\n"
     ]
    },
    {
     "data": {
      "image/png": "[encoded data removed]",
      "text/plain": [
       "<Figure size 432x288 with 2 Axes>"
      ]
     },
     "metadata": {
      "needs_background": "light"
     },
     "output_type": "display_data"
    },
    {
     "data": {
      "image/png": "[encoded data removed]",
      "text/plain": [
       "<Figure size 432x288 with 2 Axes>"
      ]
     },
     "metadata": {
      "needs_background": "light"
     },
     "output_type": "display_data"
    },
    {
     "data": {
      "text/plain": [
       "<matplotlib.axes._subplots.AxesSubplot at 0x7f7a768b09e8>"
      ]
     },
     "execution_count": 16,
     "metadata": {},
     "output_type": "execute_result"
    },
    {
     "data": {
      "image/png": "[encoded data removed]",
      "text/plain": [
       "<Figure size 432x288 with 1 Axes>"
      ]
     },
     "metadata": {
      "needs_background": "light"
     },
     "output_type": "display_data"
    }
   ],
   "source": [
    "import time\n",
    "import timeit\n",
    "from utils import dataset_helper\n",
    "from utils import custom_scores\n",
    "reload(custom_scores)\n",
    "reload(dataset_helper)\n",
    "reload(loss_functions)\n",
    "reload(activation_functions)\n",
    "reload(network)\n",
    "reload(dataset_helper)\n",
    "\n",
    "X,  X_val, Y, Y_val = vals\n",
    "Y = dataset_helper.one_hot_encode(Y, nclasses)\n",
    "Y_val = dataset_helper.one_hot_encode(Y_val, nclasses)\n",
    "\n",
    "\n",
    "network.DEBUG = False\n",
    "\n",
    "h1 = network.Layer(nfeatures, 64, 'relu',  label=\"H1\")\n",
    "o = network.Layer(64, nclasses, 'sigmoid', label=\"Output\")\n",
    "\n",
    "model = network.NN(loss='cross_entropy')\n",
    "model.add_layer(h1)\n",
    "model.add_layer(o)\n",
    "model.summary()\n",
    "\n",
    "\n",
    "\n",
    "print(\"\")\n",
    "start = time.process_time()\n",
    "model.fit(X, Y, max_iter=max_iter, \n",
    "          lr=0.01, epsilon=eps, b_sz = 1,\n",
    "          decay_iteractions= decay_iteractions, decay_rate = decay_rate,\n",
    "          X_val=X_val, Y_val=Y_val,\n",
    "          print_interval=print_interval)\n",
    "iteraction_log = network.get_iteration_log()\n",
    "\n",
    "Y_ = np.array(model.predict(X))\n",
    "Y_ = Y_.argmax(axis=-1)\n",
    "mae = np.absolute(Y.argmax(axis=-1) - Y_).mean()\n",
    "\n",
    "print(\"Time Spent \", time.process_time() - start)\n",
    "\n",
    "\n",
    "Y_val_ = np.array(model.predict(X_val))\n",
    "\n",
    "\n",
    "import time\n",
    "import timeit\n",
    "from utils import dataset_helper\n",
    "from utils import custom_scores\n",
    "custom_scores.evalute_multiclass(Y_val.argmax(axis=-1), Y_val_.argmax(axis=-1))\n",
    "iteraction_log.index = iteraction_log.it\n",
    "iteraction_log.error_train.plot()\n",
    "iteraction_log.error_val.plot()"
   ]
  },
  {
   "cell_type": "markdown",
   "metadata": {},
   "source": [
    "## Using SMD "
   ]
  },
  {
   "cell_type": "code",
   "execution_count": 17,
   "metadata": {},
   "outputs": [],
   "source": [
    "print_interval=100"
   ]
  },
  {
   "cell_type": "code",
   "execution_count": 18,
   "metadata": {
    "scrolled": false
   },
   "outputs": [
    {
     "name": "stdout",
     "output_type": "stream",
     "text": [
      "Model Summary\n",
      "-------------------------------\n",
      "H1      (input=128, neurons=64, activation=tanh)\n",
      "Output  (input=64, neurons=3, activation=sigmoid)\n",
      "-------------------------------\n",
      "\n",
      "Shuffled\n",
      "It: 100 Batch: 100 Epoch 0 Train Loss: 0.35841582 lr: 0.500000 Val Loss: 3568.96161693 Val Acc 0.64025000\n",
      "It: 200 Batch: 200 Epoch 0 Train Loss: 0.27061099 lr: 0.500000 Val Loss: 2635.02614183 Val Acc 0.73591667\n",
      "It: 300 Batch: 300 Epoch 0 Train Loss: 0.23740440 lr: 0.500000 Val Loss: 2171.70126861 Val Acc 0.78366667\n",
      "It: 400 Batch: 400 Epoch 0 Train Loss: 0.17691290 lr: 0.500000 Val Loss: 2078.23993137 Val Acc 0.79516667\n",
      "It: 500 Batch: 500 Epoch 0 Train Loss: 0.21968465 lr: 0.500000 Val Loss: 2001.74021443 Val Acc 0.80466667\n",
      "It: 600 Batch: 600 Epoch 0 Train Loss: 0.15527079 lr: 0.500000 Val Loss: 1982.94407058 Val Acc 0.80666667\n",
      "It: 700 Batch: 700 Epoch 0 Train Loss: 0.21826830 lr: 0.500000 Val Loss: 2012.42380305 Val Acc 0.80766667\n",
      "It: 800 Batch: 800 Epoch 0 Train Loss: 0.18540623 lr: 0.500000 Val Loss: 2014.71529188 Val Acc 0.80825000\n",
      "It: 900 Batch: 900 Epoch 0 Train Loss: 0.14500821 lr: 0.500000 Val Loss: 1831.07920497 Val Acc 0.82450000\n",
      "It: 1000 Batch: 1000 Epoch 0 Train Loss: 0.13004910 lr: 0.500000 Val Loss: 1870.02030454 Val Acc 0.82183333\n",
      "It: 1100 Batch: 1100 Epoch 0 Train Loss: 0.13085199 lr: 0.500000 Val Loss: 1963.26487875 Val Acc 0.81775000\n",
      "It: 1200 Batch: 1200 Epoch 0 Train Loss: 0.27874147 lr: 0.500000 Val Loss: 1917.76514976 Val Acc 0.82008333\n",
      "It: 1300 Batch: 1300 Epoch 0 Train Loss: 0.17784351 lr: 0.500000 Val Loss: 1909.50074702 Val Acc 0.82283333\n",
      "It: 1400 Batch: 1400 Epoch 0 Train Loss: 0.13106419 lr: 0.500000 Val Loss: 1870.19072782 Val Acc 0.82758333\n",
      "It: 1500 Batch: 1500 Epoch 0 Train Loss: 0.16817882 lr: 0.500000 Val Loss: 1861.41030164 Val Acc 0.83033333\n",
      "It: 1600 Batch: 1600 Epoch 0 Train Loss: 0.16462873 lr: 0.500000 Val Loss: 1807.66427154 Val Acc 0.83125000\n",
      "It: 1700 Batch: 1700 Epoch 0 Train Loss: 0.13281739 lr: 0.500000 Val Loss: 1850.86741222 Val Acc 0.82833333\n",
      "It: 1800 Batch: 1800 Epoch 0 Train Loss: 0.14302451 lr: 0.500000 Val Loss: 1798.15745419 Val Acc 0.83233333\n",
      "It: 1900 Batch: 1900 Epoch 0 Train Loss: 0.16446154 lr: 0.500000 Val Loss: 1825.07689933 Val Acc 0.83108333\n",
      "It: 2000 Batch: 2000 Epoch 0 Train Loss: 0.17246365 lr: 0.500000 Val Loss: 1909.36777076 Val Acc 0.82708333\n",
      "It: 2100 Batch: 2100 Epoch 0 Train Loss: 0.15132371 lr: 0.500000 Val Loss: 1982.22713147 Val Acc 0.81708333\n",
      "It: 2200 Batch: 2200 Epoch 0 Train Loss: 0.14817479 lr: 0.500000 Val Loss: 1972.56794726 Val Acc 0.82291667\n",
      "It: 2300 Batch: 2300 Epoch 0 Train Loss: 0.17156842 lr: 0.500000 Val Loss: 1904.13833835 Val Acc 0.82816667\n",
      "It: 2400 Batch: 2400 Epoch 0 Train Loss: 0.15867320 lr: 0.500000 Val Loss: 1928.18143514 Val Acc 0.82716667\n",
      "It: 2500 Batch: 2500 Epoch 0 Train Loss: 0.18725290 lr: 0.500000 Val Loss: 1816.38084468 Val Acc 0.83641667\n",
      "It: 2600 Batch: 2600 Epoch 0 Train Loss: 0.17490862 lr: 0.500000 Val Loss: 1849.56415365 Val Acc 0.83433333\n",
      "It: 2700 Batch: 2700 Epoch 0 Train Loss: 0.10891538 lr: 0.500000 Val Loss: 1843.72760416 Val Acc 0.83641667\n",
      "It: 2800 Batch: 2800 Epoch 0 Train Loss: 0.15241102 lr: 0.500000 Val Loss: 1850.08090350 Val Acc 0.83491667\n",
      "It: 2900 Batch: 2900 Epoch 0 Train Loss: 0.17388089 lr: 0.500000 Val Loss: 1758.04829237 Val Acc 0.84100000\n",
      "It: 3000 Batch: 3000 Epoch 0 Train Loss: 0.18210740 lr: 0.500000 Val Loss: 1696.40763416 Val Acc 0.84658333\n",
      "It: 3100 Batch: 3100 Epoch 0 Train Loss: 0.16660893 lr: 0.500000 Val Loss: 1690.97856159 Val Acc 0.84933333\n",
      "It: 3200 Batch: 3200 Epoch 0 Train Loss: 0.15340553 lr: 0.500000 Val Loss: 1713.81106973 Val Acc 0.84608333\n",
      "It: 3300 Batch: 3300 Epoch 0 Train Loss: 0.13564542 lr: 0.500000 Val Loss: 1749.65088790 Val Acc 0.84483333\n",
      "It: 3400 Batch: 3400 Epoch 0 Train Loss: 0.06317982 lr: 0.500000 Val Loss: 1743.28504823 Val Acc 0.84575000\n",
      "It: 3500 Batch: 3500 Epoch 0 Train Loss: 0.13014487 lr: 0.500000 Val Loss: 1736.47299641 Val Acc 0.84525000\n",
      "It: 3600 Batch: 3600 Epoch 0 Train Loss: 0.15658428 lr: 0.500000 Val Loss: 1695.66010275 Val Acc 0.84800000\n",
      "It: 3700 Batch: 3700 Epoch 0 Train Loss: 0.14026086 lr: 0.500000 Val Loss: 1746.51295020 Val Acc 0.84383333\n",
      "It: 3800 Batch: 3800 Epoch 0 Train Loss: 0.16751315 lr: 0.500000 Val Loss: 1713.57534710 Val Acc 0.84566667\n",
      "Finished \n",
      " It: 3801 Batch: 3801 Epoch 0 Train Loss: 0.00000001 lr: 0.500000 Val Loss: 1713.57534710\n",
      "6\n",
      "Time Spent  19.88583069500001\n",
      "Validation Stats...\n",
      "Accuracy: 0.846\n",
      "Precision: 0.858\n",
      "Recall: 0.845\n",
      "F1 Score: 0.851459\n",
      "{0: 0, 1: 1, 2: 2}\n",
      "Confusion matrix, without normalization\n",
      "Normalized confusion matrix\n"
     ]
    },
    {
     "data": {
      "image/png": "[encoded data removed]",
      "text/plain": [
       "<Figure size 432x288 with 2 Axes>"
      ]
     },
     "metadata": {
      "needs_background": "light"
     },
     "output_type": "display_data"
    },
    {
     "data": {
      "image/png": "[encoded data removed]",
      "text/plain": [
       "<Figure size 432x288 with 2 Axes>"
      ]
     },
     "metadata": {
      "needs_background": "light"
     },
     "output_type": "display_data"
    },
    {
     "data": {
      "text/plain": [
       "<matplotlib.axes._subplots.AxesSubplot at 0x7f7a7668b908>"
      ]
     },
     "execution_count": 18,
     "metadata": {},
     "output_type": "execute_result"
    },
    {
     "data": {
      "image/png": "[encoded data removed]",
      "text/plain": [
       "<Figure size 432x288 with 1 Axes>"
      ]
     },
     "metadata": {
      "needs_background": "light"
     },
     "output_type": "display_data"
    }
   ],
   "source": [
    "import time\n",
    "import timeit\n",
    "from utils import dataset_helper\n",
    "from utils import custom_scores\n",
    "reload(custom_scores)\n",
    "reload(dataset_helper)\n",
    "reload(loss_functions)\n",
    "reload(activation_functions)\n",
    "reload(network)\n",
    "reload(dataset_helper)\n",
    "\n",
    "X,  X_val, Y, Y_val = vals\n",
    "Y = dataset_helper.one_hot_encode(Y, nclasses)\n",
    "Y_val = dataset_helper.one_hot_encode(Y_val, nclasses)\n",
    "\n",
    "network.DEBUG = False\n",
    "\n",
    "h1 = network.Layer(nfeatures, 64, 'tanh',  label=\"H1\")\n",
    "o = network.Layer(64, nclasses, 'sigmoid', label=\"Output\")\n",
    "\n",
    "model = network.NN(loss='smd')\n",
    "model.add_layer(h1)\n",
    "model.add_layer(o)\n",
    "model.summary()\n",
    "\n",
    "\n",
    "print(\"\")\n",
    "start = time.process_time()\n",
    "model.fit(X, Y, max_iter=max_iter, \n",
    "          lr=lr, epsilon=eps, b_sz = 1,\n",
    "          decay_iteractions= decay_iteractions, decay_rate = decay_rate,\n",
    "          X_val=X_val, Y_val=Y_val,\n",
    "          print_interval=print_interval)\n",
    "iteraction_log = network.get_iteration_log()\n",
    "\n",
    "Y_ = np.array(model.predict(X))\n",
    "Y_ = Y_.argmax(axis=-1)\n",
    "mae = np.absolute(Y.argmax(axis=-1) - Y_).mean()\n",
    "\n",
    "print(\"Time Spent \", time.process_time() - start)\n",
    "\n",
    "\n",
    "Y_val_ = np.array(model.predict(X_val))\n",
    "\n",
    "\n",
    "import time\n",
    "import timeit\n",
    "from utils import dataset_helper\n",
    "from utils import custom_scores\n",
    "custom_scores.evalute_multiclass(Y_val.argmax(axis=-1), Y_val_.argmax(axis=-1))\n",
    "iteraction_log.index = iteraction_log.it\n",
    "iteraction_log.error_train.plot()\n",
    "iteraction_log.error_val.plot()"
   ]
  },
  {
   "cell_type": "code",
   "execution_count": 19,
   "metadata": {
    "scrolled": false
   },
   "outputs": [
    {
     "name": "stdout",
     "output_type": "stream",
     "text": [
      "Model Summary\n",
      "-------------------------------\n",
      "H1      (input=128, neurons=64, activation=sigmoid)\n",
      "Output  (input=64, neurons=3, activation=sigmoid)\n",
      "-------------------------------\n",
      "\n",
      "Shuffled\n",
      "It: 100 Batch: 100 Epoch 0 Train Loss: 0.31114138 lr: 0.500000 Val Loss: 3535.80165700 Val Acc 0.61633333\n",
      "It: 200 Batch: 200 Epoch 0 Train Loss: 0.20492897 lr: 0.500000 Val Loss: 2096.66983339 Val Acc 0.77558333\n",
      "Finished \n",
      " It: 201 Batch: 201 Epoch 0 Train Loss: 0.00026719 lr: 0.500000 Val Loss: 2096.66983339\n",
      "6\n",
      "Time Spent  2.148746251999995\n",
      "Validation Stats...\n",
      "Accuracy: 0.775\n",
      "Precision: 0.777\n",
      "Recall: 0.775\n",
      "F1 Score: 0.776094\n",
      "{0: 0, 1: 1, 2: 2}\n",
      "Confusion matrix, without normalization\n",
      "Normalized confusion matrix\n"
     ]
    },
    {
     "data": {
      "image/png": "[encoded data removed]",
      "text/plain": [
       "<Figure size 432x288 with 2 Axes>"
      ]
     },
     "metadata": {
      "needs_background": "light"
     },
     "output_type": "display_data"
    },
    {
     "data": {
      "image/png": "[encoded data removed]",
      "text/plain": [
       "<Figure size 432x288 with 2 Axes>"
      ]
     },
     "metadata": {
      "needs_background": "light"
     },
     "output_type": "display_data"
    },
    {
     "data": {
      "text/plain": [
       "<matplotlib.axes._subplots.AxesSubplot at 0x7f7a76599b38>"
      ]
     },
     "execution_count": 19,
     "metadata": {},
     "output_type": "execute_result"
    },
    {
     "data": {
      "image/png": "[encoded data removed]",
      "text/plain": [
       "<Figure size 432x288 with 1 Axes>"
      ]
     },
     "metadata": {
      "needs_background": "light"
     },
     "output_type": "display_data"
    }
   ],
   "source": [
    "import time\n",
    "import timeit\n",
    "from utils import dataset_helper\n",
    "from utils import custom_scores\n",
    "reload(custom_scores)\n",
    "reload(dataset_helper)\n",
    "reload(loss_functions)\n",
    "reload(activation_functions)\n",
    "reload(network)\n",
    "reload(dataset_helper)\n",
    "\n",
    "X,  X_val, Y, Y_val = vals\n",
    "Y = dataset_helper.one_hot_encode(Y, nclasses)\n",
    "Y_val = dataset_helper.one_hot_encode(Y_val, nclasses)\n",
    "\n",
    "network.DEBUG = False\n",
    "\n",
    "h1 = network.Layer(nfeatures, 64, 'sigmoid',  label=\"H1\")\n",
    "o = network.Layer(64, nclasses, 'sigmoid', label=\"Output\")\n",
    "\n",
    "model = network.NN(loss='smd')\n",
    "model.add_layer(h1)\n",
    "model.add_layer(o)\n",
    "model.summary()\n",
    "\n",
    "\n",
    "print(\"\")\n",
    "start = time.process_time()\n",
    "model.fit(X, Y, max_iter=max_iter, \n",
    "          lr=lr, epsilon=0.001, b_sz = 1,\n",
    "          decay_iteractions= decay_iteractions, decay_rate = decay_rate,\n",
    "          X_val=X_val, Y_val=Y_val,\n",
    "          print_interval=print_interval)\n",
    "iteraction_log = network.get_iteration_log()\n",
    "\n",
    "Y_ = np.array(model.predict(X))\n",
    "Y_ = Y_.argmax(axis=-1)\n",
    "mae = np.absolute(Y.argmax(axis=-1) - Y_).mean()\n",
    "\n",
    "print(\"Time Spent \", time.process_time() - start)\n",
    "\n",
    "\n",
    "Y_val_ = np.array(model.predict(X_val))\n",
    "\n",
    "\n",
    "import time\n",
    "import timeit\n",
    "from utils import dataset_helper\n",
    "from utils import custom_scores\n",
    "custom_scores.evalute_multiclass(Y_val.argmax(axis=-1), Y_val_.argmax(axis=-1))\n",
    "iteraction_log.index = iteraction_log.it\n",
    "iteraction_log.error_train.plot()\n",
    "iteraction_log.error_val.plot()"
   ]
  },
  {
   "cell_type": "code",
   "execution_count": 20,
   "metadata": {
    "scrolled": false
   },
   "outputs": [
    {
     "name": "stdout",
     "output_type": "stream",
     "text": [
      "Model Summary\n",
      "-------------------------------\n",
      "H1      (input=128, neurons=64, activation=relu)\n",
      "Output  (input=64, neurons=3, activation=sigmoid)\n",
      "-------------------------------\n",
      "\n",
      "Shuffled\n",
      "It: 100 Batch: 100 Epoch 0 Train Loss: 0.34361658 lr: 0.500000 Val Loss: 4260.29264189 Val Acc 0.60933333\n",
      "Finished \n",
      " It: 101 Batch: 101 Epoch 0 Train Loss: 0.00000002 lr: 0.500000 Val Loss: 4260.29264189\n",
      "6\n",
      "Time Spent  1.2834139090000178\n",
      "Validation Stats...\n",
      "Accuracy: 0.609\n",
      "Precision: 0.625\n",
      "Recall: 0.609\n",
      "F1 Score: 0.616935\n",
      "{0: 0, 1: 1, 2: 2}\n",
      "Confusion matrix, without normalization\n",
      "Normalized confusion matrix\n"
     ]
    },
    {
     "data": {
      "image/png": "[encoded data removed]",
      "text/plain": [
       "<Figure size 432x288 with 2 Axes>"
      ]
     },
     "metadata": {
      "needs_background": "light"
     },
     "output_type": "display_data"
    },
    {
     "data": {
      "image/png": "[encoded data removed]",
      "text/plain": [
       "<Figure size 432x288 with 2 Axes>"
      ]
     },
     "metadata": {
      "needs_background": "light"
     },
     "output_type": "display_data"
    },
    {
     "data": {
      "text/plain": [
       "<matplotlib.axes._subplots.AxesSubplot at 0x7f7a76975b70>"
      ]
     },
     "execution_count": 20,
     "metadata": {},
     "output_type": "execute_result"
    },
    {
     "data": {
      "image/png": "[encoded data removed]",
      "text/plain": [
       "<Figure size 432x288 with 1 Axes>"
      ]
     },
     "metadata": {
      "needs_background": "light"
     },
     "output_type": "display_data"
    }
   ],
   "source": [
    "import time\n",
    "import timeit\n",
    "from utils import dataset_helper\n",
    "from utils import custom_scores\n",
    "reload(custom_scores)\n",
    "reload(dataset_helper)\n",
    "reload(loss_functions)\n",
    "reload(activation_functions)\n",
    "reload(network)\n",
    "reload(dataset_helper)\n",
    "\n",
    "X,  X_val, Y, Y_val = vals\n",
    "Y = dataset_helper.one_hot_encode(Y, nclasses)\n",
    "Y_val = dataset_helper.one_hot_encode(Y_val, nclasses)\n",
    "\n",
    "network.DEBUG = False\n",
    "\n",
    "h1 = network.Layer(nfeatures, 64, 'relu',  label=\"H1\")\n",
    "o = network.Layer(64, nclasses, 'sigmoid', label=\"Output\")\n",
    "\n",
    "model = network.NN(loss='smd')\n",
    "model.add_layer(h1)\n",
    "model.add_layer(o)\n",
    "model.summary()\n",
    "\n",
    "\n",
    "print(\"\")\n",
    "start = time.process_time()\n",
    "model.fit(X, Y, max_iter=max_iter, \n",
    "          lr=lr, epsilon=eps, b_sz = 1,\n",
    "          decay_iteractions= decay_iteractions, decay_rate = decay_rate,\n",
    "          X_val=X_val, Y_val=Y_val,\n",
    "          print_interval=print_interval)\n",
    "iteraction_log = network.get_iteration_log()\n",
    "\n",
    "Y_ = np.array(model.predict(X))\n",
    "Y_ = Y_.argmax(axis=-1)\n",
    "mae = np.absolute(Y.argmax(axis=-1) - Y_).mean()\n",
    "\n",
    "print(\"Time Spent \", time.process_time() - start)\n",
    "\n",
    "\n",
    "Y_val_ = np.array(model.predict(X_val))\n",
    "\n",
    "\n",
    "import time\n",
    "import timeit\n",
    "from utils import dataset_helper\n",
    "from utils import custom_scores\n",
    "custom_scores.evalute_multiclass(Y_val.argmax(axis=-1), Y_val_.argmax(axis=-1))\n",
    "iteraction_log.index = iteraction_log.it\n",
    "iteraction_log.error_train.plot()\n",
    "iteraction_log.error_val.plot()"
   ]
  },
  {
   "cell_type": "markdown",
   "metadata": {},
   "source": [
    "## Batch Update Tests"
   ]
  },
  {
   "cell_type": "code",
   "execution_count": 21,
   "metadata": {},
   "outputs": [],
   "source": [
    "lr = 0.1\n",
    "b_sz = 128\n",
    "decay_iteractions = 1 * (epoch_sz // b_sz) \n",
    "max_iter = 5 * (epoch_sz // b_sz) \n",
    "print_interval = (epoch_sz // b_sz) "
   ]
  },
  {
   "cell_type": "code",
   "execution_count": 22,
   "metadata": {
    "scrolled": false
   },
   "outputs": [
    {
     "name": "stdout",
     "output_type": "stream",
     "text": [
      "Model Summary\n",
      "-------------------------------\n",
      "H1      (input=128, neurons=64, activation=tanh)\n",
      "Output  (input=64, neurons=3, activation=sigmoid)\n",
      "-------------------------------\n",
      "\n",
      "Shuffled\n",
      "It: 375 Batch: 375 Epoch 0 Train Loss: 2.19049768 lr: 0.100000 Val Loss: 2.28810793 Val Acc 0.86783333\n",
      "It: 750 Batch: 375 Epoch 1 Train Loss: 1.10224465 lr: 0.050000 Val Loss: 1.52059056 Val Acc 0.86383333\n",
      "It: 1125 Batch: 375 Epoch 2 Train Loss: 0.52275395 lr: 0.025000 Val Loss: 0.49544630 Val Acc 0.86916667\n",
      "It: 1500 Batch: 375 Epoch 3 Train Loss: 0.26817484 lr: 0.012500 Val Loss: 0.40759480 Val Acc 0.86316667\n",
      "It: 1875 Batch: 375 Epoch 4 Train Loss: 0.23637588 lr: 0.006250 Val Loss: 0.27369658 Val Acc 0.87783333\n",
      "Finished \n",
      " It: 1875 Batch: 375 Epoch 4 Train Loss: 0.23637588 lr: 0.006250 Val Loss: 0.27369658\n",
      "6\n",
      "Time Spent  28.852169809000003\n"
     ]
    },
    {
     "data": {
      "text/plain": [
       "<matplotlib.axes._subplots.AxesSubplot at 0x7f7a76909438>"
      ]
     },
     "execution_count": 22,
     "metadata": {},
     "output_type": "execute_result"
    },
    {
     "data": {
      "image/png": "[encoded data removed]",
      "text/plain": [
       "<Figure size 432x288 with 1 Axes>"
      ]
     },
     "metadata": {
      "needs_background": "light"
     },
     "output_type": "display_data"
    }
   ],
   "source": [
    "import time\n",
    "import timeit\n",
    "from utils import dataset_helper\n",
    "from utils import custom_scores\n",
    "reload(custom_scores)\n",
    "reload(dataset_helper)\n",
    "reload(loss_functions)\n",
    "reload(activation_functions)\n",
    "reload(network)\n",
    "reload(dataset_helper)\n",
    "\n",
    "X,  X_val, Y, Y_val = vals\n",
    "Y = dataset_helper.one_hot_encode(Y, nclasses)\n",
    "Y_val = dataset_helper.one_hot_encode(Y_val, nclasses)\n",
    "\n",
    "\n",
    "\n",
    "network.DEBUG = False\n",
    "\n",
    "h1 = network.Layer(nfeatures, 64, 'tanh',  label=\"H1\")\n",
    "o = network.Layer(64, nclasses, 'sigmoid', label=\"Output\")\n",
    "\n",
    "model = network.NN(loss='cross_entropy')\n",
    "model.add_layer(h1)\n",
    "model.add_layer(o)\n",
    "model.summary()\n",
    "\n",
    "\n",
    "print(\"\")\n",
    "start = time.process_time()\n",
    "model.fit(X, Y, max_iter=max_iter, \n",
    "          lr=lr, epsilon=eps, b_sz = b_sz,\n",
    "          decay_iteractions= decay_iteractions, decay_rate = decay_rate,\n",
    "          X_val=X_val, Y_val=Y_val,\n",
    "          print_interval=print_interval)\n",
    "iteraction_log = network.get_iteration_log()\n",
    "\n",
    "Y_ = np.array(model.predict(X))\n",
    "Y_ = Y_.argmax(axis=-1)\n",
    "mae = np.absolute(Y.argmax(axis=-1) - Y_).mean()\n",
    "\n",
    "print(\"Time Spent \", time.process_time() - start)\n",
    "\n",
    "\n",
    "Y_val_ = np.array(model.predict(X_val))\n",
    "\n",
    "\n",
    "import time\n",
    "import timeit\n",
    "from utils import dataset_helper\n",
    "from utils import custom_scores\n",
    "\n",
    "iteraction_log.index = iteraction_log.it\n",
    "iteraction_log.error_train.plot()\n",
    "iteraction_log.error_val.plot()"
   ]
  },
  {
   "cell_type": "code",
   "execution_count": 23,
   "metadata": {
    "scrolled": false
   },
   "outputs": [
    {
     "name": "stdout",
     "output_type": "stream",
     "text": [
      "Model Summary\n",
      "-------------------------------\n",
      "H1      (input=128, neurons=64, activation=relu)\n",
      "Output  (input=64, neurons=64, activation=sigmoid)\n",
      "Output  (input=64, neurons=3, activation=sigmoid)\n",
      "-------------------------------\n",
      "\n",
      "Shuffled\n"
     ]
    },
    {
     "name": "stderr",
     "output_type": "stream",
     "text": [
      "../NN/activation_functions.py:28: RuntimeWarning: overflow encountered in exp\n",
      "  sig = 1. / (1. + np.exp(-h))\n"
     ]
    },
    {
     "name": "stdout",
     "output_type": "stream",
     "text": [
      "It: 375 Batch: 375 Epoch 0 Train Loss: 0.98749138 lr: 0.100000 Val Loss: 0.89897003 Val Acc 0.33991667\n",
      "It: 750 Batch: 375 Epoch 1 Train Loss: 0.56418652 lr: 0.050000 Val Loss: 0.56358674 Val Acc 0.52383333\n",
      "It: 1125 Batch: 375 Epoch 2 Train Loss: 0.53472276 lr: 0.025000 Val Loss: 0.54284129 Val Acc 0.53925000\n",
      "It: 1500 Batch: 375 Epoch 3 Train Loss: 0.51518583 lr: 0.012500 Val Loss: 0.53072011 Val Acc 0.55308333\n",
      "It: 1875 Batch: 375 Epoch 4 Train Loss: 0.50532452 lr: 0.006250 Val Loss: 0.52893456 Val Acc 0.53633333\n",
      "Finished \n",
      " It: 1875 Batch: 375 Epoch 4 Train Loss: 0.50532452 lr: 0.006250 Val Loss: 0.52893456\n",
      "6\n",
      "Time Spent  37.257793185\n"
     ]
    },
    {
     "data": {
      "text/plain": [
       "<matplotlib.axes._subplots.AxesSubplot at 0x7f7a7693ff60>"
      ]
     },
     "execution_count": 23,
     "metadata": {},
     "output_type": "execute_result"
    },
    {
     "data": {
      "image/png": "[encoded data removed]",
      "text/plain": [
       "<Figure size 432x288 with 1 Axes>"
      ]
     },
     "metadata": {
      "needs_background": "light"
     },
     "output_type": "display_data"
    }
   ],
   "source": [
    "import time\n",
    "import timeit\n",
    "from utils import dataset_helper\n",
    "from utils import custom_scores\n",
    "reload(custom_scores)\n",
    "reload(dataset_helper)\n",
    "reload(loss_functions)\n",
    "reload(activation_functions)\n",
    "reload(network)\n",
    "reload(dataset_helper)\n",
    "\n",
    "X,  X_val, Y, Y_val = vals\n",
    "Y = dataset_helper.one_hot_encode(Y, nclasses)\n",
    "Y_val = dataset_helper.one_hot_encode(Y_val, nclasses)\n",
    "\n",
    "\n",
    "\n",
    "network.DEBUG = False\n",
    "\n",
    "h1 = network.Layer(nfeatures, 64, 'relu',  label=\"H1\")\n",
    "o = network.Layer(64, 64, 'sigmoid', label=\"Output\")\n",
    "o1 = network.Layer(64, nclasses, 'sigmoid', label=\"Output\")\n",
    "\n",
    "\n",
    "model = network.NN(loss='cross_entropy')\n",
    "model.add_layer(h1)\n",
    "model.add_layer(o)\n",
    "model.add_layer(o1)\n",
    "model.summary()\n",
    "\n",
    "\n",
    "print(\"\")\n",
    "start = time.process_time()\n",
    "model.fit(X, Y, max_iter=max_iter, \n",
    "          lr=lr, epsilon=eps, b_sz = b_sz,\n",
    "          decay_iteractions= decay_iteractions, decay_rate = decay_rate,\n",
    "          X_val=X_val, Y_val=Y_val,\n",
    "          print_interval=print_interval)\n",
    "iteraction_log = network.get_iteration_log()\n",
    "\n",
    "Y_ = np.array(model.predict(X))\n",
    "Y_ = Y_.argmax(axis=-1)\n",
    "mae = np.absolute(Y.argmax(axis=-1) - Y_).mean()\n",
    "\n",
    "print(\"Time Spent \", time.process_time() - start)\n",
    "\n",
    "\n",
    "Y_val_ = np.array(model.predict(X_val))\n",
    "\n",
    "\n",
    "import time\n",
    "import timeit\n",
    "from utils import dataset_helper\n",
    "from utils import custom_scores\n",
    "\n",
    "iteraction_log.index = iteraction_log.it\n",
    "iteraction_log.error_train.plot()\n",
    "iteraction_log.error_val.plot()"
   ]
  },
  {
   "cell_type": "code",
   "execution_count": null,
   "metadata": {},
   "outputs": [],
   "source": []
  },
  {
   "cell_type": "code",
   "execution_count": 24,
   "metadata": {
    "scrolled": false
   },
   "outputs": [
    {
     "name": "stdout",
     "output_type": "stream",
     "text": [
      "Model Summary\n",
      "-------------------------------\n",
      "H1      (input=128, neurons=128, activation=sigmoid)\n",
      "H2      (input=128, neurons=128, activation=sigmoid)\n",
      "soft    (input=128, neurons=3, activation=sigmoid)\n",
      "-------------------------------\n",
      "\n",
      "Shuffled\n",
      "It: 375 Batch: 375 Epoch 0 Train Loss: 0.63021936 lr: 0.000100 Val Loss: 0.59200061 Val Acc 0.70591667\n",
      "It: 750 Batch: 750 Epoch 0 Train Loss: 0.58852493 lr: 0.000100 Val Loss: 0.53234935 Val Acc 0.76675000\n",
      "It: 1125 Batch: 375 Epoch 1 Train Loss: 0.53792440 lr: 0.000100 Val Loss: 0.44662087 Val Acc 0.82616667\n",
      "It: 1500 Batch: 750 Epoch 1 Train Loss: 0.47341182 lr: 0.000100 Val Loss: 0.35993850 Val Acc 0.83983333\n",
      "It: 1875 Batch: 375 Epoch 2 Train Loss: 0.40949312 lr: 0.000100 Val Loss: 0.29621814 Val Acc 0.85033333\n",
      "It: 2250 Batch: 750 Epoch 2 Train Loss: 0.35780415 lr: 0.000100 Val Loss: 0.25820926 Val Acc 0.86075000\n",
      "It: 2625 Batch: 375 Epoch 3 Train Loss: 0.32419172 lr: 0.000100 Val Loss: 0.23807973 Val Acc 0.86700000\n",
      "It: 3000 Batch: 750 Epoch 3 Train Loss: 0.29996420 lr: 0.000100 Val Loss: 0.23174999 Val Acc 0.86858333\n",
      "It: 3375 Batch: 375 Epoch 4 Train Loss: 0.28450220 lr: 0.000100 Val Loss: 0.22381110 Val Acc 0.87358333\n",
      "It: 3750 Batch: 750 Epoch 4 Train Loss: 0.27552838 lr: 0.000100 Val Loss: 0.22330890 Val Acc 0.87516667\n",
      "It: 4125 Batch: 375 Epoch 5 Train Loss: 0.26717327 lr: 0.000100 Val Loss: 0.22480177 Val Acc 0.87508333\n",
      "It: 4500 Batch: 750 Epoch 5 Train Loss: 0.26111446 lr: 0.000100 Val Loss: 0.22219690 Val Acc 0.87825000\n",
      "It: 4875 Batch: 375 Epoch 6 Train Loss: 0.25940173 lr: 0.000100 Val Loss: 0.22809669 Val Acc 0.87633333\n",
      "It: 5250 Batch: 750 Epoch 6 Train Loss: 0.24969726 lr: 0.000100 Val Loss: 0.22614749 Val Acc 0.87791667\n",
      "It: 5625 Batch: 375 Epoch 7 Train Loss: 0.24962038 lr: 0.000100 Val Loss: 0.22377207 Val Acc 0.88033333\n",
      "It: 6000 Batch: 750 Epoch 7 Train Loss: 0.24520524 lr: 0.000100 Val Loss: 0.22420471 Val Acc 0.88208333\n",
      "It: 6375 Batch: 375 Epoch 8 Train Loss: 0.24181276 lr: 0.000100 Val Loss: 0.22275112 Val Acc 0.88308333\n",
      "It: 6750 Batch: 750 Epoch 8 Train Loss: 0.24173685 lr: 0.000100 Val Loss: 0.22171834 Val Acc 0.88408333\n",
      "It: 7125 Batch: 375 Epoch 9 Train Loss: 0.24005543 lr: 0.000100 Val Loss: 0.22017164 Val Acc 0.88558333\n",
      "It: 7500 Batch: 750 Epoch 9 Train Loss: 0.23324908 lr: 0.000100 Val Loss: 0.22075622 Val Acc 0.88675000\n",
      "It: 7875 Batch: 375 Epoch 10 Train Loss: 0.23389145 lr: 0.000100 Val Loss: 0.21945791 Val Acc 0.88766667\n",
      "It: 8250 Batch: 750 Epoch 10 Train Loss: 0.22972263 lr: 0.000100 Val Loss: 0.21920692 Val Acc 0.88825000\n",
      "It: 8625 Batch: 375 Epoch 11 Train Loss: 0.22707456 lr: 0.000100 Val Loss: 0.22008064 Val Acc 0.88958333\n",
      "It: 9000 Batch: 750 Epoch 11 Train Loss: 0.22780274 lr: 0.000100 Val Loss: 0.21763690 Val Acc 0.88950000\n",
      "It: 9375 Batch: 375 Epoch 12 Train Loss: 0.22686949 lr: 0.000100 Val Loss: 0.21826720 Val Acc 0.89008333\n",
      "It: 9750 Batch: 750 Epoch 12 Train Loss: 0.21899376 lr: 0.000100 Val Loss: 0.21528466 Val Acc 0.89083333\n",
      "It: 10125 Batch: 375 Epoch 13 Train Loss: 0.21934955 lr: 0.000100 Val Loss: 0.21659643 Val Acc 0.89083333\n",
      "It: 10500 Batch: 750 Epoch 13 Train Loss: 0.21828364 lr: 0.000100 Val Loss: 0.21568600 Val Acc 0.89150000\n",
      "It: 10875 Batch: 375 Epoch 14 Train Loss: 0.21317345 lr: 0.000100 Val Loss: 0.21533435 Val Acc 0.89200000\n",
      "It: 11250 Batch: 750 Epoch 14 Train Loss: 0.21600449 lr: 0.000100 Val Loss: 0.21500742 Val Acc 0.89233333\n",
      "It: 11625 Batch: 375 Epoch 15 Train Loss: 0.20812635 lr: 0.000100 Val Loss: 0.21736218 Val Acc 0.89275000\n",
      "It: 12000 Batch: 750 Epoch 15 Train Loss: 0.21325197 lr: 0.000100 Val Loss: 0.21293345 Val Acc 0.89233333\n",
      "It: 12375 Batch: 375 Epoch 16 Train Loss: 0.20783358 lr: 0.000100 Val Loss: 0.21100468 Val Acc 0.89266667\n",
      "It: 12750 Batch: 750 Epoch 16 Train Loss: 0.20619063 lr: 0.000100 Val Loss: 0.21220518 Val Acc 0.89400000\n",
      "It: 13125 Batch: 375 Epoch 17 Train Loss: 0.20392917 lr: 0.000100 Val Loss: 0.21216979 Val Acc 0.89366667\n",
      "It: 13500 Batch: 750 Epoch 17 Train Loss: 0.20256403 lr: 0.000100 Val Loss: 0.21131221 Val Acc 0.89400000\n",
      "It: 13875 Batch: 375 Epoch 18 Train Loss: 0.20145805 lr: 0.000100 Val Loss: 0.21096464 Val Acc 0.89383333\n",
      "It: 14250 Batch: 750 Epoch 18 Train Loss: 0.19870562 lr: 0.000100 Val Loss: 0.21099077 Val Acc 0.89483333\n",
      "It: 14625 Batch: 375 Epoch 19 Train Loss: 0.19861410 lr: 0.000100 Val Loss: 0.21007707 Val Acc 0.89483333\n",
      "It: 15000 Batch: 750 Epoch 19 Train Loss: 0.19527516 lr: 0.000100 Val Loss: 0.21046258 Val Acc 0.89550000\n",
      "It: 15375 Batch: 375 Epoch 20 Train Loss: 0.19530950 lr: 0.000100 Val Loss: 0.20752358 Val Acc 0.89458333\n",
      "It: 15750 Batch: 750 Epoch 20 Train Loss: 0.19256263 lr: 0.000100 Val Loss: 0.20839924 Val Acc 0.89525000\n",
      "It: 16125 Batch: 375 Epoch 21 Train Loss: 0.19209657 lr: 0.000100 Val Loss: 0.20732193 Val Acc 0.89550000\n",
      "It: 16500 Batch: 750 Epoch 21 Train Loss: 0.19037352 lr: 0.000100 Val Loss: 0.20647206 Val Acc 0.89550000\n",
      "It: 16875 Batch: 375 Epoch 22 Train Loss: 0.18801414 lr: 0.000100 Val Loss: 0.20653112 Val Acc 0.89600000\n",
      "It: 17250 Batch: 750 Epoch 22 Train Loss: 0.18952100 lr: 0.000100 Val Loss: 0.20523461 Val Acc 0.89608333\n",
      "It: 17625 Batch: 375 Epoch 23 Train Loss: 0.18805223 lr: 0.000100 Val Loss: 0.20490458 Val Acc 0.89641667\n",
      "It: 18000 Batch: 750 Epoch 23 Train Loss: 0.18532616 lr: 0.000100 Val Loss: 0.20631047 Val Acc 0.89683333\n",
      "It: 18375 Batch: 375 Epoch 24 Train Loss: 0.18456097 lr: 0.000100 Val Loss: 0.20556068 Val Acc 0.89716667\n",
      "It: 18750 Batch: 750 Epoch 24 Train Loss: 0.18489743 lr: 0.000100 Val Loss: 0.20553198 Val Acc 0.89733333\n",
      "Finished \n",
      " It: 18750 Batch: 750 Epoch 24 Train Loss: 0.18489743 lr: 0.000100 Val Loss: 0.20553198\n",
      "6\n",
      "Time Spent  353.59972838299996\n"
     ]
    },
    {
     "data": {
      "text/plain": [
       "<matplotlib.axes._subplots.AxesSubplot at 0x7f7a768928d0>"
      ]
     },
     "execution_count": 24,
     "metadata": {},
     "output_type": "execute_result"
    },
    {
     "data": {
      "image/png": "[encoded data removed]",
      "text/plain": [
       "<Figure size 432x288 with 1 Axes>"
      ]
     },
     "metadata": {
      "needs_background": "light"
     },
     "output_type": "display_data"
    }
   ],
   "source": [
    "import time\n",
    "import timeit\n",
    "from utils import dataset_helper\n",
    "from utils import custom_scores\n",
    "reload(custom_scores)\n",
    "reload(dataset_helper)\n",
    "reload(loss_functions)\n",
    "reload(activation_functions)\n",
    "reload(network)\n",
    "reload(dataset_helper)\n",
    "\n",
    "X,  X_val, Y, Y_val = vals\n",
    "Y = dataset_helper.one_hot_encode(Y, nclasses)\n",
    "Y_val = dataset_helper.one_hot_encode(Y_val, nclasses)\n",
    "\n",
    "\n",
    "\n",
    "network.DEBUG = False\n",
    "\n",
    "h1 = network.Layer(nfeatures, 128, 'sigmoid',  label=\"H1\")\n",
    "h2 = network.Layer(128, 128, 'sigmoid',  label=\"H2\")\n",
    "o1 = network.Layer(128, nclasses, 'sigmoid', label=\"soft\")\n",
    "\n",
    "model = network.NN(loss='cross_entropy')\n",
    "model.add_layer(h1)\n",
    "model.add_layer(h2)\n",
    "# model.add_layer(o)\n",
    "model.add_layer(o1)\n",
    "model.summary()\n",
    "\n",
    "print(\"\")\n",
    "start = time.process_time()\n",
    "model.fit(X, Y, max_iter=10*max_iter, \n",
    "          lr=0.0001, epsilon=eps, b_sz = 64,\n",
    "#           decay_iteractions= decay_iteractions, decay_rate = decay_rate,\n",
    "          X_val=X_val, Y_val=Y_val,\n",
    "          print_interval=print_interval)\n",
    "iteraction_log = network.get_iteration_log()\n",
    "\n",
    "Y_ = np.array(model.predict(X))\n",
    "Y_ = Y_.argmax(axis=-1)\n",
    "mae = np.absolute(Y.argmax(axis=-1) - Y_).mean()\n",
    "\n",
    "print(\"Time Spent \", time.process_time() - start)\n",
    "\n",
    "\n",
    "Y_val_ = np.array(model.predict(X_val))\n",
    "\n",
    "\n",
    "import time\n",
    "import timeit\n",
    "from utils import dataset_helper\n",
    "from utils import custom_scores\n",
    "\n",
    "iteraction_log.index = iteraction_log.it\n",
    "iteraction_log.error_train.plot()\n",
    "iteraction_log.error_val.plot()"
   ]
  },
  {
   "cell_type": "code",
   "execution_count": null,
   "metadata": {},
   "outputs": [],
   "source": []
  }
 ],
 "metadata": {
  "kernelspec": {
   "display_name": "Python 3",
   "language": "python",
   "name": "python3"
  },
  "language_info": {
   "codemirror_mode": {
    "name": "ipython",
    "version": 3
   },
   "file_extension": ".py",
   "mimetype": "text/x-python",
   "name": "python",
   "nbconvert_exporter": "python",
   "pygments_lexer": "ipython3",
   "version": "3.5.2"
  }
 },
 "nbformat": 4,
 "nbformat_minor": 2
}
