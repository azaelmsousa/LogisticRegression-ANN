{
 "cells": [
  {
   "cell_type": "code",
   "execution_count": 1,
   "metadata": {},
   "outputs": [],
   "source": [
    "import sys \n",
    "sys.path.append('../')\n",
    "import numpy as np\n",
    "import pandas as pd\n",
    "import matplotlib.pyplot as plt\n",
    "from NN import network, activation_functions\n",
    "from NN import ANN\n",
    "X = np.array([[1,2],[3,4]])\n"
   ]
  },
  {
   "cell_type": "markdown",
   "metadata": {},
   "source": [
    "## First Code running"
   ]
  },
  {
   "cell_type": "code",
   "execution_count": 2,
   "metadata": {},
   "outputs": [
    {
     "name": "stdout",
     "output_type": "stream",
     "text": [
      "Hidden Layer  1\n",
      "[[0.3500147  0.0554116  0.38638285]\n",
      " [0.90794037 0.66596725 0.83736171]\n",
      " [0.66451179 0.83011759 0.27157532]] \n",
      "\n",
      "Output Layer \n",
      "[[0.89614953 0.90259349]\n",
      " [0.37332279 0.71257345]\n",
      " [0.29855223 0.56296959]\n",
      " [0.2117938  0.11064486]] \n",
      "\n",
      " Input size:  2\n",
      " Number of hidden layers:  1\n",
      " Number of perceptrons at each layer: \n",
      " HL 1: 3\n",
      " Number of classes: 2 \n",
      "\n",
      "Y\n",
      " [[1.69753277 2.17514933]\n",
      " [1.77336771 2.28186117]]\n",
      "\n",
      "a(Y)\n",
      " [[0.84521223 0.89799561]\n",
      " [0.85487598 0.90736361]]\n"
     ]
    }
   ],
   "source": [
    "# Random Init\n",
    "teste = ANN.ANN(\"sigmoid\")\n",
    "teste.initialize_random_weights(2, [3], 2)\n",
    "teste.show_weights()\n",
    "teste.show_setup()\n",
    "Y, aY = teste.foward_propagation(X)\n",
    "print(\"Y\\n\",Y)\n",
    "print(\"\\na(Y)\\n\",aY)"
   ]
  },
  {
   "cell_type": "markdown",
   "metadata": {},
   "source": [
    "## Comparing with the new Implementation by using the same weights"
   ]
  },
  {
   "cell_type": "code",
   "execution_count": 3,
   "metadata": {},
   "outputs": [
    {
     "name": "stdout",
     "output_type": "stream",
     "text": [
      "Model Weights\n",
      "-------------------------------\n",
      "H1       (input=2, neurons=3, activation=sigmoid)\n",
      "[[0.3500147  0.0554116  0.38638285]\n",
      " [0.90794037 0.66596725 0.83736171]\n",
      " [0.66451179 0.83011759 0.27157532]]\n",
      "out      (input=3, neurons=2, activation=sigmoid)\n",
      "[[0.89614953 0.90259349]\n",
      " [0.37332279 0.71257345]\n",
      " [0.29855223 0.56296959]\n",
      " [0.2117938  0.11064486]]\n",
      "-------------------------------\n",
      "Forwardign H1 weights (2, 2) (3, 3)\n",
      "[[2.58697864 2.38161402 1.76689519]\n",
      " [5.73188296 5.3737837  3.98476925]]\n",
      "Forwardign out weights (2, 3) (4, 2)\n",
      "[[1.69753277 2.17514933]\n",
      " [1.77336771 2.28186117]]\n",
      "Y\n",
      " [[1.69753277 2.17514933]\n",
      " [1.77336771 2.28186117]]\n",
      "\n",
      "a(Y)\n",
      " [[0.84521223 0.89799561]\n",
      " [0.85487598 0.90736361]]\n"
     ]
    }
   ],
   "source": [
    "from importlib import reload\n",
    "reload(network)\n",
    "model = network.NN()\n",
    "model.add_layer(network.Layer(2, 3, 'sigmoid', weights=teste.hidden_layers[0], label=\"H1\"))\n",
    "model.add_layer(network.Layer(3, 2, 'sigmoid', weights=teste.output_layer, label=\"out\"))\n",
    "model.show_weights()\n",
    "\n",
    "Y, aY = model.feed_forward(X)\n",
    "\n",
    "print(\"Y\\n\",Y)\n",
    "print(\"\\na(Y)\\n\",aY)\n",
    "\n"
   ]
  },
  {
   "cell_type": "markdown",
   "metadata": {},
   "source": [
    "## Random initialization"
   ]
  },
  {
   "cell_type": "code",
   "execution_count": 4,
   "metadata": {
    "scrolled": true
   },
   "outputs": [
    {
     "name": "stdout",
     "output_type": "stream",
     "text": [
      "Model Weights\n",
      "-------------------------------\n",
      "H1       (input=2, neurons=3, activation=sigmoid)\n",
      "[[0.82409151 0.90042209 0.9638929 ]\n",
      " [0.49421042 0.43769098 0.1896353 ]\n",
      " [0.91830912 0.04228651 0.80245443]]\n",
      "out      (input=3, neurons=2, activation=sigmoid)\n",
      "[[0.0361892  0.09466107]\n",
      " [0.62954744 0.29266604]\n",
      " [0.71849885 0.88928436]\n",
      " [0.81579539 0.83143014]]\n",
      "-------------------------------\n",
      "Forwardign H1 weights (2, 2) (3, 3)\n",
      "[[3.15492017 1.42268609 2.75843707]\n",
      " [5.97995925 2.38264108 4.74261654]]\n",
      "Forwardign out weights (2, 3) (4, 2)\n",
      "[[1.98609079 1.87377373]\n",
      " [2.13067645 2.02496951]]\n",
      "Y\n",
      " [[1.98609079 1.87377373]\n",
      " [2.13067645 2.02496951]]\n",
      "\n",
      "a(Y)\n",
      " [[0.87932895 0.86689433]\n",
      " [0.89384921 0.88339389]]\n"
     ]
    }
   ],
   "source": [
    "from importlib import reload\n",
    "reload(network)\n",
    "model = network.NN()\n",
    "model.add_layer(network.Layer(2, 3, 'sigmoid',  label=\"H1\"))\n",
    "model.add_layer(network.Layer(3, 2, 'sigmoid',  label=\"out\"))\n",
    "model.show_weights()\n",
    "\n",
    "Y, aY = model.feed_forward(X)\n",
    "\n",
    "print(\"Y\\n\",Y)\n",
    "print(\"\\na(Y)\\n\",aY)\n"
   ]
  },
  {
   "cell_type": "markdown",
   "metadata": {},
   "source": [
    "## Softmax Sample and Test"
   ]
  },
  {
   "cell_type": "code",
   "execution_count": 14,
   "metadata": {},
   "outputs": [
    {
     "name": "stdout",
     "output_type": "stream",
     "text": [
      "Forwardign output weights (2, 4) (5, 4)\n"
     ]
    },
    {
     "data": {
      "text/plain": [
       "(array([[ 5.1,  3.2, -1.7, -2. ],\n",
       "        [ 5.1,  3.2, -1.7, -2. ]]),\n",
       " array([[8.68426824e-01, 1.29889401e-01, 9.67232214e-04, 7.16543248e-04],\n",
       "        [8.68426824e-01, 1.29889401e-01, 9.67232214e-04, 7.16543248e-04]]))"
      ]
     },
     "execution_count": 14,
     "metadata": {},
     "output_type": "execute_result"
    }
   ],
   "source": [
    "reload(activation_functions)\n",
    "reload(network)\n",
    "layer = network.Layer(4, 4, 'softmax', label=\"output\")\n",
    "val = np.array([[5.1, 3.2, -1.7, -2.0], [5.1, 3.2, -1.7, -2.0]])\n",
    "\n",
    "layer.feed_forward(val)"
   ]
  },
  {
   "cell_type": "code",
   "execution_count": 16,
   "metadata": {},
   "outputs": [
    {
     "name": "stdout",
     "output_type": "stream",
     "text": [
      "Model Summary\n",
      "-------------------------------\n",
      "H1       (input=2, neurons=3, activation=sigmoid)\n",
      "output   (input=3, neurons=2, activation=sigmoid)\n",
      "softmax          (input=2, neurons=2, activation=softmax)\n",
      "-------------------------------\n",
      "Forwardign H1 weights (2, 2) (3, 3)\n",
      "Forwardign output weights (2, 3) (4, 2)\n",
      "Forwardign softmax weights (2, 2) (3, 2)\n",
      "Y\n",
      " [[0.83025355 0.72864174]\n",
      " [0.84056773 0.73730059]]\n",
      "\n",
      "a(Y)\n",
      " [[0.52538112 0.47461888]\n",
      " [0.52579387 0.47420613]]\n"
     ]
    }
   ],
   "source": [
    "from importlib import reload\n",
    "reload(network)\n",
    "model = network.NN()\n",
    "model.add_layer(network.Layer(2, 3, 'sigmoid',  label=\"H1\"))\n",
    "model.add_layer(network.Layer(3, 2, 'sigmoid',  label=\"output\"))\n",
    "model.add_layer(network.Layer(2, 2, 'softmax',  label=\"softmax\"))\n",
    "model.summary()\n",
    "\n",
    "Y, aY = model.feed_forward(X)\n",
    "\n",
    "print(\"Y\\n\",Y)\n",
    "print(\"\\na(Y)\\n\",aY)"
   ]
  },
  {
   "cell_type": "code",
   "execution_count": null,
   "metadata": {},
   "outputs": [],
   "source": []
  }
 ],
 "metadata": {
  "kernelspec": {
   "display_name": "Python 3",
   "language": "python",
   "name": "python3"
  },
  "language_info": {
   "codemirror_mode": {
    "name": "ipython",
    "version": 3
   },
   "file_extension": ".py",
   "mimetype": "text/x-python",
   "name": "python",
   "nbconvert_exporter": "python",
   "pygments_lexer": "ipython3",
   "version": "3.5.2"
  }
 },
 "nbformat": 4,
 "nbformat_minor": 2
}
