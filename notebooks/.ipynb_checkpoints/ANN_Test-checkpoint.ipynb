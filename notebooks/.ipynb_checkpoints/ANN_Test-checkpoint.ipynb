{
 "cells": [
  {
   "cell_type": "code",
   "execution_count": 1,
   "metadata": {},
   "outputs": [
    {
     "name": "stderr",
     "output_type": "stream",
     "text": [
      "/root/.local/lib/python3.5/site-packages/sklearn/ensemble/weight_boosting.py:29: DeprecationWarning: numpy.core.umath_tests is an internal NumPy module and should not be imported. It will be removed in a future NumPy release.\n",
      "  from numpy.core.umath_tests import inner1d\n"
     ]
    }
   ],
   "source": [
    "import sys \n",
    "sys.path.append('../')\n",
    "import numpy as np\n",
    "import pandas as pd\n",
    "import matplotlib.pyplot as plt\n",
    "from NN import network, activation_functions, loss_functions\n",
    "from NN import ANN\n"
   ]
  },
  {
   "cell_type": "markdown",
   "metadata": {},
   "source": [
    "# Introduction \n",
    "This notebook was made as a base for the Neural Network implementation and tests. \n",
    "The target values for the net and output for each layers follows bellow: \n",
    "```\n",
    "Input Layer:\n",
    "[0.05, 0.10]\n",
    "\n",
    "Hidden Layer:\n",
    "Weigths [0.15, 0.2] [0.25, 0.3]\n",
    "Net [0.3775 0.3925]\n",
    "Out [0.59326999 0.59688438] (softmax)\n",
    "Grad [[0.14978072 0.24950229] [0.19978072 0.29950229]]\n",
    "\n",
    "Output Layer:\n",
    "[[0.4, 0.45], [0.50, 0.55]]\n",
    "Net [1.10590597 1.2249214 ]\n",
    "Out [0.75136507 0.77292847]] (softmax)\n",
    "Grad \n",
    "\n",
    "\n",
    "\n",
    "MSD = 0.2983711\n",
    "```\n"
   ]
  },
  {
   "cell_type": "code",
   "execution_count": 2,
   "metadata": {},
   "outputs": [],
   "source": [
    "# Target Values \n",
    "# Hidden Layer:\n",
    "_NetH = np.array([[0.3775, 0.3925]])\n",
    "_OutH = np.array([[0.59326999, 0.59688438]])\n",
    "\n",
    "# Output Layer:\n",
    "_NetO = np.array([[1.10590597, 1.2249214 ]])\n",
    "_OutO = np.array([[0.75136507, 0.77292847]])\n",
    "\n",
    "_MSD = 0.2983711\n",
    "_error_accepted = 0.00000001"
   ]
  },
  {
   "cell_type": "code",
   "execution_count": 3,
   "metadata": {},
   "outputs": [],
   "source": [
    "def compare_arrays(A, B, eps=_error_accepted): \n",
    "    return (A - B).sum() < eps"
   ]
  },
  {
   "cell_type": "markdown",
   "metadata": {},
   "source": [
    "## Layer by Layer Validation\n",
    "To identify if there is no code broken"
   ]
  },
  {
   "cell_type": "code",
   "execution_count": 4,
   "metadata": {},
   "outputs": [
    {
     "name": "stdout",
     "output_type": "stream",
     "text": [
      "[[0.3775 0.3925]]\n",
      "[[0.59326999 0.59688438]]\n"
     ]
    }
   ],
   "source": [
    "from importlib import reload\n",
    "reload(network)\n",
    "I = np.array([[0.05, 0.10]])\n",
    "W = np.array([[0.15, 0.2], [0.25, 0.3]]).T\n",
    "h1 = network.Layer(2, 2, 'sigmoid', weights=W, bias=0.35, label=\"H1\")\n",
    "netH, outH =  h1.feed_forward(I)\n",
    "print(netH)\n",
    "print(outH)\n",
    "assert(compare_arrays(netH, _NetH))\n",
    "assert(compare_arrays(outH, _OutH))"
   ]
  },
  {
   "cell_type": "code",
   "execution_count": 5,
   "metadata": {
    "scrolled": false
   },
   "outputs": [
    {
     "name": "stdout",
     "output_type": "stream",
     "text": [
      "[[1.10590597 1.2249214 ]]\n",
      "[[0.75136507 0.77292847]]\n"
     ]
    }
   ],
   "source": [
    "from importlib import reload\n",
    "reload(network)\n",
    "I = np.array([[0.59326999, 0.59688438]])\n",
    "W = np.array([[0.4, 0.45], [0.50, 0.55]]).T\n",
    "o1 = network.Layer(2, 2, 'sigmoid', weights=W, bias=0.6, label=\"H1\")\n",
    "netO, outO =  o1.feed_forward(I)\n",
    "print(netO)\n",
    "print(outO)\n",
    "assert(compare_arrays(netO, _NetO))\n",
    "assert(compare_arrays(outO, _OutO))"
   ]
  },
  {
   "cell_type": "markdown",
   "metadata": {},
   "source": [
    "# Convergence Checkings\n",
    "Based on the sample given by the class teacher"
   ]
  },
  {
   "cell_type": "markdown",
   "metadata": {},
   "source": [
    "## Manual Calculations"
   ]
  },
  {
   "cell_type": "code",
   "execution_count": 6,
   "metadata": {},
   "outputs": [
    {
     "name": "stdout",
     "output_type": "stream",
     "text": [
      "Model Weights\n",
      "-------------------------------\n",
      "H1      (input=2, neurons=2, activation=sigmoid)\n",
      "[[0.15 0.25]\n",
      " [0.2  0.3 ]]\n",
      "H1      (input=2, neurons=2, activation=sigmoid)\n",
      "[[0.4  0.5 ]\n",
      " [0.45 0.55]]\n",
      "-------------------------------\n",
      "Y\n",
      " [1.10590597, 1.2249214]\n",
      "\n",
      "a(Y)\n",
      " [0.75136507, 0.77292847]\n"
     ]
    }
   ],
   "source": [
    "from importlib import reload\n",
    "reload(network)\n",
    "model = network.NN(loss='smd')\n",
    "X = np.array([[0.05, 0.10]])\n",
    "\n",
    "Wh = np.array([[0.15, 0.2], [0.25, 0.3]]).T\n",
    "h = network.Layer(2, 2, 'sigmoid', weights=Wh, bias=0.35, label=\"H1\")\n",
    "\n",
    "Wo = np.array([[0.4, 0.45], [0.50, 0.55]]).T\n",
    "o = network.Layer(2, 2, 'sigmoid', weights=Wo, bias=0.6, label=\"H1\")\n",
    "model.add_layer(h)\n",
    "model.add_layer(o)\n",
    "model.show_weights()\n",
    "\n",
    "Y, aY = model.feed_forward(X)\n",
    "Y_, aY_ = ([1.10590597, 1.2249214 ], [0.75136507, 0.77292847])\n",
    "print(\"Y\\n\",Y_)\n",
    "print(\"\\na(Y)\\n\",aY_)\n",
    "\n",
    "assert(compare_arrays(Y, Y_))\n",
    "assert(compare_arrays(aY, aY_))\n"
   ]
  },
  {
   "cell_type": "markdown",
   "metadata": {},
   "source": [
    "### Working on the back propagation"
   ]
  },
  {
   "cell_type": "code",
   "execution_count": 7,
   "metadata": {},
   "outputs": [
    {
     "name": "stdout",
     "output_type": "stream",
     "text": [
      "Model Weights\n",
      "-------------------------------\n",
      "H1      (input=2, neurons=2, activation=sigmoid)\n",
      "[[0.15 0.25]\n",
      " [0.2  0.3 ]]\n",
      "H1      (input=2, neurons=2, activation=sigmoid)\n",
      "[[0.4  0.5 ]\n",
      " [0.45 0.55]]\n",
      "-------------------------------\n",
      "0.2983711087600027\n"
     ]
    }
   ],
   "source": [
    "from importlib import reload\n",
    "reload(network)\n",
    "model.show_weights()\n",
    "Y = np.array([0.01, 0.99])\n",
    "Etotal = loss_functions.smd(aY, Y)\n",
    "print(Etotal)\n",
    "assert((Etotal - _MSD) < np.finfo(np.float32).eps)"
   ]
  },
  {
   "cell_type": "markdown",
   "metadata": {},
   "source": [
    "### Emulating the weights update for the layer O "
   ]
  },
  {
   "cell_type": "code",
   "execution_count": 8,
   "metadata": {},
   "outputs": [
    {
     "name": "stdout",
     "output_type": "stream",
     "text": [
      "[[ 0.74136507 -0.21707153]]\n",
      "dout [[0.1868156  0.17551005]]\n",
      "dnet [[0.59326999 0.59688438]]\n",
      "delta [[ 0.13849856 -0.03809824]]\n",
      "dw [[ 0.08216704 -0.02274024]]\n",
      "update [[0.35891648 0.51137012]\n",
      " [0.40891648 0.56137012]]\n"
     ]
    }
   ],
   "source": [
    "reload(loss_functions)\n",
    "reload(activation_functions)\n",
    "lr = 0.5\n",
    "#Done - Partial\n",
    "dEo_dw = loss_functions.smd_derivative_chain(outO, Y)\n",
    "print(dEo_dw)\n",
    "\n",
    "# Done\n",
    "dOuto_Dneto = activation_functions.sigmoid_derivative_chain(outO)\n",
    "print('dout',dOuto_Dneto)\n",
    "\n",
    "# Done - Self.input\n",
    "dNeto  = outH\n",
    "print('dnet',dNeto) \n",
    "# Done\n",
    "deltaO  = dEo_dw * dOuto_Dneto\n",
    "print('delta', deltaO)\n",
    "\n",
    "dWO = deltaO * outH\n",
    "print('dw', dWO)\n",
    "# Done\n",
    "updateO = Wo - lr * dWO\n",
    "print('update', updateO)"
   ]
  },
  {
   "cell_type": "code",
   "execution_count": 9,
   "metadata": {},
   "outputs": [
    {
     "name": "stdout",
     "output_type": "stream",
     "text": [
      "[[ 0.05539942 -0.01904912]\n",
      " [ 0.06232435 -0.02095403]]\n",
      "dETotal_dOh [0.03635031 0.04137032]\n",
      "dOuth_Dneth [[0.24130071 0.24061342]]\n",
      "deltaH [[0.00877135 0.00995425]]\n",
      "dWh [[0.00043857 0.00099543]]\n",
      "update [[0.14978072 0.24950229]\n",
      " [0.19978072 0.29950229]]\n"
     ]
    }
   ],
   "source": [
    "#\n",
    "# Done - Partial\n",
    "dEo_dOh = deltaO * Wo\n",
    "dETotal_dOh = dEo_dOh.sum(axis=1)\n",
    "print (dEo_dOh)\n",
    "print('dETotal_dOh', dETotal_dOh)\n",
    "\n",
    "# Done\n",
    "dOuth_Dneth = activation_functions.sigmoid_derivative_chain(outH)\n",
    "print('dOuth_Dneth', dOuth_Dneth)\n",
    "\n",
    "\n",
    "# Done\n",
    "deltaH = dETotal_dOh * dOuth_Dneth \n",
    "print('deltaH', deltaH)\n",
    "\n",
    "# done\n",
    "# self.input\n",
    "dNeth_dw = X\n",
    "dWh = deltaH * dNeth_dw\n",
    "print('dWh', dWh)\n",
    "\n",
    "# Done\n",
    "updateH = Wh - lr * dWh\n",
    "print('update', updateH)"
   ]
  },
  {
   "cell_type": "markdown",
   "metadata": {},
   "source": [
    "## Using the implemented Grad calculation for Layers"
   ]
  },
  {
   "cell_type": "code",
   "execution_count": 10,
   "metadata": {
    "scrolled": false
   },
   "outputs": [
    {
     "name": "stdout",
     "output_type": "stream",
     "text": [
      "('net', array([[0.3775, 0.3925],\n",
      "       [0.3775, 0.3925]]))\n",
      "('out', array([[0.59326999, 0.59688438],\n",
      "       [0.59326999, 0.59688438]]))\n",
      "('net', array([[1.10590597, 1.2249214 ],\n",
      "       [1.10590597, 1.2249214 ]]))\n",
      "('out', array([[0.75136507, 0.77292847],\n",
      "       [0.75136507, 0.77292847]]))\n",
      "0 error 0.5967422175200054\n",
      "[[ 0.74136507 -0.21707153]\n",
      " [ 0.74136507 -0.21707153]]\n",
      "\n",
      "==========================================\n",
      "Back Propagate Layer O\n",
      "==========================================\n",
      "('dETotal_dOut', array([[ 0.74136507, -0.21707153],\n",
      "       [ 0.74136507, -0.21707153]]))\n",
      "==========================================\n",
      "\n",
      "==========================================\n",
      "Back Propagate Layer H\n",
      "==========================================\n",
      "('dETotal_dOut', None)\n",
      "==========================================\n",
      "[[0.75136507 0.77292847]\n",
      " [0.75136507 0.77292847]]\n"
     ]
    }
   ],
   "source": [
    "reload(loss_functions)\n",
    "reload(activation_functions)\n",
    "reload(network)\n",
    "network.DEBUG = True\n",
    "\n",
    "X = np.array([[0.05, 0.10], [0.05, 0.10]], np.float64)\n",
    "Wh = np.array([[0.15, 0.2], [0.25, 0.3]], np.float64).T\n",
    "h = network.Layer(2, 2, 'sigmoid', weights=Wh, bias=0.35, label=\"H1\")\n",
    "\n",
    "Wo = np.array([[0.4, 0.45], [0.50, 0.55]],  np.float64).T\n",
    "o = network.Layer(2, 2, 'sigmoid', bias=0.6, weights=Wo, label=\"O\")\n",
    "Y = np.array([[0.01, 0.99], [0.01, 0.99]], np.float64)\n",
    "\n",
    "for i in range(1):\n",
    "    netH, outH = h.feed_forward(X)\n",
    "    netO, outO = o.feed_forward(outH)\n",
    "\n",
    "    \n",
    "    Etotal = loss_functions.smd(outO, Y)\n",
    "    if (i % 1000) == 0:\n",
    "        print(i, 'error', Etotal)\n",
    "    \n",
    "    dEo_dw = loss_functions.smd_derivative_chain(outO, Y)\n",
    "    \n",
    "    network.dprint(dEo_dw)\n",
    "    network.dprint (\"\")\n",
    "    network.dprint (\"==========================================\")\n",
    "    network.dprint (\"Back Propagate Layer O\")\n",
    "    network.dprint (\"==========================================\")\n",
    "    o.backpropagate(dETotal_dOut=dEo_dw)\n",
    "    network.dprint (\"==========================================\")\n",
    "    network.dprint (\"\")\n",
    "\n",
    "    network.dprint (\"==========================================\")\n",
    "    network.dprint (\"Back Propagate Layer H\")\n",
    "    network.dprint (\"==========================================\")\n",
    "    h.backpropagate(output_layer=o)\n",
    "    network.dprint (\"==========================================\")\n",
    "\n",
    "print (outO)"
   ]
  },
  {
   "cell_type": "markdown",
   "metadata": {},
   "source": [
    "# Using the Fit Methods with the full network calculation"
   ]
  },
  {
   "cell_type": "markdown",
   "metadata": {},
   "source": [
    "## SMD as the Loss Function"
   ]
  },
  {
   "cell_type": "code",
   "execution_count": 11,
   "metadata": {
    "scrolled": false
   },
   "outputs": [
    {
     "name": "stdout",
     "output_type": "stream",
     "text": [
      "Model Weights\n",
      "-------------------------------\n",
      "H1      (input=2, neurons=3, activation=sigmoid)\n",
      "[[0.99830529 0.55224519 0.46897677]\n",
      " [0.49161144 0.79245215 0.88469774]]\n",
      "Output  (input=3, neurons=2, activation=sigmoid)\n",
      "[[0.57274179 0.86317775]\n",
      " [0.13835892 0.77712633]\n",
      " [0.13452913 0.87072656]]\n",
      "-------------------------------\n",
      "Shuffled\n",
      "It: 2000 Batch: 1 Epoch 1999 Error: 0.00368980 lr: 0.500000 \n",
      "It: 4000 Batch: 1 Epoch 3999 Error: 0.00013931 lr: 0.500000 \n",
      "It: 6000 Batch: 1 Epoch 5999 Error: 0.00005852 lr: 0.500000 \n",
      "It: 8000 Batch: 1 Epoch 7999 Error: 0.00003140 lr: 0.500000 \n",
      "It: 10000 Batch: 1 Epoch 9999 Error: 0.00001890 lr: 0.500000 \n",
      "Finished \n",
      " It: 11933 Batch: 1 Epoch 11932 Train Loss: 0.00001000 lr: 0.500000 \n",
      "[[0.0131743  0.98685093]] 0.003161682879062248\n"
     ]
    }
   ],
   "source": [
    "from utils import dataset_helper\n",
    "reload(loss_functions)\n",
    "reload(activation_functions)\n",
    "reload(network)\n",
    "reload(dataset_helper)\n",
    "network.DEBUG = False\n",
    "eps = 0.00001\n",
    "\n",
    "X = np.array([[0.05, 0.10]], np.float64)\n",
    "Y = np.array([[0.01, 0.99]], np.float64)\n",
    "\n",
    "# Wh = np.array([[0.15, 0.2], [0.25, 0.3]], np.float64).T\n",
    "h = network.Layer(2, 3, 'sigmoid', bias=0.35, label=\"H1\")\n",
    "\n",
    "# Wo = np.array([[0.4, 0.45], [0.50, 0.55]], np.float64).T\n",
    "o = network.Layer(3, 2, 'sigmoid', bias=0.6, label=\"Output\")\n",
    "\n",
    "model = network.NN(loss='smd')\n",
    "model.add_layer(h)\n",
    "model.add_layer(o)\n",
    "model.show_weights()\n",
    "\n",
    "model.fit(X, Y, max_iter=50000, \n",
    "          lr=0.5, epsilon=eps, b_sz=2, \n",
    "          print_interval=2000)\n",
    "\n",
    "_, Y_ = model.feed_forward(X)\n",
    "\n",
    "mae = np.absolute(Y - Y_).mean()\n",
    "print(Y_, mae)\n",
    "assert(mae < 0.01)"
   ]
  },
  {
   "cell_type": "markdown",
   "metadata": {},
   "source": [
    "## Cross Entropy "
   ]
  },
  {
   "cell_type": "code",
   "execution_count": 12,
   "metadata": {
    "scrolled": false
   },
   "outputs": [
    {
     "name": "stdout",
     "output_type": "stream",
     "text": [
      "Model Weights\n",
      "-------------------------------\n",
      "H1      (input=2, neurons=2, activation=sigmoid)\n",
      "[[0.15 0.25]\n",
      " [0.2  0.3 ]]\n",
      "Output  (input=2, neurons=2, activation=sigmoid)\n",
      "[[0.4  0.5 ]\n",
      " [0.45 0.55]]\n",
      "-------------------------------\n",
      "Shuffled\n",
      "It: 2000 Batch: 1 Epoch 1999 Error: 0.76574643 lr: 0.100000 \n",
      "It: 4000 Batch: 1 Epoch 3999 Error: 0.66248688 lr: 0.100000 \n",
      "It: 6000 Batch: 1 Epoch 5999 Error: 0.65524647 lr: 0.100000 \n",
      "It: 8000 Batch: 1 Epoch 7999 Error: 0.65246400 lr: 0.100000 \n",
      "It: 10000 Batch: 1 Epoch 9999 Error: 0.65099797 lr: 0.100000 \n",
      "Finished \n",
      " It: 10000 Batch: 1 Epoch 9999 Train Loss: 0.65099797 lr: 0.100000 \n",
      "[[0.0038555  0.99623122]] 0.006187855935083348\n"
     ]
    }
   ],
   "source": [
    "from utils import dataset_helper\n",
    "reload(loss_functions)\n",
    "reload(activation_functions)\n",
    "reload(network)\n",
    "reload(dataset_helper)\n",
    "network.DEBUG = False\n",
    "eps = 0.0001\n",
    "X = np.array([[0.05, 0.10]], np.float64)\n",
    "Y = np.array([[0.01, 0.99]], np.float64)\n",
    "\n",
    "Wh = np.array([[0.15, 0.2], [0.25, 0.3]], np.float64).T\n",
    "h = network.Layer(2, 2, 'sigmoid', weights=Wh, bias=0.35, label=\"H1\")\n",
    "\n",
    "Wo = np.array([[0.4, 0.45], [0.50, 0.55]], np.float64).T\n",
    "o = network.Layer(2, 2, 'sigmoid', weights=Wo, bias=0.6, label=\"Output\")\n",
    "\n",
    "model = network.NN(loss='cross_entropy')\n",
    "model.add_layer(h)\n",
    "model.add_layer(o)\n",
    "model.show_weights()\n",
    "\n",
    "model.fit(X, Y, max_iter=10000,\n",
    "          lr=0.1, epsilon=eps, \n",
    "          print_interval=2000)\n",
    "\n",
    "_, Y_ = model.feed_forward(X)\n",
    "\n",
    "mae = np.absolute(Y - Y_).mean()\n",
    "print(Y_, mae)\n",
    "assert(mae < 0.01)"
   ]
  },
  {
   "cell_type": "code",
   "execution_count": 13,
   "metadata": {
    "scrolled": false
   },
   "outputs": [
    {
     "name": "stdout",
     "output_type": "stream",
     "text": [
      "Model Weights\n",
      "-------------------------------\n",
      "H1      (input=2, neurons=10, activation=sigmoid)\n",
      "[[0.86454771 0.6410022  0.8139879  0.71639488 0.18445337 0.71671571\n",
      "  0.23111899 0.00429616 0.83407799 0.15252708]\n",
      " [0.15151421 0.19697499 0.77254026 0.89378693 0.13338678 0.05972608\n",
      "  0.39424178 0.58321078 0.64166679 0.49058432]]\n",
      "Output  (input=10, neurons=2, activation=sigmoid)\n",
      "[[0.19163494 0.21101021]\n",
      " [0.6389392  0.27555786]\n",
      " [0.25679876 0.98717993]\n",
      " [0.94322269 0.4030904 ]\n",
      " [0.72588946 0.89777664]\n",
      " [0.38150122 0.35258165]\n",
      " [0.55719272 0.92896996]\n",
      " [0.5475204  0.21315333]\n",
      " [0.72067407 0.77247096]\n",
      " [0.57076277 0.12957576]]\n",
      "-------------------------------\n",
      "Shuffled\n",
      "It: 2000 Batch: 2 Epoch 666 Error: 1.28753865 lr: 0.900000 \n",
      "It: 4000 Batch: 1 Epoch 1333 Error: 1.28059922 lr: 0.900000 \n",
      "It: 6000 Batch: 3 Epoch 1999 Error: 1.26256505 lr: 0.900000 \n",
      "It: 8000 Batch: 2 Epoch 2666 Error: 0.97571545 lr: 0.900000 \n",
      "It: 10000 Batch: 1 Epoch 3333 Error: 0.68391762 lr: 0.900000 \n",
      "It: 12000 Batch: 3 Epoch 3999 Error: 0.64813340 lr: 0.900000 \n",
      "It: 14000 Batch: 2 Epoch 4666 Error: 0.63894081 lr: 0.900000 \n",
      "It: 16000 Batch: 1 Epoch 5333 Error: 0.63497711 lr: 0.900000 \n",
      "It: 18000 Batch: 3 Epoch 5999 Error: 0.63282571 lr: 0.900000 \n",
      "It: 20000 Batch: 2 Epoch 6666 Error: 0.63149964 lr: 0.900000 \n",
      "It: 22000 Batch: 1 Epoch 7333 Error: 0.63060528 lr: 0.900000 \n",
      "It: 24000 Batch: 3 Epoch 7999 Error: 0.62996647 lr: 0.900000 \n",
      "It: 26000 Batch: 2 Epoch 8666 Error: 0.62948963 lr: 0.900000 \n",
      "It: 28000 Batch: 1 Epoch 9333 Error: 0.62912047 lr: 0.900000 \n",
      "It: 30000 Batch: 3 Epoch 9999 Error: 0.62882943 lr: 0.900000 \n",
      "It: 32000 Batch: 2 Epoch 10666 Error: 0.62859257 lr: 0.900000 \n",
      "It: 34000 Batch: 1 Epoch 11333 Error: 0.62839631 lr: 0.900000 \n",
      "It: 36000 Batch: 3 Epoch 11999 Error: 0.62823247 lr: 0.900000 \n",
      "It: 38000 Batch: 2 Epoch 12666 Error: 0.62809390 lr: 0.900000 \n",
      "It: 40000 Batch: 1 Epoch 13333 Error: 0.62797426 lr: 0.900000 \n",
      "It: 42000 Batch: 3 Epoch 13999 Error: 0.62786998 lr: 0.900000 \n",
      "It: 44000 Batch: 2 Epoch 14666 Error: 0.62777972 lr: 0.900000 \n",
      "It: 46000 Batch: 1 Epoch 15333 Error: 0.62769966 lr: 0.900000 \n",
      "It: 48000 Batch: 3 Epoch 15999 Error: 0.62762858 lr: 0.900000 \n",
      "It: 50000 Batch: 2 Epoch 16666 Error: 0.62756470 lr: 0.900000 \n",
      "Finished \n",
      " It: 50000 Batch: 2 Epoch 16666 Train Loss: 0.62756470 lr: 0.900000 \n",
      "0.0\n",
      "[1 1 0] [1 1 0]\n"
     ]
    }
   ],
   "source": [
    "from utils import dataset_helper\n",
    "reload(loss_functions)\n",
    "reload(activation_functions)\n",
    "reload(network)\n",
    "reload(dataset_helper)\n",
    "network.DEBUG = False\n",
    "\n",
    "eps = np.finfo(np.float32).eps\n",
    "\n",
    "X = np.array([[0.05, 0.10], [0.05, 0.10], [0.10, 0.05]], np.float64)\n",
    "Y = np.array([[0.0, 1], [0.0, 1], [1., 0.]], np.float64)\n",
    "\n",
    "h1 = network.Layer(2, 10, 'sigmoid',  label=\"H1\")\n",
    "o = network.Layer(10, 2, 'sigmoid',  label=\"Output\")\n",
    "\n",
    "model = network.NN(loss='cross_entropy')\n",
    "model.add_layer(h1)\n",
    "model.add_layer(o)\n",
    "model.show_weights()\n",
    "\n",
    "model.fit(X, Y, max_iter=50000, \n",
    "          lr=0.9, epsilon=eps,\n",
    "          print_interval=2000)\n",
    "\n",
    "Y_ = np.array(model.predict(X))\n",
    "Y_ = Y_.argmax(axis=-1).flatten()\n",
    "Y = Y.argmax(axis=-1)\n",
    "mae = np.absolute(Y - Y_).mean()\n",
    "print(mae)\n",
    "print(Y, Y_)\n",
    "assert(mae < 0.1)"
   ]
  },
  {
   "cell_type": "markdown",
   "metadata": {},
   "source": [
    "# Multi class Classification Test"
   ]
  },
  {
   "cell_type": "code",
   "execution_count": 14,
   "metadata": {},
   "outputs": [],
   "source": [
    "nclasses = 3\n",
    "nsamples = 60000\n",
    "nfeatures = 128\n",
    "\n",
    "eps = np.finfo(np.float128).eps\n",
    "\n",
    "\n",
    "vals = dataset_helper.get_toy_data_multiclass(nclasses, nsamples, nfeatures)\n",
    "X,  _, _, _ = vals\n",
    "\n",
    "epoch_sz = X.shape[0]\n",
    "lr = 0.5\n",
    "max_iter = 5 * epoch_sz\n",
    "print_interval = 20*1000\n",
    "decay_iteractions= 1 * epoch_sz\n",
    "decay_rate = 0.5"
   ]
  },
  {
   "cell_type": "markdown",
   "metadata": {},
   "source": [
    "## Using Cross Entropy as the Loss Function"
   ]
  },
  {
   "cell_type": "code",
   "execution_count": 15,
   "metadata": {
    "scrolled": false
   },
   "outputs": [
    {
     "name": "stdout",
     "output_type": "stream",
     "text": [
      "Model Summary\n",
      "-------------------------------\n",
      "H1      (input=128, neurons=64, activation=tanh)\n",
      "Output  (input=64, neurons=3, activation=sigmoid)\n",
      "-------------------------------\n",
      "\n",
      "Shuffled\n",
      "It: 20000 Batch: 20000 Epoch 0 Train Loss: 1.21478270 lr: 0.500000 Val Loss: 1.18835455 Val Acc 0.89541667\n",
      "It: 40000 Batch: 40000 Epoch 0 Train Loss: 1.17343186 lr: 0.500000 Val Loss: 1.17630344 Val Acc 0.90200000\n",
      "It: 60000 Batch: 12000 Epoch 1 Train Loss: 1.17842745 lr: 0.250000 Val Loss: 1.18244693 Val Acc 0.89408333\n",
      "It: 80000 Batch: 32000 Epoch 1 Train Loss: 1.17163095 lr: 0.250000 Val Loss: 1.17584433 Val Acc 0.90358333\n",
      "It: 100000 Batch: 4000 Epoch 2 Train Loss: 1.17169233 lr: 0.125000 Val Loss: 1.17699445 Val Acc 0.90291667\n",
      "It: 120000 Batch: 24000 Epoch 2 Train Loss: 1.17327803 lr: 0.125000 Val Loss: 1.17692918 Val Acc 0.90300000\n",
      "It: 140000 Batch: 44000 Epoch 2 Train Loss: 1.17159299 lr: 0.125000 Val Loss: 1.17564702 Val Acc 0.90458333\n",
      "It: 160000 Batch: 16000 Epoch 3 Train Loss: 1.16839277 lr: 0.062500 Val Loss: 1.17407578 Val Acc 0.90575000\n",
      "It: 180000 Batch: 36000 Epoch 3 Train Loss: 1.16879212 lr: 0.062500 Val Loss: 1.17389971 Val Acc 0.90716667\n",
      "It: 200000 Batch: 8000 Epoch 4 Train Loss: 1.16379660 lr: 0.031250 Val Loss: 1.17261204 Val Acc 0.90825000\n",
      "It: 220000 Batch: 28000 Epoch 4 Train Loss: 1.17029380 lr: 0.031250 Val Loss: 1.17030238 Val Acc 0.90908333\n",
      "It: 240000 Batch: 48000 Epoch 4 Train Loss: 1.16248030 lr: 0.031250 Val Loss: 1.17256361 Val Acc 0.90800000\n",
      "Finished \n",
      " It: 240000 Batch: 48000 Epoch 4 Train Loss: 1.16248030 lr: 0.031250 Val Loss: 1.17256361\n",
      "6\n",
      "Time Spent  63.529511025000005\n",
      "Validation Stats...\n",
      "Accuracy: 0.908\n",
      "Precision: 0.912\n",
      "Recall: 0.909\n",
      "F1 Score: 0.910631\n",
      "{0: 0, 1: 1, 2: 2}\n",
      "Confusion matrix, without normalization\n",
      "Normalized confusion matrix\n"
     ]
    },
    {
     "data": {
      "image/png": "[encoded data removed]",
      "text/plain": [
       "<Figure size 432x288 with 2 Axes>"
      ]
     },
     "metadata": {
      "needs_background": "light"
     },
     "output_type": "display_data"
    },
    {
     "data": {
      "image/png": "[encoded data removed]",
      "text/plain": [
       "<Figure size 432x288 with 2 Axes>"
      ]
     },
     "metadata": {
      "needs_background": "light"
     },
     "output_type": "display_data"
    },
    {
     "data": {
      "text/plain": [
       "<matplotlib.axes._subplots.AxesSubplot at 0x7f2a35cd80b8>"
      ]
     },
     "execution_count": 15,
     "metadata": {},
     "output_type": "execute_result"
    },
    {
     "data": {
      "image/png": "[encoded data removed]",
      "text/plain": [
       "<Figure size 432x288 with 1 Axes>"
      ]
     },
     "metadata": {
      "needs_background": "light"
     },
     "output_type": "display_data"
    }
   ],
   "source": [
    "import time\n",
    "import timeit\n",
    "from utils import dataset_helper\n",
    "from utils import custom_scores\n",
    "reload(custom_scores)\n",
    "reload(dataset_helper)\n",
    "reload(loss_functions)\n",
    "reload(activation_functions)\n",
    "reload(network)\n",
    "reload(dataset_helper)\n",
    "\n",
    "X,  X_val, Y, Y_val = vals\n",
    "Y = dataset_helper.one_hot_encode(Y, nclasses)\n",
    "Y_val = dataset_helper.one_hot_encode(Y_val, nclasses)\n",
    "\n",
    "network.DEBUG = False\n",
    "\n",
    "h1 = network.Layer(nfeatures, 64, 'tanh',  label=\"H1\")\n",
    "o = network.Layer(64, nclasses, 'sigmoid', label=\"Output\")\n",
    "\n",
    "model = network.NN(loss='cross_entropy')\n",
    "model.add_layer(h1)\n",
    "model.add_layer(o)\n",
    "model.summary()\n",
    "\n",
    "\n",
    "print(\"\")\n",
    "start = time.process_time()\n",
    "model.fit(X, Y, max_iter=max_iter, \n",
    "          lr=lr, epsilon=eps, b_sz = 1,\n",
    "          decay_iteractions= decay_iteractions, decay_rate = decay_rate,\n",
    "          X_val=X_val, Y_val=Y_val,\n",
    "          print_interval=print_interval)\n",
    "iteraction_log = network.get_iteration_log()\n",
    "\n",
    "Y_ = np.array(model.predict(X))\n",
    "Y_ = Y_.argmax(axis=-1).flatten()\n",
    "mae = np.absolute(Y.argmax(axis=-1) - Y_).mean()\n",
    "\n",
    "print(\"Time Spent \", time.process_time() - start)\n",
    "\n",
    "\n",
    "Y_val_ = np.array(model.predict(X_val))\n",
    "\n",
    "\n",
    "import time\n",
    "import timeit\n",
    "from utils import dataset_helper\n",
    "from utils import custom_scores\n",
    "custom_scores.evalute_multiclass(Y_val.argmax(axis=-1), Y_val_.argmax(axis=-1))\n",
    "iteraction_log.index = iteraction_log.it\n",
    "iteraction_log.error_train.plot()\n",
    "iteraction_log.error_val.plot()"
   ]
  },
  {
   "cell_type": "code",
   "execution_count": 16,
   "metadata": {
    "scrolled": false
   },
   "outputs": [
    {
     "name": "stdout",
     "output_type": "stream",
     "text": [
      "Model Summary\n",
      "-------------------------------\n",
      "H1      (input=128, neurons=64, activation=sigmoid)\n",
      "Output  (input=64, neurons=3, activation=sigmoid)\n",
      "-------------------------------\n",
      "\n",
      "Shuffled\n",
      "It: 20000 Batch: 20000 Epoch 0 Train Loss: 1.32095717 lr: 0.500000 Val Loss: 1.17593228 Val Acc 0.90575000\n"
     ]
    },
    {
     "ename": "KeyboardInterrupt",
     "evalue": "",
     "output_type": "error",
     "traceback": [
      "\u001b[0;31m---------------------------------------------------------------------------\u001b[0m",
      "\u001b[0;31mKeyboardInterrupt\u001b[0m                         Traceback (most recent call last)",
      "\u001b[0;32m<ipython-input-16-93cd71b51832>\u001b[0m in \u001b[0;36m<module>\u001b[0;34m()\u001b[0m\n\u001b[1;32m     33\u001b[0m           \u001b[0mdecay_iteractions\u001b[0m\u001b[0;34m=\u001b[0m \u001b[0mdecay_iteractions\u001b[0m\u001b[0;34m,\u001b[0m \u001b[0mdecay_rate\u001b[0m \u001b[0;34m=\u001b[0m \u001b[0mdecay_rate\u001b[0m\u001b[0;34m,\u001b[0m\u001b[0;34m\u001b[0m\u001b[0m\n\u001b[1;32m     34\u001b[0m           \u001b[0mX_val\u001b[0m\u001b[0;34m=\u001b[0m\u001b[0mX_val\u001b[0m\u001b[0;34m,\u001b[0m \u001b[0mY_val\u001b[0m\u001b[0;34m=\u001b[0m\u001b[0mY_val\u001b[0m\u001b[0;34m,\u001b[0m\u001b[0;34m\u001b[0m\u001b[0m\n\u001b[0;32m---> 35\u001b[0;31m           print_interval=print_interval)\n\u001b[0m\u001b[1;32m     36\u001b[0m \u001b[0miteraction_log\u001b[0m \u001b[0;34m=\u001b[0m \u001b[0mnetwork\u001b[0m\u001b[0;34m.\u001b[0m\u001b[0mget_iteration_log\u001b[0m\u001b[0;34m(\u001b[0m\u001b[0;34m)\u001b[0m\u001b[0;34m\u001b[0m\u001b[0m\n\u001b[1;32m     37\u001b[0m \u001b[0;34m\u001b[0m\u001b[0m\n",
      "\u001b[0;32m/notebooks/local/LogisticRegression-ANN/NN/network.py\u001b[0m in \u001b[0;36mfit\u001b[0;34m(self, X, Y, lr, max_iter, lr_optimizer, epsilon, power_t, t, print_interval, b_sz, decay_iteractions, decay_rate, X_val, Y_val)\u001b[0m\n\u001b[1;32m    228\u001b[0m             \u001b[0m_\u001b[0m\u001b[0;34m,\u001b[0m \u001b[0maY\u001b[0m \u001b[0;34m=\u001b[0m \u001b[0mself\u001b[0m\u001b[0;34m.\u001b[0m\u001b[0mfeed_forward\u001b[0m\u001b[0;34m(\u001b[0m\u001b[0mX_\u001b[0m\u001b[0;34m)\u001b[0m\u001b[0;34m\u001b[0m\u001b[0m\n\u001b[1;32m    229\u001b[0m \u001b[0;34m\u001b[0m\u001b[0m\n\u001b[0;32m--> 230\u001b[0;31m             \u001b[0m_error\u001b[0m \u001b[0;34m=\u001b[0m \u001b[0mself\u001b[0m\u001b[0;34m.\u001b[0m\u001b[0mloss\u001b[0m\u001b[0;34m(\u001b[0m\u001b[0maY\u001b[0m\u001b[0;34m,\u001b[0m \u001b[0mY_\u001b[0m\u001b[0;34m)\u001b[0m \u001b[0;34m/\u001b[0m \u001b[0mY_\u001b[0m\u001b[0;34m.\u001b[0m\u001b[0mshape\u001b[0m\u001b[0;34m[\u001b[0m\u001b[0;36m0\u001b[0m\u001b[0;34m]\u001b[0m\u001b[0;34m\u001b[0m\u001b[0m\n\u001b[0m\u001b[1;32m    231\u001b[0m \u001b[0;34m\u001b[0m\u001b[0m\n\u001b[1;32m    232\u001b[0m             \u001b[0merror\u001b[0m \u001b[0;34m+=\u001b[0m \u001b[0m_error\u001b[0m\u001b[0;34m\u001b[0m\u001b[0m\n",
      "\u001b[0;32m/notebooks/local/LogisticRegression-ANN/NN/loss_functions.py\u001b[0m in \u001b[0;36mcross_entropy\u001b[0;34m(A, Y)\u001b[0m\n\u001b[1;32m     21\u001b[0m \u001b[0;31m#\u001b[0m\u001b[0;34m\u001b[0m\u001b[0;34m\u001b[0m\u001b[0m\n\u001b[1;32m     22\u001b[0m \u001b[0;32mdef\u001b[0m \u001b[0mcross_entropy\u001b[0m\u001b[0;34m(\u001b[0m\u001b[0mA\u001b[0m\u001b[0;34m,\u001b[0m \u001b[0mY\u001b[0m\u001b[0;34m)\u001b[0m\u001b[0;34m:\u001b[0m\u001b[0;34m\u001b[0m\u001b[0m\n\u001b[0;32m---> 23\u001b[0;31m     \u001b[0mO\u001b[0m \u001b[0;34m=\u001b[0m \u001b[0msoftmax\u001b[0m\u001b[0;34m(\u001b[0m\u001b[0mA\u001b[0m\u001b[0;34m)\u001b[0m\u001b[0;34m\u001b[0m\u001b[0m\n\u001b[0m\u001b[1;32m     24\u001b[0m     \u001b[0meps\u001b[0m \u001b[0;34m=\u001b[0m \u001b[0mnp\u001b[0m\u001b[0;34m.\u001b[0m\u001b[0mfinfo\u001b[0m\u001b[0;34m(\u001b[0m\u001b[0mnp\u001b[0m\u001b[0;34m.\u001b[0m\u001b[0mfloat64\u001b[0m\u001b[0;34m)\u001b[0m\u001b[0;34m.\u001b[0m\u001b[0meps\u001b[0m\u001b[0;34m\u001b[0m\u001b[0m\n\u001b[1;32m     25\u001b[0m     \u001b[0mO\u001b[0m\u001b[0;34m[\u001b[0m\u001b[0mO\u001b[0m \u001b[0;34m<\u001b[0m \u001b[0meps\u001b[0m\u001b[0;34m]\u001b[0m  \u001b[0;34m=\u001b[0m \u001b[0meps\u001b[0m\u001b[0;34m\u001b[0m\u001b[0m\n",
      "\u001b[0;32m/notebooks/local/LogisticRegression-ANN/NN/loss_functions.py\u001b[0m in \u001b[0;36msoftmax\u001b[0;34m(y)\u001b[0m\n\u001b[1;32m     12\u001b[0m \u001b[0;32mdef\u001b[0m \u001b[0msoftmax\u001b[0m\u001b[0;34m(\u001b[0m\u001b[0my\u001b[0m\u001b[0;34m)\u001b[0m\u001b[0;34m:\u001b[0m\u001b[0;34m\u001b[0m\u001b[0m\n\u001b[1;32m     13\u001b[0m     \u001b[0mexp_y\u001b[0m \u001b[0;34m=\u001b[0m \u001b[0mnp\u001b[0m\u001b[0;34m.\u001b[0m\u001b[0mexp\u001b[0m\u001b[0;34m(\u001b[0m\u001b[0my\u001b[0m\u001b[0;34m)\u001b[0m\u001b[0;34m\u001b[0m\u001b[0m\n\u001b[0;32m---> 14\u001b[0;31m     \u001b[0;32mreturn\u001b[0m \u001b[0mnormalize\u001b[0m\u001b[0;34m(\u001b[0m\u001b[0mexp_y\u001b[0m\u001b[0;34m,\u001b[0m \u001b[0mnorm\u001b[0m\u001b[0;34m=\u001b[0m\u001b[0;34m'l1'\u001b[0m\u001b[0;34m,\u001b[0m \u001b[0maxis\u001b[0m\u001b[0;34m=\u001b[0m\u001b[0;36m1\u001b[0m\u001b[0;34m)\u001b[0m\u001b[0;34m\u001b[0m\u001b[0m\n\u001b[0m\u001b[1;32m     15\u001b[0m \u001b[0;34m\u001b[0m\u001b[0m\n\u001b[1;32m     16\u001b[0m \u001b[0;31m#\u001b[0m\u001b[0;34m\u001b[0m\u001b[0;34m\u001b[0m\u001b[0m\n",
      "\u001b[0;32m~/.local/lib/python3.5/site-packages/sklearn/preprocessing/data.py\u001b[0m in \u001b[0;36mnormalize\u001b[0;34m(X, norm, axis, copy, return_norm)\u001b[0m\n\u001b[1;32m   1410\u001b[0m \u001b[0;34m\u001b[0m\u001b[0m\n\u001b[1;32m   1411\u001b[0m     X = check_array(X, sparse_format, copy=copy,\n\u001b[0;32m-> 1412\u001b[0;31m                     estimator='the normalize function', dtype=FLOAT_DTYPES)\n\u001b[0m\u001b[1;32m   1413\u001b[0m     \u001b[0;32mif\u001b[0m \u001b[0maxis\u001b[0m \u001b[0;34m==\u001b[0m \u001b[0;36m0\u001b[0m\u001b[0;34m:\u001b[0m\u001b[0;34m\u001b[0m\u001b[0m\n\u001b[1;32m   1414\u001b[0m         \u001b[0mX\u001b[0m \u001b[0;34m=\u001b[0m \u001b[0mX\u001b[0m\u001b[0;34m.\u001b[0m\u001b[0mT\u001b[0m\u001b[0;34m\u001b[0m\u001b[0m\n",
      "\u001b[0;31mKeyboardInterrupt\u001b[0m: "
     ]
    }
   ],
   "source": [
    "import time\n",
    "import timeit\n",
    "from utils import dataset_helper\n",
    "from utils import custom_scores\n",
    "reload(custom_scores)\n",
    "reload(dataset_helper)\n",
    "reload(loss_functions)\n",
    "reload(activation_functions)\n",
    "reload(network)\n",
    "reload(dataset_helper)\n",
    "\n",
    "X,  X_val, Y, Y_val = vals\n",
    "Y = dataset_helper.one_hot_encode(Y, nclasses)\n",
    "Y_val = dataset_helper.one_hot_encode(Y_val, nclasses)\n",
    "\n",
    "network.DEBUG = False\n",
    "\n",
    "eps = np.finfo(np.float32).eps\n",
    "\n",
    "h1 = network.Layer(nfeatures, 64, 'sigmoid',  label=\"H1\")\n",
    "o = network.Layer(64, nclasses, 'sigmoid', label=\"Output\")\n",
    "\n",
    "model = network.NN(loss='cross_entropy')\n",
    "model.add_layer(h1)\n",
    "model.add_layer(o)\n",
    "model.summary()\n",
    "\n",
    "\n",
    "print(\"\")\n",
    "start = time.process_time()\n",
    "model.fit(X, Y, max_iter=max_iter, \n",
    "          lr=lr, epsilon=eps, b_sz = 1,\n",
    "          decay_iteractions= decay_iteractions, decay_rate = decay_rate,\n",
    "          X_val=X_val, Y_val=Y_val,\n",
    "          print_interval=print_interval)\n",
    "iteraction_log = network.get_iteration_log()\n",
    "\n",
    "Y_ = np.array(model.predict(X))\n",
    "Y_ = Y_.argmax(axis=-1).flatten()\n",
    "mae = np.absolute(Y.argmax(axis=-1) - Y_).mean()\n",
    "\n",
    "print(\"Time Spent \", time.process_time() - start)\n",
    "\n",
    "\n",
    "Y_val_ = np.array(model.predict(X_val))\n",
    "\n",
    "\n",
    "import time\n",
    "import timeit\n",
    "from utils import dataset_helper\n",
    "from utils import custom_scores\n",
    "custom_scores.evalute_multiclass(Y_val.argmax(axis=-1), Y_val_.argmax(axis=-1))\n",
    "iteraction_log.index = iteraction_log.it\n",
    "iteraction_log.error_train.plot()\n",
    "iteraction_log.error_val.plot()"
   ]
  },
  {
   "cell_type": "code",
   "execution_count": null,
   "metadata": {
    "scrolled": false
   },
   "outputs": [],
   "source": [
    "import time\n",
    "import timeit\n",
    "from utils import dataset_helper\n",
    "from utils import custom_scores\n",
    "reload(custom_scores)\n",
    "reload(dataset_helper)\n",
    "reload(loss_functions)\n",
    "reload(activation_functions)\n",
    "reload(network)\n",
    "reload(dataset_helper)\n",
    "\n",
    "X,  X_val, Y, Y_val = vals\n",
    "Y = dataset_helper.one_hot_encode(Y, nclasses)\n",
    "Y_val = dataset_helper.one_hot_encode(Y_val, nclasses)\n",
    "\n",
    "\n",
    "network.DEBUG = False\n",
    "\n",
    "h1 = network.Layer(nfeatures, 64, 'relu',  label=\"H1\")\n",
    "o = network.Layer(64, nclasses, 'sigmoid', label=\"Output\")\n",
    "\n",
    "model = network.NN(loss='cross_entropy')\n",
    "model.add_layer(h1)\n",
    "model.add_layer(o)\n",
    "model.summary()\n",
    "\n",
    "\n",
    "print(\"\")\n",
    "start = time.process_time()\n",
    "model.fit(X, Y, max_iter=max_iter, \n",
    "          lr=lr, epsilon=eps, b_sz = 1,\n",
    "          decay_iteractions= decay_iteractions, decay_rate = decay_rate,\n",
    "          X_val=X_val, Y_val=Y_val,\n",
    "          print_interval=print_interval)\n",
    "iteraction_log = network.get_iteration_log()\n",
    "\n",
    "Y_ = np.array(model.predict(X))\n",
    "Y_ = Y_.argmax(axis=-1).flatten()\n",
    "mae = np.absolute(Y.argmax(axis=-1) - Y_).mean()\n",
    "\n",
    "print(\"Time Spent \", time.process_time() - start)\n",
    "\n",
    "\n",
    "Y_val_ = np.array(model.predict(X_val))\n",
    "\n",
    "\n",
    "import time\n",
    "import timeit\n",
    "from utils import dataset_helper\n",
    "from utils import custom_scores\n",
    "custom_scores.evalute_multiclass(Y_val.argmax(axis=-1), Y_val_.argmax(axis=-1))\n",
    "iteraction_log.index = iteraction_log.it\n",
    "iteraction_log.error_train.plot()\n",
    "iteraction_log.error_val.plot()"
   ]
  },
  {
   "cell_type": "markdown",
   "metadata": {},
   "source": [
    "## Using SMD "
   ]
  },
  {
   "cell_type": "code",
   "execution_count": null,
   "metadata": {},
   "outputs": [],
   "source": [
    "print_interval=100"
   ]
  },
  {
   "cell_type": "code",
   "execution_count": null,
   "metadata": {
    "scrolled": false
   },
   "outputs": [],
   "source": [
    "import time\n",
    "import timeit\n",
    "from utils import dataset_helper\n",
    "from utils import custom_scores\n",
    "reload(custom_scores)\n",
    "reload(dataset_helper)\n",
    "reload(loss_functions)\n",
    "reload(activation_functions)\n",
    "reload(network)\n",
    "reload(dataset_helper)\n",
    "\n",
    "X,  X_val, Y, Y_val = vals\n",
    "Y = dataset_helper.one_hot_encode(Y, nclasses)\n",
    "Y_val = dataset_helper.one_hot_encode(Y_val, nclasses)\n",
    "\n",
    "network.DEBUG = False\n",
    "\n",
    "h1 = network.Layer(nfeatures, 64, 'tanh',  label=\"H1\")\n",
    "o = network.Layer(64, nclasses, 'sigmoid', label=\"Output\")\n",
    "\n",
    "model = network.NN(loss='smd')\n",
    "model.add_layer(h1)\n",
    "model.add_layer(o)\n",
    "model.summary()\n",
    "\n",
    "\n",
    "print(\"\")\n",
    "start = time.process_time()\n",
    "model.fit(X, Y, max_iter=max_iter, \n",
    "          lr=lr, epsilon=eps, b_sz = 1,\n",
    "          decay_iteractions= decay_iteractions, decay_rate = decay_rate,\n",
    "          X_val=X_val, Y_val=Y_val,\n",
    "          print_interval=print_interval)\n",
    "iteraction_log = network.get_iteration_log()\n",
    "\n",
    "Y_ = np.array(model.predict(X))\n",
    "Y_ = Y_.argmax(axis=-1).flatten()\n",
    "mae = np.absolute(Y.argmax(axis=-1) - Y_).mean()\n",
    "\n",
    "print(\"Time Spent \", time.process_time() - start)\n",
    "\n",
    "\n",
    "Y_val_ = np.array(model.predict(X_val))\n",
    "\n",
    "\n",
    "import time\n",
    "import timeit\n",
    "from utils import dataset_helper\n",
    "from utils import custom_scores\n",
    "custom_scores.evalute_multiclass(Y_val.argmax(axis=-1), Y_val_.argmax(axis=-1))\n",
    "iteraction_log.index = iteraction_log.it\n",
    "iteraction_log.error_train.plot()\n",
    "iteraction_log.error_val.plot()"
   ]
  },
  {
   "cell_type": "code",
   "execution_count": null,
   "metadata": {
    "scrolled": false
   },
   "outputs": [],
   "source": [
    "import time\n",
    "import timeit\n",
    "from utils import dataset_helper\n",
    "from utils import custom_scores\n",
    "reload(custom_scores)\n",
    "reload(dataset_helper)\n",
    "reload(loss_functions)\n",
    "reload(activation_functions)\n",
    "reload(network)\n",
    "reload(dataset_helper)\n",
    "\n",
    "X,  X_val, Y, Y_val = vals\n",
    "Y = dataset_helper.one_hot_encode(Y, nclasses)\n",
    "Y_val = dataset_helper.one_hot_encode(Y_val, nclasses)\n",
    "\n",
    "network.DEBUG = False\n",
    "\n",
    "h1 = network.Layer(nfeatures, 64, 'sigmoid',  label=\"H1\")\n",
    "o = network.Layer(64, nclasses, 'sigmoid', label=\"Output\")\n",
    "\n",
    "model = network.NN(loss='smd')\n",
    "model.add_layer(h1)\n",
    "model.add_layer(o)\n",
    "model.summary()\n",
    "\n",
    "\n",
    "print(\"\")\n",
    "start = time.process_time()\n",
    "model.fit(X, Y, max_iter=max_iter, \n",
    "          lr=lr, epsilon=eps, b_sz = 1,\n",
    "          decay_iteractions= decay_iteractions, decay_rate = decay_rate,\n",
    "          X_val=X_val, Y_val=Y_val,\n",
    "          print_interval=print_interval)\n",
    "iteraction_log = network.get_iteration_log()\n",
    "\n",
    "Y_ = np.array(model.predict(X))\n",
    "Y_ = Y_.argmax(axis=-1).flatten()\n",
    "mae = np.absolute(Y.argmax(axis=-1) - Y_).mean()\n",
    "\n",
    "print(\"Time Spent \", time.process_time() - start)\n",
    "\n",
    "\n",
    "Y_val_ = np.array(model.predict(X_val))\n",
    "\n",
    "\n",
    "import time\n",
    "import timeit\n",
    "from utils import dataset_helper\n",
    "from utils import custom_scores\n",
    "custom_scores.evalute_multiclass(Y_val.argmax(axis=-1), Y_val_.argmax(axis=-1))\n",
    "iteraction_log.index = iteraction_log.it\n",
    "iteraction_log.error_train.plot()\n",
    "iteraction_log.error_val.plot()"
   ]
  },
  {
   "cell_type": "code",
   "execution_count": null,
   "metadata": {
    "scrolled": false
   },
   "outputs": [],
   "source": [
    "import time\n",
    "import timeit\n",
    "from utils import dataset_helper\n",
    "from utils import custom_scores\n",
    "reload(custom_scores)\n",
    "reload(dataset_helper)\n",
    "reload(loss_functions)\n",
    "reload(activation_functions)\n",
    "reload(network)\n",
    "reload(dataset_helper)\n",
    "\n",
    "X,  X_val, Y, Y_val = vals\n",
    "Y = dataset_helper.one_hot_encode(Y, nclasses)\n",
    "Y_val = dataset_helper.one_hot_encode(Y_val, nclasses)\n",
    "\n",
    "network.DEBUG = False\n",
    "\n",
    "h1 = network.Layer(nfeatures, 64, 'relu',  label=\"H1\")\n",
    "o = network.Layer(64, nclasses, 'sigmoid', label=\"Output\")\n",
    "\n",
    "model = network.NN(loss='smd')\n",
    "model.add_layer(h1)\n",
    "model.add_layer(o)\n",
    "model.summary()\n",
    "\n",
    "\n",
    "print(\"\")\n",
    "start = time.process_time()\n",
    "model.fit(X, Y, max_iter=max_iter, \n",
    "          lr=lr, epsilon=eps, b_sz = 1,\n",
    "          decay_iteractions= decay_iteractions, decay_rate = decay_rate,\n",
    "          X_val=X_val, Y_val=Y_val,\n",
    "          print_interval=print_interval)\n",
    "iteraction_log = network.get_iteration_log()\n",
    "\n",
    "Y_ = np.array(model.predict(X))\n",
    "Y_ = Y_.argmax(axis=-1).flatten()\n",
    "mae = np.absolute(Y.argmax(axis=-1) - Y_).mean()\n",
    "\n",
    "print(\"Time Spent \", time.process_time() - start)\n",
    "\n",
    "\n",
    "Y_val_ = np.array(model.predict(X_val))\n",
    "\n",
    "\n",
    "import time\n",
    "import timeit\n",
    "from utils import dataset_helper\n",
    "from utils import custom_scores\n",
    "custom_scores.evalute_multiclass(Y_val.argmax(axis=-1), Y_val_.argmax(axis=-1))\n",
    "iteraction_log.index = iteraction_log.it\n",
    "iteraction_log.error_train.plot()\n",
    "iteraction_log.error_val.plot()"
   ]
  },
  {
   "cell_type": "markdown",
   "metadata": {},
   "source": [
    "## Batch Update Tests"
   ]
  },
  {
   "cell_type": "code",
   "execution_count": null,
   "metadata": {},
   "outputs": [],
   "source": [
    "lr = 0.1\n",
    "b_sz = 128\n",
    "decay_iteractions = 1 * (epoch_sz // b_sz) \n",
    "max_iter = 5 * (epoch_sz // b_sz) \n",
    "print_interval = (epoch_sz // b_sz) "
   ]
  },
  {
   "cell_type": "code",
   "execution_count": null,
   "metadata": {},
   "outputs": [],
   "source": [
    "import time\n",
    "import timeit\n",
    "from utils import dataset_helper\n",
    "from utils import custom_scores\n",
    "reload(custom_scores)\n",
    "reload(dataset_helper)\n",
    "reload(loss_functions)\n",
    "reload(activation_functions)\n",
    "reload(network)\n",
    "reload(dataset_helper)\n",
    "\n",
    "X,  X_val, Y, Y_val = vals\n",
    "Y = dataset_helper.one_hot_encode(Y, nclasses)\n",
    "Y_val = dataset_helper.one_hot_encode(Y_val, nclasses)\n",
    "\n",
    "\n",
    "\n",
    "network.DEBUG = False\n",
    "\n",
    "h1 = network.Layer(nfeatures, 64, 'tanh',  label=\"H1\")\n",
    "o = network.Layer(64, nclasses, 'sigmoid', label=\"Output\")\n",
    "\n",
    "model = network.NN(loss='cross_entropy')\n",
    "model.add_layer(h1)\n",
    "model.add_layer(o)\n",
    "model.summary()\n",
    "\n",
    "\n",
    "print(\"\")\n",
    "start = time.process_time()\n",
    "model.fit(X, Y, max_iter=max_iter, \n",
    "          lr=lr, epsilon=eps, b_sz = b_sz,\n",
    "          decay_iteractions= decay_iteractions, decay_rate = decay_rate,\n",
    "          X_val=X_val, Y_val=Y_val,\n",
    "          print_interval=print_interval)\n",
    "iteraction_log = network.get_iteration_log()\n",
    "\n",
    "Y_ = np.array(model.predict(X))\n",
    "Y_ = Y_.argmax(axis=-1).flatten()\n",
    "mae = np.absolute(Y.argmax(axis=-1) - Y_).mean()\n",
    "\n",
    "print(\"Time Spent \", time.process_time() - start)\n",
    "\n",
    "\n",
    "Y_val_ = np.array(model.predict(X_val))\n",
    "\n",
    "\n",
    "import time\n",
    "import timeit\n",
    "from utils import dataset_helper\n",
    "from utils import custom_scores\n",
    "\n",
    "iteraction_log.index = iteraction_log.it\n",
    "iteraction_log.error_train.plot()\n",
    "iteraction_log.error_val.plot()"
   ]
  },
  {
   "cell_type": "code",
   "execution_count": null,
   "metadata": {
    "scrolled": false
   },
   "outputs": [],
   "source": [
    "import time\n",
    "import timeit\n",
    "from utils import dataset_helper\n",
    "from utils import custom_scores\n",
    "reload(custom_scores)\n",
    "reload(dataset_helper)\n",
    "reload(loss_functions)\n",
    "reload(activation_functions)\n",
    "reload(network)\n",
    "reload(dataset_helper)\n",
    "\n",
    "X,  X_val, Y, Y_val = vals\n",
    "Y = dataset_helper.one_hot_encode(Y, nclasses)\n",
    "Y_val = dataset_helper.one_hot_encode(Y_val, nclasses)\n",
    "\n",
    "\n",
    "\n",
    "network.DEBUG = False\n",
    "\n",
    "h1 = network.Layer(nfeatures, 64, 'relu',  label=\"H1\")\n",
    "o = network.Layer(64, nclasses, 'sigmoid', label=\"Output\")\n",
    "\n",
    "model = network.NN(loss='cross_entropy')\n",
    "model.add_layer(h1)\n",
    "model.add_layer(o)\n",
    "model.summary()\n",
    "\n",
    "\n",
    "print(\"\")\n",
    "start = time.process_time()\n",
    "model.fit(X, Y, max_iter=max_iter, \n",
    "          lr=lr, epsilon=eps, b_sz = b_sz,\n",
    "          decay_iteractions= decay_iteractions, decay_rate = decay_rate,\n",
    "          X_val=X_val, Y_val=Y_val,\n",
    "          print_interval=print_interval)\n",
    "iteraction_log = network.get_iteration_log()\n",
    "\n",
    "Y_ = np.array(model.predict(X))\n",
    "Y_ = Y_.argmax(axis=-1).flatten()\n",
    "mae = np.absolute(Y.argmax(axis=-1) - Y_).mean()\n",
    "\n",
    "print(\"Time Spent \", time.process_time() - start)\n",
    "\n",
    "\n",
    "Y_val_ = np.array(model.predict(X_val))\n",
    "\n",
    "\n",
    "import time\n",
    "import timeit\n",
    "from utils import dataset_helper\n",
    "from utils import custom_scores\n",
    "\n",
    "iteraction_log.index = iteraction_log.it\n",
    "iteraction_log.error_train.plot()\n",
    "iteraction_log.error_val.plot()"
   ]
  },
  {
   "cell_type": "code",
   "execution_count": null,
   "metadata": {},
   "outputs": [],
   "source": [
    "import time\n",
    "import timeit\n",
    "from utils import dataset_helper\n",
    "from utils import custom_scores\n",
    "reload(custom_scores)\n",
    "reload(dataset_helper)\n",
    "reload(loss_functions)\n",
    "reload(activation_functions)\n",
    "reload(network)\n",
    "reload(dataset_helper)\n",
    "\n",
    "X,  X_val, Y, Y_val = vals\n",
    "Y = dataset_helper.one_hot_encode(Y, nclasses)\n",
    "Y_val = dataset_helper.one_hot_encode(Y_val, nclasses)\n",
    "\n",
    "\n",
    "\n",
    "network.DEBUG = False\n",
    "\n",
    "h1 = network.Layer(nfeatures, 64, 'sigmoid',  label=\"H1\")\n",
    "o = network.Layer(64, nclasses, 'sigmoid', label=\"Output\")\n",
    "\n",
    "model = network.NN(loss='cross_entropy')\n",
    "model.add_layer(h1)\n",
    "model.add_layer(o)\n",
    "model.summary()\n",
    "\n",
    "\n",
    "print(\"\")\n",
    "start = time.process_time()\n",
    "model.fit(X, Y, max_iter=max_iter, \n",
    "          lr=lr, epsilon=eps, b_sz = b_sz,\n",
    "          decay_iteractions= decay_iteractions, decay_rate = decay_rate,\n",
    "          X_val=X_val, Y_val=Y_val,\n",
    "          print_interval=print_interval)\n",
    "iteraction_log = network.get_iteration_log()\n",
    "\n",
    "Y_ = np.array(model.predict(X))\n",
    "Y_ = Y_.argmax(axis=-1).flatten()\n",
    "mae = np.absolute(Y.argmax(axis=-1) - Y_).mean()\n",
    "\n",
    "print(\"Time Spent \", time.process_time() - start)\n",
    "\n",
    "\n",
    "Y_val_ = np.array(model.predict(X_val))\n",
    "\n",
    "\n",
    "import time\n",
    "import timeit\n",
    "from utils import dataset_helper\n",
    "from utils import custom_scores\n",
    "\n",
    "iteraction_log.index = iteraction_log.it\n",
    "iteraction_log.error_train.plot()\n",
    "iteraction_log.error_val.plot()"
   ]
  },
  {
   "cell_type": "code",
   "execution_count": null,
   "metadata": {},
   "outputs": [],
   "source": []
  },
  {
   "cell_type": "code",
   "execution_count": null,
   "metadata": {},
   "outputs": [],
   "source": []
  }
 ],
 "metadata": {
  "kernelspec": {
   "display_name": "Python 3",
   "language": "python",
   "name": "python3"
  },
  "language_info": {
   "codemirror_mode": {
    "name": "ipython",
    "version": 3
   },
   "file_extension": ".py",
   "mimetype": "text/x-python",
   "name": "python",
   "nbconvert_exporter": "python",
   "pygments_lexer": "ipython3",
   "version": "3.5.2"
  }
 },
 "nbformat": 4,
 "nbformat_minor": 2
}
