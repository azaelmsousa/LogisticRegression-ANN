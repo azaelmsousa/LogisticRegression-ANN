{
 "cells": [
  {
   "cell_type": "code",
   "execution_count": 1,
   "metadata": {},
   "outputs": [
    {
     "name": "stderr",
     "output_type": "stream",
     "text": [
      "/root/.local/lib/python3.5/site-packages/sklearn/ensemble/weight_boosting.py:29: DeprecationWarning: numpy.core.umath_tests is an internal NumPy module and should not be imported. It will be removed in a future NumPy release.\n",
      "  from numpy.core.umath_tests import inner1d\n"
     ]
    }
   ],
   "source": [
    "import sys \n",
    "sys.path.append('../')\n",
    "import numpy as np\n",
    "import pandas as pd\n",
    "import matplotlib.pyplot as plt\n",
    "from NN import network, activation_functions, loss_functions\n",
    "from NN import ANN\n"
   ]
  },
  {
   "cell_type": "markdown",
   "metadata": {},
   "source": [
    "# Introduction \n",
    "This notebook was made as a base for the Neural Network implementation and tests. \n",
    "The target values for the net and output for each layers follows bellow: \n",
    "```\n",
    "Input Layer:\n",
    "[0.05, 0.10]\n",
    "\n",
    "Hidden Layer:\n",
    "Weigths [0.15, 0.2] [0.25, 0.3]\n",
    "Net [0.3775 0.3925]\n",
    "Out [0.59326999 0.59688438] (softmax)\n",
    "Grad [[0.14978072 0.24950229] [0.19978072 0.29950229]]\n",
    "\n",
    "Output Layer:\n",
    "[[0.4, 0.45], [0.50, 0.55]]\n",
    "Net [1.10590597 1.2249214 ]\n",
    "Out [0.75136507 0.77292847]] (softmax)\n",
    "Grad \n",
    "\n",
    "\n",
    "\n",
    "MSD = 0.2983711\n",
    "```\n"
   ]
  },
  {
   "cell_type": "code",
   "execution_count": 2,
   "metadata": {},
   "outputs": [],
   "source": [
    "# Target Values \n",
    "# Hidden Layer:\n",
    "_NetH = np.array([[0.3775, 0.3925]])\n",
    "_OutH = np.array([[0.59326999, 0.59688438]])\n",
    "\n",
    "# Output Layer:\n",
    "_NetO = np.array([[1.10590597, 1.2249214 ]])\n",
    "_OutO = np.array([[0.75136507, 0.77292847]])\n",
    "\n",
    "_MSD = 0.2983711\n",
    "_error_accepted = 0.00000001"
   ]
  },
  {
   "cell_type": "code",
   "execution_count": 3,
   "metadata": {},
   "outputs": [],
   "source": [
    "def compare_arrays(A, B, eps=_error_accepted): \n",
    "    return (A - B).sum() < eps"
   ]
  },
  {
   "cell_type": "markdown",
   "metadata": {},
   "source": [
    "## Layer by Layer Validation\n",
    "To identify if there is no code broken"
   ]
  },
  {
   "cell_type": "code",
   "execution_count": 4,
   "metadata": {},
   "outputs": [
    {
     "name": "stdout",
     "output_type": "stream",
     "text": [
      "[[0.3775 0.3925]]\n",
      "[[0.59326999 0.59688438]]\n"
     ]
    }
   ],
   "source": [
    "from importlib import reload\n",
    "reload(network)\n",
    "I = np.array([[0.05, 0.10]])\n",
    "W = np.array([[0.15, 0.2], [0.25, 0.3]]).T\n",
    "h1 = network.Layer(2, 2, 'sigmoid', weights=W, bias=0.35, label=\"H1\")\n",
    "netH, outH =  h1.feed_forward(I)\n",
    "print(netH)\n",
    "print(outH)\n",
    "assert(compare_arrays(netH, _NetH))\n",
    "assert(compare_arrays(outH, _OutH))"
   ]
  },
  {
   "cell_type": "code",
   "execution_count": 5,
   "metadata": {
    "scrolled": false
   },
   "outputs": [
    {
     "name": "stdout",
     "output_type": "stream",
     "text": [
      "[[1.10590597 1.2249214 ]]\n",
      "[[0.75136507 0.77292847]]\n"
     ]
    }
   ],
   "source": [
    "from importlib import reload\n",
    "reload(network)\n",
    "I = np.array([[0.59326999, 0.59688438]])\n",
    "W = np.array([[0.4, 0.45], [0.50, 0.55]]).T\n",
    "o1 = network.Layer(2, 2, 'sigmoid', weights=W, bias=0.6, label=\"H1\")\n",
    "netO, outO =  o1.feed_forward(I)\n",
    "print(netO)\n",
    "print(outO)\n",
    "assert(compare_arrays(netO, _NetO))\n",
    "assert(compare_arrays(outO, _OutO))"
   ]
  },
  {
   "cell_type": "markdown",
   "metadata": {},
   "source": [
    "# Convergence Checkings\n",
    "Based on the sample given by the class teacher"
   ]
  },
  {
   "cell_type": "markdown",
   "metadata": {},
   "source": [
    "## Manual Calculations"
   ]
  },
  {
   "cell_type": "code",
   "execution_count": 6,
   "metadata": {},
   "outputs": [
    {
     "name": "stdout",
     "output_type": "stream",
     "text": [
      "Model Weights\n",
      "-------------------------------\n",
      "H1      (input=2, neurons=2, activation=sigmoid)\n",
      "[[0.15 0.25]\n",
      " [0.2  0.3 ]]\n",
      "H1      (input=2, neurons=2, activation=sigmoid)\n",
      "[[0.4  0.5 ]\n",
      " [0.45 0.55]]\n",
      "-------------------------------\n",
      "Y\n",
      " [1.10590597, 1.2249214]\n",
      "\n",
      "a(Y)\n",
      " [0.75136507, 0.77292847]\n"
     ]
    }
   ],
   "source": [
    "from importlib import reload\n",
    "reload(network)\n",
    "model = network.NN(loss='smd')\n",
    "X = np.array([[0.05, 0.10]])\n",
    "\n",
    "Wh = np.array([[0.15, 0.2], [0.25, 0.3]]).T\n",
    "h = network.Layer(2, 2, 'sigmoid', weights=Wh, bias=0.35, label=\"H1\")\n",
    "\n",
    "Wo = np.array([[0.4, 0.45], [0.50, 0.55]]).T\n",
    "o = network.Layer(2, 2, 'sigmoid', weights=Wo, bias=0.6, label=\"H1\")\n",
    "model.add_layer(h)\n",
    "model.add_layer(o)\n",
    "model.show_weights()\n",
    "\n",
    "Y, aY = model.feed_forward(X)\n",
    "Y_, aY_ = ([1.10590597, 1.2249214 ], [0.75136507, 0.77292847])\n",
    "print(\"Y\\n\",Y_)\n",
    "print(\"\\na(Y)\\n\",aY_)\n",
    "\n",
    "assert(compare_arrays(Y, Y_))\n",
    "assert(compare_arrays(aY, aY_))\n"
   ]
  },
  {
   "cell_type": "markdown",
   "metadata": {},
   "source": [
    "### Working on the back propagation"
   ]
  },
  {
   "cell_type": "code",
   "execution_count": 7,
   "metadata": {},
   "outputs": [
    {
     "name": "stdout",
     "output_type": "stream",
     "text": [
      "Model Weights\n",
      "-------------------------------\n",
      "H1      (input=2, neurons=2, activation=sigmoid)\n",
      "[[0.15 0.25]\n",
      " [0.2  0.3 ]]\n",
      "H1      (input=2, neurons=2, activation=sigmoid)\n",
      "[[0.4  0.5 ]\n",
      " [0.45 0.55]]\n",
      "-------------------------------\n",
      "0.2983711087600027\n"
     ]
    }
   ],
   "source": [
    "from importlib import reload\n",
    "reload(network)\n",
    "model.show_weights()\n",
    "Y = np.array([0.01, 0.99])\n",
    "Etotal = loss_functions.smd(aY, Y)\n",
    "print(Etotal)\n",
    "assert((Etotal - _MSD) < np.finfo(np.float32).eps)"
   ]
  },
  {
   "cell_type": "markdown",
   "metadata": {},
   "source": [
    "### Emulating the weights update for the layer O "
   ]
  },
  {
   "cell_type": "code",
   "execution_count": 8,
   "metadata": {},
   "outputs": [
    {
     "name": "stdout",
     "output_type": "stream",
     "text": [
      "[[ 0.74136507 -0.21707153]]\n",
      "dout [[0.1868156  0.17551005]]\n",
      "dnet [[0.59326999 0.59688438]]\n",
      "delta [[ 0.13849856 -0.03809824]]\n",
      "dw [[ 0.08216704 -0.02274024]]\n",
      "update [[0.35891648 0.51137012]\n",
      " [0.40891648 0.56137012]]\n"
     ]
    }
   ],
   "source": [
    "reload(loss_functions)\n",
    "reload(activation_functions)\n",
    "lr = 0.5\n",
    "#Done - Partial\n",
    "dEo_dw = loss_functions.smd_derivative_chain(outO, Y)\n",
    "print(dEo_dw)\n",
    "\n",
    "# Done\n",
    "dOuto_Dneto = activation_functions.sigmoid_derivative_chain(outO)\n",
    "print('dout',dOuto_Dneto)\n",
    "\n",
    "# Done - Self.input\n",
    "dNeto  = outH\n",
    "print('dnet',dNeto) \n",
    "# Done\n",
    "deltaO  = dEo_dw * dOuto_Dneto\n",
    "print('delta', deltaO)\n",
    "\n",
    "dWO = deltaO * outH\n",
    "print('dw', dWO)\n",
    "# Done\n",
    "updateO = Wo - lr * dWO\n",
    "print('update', updateO)"
   ]
  },
  {
   "cell_type": "code",
   "execution_count": 9,
   "metadata": {},
   "outputs": [
    {
     "name": "stdout",
     "output_type": "stream",
     "text": [
      "[[ 0.05539942 -0.01904912]\n",
      " [ 0.06232435 -0.02095403]]\n",
      "dETotal_dOh [0.03635031 0.04137032]\n",
      "dOuth_Dneth [[0.24130071 0.24061342]]\n",
      "deltaH [[0.00877135 0.00995425]]\n",
      "dWh [[0.00043857 0.00099543]]\n",
      "update [[0.14978072 0.24950229]\n",
      " [0.19978072 0.29950229]]\n"
     ]
    }
   ],
   "source": [
    "#\n",
    "# Done - Partial\n",
    "dEo_dOh = deltaO * Wo\n",
    "dETotal_dOh = dEo_dOh.sum(axis=1)\n",
    "print (dEo_dOh)\n",
    "print('dETotal_dOh', dETotal_dOh)\n",
    "\n",
    "# Done\n",
    "dOuth_Dneth = activation_functions.sigmoid_derivative_chain(outH)\n",
    "print('dOuth_Dneth', dOuth_Dneth)\n",
    "\n",
    "\n",
    "# Done\n",
    "deltaH = dETotal_dOh * dOuth_Dneth \n",
    "print('deltaH', deltaH)\n",
    "\n",
    "# done\n",
    "# self.input\n",
    "dNeth_dw = X\n",
    "dWh = deltaH * dNeth_dw\n",
    "print('dWh', dWh)\n",
    "\n",
    "# Done\n",
    "updateH = Wh - lr * dWh\n",
    "print('update', updateH)"
   ]
  },
  {
   "cell_type": "markdown",
   "metadata": {},
   "source": [
    "## Using the implemented Grad calculation for Layers"
   ]
  },
  {
   "cell_type": "code",
   "execution_count": 10,
   "metadata": {
    "scrolled": false
   },
   "outputs": [
    {
     "name": "stdout",
     "output_type": "stream",
     "text": [
      "('net', array([[0.3775, 0.3925],\n",
      "       [0.3775, 0.3925]]))\n",
      "('out', array([[0.59326999, 0.59688438],\n",
      "       [0.59326999, 0.59688438]]))\n",
      "('net', array([[1.10590597, 1.2249214 ],\n",
      "       [1.10590597, 1.2249214 ]]))\n",
      "('out', array([[0.75136507, 0.77292847],\n",
      "       [0.75136507, 0.77292847]]))\n",
      "0 error 0.5967422175200054\n",
      "[[ 0.74136507 -0.21707153]\n",
      " [ 0.74136507 -0.21707153]]\n",
      "\n",
      "==========================================\n",
      "Back Propagate Layer O\n",
      "==========================================\n",
      "('dETotal_dOut', array([[ 0.74136507, -0.21707153],\n",
      "       [ 0.74136507, -0.21707153]]))\n",
      "==========================================\n",
      "\n",
      "==========================================\n",
      "Back Propagate Layer H\n",
      "==========================================\n",
      "('dETotal_dOut', None)\n",
      "==========================================\n",
      "[[0.75136507 0.77292847]\n",
      " [0.75136507 0.77292847]]\n"
     ]
    }
   ],
   "source": [
    "reload(loss_functions)\n",
    "reload(activation_functions)\n",
    "reload(network)\n",
    "network.DEBUG = True\n",
    "\n",
    "X = np.array([[0.05, 0.10], [0.05, 0.10]], np.float64)\n",
    "Wh = np.array([[0.15, 0.2], [0.25, 0.3]], np.float64).T\n",
    "h = network.Layer(2, 2, 'sigmoid', weights=Wh, bias=0.35, label=\"H1\")\n",
    "\n",
    "Wo = np.array([[0.4, 0.45], [0.50, 0.55]],  np.float64).T\n",
    "o = network.Layer(2, 2, 'sigmoid', bias=0.6, weights=Wo, label=\"O\")\n",
    "Y = np.array([[0.01, 0.99], [0.01, 0.99]], np.float64)\n",
    "\n",
    "for i in range(1):\n",
    "    netH, outH = h.feed_forward(X)\n",
    "    netO, outO = o.feed_forward(outH)\n",
    "\n",
    "    \n",
    "    Etotal = loss_functions.smd(outO, Y)\n",
    "    if (i % 1000) == 0:\n",
    "        print(i, 'error', Etotal)\n",
    "    \n",
    "    dEo_dw = loss_functions.smd_derivative_chain(outO, Y)\n",
    "    \n",
    "    network.dprint(dEo_dw)\n",
    "    network.dprint (\"\")\n",
    "    network.dprint (\"==========================================\")\n",
    "    network.dprint (\"Back Propagate Layer O\")\n",
    "    network.dprint (\"==========================================\")\n",
    "    o.backpropagate(dETotal_dOut=dEo_dw)\n",
    "    network.dprint (\"==========================================\")\n",
    "    network.dprint (\"\")\n",
    "\n",
    "    network.dprint (\"==========================================\")\n",
    "    network.dprint (\"Back Propagate Layer H\")\n",
    "    network.dprint (\"==========================================\")\n",
    "    h.backpropagate(output_layer=o)\n",
    "    network.dprint (\"==========================================\")\n",
    "\n",
    "print (outO)"
   ]
  },
  {
   "cell_type": "markdown",
   "metadata": {},
   "source": [
    "# Using the Fit Methods with the full network calculation"
   ]
  },
  {
   "cell_type": "markdown",
   "metadata": {},
   "source": [
    "## SMD as the Loss Function"
   ]
  },
  {
   "cell_type": "code",
   "execution_count": 11,
   "metadata": {
    "scrolled": false
   },
   "outputs": [
    {
     "name": "stdout",
     "output_type": "stream",
     "text": [
      "Model Weights\n",
      "-------------------------------\n",
      "H1      (input=2, neurons=3, activation=sigmoid)\n",
      "[[0.19590218 0.30783844 0.35903336]\n",
      " [0.75421449 0.62398518 0.09327749]]\n",
      "Output  (input=3, neurons=2, activation=sigmoid)\n",
      "[[0.30105418 0.31521595]\n",
      " [0.46528522 0.48100049]\n",
      " [0.19105895 0.88901087]]\n",
      "-------------------------------\n",
      "Shuffled\n",
      "It: 2000 Batch: 1 Epoch 1999 Error: 0.00417099 lr: 0.500000 \n",
      "It: 4000 Batch: 1 Epoch 3999 Error: 0.00014860 lr: 0.500000 \n",
      "It: 6000 Batch: 1 Epoch 5999 Error: 0.00006238 lr: 0.500000 \n",
      "It: 8000 Batch: 1 Epoch 7999 Error: 0.00003356 lr: 0.500000 \n",
      "It: 10000 Batch: 1 Epoch 9999 Error: 0.00002028 lr: 0.500000 \n",
      "It: 12000 Batch: 1 Epoch 11999 Error: 0.00001311 lr: 0.500000 \n",
      "It: 14000 Batch: 1 Epoch 13999 Error: 0.00000887 lr: 0.500000 \n",
      "Finished \n",
      " It: 14001 Batch: 1 Epoch 14000 Train Loss: 0.00000887 lr: 0.500000 \n",
      "[[0.01270892 0.98729086]] 0.002709031956404379\n"
     ]
    }
   ],
   "source": [
    "from utils import dataset_helper\n",
    "reload(loss_functions)\n",
    "reload(activation_functions)\n",
    "reload(network)\n",
    "reload(dataset_helper)\n",
    "network.DEBUG = False\n",
    "eps = 0.00001\n",
    "\n",
    "X = np.array([[0.05, 0.10]], np.float64)\n",
    "Y = np.array([[0.01, 0.99]], np.float64)\n",
    "\n",
    "# Wh = np.array([[0.15, 0.2], [0.25, 0.3]], np.float64).T\n",
    "h = network.Layer(2, 3, 'sigmoid', bias=0.35, label=\"H1\")\n",
    "\n",
    "# Wo = np.array([[0.4, 0.45], [0.50, 0.55]], np.float64).T\n",
    "o = network.Layer(3, 2, 'sigmoid', bias=0.6, label=\"Output\")\n",
    "\n",
    "model = network.NN(loss='smd')\n",
    "model.add_layer(h)\n",
    "model.add_layer(o)\n",
    "model.show_weights()\n",
    "\n",
    "model.fit(X, Y, max_iter=50000, \n",
    "          lr=0.5, epsilon=eps, b_sz=2, \n",
    "          print_interval=2000)\n",
    "\n",
    "_, Y_ = model.feed_forward(X)\n",
    "\n",
    "mae = np.absolute(Y - Y_).mean()\n",
    "print(Y_, mae)\n",
    "assert(mae < 0.01)"
   ]
  },
  {
   "cell_type": "markdown",
   "metadata": {},
   "source": [
    "## Cross Entropy "
   ]
  },
  {
   "cell_type": "code",
   "execution_count": 12,
   "metadata": {
    "scrolled": false
   },
   "outputs": [
    {
     "name": "stdout",
     "output_type": "stream",
     "text": [
      "Model Weights\n",
      "-------------------------------\n",
      "H1      (input=2, neurons=2, activation=sigmoid)\n",
      "[[0.15 0.25]\n",
      " [0.2  0.3 ]]\n",
      "Output  (input=2, neurons=2, activation=sigmoid)\n",
      "[[0.4  0.5 ]\n",
      " [0.45 0.55]]\n",
      "-------------------------------\n",
      "Shuffled\n",
      "It: 2000 Batch: 1 Epoch 1999 Error: 0.76574643 lr: 0.100000 \n",
      "It: 4000 Batch: 1 Epoch 3999 Error: 0.66248688 lr: 0.100000 \n",
      "It: 6000 Batch: 1 Epoch 5999 Error: 0.65524647 lr: 0.100000 \n",
      "It: 8000 Batch: 1 Epoch 7999 Error: 0.65246400 lr: 0.100000 \n",
      "It: 10000 Batch: 1 Epoch 9999 Error: 0.65099797 lr: 0.100000 \n",
      "Finished \n",
      " It: 10000 Batch: 1 Epoch 9999 Train Loss: 0.65099797 lr: 0.100000 \n",
      "[[0.0038555  0.99623122]] 0.006187855935083348\n"
     ]
    }
   ],
   "source": [
    "from utils import dataset_helper\n",
    "reload(loss_functions)\n",
    "reload(activation_functions)\n",
    "reload(network)\n",
    "reload(dataset_helper)\n",
    "network.DEBUG = False\n",
    "eps = 0.0001\n",
    "X = np.array([[0.05, 0.10]], np.float64)\n",
    "Y = np.array([[0.01, 0.99]], np.float64)\n",
    "\n",
    "Wh = np.array([[0.15, 0.2], [0.25, 0.3]], np.float64).T\n",
    "h = network.Layer(2, 2, 'sigmoid', weights=Wh, bias=0.35, label=\"H1\")\n",
    "\n",
    "Wo = np.array([[0.4, 0.45], [0.50, 0.55]], np.float64).T\n",
    "o = network.Layer(2, 2, 'sigmoid', weights=Wo, bias=0.6, label=\"Output\")\n",
    "\n",
    "model = network.NN(loss='cross_entropy')\n",
    "model.add_layer(h)\n",
    "model.add_layer(o)\n",
    "model.show_weights()\n",
    "\n",
    "model.fit(X, Y, max_iter=10000,\n",
    "          lr=0.1, epsilon=eps, \n",
    "          print_interval=2000)\n",
    "\n",
    "_, Y_ = model.feed_forward(X)\n",
    "\n",
    "mae = np.absolute(Y - Y_).mean()\n",
    "print(Y_, mae)\n",
    "assert(mae < 0.01)"
   ]
  },
  {
   "cell_type": "code",
   "execution_count": 13,
   "metadata": {
    "scrolled": false
   },
   "outputs": [
    {
     "name": "stdout",
     "output_type": "stream",
     "text": [
      "Model Weights\n",
      "-------------------------------\n",
      "H1      (input=2, neurons=10, activation=sigmoid)\n",
      "[[0.21789092 0.58741836 0.90772519 0.90426184 0.10626179 0.91901295\n",
      "  0.08561241 0.61094836 0.61726907 0.4551143 ]\n",
      " [0.70924063 0.14633942 0.46879747 0.06287336 0.29324315 0.84598791\n",
      "  0.87450889 0.6828834  0.07928233 0.6341252 ]]\n",
      "Output  (input=10, neurons=2, activation=sigmoid)\n",
      "[[0.60280204 0.68921866]\n",
      " [0.50343986 0.10625683]\n",
      " [0.30482891 0.80820745]\n",
      " [0.4128277  0.61007458]\n",
      " [0.23198232 0.26967956]\n",
      " [0.34891272 0.81767527]\n",
      " [0.13897751 0.36197683]\n",
      " [0.56162596 0.35371408]\n",
      " [0.78503708 0.42206636]\n",
      " [0.26836441 0.59103267]]\n",
      "-------------------------------\n",
      "Shuffled\n",
      "It: 2000 Batch: 2 Epoch 666 Error: 1.28588064 lr: 0.900000 \n",
      "It: 4000 Batch: 1 Epoch 1333 Error: 1.27637035 lr: 0.900000 \n",
      "It: 6000 Batch: 3 Epoch 1999 Error: 1.18873353 lr: 0.900000 \n",
      "It: 8000 Batch: 2 Epoch 2666 Error: 0.77023356 lr: 0.900000 \n",
      "It: 10000 Batch: 1 Epoch 3333 Error: 0.65943597 lr: 0.900000 \n",
      "It: 12000 Batch: 3 Epoch 3999 Error: 0.64262026 lr: 0.900000 \n",
      "It: 14000 Batch: 2 Epoch 4666 Error: 0.63671926 lr: 0.900000 \n",
      "It: 16000 Batch: 1 Epoch 5333 Error: 0.63382984 lr: 0.900000 \n",
      "It: 18000 Batch: 3 Epoch 5999 Error: 0.63214360 lr: 0.900000 \n",
      "It: 20000 Batch: 2 Epoch 6666 Error: 0.63105084 lr: 0.900000 \n",
      "It: 22000 Batch: 1 Epoch 7333 Error: 0.63029472 lr: 0.900000 \n",
      "It: 24000 Batch: 3 Epoch 7999 Error: 0.62974052 lr: 0.900000 \n",
      "It: 26000 Batch: 2 Epoch 8666 Error: 0.62931840 lr: 0.900000 \n",
      "It: 28000 Batch: 1 Epoch 9333 Error: 0.62898974 lr: 0.900000 \n",
      "It: 30000 Batch: 3 Epoch 9999 Error: 0.62872429 lr: 0.900000 \n",
      "It: 32000 Batch: 2 Epoch 10666 Error: 0.62850858 lr: 0.900000 \n",
      "It: 34000 Batch: 1 Epoch 11333 Error: 0.62832829 lr: 0.900000 \n",
      "It: 36000 Batch: 3 Epoch 11999 Error: 0.62817613 lr: 0.900000 \n",
      "It: 38000 Batch: 2 Epoch 12666 Error: 0.62804612 lr: 0.900000 \n",
      "It: 40000 Batch: 1 Epoch 13333 Error: 0.62793335 lr: 0.900000 \n",
      "It: 42000 Batch: 3 Epoch 13999 Error: 0.62783612 lr: 0.900000 \n",
      "It: 44000 Batch: 2 Epoch 14666 Error: 0.62774973 lr: 0.900000 \n",
      "It: 46000 Batch: 1 Epoch 15333 Error: 0.62767420 lr: 0.900000 \n",
      "It: 48000 Batch: 3 Epoch 15999 Error: 0.62760649 lr: 0.900000 \n",
      "It: 50000 Batch: 2 Epoch 16666 Error: 0.62754545 lr: 0.900000 \n",
      "Finished \n",
      " It: 50000 Batch: 2 Epoch 16666 Train Loss: 0.62754545 lr: 0.900000 \n",
      "0.0\n",
      "[1 1 0] [1 1 0]\n"
     ]
    }
   ],
   "source": [
    "from utils import dataset_helper\n",
    "reload(loss_functions)\n",
    "reload(activation_functions)\n",
    "reload(network)\n",
    "reload(dataset_helper)\n",
    "network.DEBUG = False\n",
    "\n",
    "eps = np.finfo(np.float32).eps\n",
    "\n",
    "X = np.array([[0.05, 0.10], [0.05, 0.10], [0.10, 0.05]], np.float64)\n",
    "Y = np.array([[0.0, 1], [0.0, 1], [1., 0.]], np.float64)\n",
    "\n",
    "h1 = network.Layer(2, 10, 'sigmoid',  label=\"H1\")\n",
    "o = network.Layer(10, 2, 'sigmoid',  label=\"Output\")\n",
    "\n",
    "model = network.NN(loss='cross_entropy')\n",
    "model.add_layer(h1)\n",
    "model.add_layer(o)\n",
    "model.show_weights()\n",
    "\n",
    "model.fit(X, Y, max_iter=50000, \n",
    "          lr=0.9, epsilon=eps,\n",
    "          print_interval=2000)\n",
    "\n",
    "Y_ = np.array(model.predict(X))\n",
    "Y_ = Y_.argmax(axis=-1).flatten()\n",
    "Y = Y.argmax(axis=-1)\n",
    "mae = np.absolute(Y - Y_).mean()\n",
    "print(mae)\n",
    "print(Y, Y_)\n",
    "assert(mae < 0.1)"
   ]
  },
  {
   "cell_type": "markdown",
   "metadata": {},
   "source": [
    "# Multi class Classification Test"
   ]
  },
  {
   "cell_type": "code",
   "execution_count": 20,
   "metadata": {},
   "outputs": [],
   "source": [
    "nclasses = 3\n",
    "nsamples = 60000\n",
    "nfeatures = 50\n",
    "\n",
    "eps = np.finfo(np.float32).eps\n",
    "\n",
    "\n",
    "vals = dataset_helper.get_toy_data_multiclass(nclasses, nsamples, nfeatures)\n",
    "X,  _, _, _ = vals\n",
    "\n",
    "epoch_sz = X.shape[0]\n",
    "lr = 1.\n",
    "max_iter = 10 * epoch_sz\n",
    "print_interval = 20*1000\n",
    "decay_iteractions= 1 * epoch_sz\n",
    "decay_rate = 0.9"
   ]
  },
  {
   "cell_type": "markdown",
   "metadata": {},
   "source": [
    "## Using Cross Entropy as the Loss Function"
   ]
  },
  {
   "cell_type": "code",
   "execution_count": null,
   "metadata": {
    "scrolled": false
   },
   "outputs": [
    {
     "name": "stdout",
     "output_type": "stream",
     "text": [
      "Model Summary\n",
      "-------------------------------\n",
      "H1      (input=50, neurons=24, activation=tanh)\n",
      "H2      (input=24, neurons=32, activation=tanh)\n",
      "H3      (input=32, neurons=24, activation=tanh)\n",
      "Output  (input=24, neurons=3, activation=sigmoid)\n",
      "-------------------------------\n",
      "\n",
      "Shuffled\n"
     ]
    },
    {
     "name": "stderr",
     "output_type": "stream",
     "text": [
      "../NN/activation_functions.py:41: RuntimeWarning: overflow encountered in exp\n",
      "  return (2 / (1+np.exp(-2*h)))-1\n"
     ]
    },
    {
     "name": "stdout",
     "output_type": "stream",
     "text": [
      "It: 20000 Batch: 20000 Epoch 0 Train Loss: 1.61867027 lr: 1.000000 Val Loss: 1.46308837 Val Acc 0.80333333\n",
      "It: 40000 Batch: 40000 Epoch 0 Train Loss: 1.40685145 lr: 1.000000 Val Loss: 1.39878057 Val Acc 0.78766667\n",
      "It: 60000 Batch: 12000 Epoch 1 Train Loss: 1.42051415 lr: 0.900000 Val Loss: 1.39846585 Val Acc 0.82508333\n",
      "It: 80000 Batch: 32000 Epoch 1 Train Loss: 1.39813336 lr: 0.900000 Val Loss: 1.40205177 Val Acc 0.81358333\n",
      "It: 100000 Batch: 4000 Epoch 2 Train Loss: 1.38416122 lr: 0.810000 Val Loss: 1.37310746 Val Acc 0.82883333\n",
      "It: 120000 Batch: 24000 Epoch 2 Train Loss: 1.39387638 lr: 0.810000 Val Loss: 1.41707547 Val Acc 0.76866667\n",
      "It: 140000 Batch: 44000 Epoch 2 Train Loss: 1.39306365 lr: 0.810000 Val Loss: 1.39943182 Val Acc 0.79891667\n",
      "It: 160000 Batch: 16000 Epoch 3 Train Loss: 1.40409938 lr: 0.729000 Val Loss: 1.37813571 Val Acc 0.79783333\n",
      "It: 180000 Batch: 36000 Epoch 3 Train Loss: 1.41413915 lr: 0.729000 Val Loss: 1.49922084 Val Acc 0.69600000\n",
      "It: 200000 Batch: 8000 Epoch 4 Train Loss: 1.52191597 lr: 0.656100 Val Loss: 1.55582839 Val Acc 0.72691667\n",
      "It: 220000 Batch: 28000 Epoch 4 Train Loss: 1.53488694 lr: 0.656100 Val Loss: 1.47934880 Val Acc 0.72816667\n",
      "It: 240000 Batch: 48000 Epoch 4 Train Loss: 1.44532982 lr: 0.656100 Val Loss: 1.39611406 Val Acc 0.73250000\n",
      "It: 260000 Batch: 20000 Epoch 5 Train Loss: 1.38295254 lr: 0.590490 Val Loss: 1.36255803 Val Acc 0.78958333\n",
      "It: 280000 Batch: 40000 Epoch 5 Train Loss: 1.38236257 lr: 0.590490 Val Loss: 1.37736655 Val Acc 0.75825000\n",
      "It: 300000 Batch: 12000 Epoch 6 Train Loss: 1.35912830 lr: 0.531441 Val Loss: 1.34509645 Val Acc 0.76266667\n",
      "It: 320000 Batch: 32000 Epoch 6 Train Loss: 1.35072502 lr: 0.531441 Val Loss: 1.34600354 Val Acc 0.64550000\n"
     ]
    }
   ],
   "source": [
    "import time\n",
    "import timeit\n",
    "from utils import dataset_helper\n",
    "from utils import custom_scores\n",
    "reload(custom_scores)\n",
    "reload(dataset_helper)\n",
    "reload(loss_functions)\n",
    "reload(activation_functions)\n",
    "reload(network)\n",
    "reload(dataset_helper)\n",
    "\n",
    "X,  X_val, Y, Y_val = vals\n",
    "Y = dataset_helper.one_hot_encode(Y, nclasses)\n",
    "Y_val = dataset_helper.one_hot_encode(Y_val, nclasses)\n",
    "\n",
    "network.DEBUG = False\n",
    "\n",
    "h1 = network.Layer(nfeatures, 24, 'tanh',  label=\"H1\")\n",
    "h2 = network.Layer(24, 32, 'tanh',  label=\"H2\")\n",
    "h3 = network.Layer(32, 24, 'tanh', label=\"H3\")\n",
    "o = network.Layer(24, nclasses, 'sigmoid', label=\"Output\")\n",
    "\n",
    "model = network.NN(loss='cross_entropy')\n",
    "model.add_layer(h1)\n",
    "model.add_layer(h2)\n",
    "model.add_layer(h3)\n",
    "model.add_layer(o)\n",
    "model.summary()\n",
    "\n",
    "\n",
    "print(\"\")\n",
    "start = time.process_time()\n",
    "model.fit(X, Y, max_iter=max_iter, \n",
    "          lr=lr, epsilon=eps, b_sz = 1,\n",
    "          decay_iteractions= decay_iteractions, decay_rate = decay_rate,\n",
    "          X_val=X_val, Y_val=Y_val,\n",
    "          print_interval=print_interval)\n",
    "iteraction_log = network.get_iteration_log()\n",
    "\n",
    "Y_ = np.array(model.predict(X))\n",
    "Y_ = Y_.argmax(axis=-1).flatten()\n",
    "mae = np.absolute(Y.argmax(axis=-1) - Y_).mean()\n",
    "\n",
    "print(\"Time Spent \", time.process_time() - start)\n",
    "\n",
    "\n",
    "Y_val_ = np.array(model.predict(X_val))\n",
    "\n",
    "\n",
    "import time\n",
    "import timeit\n",
    "from utils import dataset_helper\n",
    "from utils import custom_scores\n",
    "custom_scores.evalute_multiclass(Y_val.argmax(axis=-1), Y_val_.argmax(axis=-1))\n",
    "iteraction_log.index = iteraction_log.it\n",
    "iteraction_log.error_train.plot()\n",
    "iteraction_log.error_val.plot()"
   ]
  },
  {
   "cell_type": "code",
   "execution_count": 16,
   "metadata": {
    "scrolled": false
   },
   "outputs": [
    {
     "name": "stdout",
     "output_type": "stream",
     "text": [
      "Model Summary\n",
      "-------------------------------\n",
      "H1      (input=20, neurons=24, activation=sigmoid)\n",
      "H2      (input=24, neurons=32, activation=sigmoid)\n",
      "H3      (input=32, neurons=24, activation=sigmoid)\n",
      "Output  (input=24, neurons=3, activation=sigmoid)\n",
      "-------------------------------\n",
      "\n",
      "Shuffled\n",
      "It: 20000 Batch: 20000 Epoch 0 Train Loss: 1.90944715 lr: 1.000000 Val Loss: 1.90954235 Val Acc 0.33600000\n",
      "It: 40000 Batch: 40000 Epoch 0 Train Loss: 1.90954259 lr: 1.000000 Val Loss: 1.90954236 Val Acc 0.33600000\n",
      "It: 60000 Batch: 12000 Epoch 1 Train Loss: 1.90954228 lr: 0.900000 Val Loss: 1.90954234 Val Acc 0.33600000\n",
      "It: 80000 Batch: 32000 Epoch 1 Train Loss: 1.90954270 lr: 0.900000 Val Loss: 1.90954235 Val Acc 0.33600000\n",
      "It: 100000 Batch: 4000 Epoch 2 Train Loss: 1.90954257 lr: 0.810000 Val Loss: 1.90954236 Val Acc 0.33600000\n",
      "It: 120000 Batch: 24000 Epoch 2 Train Loss: 1.90954251 lr: 0.810000 Val Loss: 1.90954236 Val Acc 0.33600000\n",
      "It: 140000 Batch: 44000 Epoch 2 Train Loss: 1.90954256 lr: 0.810000 Val Loss: 1.90954236 Val Acc 0.33600000\n",
      "It: 160000 Batch: 16000 Epoch 3 Train Loss: 1.90954287 lr: 0.729000 Val Loss: 1.90954237 Val Acc 0.33600000\n",
      "It: 180000 Batch: 36000 Epoch 3 Train Loss: 1.90954236 lr: 0.729000 Val Loss: 1.90954237 Val Acc 0.33600000\n",
      "It: 200000 Batch: 8000 Epoch 4 Train Loss: 1.90954235 lr: 0.656100 Val Loss: 1.90954236 Val Acc 0.33600000\n",
      "It: 220000 Batch: 28000 Epoch 4 Train Loss: 1.90954280 lr: 0.656100 Val Loss: 1.90954237 Val Acc 0.33600000\n",
      "It: 240000 Batch: 48000 Epoch 4 Train Loss: 1.90954236 lr: 0.656100 Val Loss: 1.90954237 Val Acc 0.33600000\n",
      "It: 260000 Batch: 20000 Epoch 5 Train Loss: 1.90954241 lr: 0.590490 Val Loss: 1.90954237 Val Acc 0.33600000\n",
      "It: 280000 Batch: 40000 Epoch 5 Train Loss: 1.90954264 lr: 0.590490 Val Loss: 1.90954237 Val Acc 0.33600000\n",
      "It: 300000 Batch: 12000 Epoch 6 Train Loss: 1.90954261 lr: 0.531441 Val Loss: 1.90954237 Val Acc 0.33600000\n",
      "It: 320000 Batch: 32000 Epoch 6 Train Loss: 1.90954256 lr: 0.531441 Val Loss: 1.90954237 Val Acc 0.33600000\n",
      "It: 340000 Batch: 4000 Epoch 7 Train Loss: 1.90954242 lr: 0.478297 Val Loss: 1.90954237 Val Acc 0.33600000\n",
      "It: 360000 Batch: 24000 Epoch 7 Train Loss: 1.90954260 lr: 0.478297 Val Loss: 1.90954237 Val Acc 0.33600000\n",
      "It: 380000 Batch: 44000 Epoch 7 Train Loss: 1.90954249 lr: 0.478297 Val Loss: 1.90954237 Val Acc 0.33600000\n",
      "It: 400000 Batch: 16000 Epoch 8 Train Loss: 1.90954261 lr: 0.430467 Val Loss: 1.90954238 Val Acc 0.33600000\n",
      "It: 420000 Batch: 36000 Epoch 8 Train Loss: 1.90954254 lr: 0.430467 Val Loss: 1.90954238 Val Acc 0.33600000\n",
      "It: 440000 Batch: 8000 Epoch 9 Train Loss: 1.90954272 lr: 0.387420 Val Loss: 1.90954238 Val Acc 0.33600000\n",
      "It: 460000 Batch: 28000 Epoch 9 Train Loss: 1.90954242 lr: 0.387420 Val Loss: 1.90954238 Val Acc 0.33600000\n",
      "It: 480000 Batch: 48000 Epoch 9 Train Loss: 1.90954249 lr: 0.387420 Val Loss: 1.90954238 Val Acc 0.33600000\n",
      "Finished \n",
      " It: 480000 Batch: 48000 Epoch 9 Train Loss: 1.90954249 lr: 0.387420 Val Loss: 1.90954238\n",
      "6\n",
      "Time Spent  109.95341516599998\n",
      "Validation Stats...\n",
      "Accuracy: 0.336\n",
      "Precision: nan\n",
      "Recall: 0.333\n",
      "F1 Score: 0.502994\n",
      "{0: 0, 1: 1, 2: 2}\n",
      "Confusion matrix, without normalization\n",
      "Normalized confusion matrix\n"
     ]
    },
    {
     "name": "stderr",
     "output_type": "stream",
     "text": [
      "../utils/custom_scores.py:29: RuntimeWarning: invalid value encountered in long_scalars\n",
      "  precision += TP / (TP + FP)\n"
     ]
    },
    {
     "data": {
      "image/png": "[encoded data removed]",
      "text/plain": [
       "<Figure size 432x288 with 2 Axes>"
      ]
     },
     "metadata": {
      "needs_background": "light"
     },
     "output_type": "display_data"
    },
    {
     "data": {
      "image/png": "[encoded data removed]",
      "text/plain": [
       "<Figure size 432x288 with 2 Axes>"
      ]
     },
     "metadata": {
      "needs_background": "light"
     },
     "output_type": "display_data"
    },
    {
     "data": {
      "text/plain": [
       "<matplotlib.axes._subplots.AxesSubplot at 0x7f39dcde7320>"
      ]
     },
     "execution_count": 16,
     "metadata": {},
     "output_type": "execute_result"
    },
    {
     "data": {
      "image/png": "[encoded data removed]",
      "text/plain": [
       "<Figure size 432x288 with 1 Axes>"
      ]
     },
     "metadata": {
      "needs_background": "light"
     },
     "output_type": "display_data"
    }
   ],
   "source": [
    "import time\n",
    "import timeit\n",
    "from utils import dataset_helper\n",
    "from utils import custom_scores\n",
    "reload(custom_scores)\n",
    "reload(dataset_helper)\n",
    "reload(loss_functions)\n",
    "reload(activation_functions)\n",
    "reload(network)\n",
    "reload(dataset_helper)\n",
    "\n",
    "X,  X_val, Y, Y_val = vals\n",
    "Y = dataset_helper.one_hot_encode(Y, nclasses)\n",
    "Y_val = dataset_helper.one_hot_encode(Y_val, nclasses)\n",
    "\n",
    "network.DEBUG = False\n",
    "\n",
    "eps = np.finfo(np.float32).eps\n",
    "\n",
    "h1 = network.Layer(nfeatures, 24, 'sigmoid',  label=\"H1\")\n",
    "h2 = network.Layer(24, 32, 'sigmoid',  label=\"H2\")\n",
    "h3 = network.Layer(32, 24, 'sigmoid', label=\"H3\")\n",
    "o = network.Layer(24, nclasses, 'sigmoid', label=\"Output\")\n",
    "\n",
    "model = network.NN(loss='cross_entropy')\n",
    "model.add_layer(h1)\n",
    "model.add_layer(h2)\n",
    "model.add_layer(h3)\n",
    "model.add_layer(o)\n",
    "model.summary()\n",
    "\n",
    "\n",
    "print(\"\")\n",
    "start = time.process_time()\n",
    "model.fit(X, Y, max_iter=max_iter, \n",
    "          lr=lr, epsilon=eps, b_sz = 1,\n",
    "          decay_iteractions= decay_iteractions, decay_rate = decay_rate,\n",
    "          X_val=X_val, Y_val=Y_val,\n",
    "          print_interval=print_interval)\n",
    "iteraction_log = network.get_iteration_log()\n",
    "\n",
    "Y_ = np.array(model.predict(X))\n",
    "Y_ = Y_.argmax(axis=-1).flatten()\n",
    "mae = np.absolute(Y.argmax(axis=-1) - Y_).mean()\n",
    "\n",
    "print(\"Time Spent \", time.process_time() - start)\n",
    "\n",
    "\n",
    "Y_val_ = np.array(model.predict(X_val))\n",
    "\n",
    "\n",
    "import time\n",
    "import timeit\n",
    "from utils import dataset_helper\n",
    "from utils import custom_scores\n",
    "custom_scores.evalute_multiclass(Y_val.argmax(axis=-1), Y_val_.argmax(axis=-1))\n",
    "iteraction_log.index = iteraction_log.it\n",
    "iteraction_log.error_train.plot()\n",
    "iteraction_log.error_val.plot()"
   ]
  },
  {
   "cell_type": "code",
   "execution_count": 17,
   "metadata": {
    "scrolled": false
   },
   "outputs": [
    {
     "name": "stdout",
     "output_type": "stream",
     "text": [
      "Model Summary\n",
      "-------------------------------\n",
      "H1      (input=20, neurons=24, activation=relu)\n",
      "H2      (input=24, neurons=32, activation=relu)\n",
      "H3      (input=32, neurons=24, activation=relu)\n",
      "Output  (input=24, neurons=3, activation=sigmoid)\n",
      "-------------------------------\n",
      "\n",
      "Shuffled\n",
      "It: 20000 Batch: 20000 Epoch 0 Train Loss: 1.90944782 lr: 1.000000 Val Loss: 1.90954622 Val Acc 0.33600000\n",
      "It: 40000 Batch: 40000 Epoch 0 Train Loss: 1.90953799 lr: 1.000000 Val Loss: 1.90954152 Val Acc 0.33600000\n",
      "It: 60000 Batch: 12000 Epoch 1 Train Loss: 1.90954250 lr: 0.900000 Val Loss: 1.90954150 Val Acc 0.33600000\n",
      "It: 80000 Batch: 32000 Epoch 1 Train Loss: 1.90954244 lr: 0.900000 Val Loss: 1.90953832 Val Acc 0.33600000\n",
      "It: 100000 Batch: 4000 Epoch 2 Train Loss: 1.90954216 lr: 0.810000 Val Loss: 1.90953955 Val Acc 0.33600000\n",
      "It: 120000 Batch: 24000 Epoch 2 Train Loss: 1.90954250 lr: 0.810000 Val Loss: 1.90954250 Val Acc 0.33600000\n",
      "It: 140000 Batch: 44000 Epoch 2 Train Loss: 1.90954250 lr: 0.810000 Val Loss: 1.90954250 Val Acc 0.33600000\n",
      "It: 160000 Batch: 16000 Epoch 3 Train Loss: 1.90954250 lr: 0.729000 Val Loss: 1.90954249 Val Acc 0.33600000\n",
      "It: 180000 Batch: 36000 Epoch 3 Train Loss: 1.90954170 lr: 0.729000 Val Loss: 1.90954250 Val Acc 0.33600000\n",
      "It: 200000 Batch: 8000 Epoch 4 Train Loss: 1.90954250 lr: 0.656100 Val Loss: 1.90954250 Val Acc 0.33600000\n",
      "It: 220000 Batch: 28000 Epoch 4 Train Loss: 1.90954250 lr: 0.656100 Val Loss: 1.90954250 Val Acc 0.33600000\n",
      "It: 240000 Batch: 48000 Epoch 4 Train Loss: 1.90954250 lr: 0.656100 Val Loss: 1.90954250 Val Acc 0.33600000\n",
      "It: 260000 Batch: 20000 Epoch 5 Train Loss: 1.90954250 lr: 0.590490 Val Loss: 1.90954250 Val Acc 0.33600000\n",
      "It: 280000 Batch: 40000 Epoch 5 Train Loss: 1.90954250 lr: 0.590490 Val Loss: 1.90954250 Val Acc 0.33600000\n",
      "It: 300000 Batch: 12000 Epoch 6 Train Loss: 1.90954250 lr: 0.531441 Val Loss: 1.90954250 Val Acc 0.33600000\n",
      "It: 320000 Batch: 32000 Epoch 6 Train Loss: 1.90954250 lr: 0.531441 Val Loss: 1.90954250 Val Acc 0.33600000\n",
      "It: 340000 Batch: 4000 Epoch 7 Train Loss: 1.90954250 lr: 0.478297 Val Loss: 1.90954250 Val Acc 0.33600000\n",
      "It: 360000 Batch: 24000 Epoch 7 Train Loss: 1.90954250 lr: 0.478297 Val Loss: 1.90954250 Val Acc 0.33600000\n",
      "It: 380000 Batch: 44000 Epoch 7 Train Loss: 1.90954250 lr: 0.478297 Val Loss: 1.90954250 Val Acc 0.33600000\n",
      "It: 400000 Batch: 16000 Epoch 8 Train Loss: 1.90954250 lr: 0.430467 Val Loss: 1.90954250 Val Acc 0.33600000\n",
      "It: 420000 Batch: 36000 Epoch 8 Train Loss: 1.90954250 lr: 0.430467 Val Loss: 1.90954250 Val Acc 0.33600000\n",
      "It: 440000 Batch: 8000 Epoch 9 Train Loss: 1.90954250 lr: 0.387420 Val Loss: 1.90954250 Val Acc 0.33600000\n",
      "It: 460000 Batch: 28000 Epoch 9 Train Loss: 1.90954250 lr: 0.387420 Val Loss: 1.90954250 Val Acc 0.33600000\n",
      "It: 480000 Batch: 48000 Epoch 9 Train Loss: 1.90954250 lr: 0.387420 Val Loss: 1.90954250 Val Acc 0.33600000\n",
      "Finished \n",
      " It: 480000 Batch: 48000 Epoch 9 Train Loss: 1.90954250 lr: 0.387420 Val Loss: 1.90954250\n",
      "6\n",
      "Time Spent  122.75846852699999\n",
      "Validation Stats...\n",
      "Accuracy: 0.336\n",
      "Precision: nan\n",
      "Recall: 0.333\n",
      "F1 Score: 0.502994\n",
      "{0: 0, 1: 1, 2: 2}\n",
      "Confusion matrix, without normalization\n",
      "Normalized confusion matrix\n"
     ]
    },
    {
     "name": "stderr",
     "output_type": "stream",
     "text": [
      "../utils/custom_scores.py:29: RuntimeWarning: invalid value encountered in long_scalars\n",
      "  precision += TP / (TP + FP)\n"
     ]
    },
    {
     "data": {
      "image/png": "[encoded data removed]",
      "text/plain": [
       "<Figure size 432x288 with 2 Axes>"
      ]
     },
     "metadata": {
      "needs_background": "light"
     },
     "output_type": "display_data"
    },
    {
     "data": {
      "image/png": "[encoded data removed]",
      "text/plain": [
       "<Figure size 432x288 with 2 Axes>"
      ]
     },
     "metadata": {
      "needs_background": "light"
     },
     "output_type": "display_data"
    },
    {
     "data": {
      "text/plain": [
       "<matplotlib.axes._subplots.AxesSubplot at 0x7f39dcd5c208>"
      ]
     },
     "execution_count": 17,
     "metadata": {},
     "output_type": "execute_result"
    },
    {
     "data": {
      "image/png": "[encoded data removed]",
      "text/plain": [
       "<Figure size 432x288 with 1 Axes>"
      ]
     },
     "metadata": {
      "needs_background": "light"
     },
     "output_type": "display_data"
    }
   ],
   "source": [
    "import time\n",
    "import timeit\n",
    "from utils import dataset_helper\n",
    "from utils import custom_scores\n",
    "reload(custom_scores)\n",
    "reload(dataset_helper)\n",
    "reload(loss_functions)\n",
    "reload(activation_functions)\n",
    "reload(network)\n",
    "reload(dataset_helper)\n",
    "\n",
    "X,  X_val, Y, Y_val = vals\n",
    "Y = dataset_helper.one_hot_encode(Y, nclasses)\n",
    "Y_val = dataset_helper.one_hot_encode(Y_val, nclasses)\n",
    "\n",
    "\n",
    "network.DEBUG = False\n",
    "\n",
    "h1 = network.Layer(nfeatures, 24, 'relu',  label=\"H1\")\n",
    "h2 = network.Layer(24, 32, 'relu',  label=\"H2\")\n",
    "h3 = network.Layer(32, 24, 'relu', label=\"H3\")\n",
    "o = network.Layer(24, nclasses, 'sigmoid', label=\"Output\")\n",
    "\n",
    "model = network.NN(loss='cross_entropy')\n",
    "model.add_layer(h1)\n",
    "model.add_layer(h2)\n",
    "model.add_layer(h3)\n",
    "model.add_layer(o)\n",
    "model.summary()\n",
    "\n",
    "\n",
    "print(\"\")\n",
    "start = time.process_time()\n",
    "model.fit(X, Y, max_iter=max_iter, \n",
    "          lr=lr, epsilon=eps, b_sz = 1,\n",
    "          decay_iteractions= decay_iteractions, decay_rate = decay_rate,\n",
    "          X_val=X_val, Y_val=Y_val,\n",
    "          print_interval=print_interval)\n",
    "iteraction_log = network.get_iteration_log()\n",
    "\n",
    "Y_ = np.array(model.predict(X))\n",
    "Y_ = Y_.argmax(axis=-1).flatten()\n",
    "mae = np.absolute(Y.argmax(axis=-1) - Y_).mean()\n",
    "\n",
    "print(\"Time Spent \", time.process_time() - start)\n",
    "\n",
    "\n",
    "Y_val_ = np.array(model.predict(X_val))\n",
    "\n",
    "\n",
    "import time\n",
    "import timeit\n",
    "from utils import dataset_helper\n",
    "from utils import custom_scores\n",
    "custom_scores.evalute_multiclass(Y_val.argmax(axis=-1), Y_val_.argmax(axis=-1))\n",
    "iteraction_log.index = iteraction_log.it\n",
    "iteraction_log.error_train.plot()\n",
    "iteraction_log.error_val.plot()"
   ]
  },
  {
   "cell_type": "markdown",
   "metadata": {},
   "source": [
    "## Using SMD "
   ]
  },
  {
   "cell_type": "code",
   "execution_count": 18,
   "metadata": {
    "scrolled": false
   },
   "outputs": [
    {
     "name": "stdout",
     "output_type": "stream",
     "text": [
      "Model Summary\n",
      "-------------------------------\n",
      "H1      (input=20, neurons=24, activation=tanh)\n",
      "H2      (input=24, neurons=32, activation=tanh)\n",
      "H3      (input=32, neurons=24, activation=tanh)\n",
      "Output  (input=24, neurons=3, activation=sigmoid)\n",
      "-------------------------------\n",
      "\n",
      "Shuffled\n"
     ]
    },
    {
     "name": "stderr",
     "output_type": "stream",
     "text": [
      "../NN/activation_functions.py:41: RuntimeWarning: overflow encountered in exp\n",
      "  return (2 / (1+np.exp(-2*h)))-1\n"
     ]
    },
    {
     "name": "stdout",
     "output_type": "stream",
     "text": [
      "It: 20000 Batch: 20000 Epoch 0 Train Loss: 0.43292614 lr: 1.000000 Val Loss: 0.40598102 Val Acc 0.46875000\n"
     ]
    },
    {
     "ename": "KeyboardInterrupt",
     "evalue": "",
     "output_type": "error",
     "traceback": [
      "\u001b[0;31m---------------------------------------------------------------------------\u001b[0m",
      "\u001b[0;31mKeyboardInterrupt\u001b[0m                         Traceback (most recent call last)",
      "\u001b[0;32m<ipython-input-18-db5d7869a96d>\u001b[0m in \u001b[0;36m<module>\u001b[0;34m()\u001b[0m\n\u001b[1;32m     44\u001b[0m           \u001b[0mdecay_iteractions\u001b[0m\u001b[0;34m=\u001b[0m \u001b[0;36m1\u001b[0m \u001b[0;34m*\u001b[0m \u001b[0mepoch_sz\u001b[0m\u001b[0;34m,\u001b[0m \u001b[0mdecay_rate\u001b[0m \u001b[0;34m=\u001b[0m \u001b[0;36m0.9\u001b[0m\u001b[0;34m,\u001b[0m\u001b[0;34m\u001b[0m\u001b[0m\n\u001b[1;32m     45\u001b[0m           \u001b[0mX_val\u001b[0m\u001b[0;34m=\u001b[0m\u001b[0mX_val\u001b[0m\u001b[0;34m,\u001b[0m \u001b[0mY_val\u001b[0m\u001b[0;34m=\u001b[0m\u001b[0mY_val\u001b[0m\u001b[0;34m,\u001b[0m\u001b[0;34m\u001b[0m\u001b[0m\n\u001b[0;32m---> 46\u001b[0;31m           print_interval=print_interval)\n\u001b[0m\u001b[1;32m     47\u001b[0m \u001b[0miteraction_log\u001b[0m \u001b[0;34m=\u001b[0m \u001b[0mnetwork\u001b[0m\u001b[0;34m.\u001b[0m\u001b[0mget_iteration_log\u001b[0m\u001b[0;34m(\u001b[0m\u001b[0;34m)\u001b[0m\u001b[0;34m\u001b[0m\u001b[0m\n\u001b[1;32m     48\u001b[0m \u001b[0;34m\u001b[0m\u001b[0m\n",
      "\u001b[0;32m/notebooks/local/LogisticRegression-ANN/NN/network.py\u001b[0m in \u001b[0;36mfit\u001b[0;34m(self, X, Y, lr, max_iter, lr_optimizer, epsilon, power_t, t, print_interval, b_sz, decay_iteractions, decay_rate, X_val, Y_val)\u001b[0m\n\u001b[1;32m    209\u001b[0m             \u001b[0merror\u001b[0m \u001b[0;34m+=\u001b[0m \u001b[0mself\u001b[0m\u001b[0;34m.\u001b[0m\u001b[0mloss\u001b[0m\u001b[0;34m(\u001b[0m\u001b[0maY\u001b[0m\u001b[0;34m,\u001b[0m \u001b[0mY_\u001b[0m\u001b[0;34m)\u001b[0m \u001b[0;34m/\u001b[0m \u001b[0mY_\u001b[0m\u001b[0;34m.\u001b[0m\u001b[0mshape\u001b[0m\u001b[0;34m[\u001b[0m\u001b[0;36m0\u001b[0m\u001b[0;34m]\u001b[0m\u001b[0;34m\u001b[0m\u001b[0m\n\u001b[1;32m    210\u001b[0m \u001b[0;34m\u001b[0m\u001b[0m\n\u001b[0;32m--> 211\u001b[0;31m             \u001b[0mself\u001b[0m\u001b[0;34m.\u001b[0m\u001b[0mbackpropagate\u001b[0m\u001b[0;34m(\u001b[0m\u001b[0mY_\u001b[0m\u001b[0;34m,\u001b[0m \u001b[0meta\u001b[0m\u001b[0;34m)\u001b[0m\u001b[0;34m\u001b[0m\u001b[0m\n\u001b[0m\u001b[1;32m    212\u001b[0m \u001b[0;34m\u001b[0m\u001b[0m\n\u001b[1;32m    213\u001b[0m             \u001b[0mit\u001b[0m \u001b[0;34m+=\u001b[0m \u001b[0;36m1\u001b[0m\u001b[0;34m\u001b[0m\u001b[0m\n",
      "\u001b[0;32m/notebooks/local/LogisticRegression-ANN/NN/network.py\u001b[0m in \u001b[0;36mbackpropagate\u001b[0;34m(self, Y, lr)\u001b[0m\n\u001b[1;32m    152\u001b[0m             \u001b[0mdprint\u001b[0m\u001b[0;34m(\u001b[0m\u001b[0mlayer\u001b[0m\u001b[0;34m.\u001b[0m\u001b[0mlabel\u001b[0m\u001b[0;34m)\u001b[0m\u001b[0;34m\u001b[0m\u001b[0m\n\u001b[1;32m    153\u001b[0m             \u001b[0mdprint\u001b[0m\u001b[0;34m(\u001b[0m\u001b[0;34m\"============================\"\u001b[0m\u001b[0;34m)\u001b[0m\u001b[0;34m\u001b[0m\u001b[0m\n\u001b[0;32m--> 154\u001b[0;31m             \u001b[0mlayer\u001b[0m\u001b[0;34m.\u001b[0m\u001b[0mbackpropagate\u001b[0m\u001b[0;34m(\u001b[0m\u001b[0moutput_layer\u001b[0m\u001b[0;34m=\u001b[0m\u001b[0mself\u001b[0m\u001b[0;34m.\u001b[0m\u001b[0mlayers\u001b[0m\u001b[0;34m[\u001b[0m\u001b[0ml_idx\u001b[0m\u001b[0;34m+\u001b[0m\u001b[0;36m1\u001b[0m\u001b[0;34m]\u001b[0m\u001b[0;34m)\u001b[0m\u001b[0;34m\u001b[0m\u001b[0m\n\u001b[0m\u001b[1;32m    155\u001b[0m \u001b[0;34m\u001b[0m\u001b[0m\n\u001b[1;32m    156\u001b[0m     def fit(self, X, Y, lr=0.5,\n",
      "\u001b[0;32m/notebooks/local/LogisticRegression-ANN/NN/network.py\u001b[0m in \u001b[0;36mbackpropagate\u001b[0;34m(self, lr, output_layer, dETotal_dOut)\u001b[0m\n\u001b[1;32m     90\u001b[0m             \u001b[0mself\u001b[0m\u001b[0;34m.\u001b[0m\u001b[0merror\u001b[0m \u001b[0;34m=\u001b[0m \u001b[0moutput_layer\u001b[0m\u001b[0;34m.\u001b[0m\u001b[0mdelta\u001b[0m\u001b[0;34m.\u001b[0m\u001b[0mdot\u001b[0m\u001b[0;34m(\u001b[0m\u001b[0moutput_layer\u001b[0m\u001b[0;34m.\u001b[0m\u001b[0mweights\u001b[0m\u001b[0;34m.\u001b[0m\u001b[0mT\u001b[0m\u001b[0;34m)\u001b[0m\u001b[0;34m\u001b[0m\u001b[0m\n\u001b[1;32m     91\u001b[0m \u001b[0;34m\u001b[0m\u001b[0m\n\u001b[0;32m---> 92\u001b[0;31m         \u001b[0mself\u001b[0m\u001b[0;34m.\u001b[0m\u001b[0mdelta\u001b[0m \u001b[0;34m=\u001b[0m \u001b[0mself\u001b[0m\u001b[0;34m.\u001b[0m\u001b[0merror\u001b[0m \u001b[0;34m*\u001b[0m \u001b[0mself\u001b[0m\u001b[0;34m.\u001b[0m\u001b[0mact_derivative\u001b[0m\u001b[0;34m(\u001b[0m\u001b[0mself\u001b[0m\u001b[0;34m.\u001b[0m\u001b[0mout\u001b[0m\u001b[0;34m)\u001b[0m\u001b[0;34m\u001b[0m\u001b[0m\n\u001b[0m\u001b[1;32m     93\u001b[0m \u001b[0;34m\u001b[0m\u001b[0m\n\u001b[1;32m     94\u001b[0m         \u001b[0mself\u001b[0m\u001b[0;34m.\u001b[0m\u001b[0mweights\u001b[0m \u001b[0;34m-=\u001b[0m \u001b[0mlr\u001b[0m \u001b[0;34m*\u001b[0m \u001b[0mself\u001b[0m\u001b[0;34m.\u001b[0m\u001b[0minput\u001b[0m\u001b[0;34m.\u001b[0m\u001b[0mT\u001b[0m\u001b[0;34m.\u001b[0m\u001b[0mdot\u001b[0m\u001b[0;34m(\u001b[0m\u001b[0mself\u001b[0m\u001b[0;34m.\u001b[0m\u001b[0mdelta\u001b[0m\u001b[0;34m)\u001b[0m\u001b[0;34m\u001b[0m\u001b[0m\n",
      "\u001b[0;32m/notebooks/local/LogisticRegression-ANN/NN/activation_functions.py\u001b[0m in \u001b[0;36mtanh_derivative_chain\u001b[0;34m(h)\u001b[0m\n\u001b[1;32m     51\u001b[0m \u001b[0;34m\u001b[0m\u001b[0m\n\u001b[1;32m     52\u001b[0m \u001b[0;32mdef\u001b[0m \u001b[0mtanh_derivative_chain\u001b[0m\u001b[0;34m(\u001b[0m\u001b[0mh\u001b[0m\u001b[0;34m)\u001b[0m\u001b[0;34m:\u001b[0m\u001b[0;34m\u001b[0m\u001b[0m\n\u001b[0;32m---> 53\u001b[0;31m     \u001b[0;32mreturn\u001b[0m \u001b[0;34m(\u001b[0m\u001b[0;36m4\u001b[0m\u001b[0;34m*\u001b[0m\u001b[0mnp\u001b[0m\u001b[0;34m.\u001b[0m\u001b[0mexp\u001b[0m\u001b[0;34m(\u001b[0m\u001b[0;34m-\u001b[0m\u001b[0;36m2\u001b[0m\u001b[0;34m*\u001b[0m\u001b[0mh\u001b[0m\u001b[0;34m)\u001b[0m\u001b[0;34m)\u001b[0m\u001b[0;34m/\u001b[0m\u001b[0;34m(\u001b[0m\u001b[0;34m(\u001b[0m\u001b[0;36m1\u001b[0m\u001b[0;34m+\u001b[0m\u001b[0mnp\u001b[0m\u001b[0;34m.\u001b[0m\u001b[0mexp\u001b[0m\u001b[0;34m(\u001b[0m\u001b[0;34m-\u001b[0m\u001b[0;36m2\u001b[0m\u001b[0;34m*\u001b[0m\u001b[0mh\u001b[0m\u001b[0;34m)\u001b[0m\u001b[0;34m)\u001b[0m\u001b[0;34m**\u001b[0m\u001b[0;36m2\u001b[0m\u001b[0;34m)\u001b[0m\u001b[0;34m\u001b[0m\u001b[0m\n\u001b[0m\u001b[1;32m     54\u001b[0m \u001b[0;34m\u001b[0m\u001b[0m\n\u001b[1;32m     55\u001b[0m \u001b[0;34m\u001b[0m\u001b[0m\n",
      "\u001b[0;31mKeyboardInterrupt\u001b[0m: "
     ]
    }
   ],
   "source": [
    "import time\n",
    "import timeit\n",
    "from utils import dataset_helper\n",
    "from utils import custom_scores\n",
    "reload(custom_scores)\n",
    "reload(dataset_helper)\n",
    "reload(loss_functions)\n",
    "reload(activation_functions)\n",
    "reload(network)\n",
    "reload(dataset_helper)\n",
    "\n",
    "X,  X_val, Y, Y_val = vals\n",
    "Y = dataset_helper.one_hot_encode(Y, nclasses)\n",
    "Y_val = dataset_helper.one_hot_encode(Y_val, nclasses)\n",
    "\n",
    "network.DEBUG = False\n",
    "\n",
    "h1 = network.Layer(nfeatures, 24, 'tanh',  label=\"H1\")\n",
    "h2 = network.Layer(24, 32, 'tanh',  label=\"H2\")\n",
    "h3 = network.Layer(32, 24, 'tanh', label=\"H3\")\n",
    "o = network.Layer(24, nclasses, 'sigmoid', label=\"Output\")\n",
    "\n",
    "model = network.NN(loss='smd')\n",
    "model.add_layer(h1)\n",
    "model.add_layer(h2)\n",
    "model.add_layer(h3)\n",
    "model.add_layer(o)\n",
    "model.summary()\n",
    "\n",
    "\n",
    "print(\"\")\n",
    "start = time.process_time()\n",
    "model.fit(X, Y, max_iter=max_iter, \n",
    "          lr=lr, epsilon=eps, b_sz = 1,\n",
    "          decay_iteractions= decay_iteractions, decay_rate = decay_rate,\n",
    "          X_val=X_val, Y_val=Y_val,\n",
    "          print_interval=print_interval)\n",
    "iteraction_log = network.get_iteration_log()\n",
    "\n",
    "Y_ = np.array(model.predict(X))\n",
    "Y_ = Y_.argmax(axis=-1).flatten()\n",
    "mae = np.absolute(Y.argmax(axis=-1) - Y_).mean()\n",
    "\n",
    "print(\"Time Spent \", time.process_time() - start)\n",
    "\n",
    "\n",
    "Y_val_ = np.array(model.predict(X_val))\n",
    "\n",
    "\n",
    "import time\n",
    "import timeit\n",
    "from utils import dataset_helper\n",
    "from utils import custom_scores\n",
    "custom_scores.evalute_multiclass(Y_val.argmax(axis=-1), Y_val_.argmax(axis=-1))\n",
    "iteraction_log.index = iteraction_log.it\n",
    "iteraction_log.error_train.plot()\n",
    "iteraction_log.error_val.plot()"
   ]
  },
  {
   "cell_type": "code",
   "execution_count": null,
   "metadata": {
    "scrolled": false
   },
   "outputs": [],
   "source": [
    "import time\n",
    "import timeit\n",
    "from utils import dataset_helper\n",
    "from utils import custom_scores\n",
    "reload(custom_scores)\n",
    "reload(dataset_helper)\n",
    "reload(loss_functions)\n",
    "reload(activation_functions)\n",
    "reload(network)\n",
    "reload(dataset_helper)\n",
    "\n",
    "X,  X_val, Y, Y_val = vals\n",
    "Y = dataset_helper.one_hot_encode(Y, nclasses)\n",
    "Y_val = dataset_helper.one_hot_encode(Y_val, nclasses)\n",
    "\n",
    "network.DEBUG = False\n",
    "\n",
    "h1 = network.Layer(nfeatures, 24, 'sigmoid',  label=\"H1\")\n",
    "h2 = network.Layer(24, 32, 'sigmoid',  label=\"H2\")\n",
    "h3 = network.Layer(32, 24, 'sigmoid', label=\"H3\")\n",
    "o = network.Layer(24, nclasses, 'sigmoid', label=\"Output\")\n",
    "\n",
    "model = network.NN(loss='smd')\n",
    "model.add_layer(h1)\n",
    "model.add_layer(h2)\n",
    "model.add_layer(h3)\n",
    "model.add_layer(o)\n",
    "model.summary()\n",
    "\n",
    "\n",
    "print(\"\")\n",
    "start = time.process_time()\n",
    "model.fit(X, Y, max_iter=max_iter, \n",
    "          lr=lr, epsilon=eps, b_sz = 1,\n",
    "          decay_iteractions= decay_iteractions, decay_rate = decay_rate,\n",
    "          X_val=X_val, Y_val=Y_val,\n",
    "          print_interval=print_interval)\n",
    "iteraction_log = network.get_iteration_log()\n",
    "\n",
    "Y_ = np.array(model.predict(X))\n",
    "Y_ = Y_.argmax(axis=-1).flatten()\n",
    "mae = np.absolute(Y.argmax(axis=-1) - Y_).mean()\n",
    "\n",
    "print(\"Time Spent \", time.process_time() - start)\n",
    "\n",
    "\n",
    "Y_val_ = np.array(model.predict(X_val))\n",
    "\n",
    "\n",
    "import time\n",
    "import timeit\n",
    "from utils import dataset_helper\n",
    "from utils import custom_scores\n",
    "custom_scores.evalute_multiclass(Y_val.argmax(axis=-1), Y_val_.argmax(axis=-1))\n",
    "iteraction_log.index = iteraction_log.it\n",
    "iteraction_log.error_train.plot()\n",
    "iteraction_log.error_val.plot()"
   ]
  },
  {
   "cell_type": "code",
   "execution_count": null,
   "metadata": {
    "scrolled": false
   },
   "outputs": [],
   "source": [
    "import time\n",
    "import timeit\n",
    "from utils import dataset_helper\n",
    "from utils import custom_scores\n",
    "reload(custom_scores)\n",
    "reload(dataset_helper)\n",
    "reload(loss_functions)\n",
    "reload(activation_functions)\n",
    "reload(network)\n",
    "reload(dataset_helper)\n",
    "\n",
    "X,  X_val, Y, Y_val = vals\n",
    "Y = dataset_helper.one_hot_encode(Y, nclasses)\n",
    "Y_val = dataset_helper.one_hot_encode(Y_val, nclasses)\n",
    "\n",
    "network.DEBUG = False\n",
    "\n",
    "h1 = network.Layer(nfeatures, 24, 'relu',  label=\"H1\")\n",
    "h2 = network.Layer(24, 32, 'relu',  label=\"H2\")\n",
    "h3 = network.Layer(32, 24, 'relu', label=\"H3\")\n",
    "o = network.Layer(24, nclasses, 'sigmoid', label=\"Output\")\n",
    "\n",
    "model = network.NN(loss='smd')\n",
    "model.add_layer(h1)\n",
    "model.add_layer(h2)\n",
    "model.add_layer(h3)\n",
    "model.add_layer(o)\n",
    "model.summary()\n",
    "\n",
    "\n",
    "print(\"\")\n",
    "start = time.process_time()\n",
    "model.fit(X, Y, max_iter=max_iter, \n",
    "          lr=lr, epsilon=eps, b_sz = 1,\n",
    "          decay_iteractions= decay_iteractions, decay_rate = decay_rate,\n",
    "          X_val=X_val, Y_val=Y_val,\n",
    "          print_interval=print_interval)\n",
    "iteraction_log = network.get_iteration_log()\n",
    "\n",
    "Y_ = np.array(model.predict(X))\n",
    "Y_ = Y_.argmax(axis=-1).flatten()\n",
    "mae = np.absolute(Y.argmax(axis=-1) - Y_).mean()\n",
    "\n",
    "print(\"Time Spent \", time.process_time() - start)\n",
    "\n",
    "\n",
    "Y_val_ = np.array(model.predict(X_val))\n",
    "\n",
    "\n",
    "import time\n",
    "import timeit\n",
    "from utils import dataset_helper\n",
    "from utils import custom_scores\n",
    "custom_scores.evalute_multiclass(Y_val.argmax(axis=-1), Y_val_.argmax(axis=-1))\n",
    "iteraction_log.index = iteraction_log.it\n",
    "iteraction_log.error_train.plot()\n",
    "iteraction_log.error_val.plot()"
   ]
  },
  {
   "cell_type": "code",
   "execution_count": null,
   "metadata": {},
   "outputs": [],
   "source": []
  }
 ],
 "metadata": {
  "kernelspec": {
   "display_name": "Python 3",
   "language": "python",
   "name": "python3"
  },
  "language_info": {
   "codemirror_mode": {
    "name": "ipython",
    "version": 3
   },
   "file_extension": ".py",
   "mimetype": "text/x-python",
   "name": "python",
   "nbconvert_exporter": "python",
   "pygments_lexer": "ipython3",
   "version": "3.5.2"
  }
 },
 "nbformat": 4,
 "nbformat_minor": 2
}
