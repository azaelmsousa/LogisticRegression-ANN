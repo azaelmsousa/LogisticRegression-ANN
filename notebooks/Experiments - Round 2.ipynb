{
 "cells": [
  {
   "cell_type": "markdown",
   "metadata": {},
   "source": [
    "# Experiments - Round 2\n",
    "## Multinomial Logistic Regression (Softmax Regression)\n",
    "This notebook performs experiments for the classification of garments using the Multinomial Logistic Regression. The Multinomial Logitic Regression uses the softmax function to compute a single model capable of multiclass classification."
   ]
  },
  {
   "cell_type": "code",
   "execution_count": null,
   "metadata": {},
   "outputs": [],
   "source": [
    "import sys\n",
    "sys.path.append('../')\n",
    "import SGD\n",
    "from sklearn.model_selection import train_test_split\n",
    "\n",
    "from utils import dataset_helper\n",
    "from importlib import reload\n",
    "from scipy import stats\n",
    "import pandas as pd\n",
    "reload(dataset_helper)"
   ]
  },
  {
   "cell_type": "code",
   "execution_count": null,
   "metadata": {},
   "outputs": [],
   "source": [
    "normalization_comparison = []"
   ]
  },
  {
   "cell_type": "code",
   "execution_count": null,
   "metadata": {},
   "outputs": [],
   "source": [
    "X_train, y_train, X_test, y_test  = dataset_helper.load_fasion_mnist(scaling='default')\n",
    "normalization_comparison.append(stats.describe(X_train[0]))"
   ]
  },
  {
   "cell_type": "code",
   "execution_count": null,
   "metadata": {},
   "outputs": [],
   "source": [
    "X_train, y_train, X_test, y_test  = dataset_helper.load_fasion_mnist(scaling='mean_std')\n",
    "normalization_comparison.append(stats.describe(X_train[0]))"
   ]
  },
  {
   "cell_type": "code",
   "execution_count": null,
   "metadata": {},
   "outputs": [],
   "source": [
    "X_train, y_train, X_test, y_test  = dataset_helper.load_fasion_mnist(scaling='min_max')\n",
    "normalization_comparison.append(stats.describe(X_train[0]))"
   ]
  },
  {
   "cell_type": "code",
   "execution_count": null,
   "metadata": {},
   "outputs": [],
   "source": [
    "df = pd.DataFrame(normalization_comparison)\n",
    "df"
   ]
  },
  {
   "cell_type": "code",
   "execution_count": null,
   "metadata": {},
   "outputs": [],
   "source": [
    "from SGD import *\n"
   ]
  },
  {
   "cell_type": "code",
   "execution_count": null,
   "metadata": {},
   "outputs": [],
   "source": [
    "\n",
    "theta,acc = softmax_logistic.BGD(X_train,y_train,0.1,20)\n",
    "\n",
    "predY = softmax_logistic.classify_softmax(theta,X_val)\n",
    "\n",
    "print(\"\\n--- Classification\")\n",
    "print(predY)\n",
    "print(\"\\n--- Expected Output\")\n",
    "print(y_val)\n",
    "\n",
    "acc = AccuracyScore(y_val,predY,mode='multi')\n",
    "sk_acc = metrics.accuracy_score(y_val,predY)\n",
    "\n",
    "pre = PrecisionScore(y_val,predY,mode='multi')\n",
    "\n",
    "sk_pre = metrics.precision_score(y_val,predY,average='micro')\n",
    "\n",
    "recall = RecallScore(y_val,predY,mode='multi')\n",
    "\n",
    "sk_recall = metrics.recall_score(y_val,predY,average='micro')\n",
    "\n",
    "f = FbScore(y_val,predY,1,mode='multi')\n",
    "\n",
    "sk_f = metrics.f1_score(y_val,predY,average='micro')\n",
    "\n",
    "print()\n",
    "print(\"myAccuracy: \", str(acc))\n",
    "print(\"skAccuracy: \", str(sk_acc))\n",
    "print()\n",
    "print(\"myPrecision: \",str(pre))\n",
    "print(\"skPrecision: \",str(sk_pre))\n",
    "print()\n",
    "print(\"myRecall: \",str(recall))\n",
    "print(\"skRecall: \",str(sk_recall))\n",
    "print()\n",
    "print(\"myF1Score: \",str(f))\n",
    "print(\"skF1Score: \",str(sk_f))"
   ]
  },
  {
   "cell_type": "code",
   "execution_count": null,
   "metadata": {},
   "outputs": [],
   "source": [
    "predY.shape"
   ]
  },
  {
   "cell_type": "code",
   "execution_count": null,
   "metadata": {},
   "outputs": [],
   "source": [
    "X, y, _, _  = dataset_helper.load_fasion_mnist()\n",
    "X_train, X_val, y_train, y_val = train_test_split(X, y, test_size=0.2, random_state=1)"
   ]
  },
  {
   "cell_type": "code",
   "execution_count": null,
   "metadata": {
    "scrolled": false
   },
   "outputs": [],
   "source": [
    "import time\n",
    "from SGD.custom_SGD import *\n",
    "reload(custom_SGD)\n",
    "X, y, _, _  = dataset_helper.load_fasion_mnist()\n",
    "    \n",
    "X_train, X_val, y_train, y_val = train_test_split(X, y, test_size=0.2, random_state=1)\n",
    "\n",
    "lr = .1\n",
    "max_iter = 10\n",
    "batch_sz = 256\n",
    "print_interval = 10\n",
    "\n",
    "print(\"\")\n",
    "print(\"Stochastic Mini batch\")\n",
    "print(\"----------------------------\")\n",
    "print(\"Number of Iterations:\",max_iter)\n",
    "print(\"Learning rate:\",lr)\n",
    "print(\"----------------------------\")\n",
    "start = time.process_time()\n",
    "theta = SGD_one_vs_all(lr, max_iter, X_train, y_train, batch_type='Full', lr_optimizer='invscaling',                       \n",
    "                       batch_sz=batch_sz, print_interval=print_interval, \n",
    "                       X_val=X_val, y_val = y_val,\n",
    "                       )\n",
    "print(\"Time Spent \", time.process_time() - start)\n",
    "y_pred = classify(theta, X_val, binary=False)\n",
    "evalute_multiclass(y_val, y_pred)"
   ]
  },
  {
   "cell_type": "code",
   "execution_count": null,
   "metadata": {},
   "outputs": [],
   "source": [
    "from utils import dataset_helper\n",
    "reload(custom_SGD)\n",
    "lr = .0001\n",
    "max_iter = 50\n",
    "batch_sz = 1\n",
    "print_interval = 10\n",
    "nclasses = 10\n",
    "print(\"\")\n",
    "print(\"Stochastic Mini batch\")\n",
    "print(\"----------------------------\")\n",
    "print(\"Number of Iterations:\", max_iter)\n",
    "print(\"Learning rate:\", lr)\n",
    "print(\"----------------------------\")\n",
    "\n",
    "\n",
    "y_val_enc = dataset_helper.one_hot_encode(y_val, nclasses)\n",
    "y_train_enc = dataset_helper.one_hot_encode(y_train, nclasses)\n",
    "\n",
    "start = time.process_time()\n",
    "theta = SGD_softmax(lr=lr, max_iter=max_iter, X=X_train, y=y_train_enc, batch_type='Full',\n",
    "                    batch_sz=batch_sz, print_interval=print_interval, \n",
    "                    X_val=X_val, y_val = y_val_enc)\n",
    "print(\"Time Spent \", time.process_time() - start)\n",
    "y_pred = classify_softmax(theta, X_val)\n",
    "evalute_multiclass(y_val, y_pred)"
   ]
  },
  {
   "cell_type": "code",
   "execution_count": null,
   "metadata": {},
   "outputs": [],
   "source": [
    "y_val_enc.shape"
   ]
  },
  {
   "cell_type": "code",
   "execution_count": null,
   "metadata": {},
   "outputs": [],
   "source": []
  }
 ],
 "metadata": {
  "kernelspec": {
   "display_name": "Python 3",
   "language": "python",
   "name": "python3"
  },
  "language_info": {
   "codemirror_mode": {
    "name": "ipython",
    "version": 3
   },
   "file_extension": ".py",
   "mimetype": "text/x-python",
   "name": "python",
   "nbconvert_exporter": "python",
   "pygments_lexer": "ipython3",
   "version": "3.5.2"
  }
 },
 "nbformat": 4,
 "nbformat_minor": 2
}
