{
 "cells": [
  {
   "cell_type": "markdown",
   "metadata": {},
   "source": [
    "# Evaluation of the Logistic Regression\n",
    "\n",
    "The best hyperparameters obtained during the 5-fold Cross Validation Grid Search were:\n",
    " * Learning rate: ??\n",
    " * Number of Iterations: ??\n",
    "The data was divided into training and validation with the random state of 42"
   ]
  },
  {
   "cell_type": "code",
   "execution_count": null,
   "metadata": {},
   "outputs": [],
   "source": [
    "import sys\n",
    "sys.path.append('../')\n",
    "import time\n",
    "from SGD.custom_SGD import *\n",
    "from SGD.experiments import *"
   ]
  },
  {
   "cell_type": "code",
   "execution_count": null,
   "metadata": {},
   "outputs": [],
   "source": [
    "X, y, _, _  = dataset_helper.load_fasion_mnist()\n",
    "   \n",
    "X_train, X_val, y_train, y_val = train_test_split(X, y, test_size=0.2, random_state=42)"
   ]
  },
  {
   "cell_type": "code",
   "execution_count": null,
   "metadata": {},
   "outputs": [],
   "source": [
    "lr = .1\n",
    "max_iter = 100\n",
    "batch_sz = 256\n",
    "print_interval = 10\n",
    "\n",
    "print(\"\")\n",
    "print(\"Full batch\")\n",
    "print(\"----------------------------\")\n",
    "print(\"Number of Iterations:\",max_iter)\n",
    "print(\"Learning rate:\",lr)\n",
    "print(\"----------------------------\")\n",
    "start = time.process_time()\n",
    "theta = SGD_one_vs_all(lr, max_iter, X_train, y_train, batch_type='Full',                        \n",
    "                      batch_sz=batch_sz, print_interval=print_interval, \n",
    "                      X_val=X_val, y_val = y_val,\n",
    "                      )\n",
    "print(\"Time Spent \", time.process_time() - start)\n",
    "y_pred = classify(theta, X_val, binary=False)\n",
    "evalute_multiclass(y_val, y_pred)"
   ]
  }
 ],
 "metadata": {
  "kernelspec": {
   "display_name": "Python 3",
   "language": "python",
   "name": "python3"
  },
  "language_info": {
   "codemirror_mode": {
    "name": "ipython",
    "version": 3
   },
   "file_extension": ".py",
   "mimetype": "text/x-python",
   "name": "python",
   "nbconvert_exporter": "python",
   "pygments_lexer": "ipython3",
   "version": "3.5.2"
  }
 },
 "nbformat": 4,
 "nbformat_minor": 2
}
