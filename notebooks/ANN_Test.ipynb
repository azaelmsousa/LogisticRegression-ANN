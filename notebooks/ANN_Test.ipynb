{
 "cells": [
  {
   "cell_type": "code",
   "execution_count": 1,
   "metadata": {},
   "outputs": [
    {
     "name": "stderr",
     "output_type": "stream",
     "text": [
      "/root/.local/lib/python3.5/site-packages/sklearn/ensemble/weight_boosting.py:29: DeprecationWarning: numpy.core.umath_tests is an internal NumPy module and should not be imported. It will be removed in a future NumPy release.\n",
      "  from numpy.core.umath_tests import inner1d\n"
     ]
    }
   ],
   "source": [
    "import sys \n",
    "sys.path.append('../')\n",
    "import numpy as np\n",
    "import pandas as pd\n",
    "import matplotlib.pyplot as plt\n",
    "from NN import network, activation_functions, loss_functions\n",
    "from NN import ANN\n"
   ]
  },
  {
   "cell_type": "markdown",
   "metadata": {},
   "source": [
    "# Introduction \n",
    "This notebook was made as a base for the Neural Network implementation and tests. \n",
    "The target values for the net and output for each layers follows bellow: \n",
    "```\n",
    "Input Layer:\n",
    "[0.05, 0.10]\n",
    "\n",
    "Hidden Layer:\n",
    "Weigths [0.15, 0.2] [0.25, 0.3]\n",
    "Net [0.3775 0.3925]\n",
    "Out [0.59326999 0.59688438] (softmax)\n",
    "Grad [[0.14978072 0.24950229] [0.19978072 0.29950229]]\n",
    "\n",
    "Output Layer:\n",
    "[[0.4, 0.45], [0.50, 0.55]]\n",
    "Net [1.10590597 1.2249214 ]\n",
    "Out [0.75136507 0.77292847]] (softmax)\n",
    "Grad \n",
    "\n",
    "\n",
    "\n",
    "MSD = 0.2983711\n",
    "```\n"
   ]
  },
  {
   "cell_type": "code",
   "execution_count": 2,
   "metadata": {},
   "outputs": [],
   "source": [
    "# Target Values \n",
    "# Hidden Layer:\n",
    "_NetH = np.array([[0.3775, 0.3925]])\n",
    "_OutH = np.array([[0.59326999, 0.59688438]])\n",
    "\n",
    "# Output Layer:\n",
    "_NetO = np.array([[1.10590597, 1.2249214 ]])\n",
    "_OutO = np.array([[0.75136507, 0.77292847]])\n",
    "\n",
    "_MSD = 0.2983711\n",
    "_error_accepted = 0.00000001"
   ]
  },
  {
   "cell_type": "code",
   "execution_count": 3,
   "metadata": {},
   "outputs": [],
   "source": [
    "def compare_arrays(A, B, eps=_error_accepted): \n",
    "    return (A - B).sum() < eps"
   ]
  },
  {
   "cell_type": "markdown",
   "metadata": {},
   "source": [
    "## Layer by Layer Validation\n",
    "To identify if there is no code broken"
   ]
  },
  {
   "cell_type": "code",
   "execution_count": 4,
   "metadata": {},
   "outputs": [
    {
     "name": "stdout",
     "output_type": "stream",
     "text": [
      "[[0.3775 0.3925]]\n",
      "[[0.59326999 0.59688438]]\n"
     ]
    }
   ],
   "source": [
    "from importlib import reload\n",
    "reload(network)\n",
    "I = np.array([[0.05, 0.10]])\n",
    "W = np.array([[0.15, 0.2], [0.25, 0.3]]).T\n",
    "h1 = network.Layer(2, 2, 'sigmoid', weights=W, bias=0.35, label=\"H1\")\n",
    "netH, outH =  h1.feed_forward(I)\n",
    "print(netH)\n",
    "print(outH)\n",
    "assert(compare_arrays(netH, _NetH))\n",
    "assert(compare_arrays(outH, _OutH))"
   ]
  },
  {
   "cell_type": "code",
   "execution_count": 5,
   "metadata": {
    "scrolled": false
   },
   "outputs": [
    {
     "name": "stdout",
     "output_type": "stream",
     "text": [
      "[[1.10590597 1.2249214 ]]\n",
      "[[0.75136507 0.77292847]]\n"
     ]
    }
   ],
   "source": [
    "from importlib import reload\n",
    "reload(network)\n",
    "I = np.array([[0.59326999, 0.59688438]])\n",
    "W = np.array([[0.4, 0.45], [0.50, 0.55]]).T\n",
    "o1 = network.Layer(2, 2, 'sigmoid', weights=W, bias=0.6, label=\"H1\")\n",
    "netO, outO =  o1.feed_forward(I)\n",
    "print(netO)\n",
    "print(outO)\n",
    "assert(compare_arrays(netO, _NetO))\n",
    "assert(compare_arrays(outO, _OutO))"
   ]
  },
  {
   "cell_type": "markdown",
   "metadata": {},
   "source": [
    "# Convergence Checkings\n",
    "Based on the sample given by the class teacher"
   ]
  },
  {
   "cell_type": "markdown",
   "metadata": {},
   "source": [
    "## Manual Calculations"
   ]
  },
  {
   "cell_type": "code",
   "execution_count": 6,
   "metadata": {},
   "outputs": [
    {
     "name": "stdout",
     "output_type": "stream",
     "text": [
      "Model Weights\n",
      "-------------------------------\n",
      "H1      (input=2, neurons=2, activation=sigmoid)\n",
      "[[0.15 0.25]\n",
      " [0.2  0.3 ]]\n",
      "H1      (input=2, neurons=2, activation=sigmoid)\n",
      "[[0.4  0.5 ]\n",
      " [0.45 0.55]]\n",
      "-------------------------------\n",
      "Y\n",
      " [1.10590597, 1.2249214]\n",
      "\n",
      "a(Y)\n",
      " [0.75136507, 0.77292847]\n"
     ]
    }
   ],
   "source": [
    "from importlib import reload\n",
    "reload(network)\n",
    "model = network.NN(loss='smd')\n",
    "X = np.array([[0.05, 0.10]])\n",
    "\n",
    "Wh = np.array([[0.15, 0.2], [0.25, 0.3]]).T\n",
    "h = network.Layer(2, 2, 'sigmoid', weights=Wh, bias=0.35, label=\"H1\")\n",
    "\n",
    "Wo = np.array([[0.4, 0.45], [0.50, 0.55]]).T\n",
    "o = network.Layer(2, 2, 'sigmoid', weights=Wo, bias=0.6, label=\"H1\")\n",
    "model.add_layer(h)\n",
    "model.add_layer(o)\n",
    "model.show_weights()\n",
    "\n",
    "Y, aY = model.feed_forward(X)\n",
    "Y_, aY_ = ([1.10590597, 1.2249214 ], [0.75136507, 0.77292847])\n",
    "print(\"Y\\n\",Y_)\n",
    "print(\"\\na(Y)\\n\",aY_)\n",
    "\n",
    "assert(compare_arrays(Y, Y_))\n",
    "assert(compare_arrays(aY, aY_))\n"
   ]
  },
  {
   "cell_type": "markdown",
   "metadata": {},
   "source": [
    "### Working on the back propagation"
   ]
  },
  {
   "cell_type": "code",
   "execution_count": 7,
   "metadata": {},
   "outputs": [
    {
     "name": "stdout",
     "output_type": "stream",
     "text": [
      "Model Weights\n",
      "-------------------------------\n",
      "H1      (input=2, neurons=2, activation=sigmoid)\n",
      "[[0.15 0.25]\n",
      " [0.2  0.3 ]]\n",
      "H1      (input=2, neurons=2, activation=sigmoid)\n",
      "[[0.4  0.5 ]\n",
      " [0.45 0.55]]\n",
      "-------------------------------\n",
      "0.2983711087600027\n"
     ]
    }
   ],
   "source": [
    "from importlib import reload\n",
    "reload(network)\n",
    "model.show_weights()\n",
    "Y = np.array([0.01, 0.99])\n",
    "Etotal = loss_functions.smd(aY, Y)\n",
    "print(Etotal)\n",
    "assert((Etotal - _MSD) < np.finfo(np.float32).eps)"
   ]
  },
  {
   "cell_type": "markdown",
   "metadata": {},
   "source": [
    "### Emulating the weights update for the layer O "
   ]
  },
  {
   "cell_type": "code",
   "execution_count": 8,
   "metadata": {},
   "outputs": [
    {
     "name": "stdout",
     "output_type": "stream",
     "text": [
      "[[ 0.74136507 -0.21707153]]\n",
      "dout [[0.1868156  0.17551005]]\n",
      "dnet [[0.59326999 0.59688438]]\n",
      "delta [[ 0.13849856 -0.03809824]]\n",
      "dw [[ 0.08216704 -0.02274024]]\n",
      "update [[0.35891648 0.51137012]\n",
      " [0.40891648 0.56137012]]\n"
     ]
    }
   ],
   "source": [
    "reload(loss_functions)\n",
    "reload(activation_functions)\n",
    "lr = 0.5\n",
    "#Done - Partial\n",
    "dEo_dw = loss_functions.smd_derivative_chain(outO, Y)\n",
    "print(dEo_dw)\n",
    "\n",
    "# Done\n",
    "dOuto_Dneto = activation_functions.sigmoid_derivative_chain(outO)\n",
    "print('dout',dOuto_Dneto)\n",
    "\n",
    "# Done - Self.input\n",
    "dNeto  = outH\n",
    "print('dnet',dNeto) \n",
    "# Done\n",
    "deltaO  = dEo_dw * dOuto_Dneto\n",
    "print('delta', deltaO)\n",
    "\n",
    "dWO = deltaO * outH\n",
    "print('dw', dWO)\n",
    "# Done\n",
    "updateO = Wo - lr * dWO\n",
    "print('update', updateO)"
   ]
  },
  {
   "cell_type": "code",
   "execution_count": 9,
   "metadata": {},
   "outputs": [
    {
     "name": "stdout",
     "output_type": "stream",
     "text": [
      "[[ 0.05539942 -0.01904912]\n",
      " [ 0.06232435 -0.02095403]]\n",
      "dETotal_dOh [0.03635031 0.04137032]\n",
      "dOuth_Dneth [[0.24130071 0.24061342]]\n",
      "deltaH [[0.00877135 0.00995425]]\n",
      "dWh [[0.00043857 0.00099543]]\n",
      "update [[0.14978072 0.24950229]\n",
      " [0.19978072 0.29950229]]\n"
     ]
    }
   ],
   "source": [
    "#\n",
    "# Done - Partial\n",
    "dEo_dOh = deltaO * Wo\n",
    "dETotal_dOh = dEo_dOh.sum(axis=1)\n",
    "print (dEo_dOh)\n",
    "print('dETotal_dOh', dETotal_dOh)\n",
    "\n",
    "# Done\n",
    "dOuth_Dneth = activation_functions.sigmoid_derivative_chain(outH)\n",
    "print('dOuth_Dneth', dOuth_Dneth)\n",
    "\n",
    "\n",
    "# Done\n",
    "deltaH = dETotal_dOh * dOuth_Dneth \n",
    "print('deltaH', deltaH)\n",
    "\n",
    "# done\n",
    "# self.input\n",
    "dNeth_dw = X\n",
    "dWh = deltaH * dNeth_dw\n",
    "print('dWh', dWh)\n",
    "\n",
    "# Done\n",
    "updateH = Wh - lr * dWh\n",
    "print('update', updateH)"
   ]
  },
  {
   "cell_type": "markdown",
   "metadata": {},
   "source": [
    "## Using the implemented Grad calculation for Layers"
   ]
  },
  {
   "cell_type": "code",
   "execution_count": 10,
   "metadata": {
    "scrolled": false
   },
   "outputs": [
    {
     "name": "stdout",
     "output_type": "stream",
     "text": [
      "('net', array([[0.3775, 0.3925],\n",
      "       [0.3775, 0.3925]]))\n",
      "('out', array([[0.59326999, 0.59688438],\n",
      "       [0.59326999, 0.59688438]]))\n",
      "('net', array([[1.10590597, 1.2249214 ],\n",
      "       [1.10590597, 1.2249214 ]]))\n",
      "('out', array([[0.75136507, 0.77292847],\n",
      "       [0.75136507, 0.77292847]]))\n",
      "0 error 0.5967422175200054\n",
      "[[ 0.74136507 -0.21707153]\n",
      " [ 0.74136507 -0.21707153]]\n",
      "\n",
      "==========================================\n",
      "Back Propagate Layer O\n",
      "==========================================\n",
      "('dETotal_dOut', array([[ 0.74136507, -0.21707153],\n",
      "       [ 0.74136507, -0.21707153]]))\n",
      "==========================================\n",
      "\n",
      "==========================================\n",
      "Back Propagate Layer H\n",
      "==========================================\n",
      "('dETotal_dOut', None)\n",
      "==========================================\n",
      "[[0.75136507 0.77292847]\n",
      " [0.75136507 0.77292847]]\n"
     ]
    }
   ],
   "source": [
    "reload(loss_functions)\n",
    "reload(activation_functions)\n",
    "reload(network)\n",
    "network.DEBUG = True\n",
    "\n",
    "X = np.array([[0.05, 0.10], [0.05, 0.10]], np.float64)\n",
    "Wh = np.array([[0.15, 0.2], [0.25, 0.3]], np.float64).T\n",
    "h = network.Layer(2, 2, 'sigmoid', weights=Wh, bias=0.35, label=\"H1\")\n",
    "\n",
    "Wo = np.array([[0.4, 0.45], [0.50, 0.55]],  np.float64).T\n",
    "o = network.Layer(2, 2, 'sigmoid', bias=0.6, weights=Wo, label=\"O\")\n",
    "Y = np.array([[0.01, 0.99], [0.01, 0.99]], np.float64)\n",
    "\n",
    "for i in range(1):\n",
    "    netH, outH = h.feed_forward(X)\n",
    "    netO, outO = o.feed_forward(outH)\n",
    "\n",
    "    \n",
    "    Etotal = loss_functions.smd(outO, Y)\n",
    "    if (i % 1000) == 0:\n",
    "        print(i, 'error', Etotal)\n",
    "    \n",
    "    dEo_dw = loss_functions.smd_derivative_chain(outO, Y)\n",
    "    \n",
    "    network.dprint(dEo_dw)\n",
    "    network.dprint (\"\")\n",
    "    network.dprint (\"==========================================\")\n",
    "    network.dprint (\"Back Propagate Layer O\")\n",
    "    network.dprint (\"==========================================\")\n",
    "    o.backpropagate(dETotal_dOut=dEo_dw)\n",
    "    network.dprint (\"==========================================\")\n",
    "    network.dprint (\"\")\n",
    "\n",
    "    network.dprint (\"==========================================\")\n",
    "    network.dprint (\"Back Propagate Layer H\")\n",
    "    network.dprint (\"==========================================\")\n",
    "    h.backpropagate(output_layer=o)\n",
    "    network.dprint (\"==========================================\")\n",
    "\n",
    "print (outO)"
   ]
  },
  {
   "cell_type": "markdown",
   "metadata": {},
   "source": [
    "# Using the Fit Methods with the full network calculation"
   ]
  },
  {
   "cell_type": "markdown",
   "metadata": {},
   "source": [
    "## SMD as the Loss Function"
   ]
  },
  {
   "cell_type": "code",
   "execution_count": 11,
   "metadata": {
    "scrolled": false
   },
   "outputs": [
    {
     "name": "stdout",
     "output_type": "stream",
     "text": [
      "Model Weights\n",
      "-------------------------------\n",
      "H1      (input=2, neurons=3, activation=sigmoid)\n",
      "[[0.06873094 0.06779104 0.46651586]\n",
      " [0.9942668  0.79429204 0.2299453 ]]\n",
      "Output  (input=3, neurons=2, activation=sigmoid)\n",
      "[[0.62169732 0.87361974]\n",
      " [0.78269033 0.80376662]\n",
      " [0.29429575 0.2874628 ]]\n",
      "-------------------------------\n",
      "Shuffled\n",
      "It: 2000 Batch: 1 Epoch 1999 Error: 0.00507939 lr: 0.500000 \n",
      "It: 4000 Batch: 1 Epoch 3999 Error: 0.00014605 lr: 0.500000 \n",
      "It: 6000 Batch: 1 Epoch 5999 Error: 0.00006126 lr: 0.500000 \n",
      "It: 8000 Batch: 1 Epoch 7999 Error: 0.00003292 lr: 0.500000 \n",
      "It: 10000 Batch: 1 Epoch 9999 Error: 0.00001986 lr: 0.500000 \n",
      "It: 12000 Batch: 1 Epoch 11999 Error: 0.00001283 lr: 0.500000 \n",
      "It: 14000 Batch: 1 Epoch 13999 Error: 0.00000866 lr: 0.500000 \n",
      "Finished \n",
      " It: 14001 Batch: 1 Epoch 14000 Train Loss: 0.00000866 lr: 0.500000 \n",
      "[[0.01267919 0.98732663]] 0.002676279473026986\n"
     ]
    }
   ],
   "source": [
    "from utils import dataset_helper\n",
    "reload(loss_functions)\n",
    "reload(activation_functions)\n",
    "reload(network)\n",
    "reload(dataset_helper)\n",
    "network.DEBUG = False\n",
    "eps = 0.00001\n",
    "\n",
    "X = np.array([[0.05, 0.10]], np.float64)\n",
    "Y = np.array([[0.01, 0.99]], np.float64)\n",
    "\n",
    "# Wh = np.array([[0.15, 0.2], [0.25, 0.3]], np.float64).T\n",
    "h = network.Layer(2, 3, 'sigmoid', bias=0.35, label=\"H1\")\n",
    "\n",
    "# Wo = np.array([[0.4, 0.45], [0.50, 0.55]], np.float64).T\n",
    "o = network.Layer(3, 2, 'sigmoid', bias=0.6, label=\"Output\")\n",
    "\n",
    "model = network.NN(loss='smd')\n",
    "model.add_layer(h)\n",
    "model.add_layer(o)\n",
    "model.show_weights()\n",
    "\n",
    "model.fit(X, Y, max_iter=50000, \n",
    "          lr=0.5, epsilon=eps, b_sz=2, \n",
    "          print_interval=2000)\n",
    "\n",
    "_, Y_ = model.feed_forward(X)\n",
    "\n",
    "mae = np.absolute(Y - Y_).mean()\n",
    "print(Y_, mae)\n",
    "assert(mae < 0.01)"
   ]
  },
  {
   "cell_type": "markdown",
   "metadata": {},
   "source": [
    "## Cross Entropy "
   ]
  },
  {
   "cell_type": "code",
   "execution_count": 12,
   "metadata": {
    "scrolled": false
   },
   "outputs": [
    {
     "name": "stdout",
     "output_type": "stream",
     "text": [
      "Model Weights\n",
      "-------------------------------\n",
      "H1      (input=2, neurons=2, activation=sigmoid)\n",
      "[[0.15 0.25]\n",
      " [0.2  0.3 ]]\n",
      "Output  (input=2, neurons=2, activation=sigmoid)\n",
      "[[0.4  0.5 ]\n",
      " [0.45 0.55]]\n",
      "-------------------------------\n",
      "Shuffled\n",
      "It: 2000 Batch: 1 Epoch 1999 Error: 0.76574643 lr: 0.100000 \n",
      "It: 4000 Batch: 1 Epoch 3999 Error: 0.66248688 lr: 0.100000 \n",
      "It: 6000 Batch: 1 Epoch 5999 Error: 0.65524647 lr: 0.100000 \n",
      "It: 8000 Batch: 1 Epoch 7999 Error: 0.65246400 lr: 0.100000 \n",
      "It: 10000 Batch: 1 Epoch 9999 Error: 0.65099797 lr: 0.100000 \n",
      "Finished \n",
      " It: 10000 Batch: 1 Epoch 9999 Train Loss: 0.65099797 lr: 0.100000 \n",
      "[[0.0038555  0.99623122]] 0.006187855935083348\n"
     ]
    }
   ],
   "source": [
    "from utils import dataset_helper\n",
    "reload(loss_functions)\n",
    "reload(activation_functions)\n",
    "reload(network)\n",
    "reload(dataset_helper)\n",
    "network.DEBUG = False\n",
    "eps = 0.0001\n",
    "X = np.array([[0.05, 0.10]], np.float64)\n",
    "Y = np.array([[0.01, 0.99]], np.float64)\n",
    "\n",
    "Wh = np.array([[0.15, 0.2], [0.25, 0.3]], np.float64).T\n",
    "h = network.Layer(2, 2, 'sigmoid', weights=Wh, bias=0.35, label=\"H1\")\n",
    "\n",
    "Wo = np.array([[0.4, 0.45], [0.50, 0.55]], np.float64).T\n",
    "o = network.Layer(2, 2, 'sigmoid', weights=Wo, bias=0.6, label=\"Output\")\n",
    "\n",
    "model = network.NN(loss='cross_entropy')\n",
    "model.add_layer(h)\n",
    "model.add_layer(o)\n",
    "model.show_weights()\n",
    "\n",
    "model.fit(X, Y, max_iter=10000,\n",
    "          lr=0.1, epsilon=eps, \n",
    "          print_interval=2000)\n",
    "\n",
    "_, Y_ = model.feed_forward(X)\n",
    "\n",
    "mae = np.absolute(Y - Y_).mean()\n",
    "print(Y_, mae)\n",
    "assert(mae < 0.01)"
   ]
  },
  {
   "cell_type": "code",
   "execution_count": 13,
   "metadata": {
    "scrolled": false
   },
   "outputs": [
    {
     "name": "stdout",
     "output_type": "stream",
     "text": [
      "Model Weights\n",
      "-------------------------------\n",
      "H1      (input=2, neurons=10, activation=sigmoid)\n",
      "[[0.34015892 0.3774501  0.55239781 0.21316383 0.18323073 0.71139699\n",
      "  0.21324548 0.9789309  0.47268886 0.89950838]\n",
      " [0.02625534 0.05711932 0.96850331 0.99641186 0.671959   0.93450684\n",
      "  0.74603043 0.39504565 0.356968   0.99335342]]\n",
      "Output  (input=10, neurons=2, activation=sigmoid)\n",
      "[[0.02965584 0.11591079]\n",
      " [0.40960434 0.54837269]\n",
      " [0.12947327 0.74444532]\n",
      " [0.549882   0.91837036]\n",
      " [0.81644862 0.97759646]\n",
      " [0.47140802 0.62939558]\n",
      " [0.2492737  0.80903289]\n",
      " [0.12812158 0.7763014 ]\n",
      " [0.63110963 0.48233425]\n",
      " [0.55560806 0.61378078]]\n",
      "-------------------------------\n",
      "Shuffled\n",
      "It: 2000 Batch: 2 Epoch 666 Error: 1.28496579 lr: 0.900000 \n",
      "It: 4000 Batch: 1 Epoch 1333 Error: 1.27898764 lr: 0.900000 \n",
      "It: 6000 Batch: 3 Epoch 1999 Error: 1.24843647 lr: 0.900000 \n",
      "It: 8000 Batch: 2 Epoch 2666 Error: 0.89221916 lr: 0.900000 \n",
      "It: 10000 Batch: 1 Epoch 3333 Error: 0.67213904 lr: 0.900000 \n",
      "It: 12000 Batch: 3 Epoch 3999 Error: 0.64576626 lr: 0.900000 \n",
      "It: 14000 Batch: 2 Epoch 4666 Error: 0.63801941 lr: 0.900000 \n",
      "It: 16000 Batch: 1 Epoch 5333 Error: 0.63451024 lr: 0.900000 \n",
      "It: 18000 Batch: 3 Epoch 5999 Error: 0.63254828 lr: 0.900000 \n",
      "It: 20000 Batch: 2 Epoch 6666 Error: 0.63131952 lr: 0.900000 \n",
      "It: 22000 Batch: 1 Epoch 7333 Error: 0.63047629 lr: 0.900000 \n",
      "It: 24000 Batch: 3 Epoch 7999 Error: 0.62987288 lr: 0.900000 \n",
      "It: 26000 Batch: 2 Epoch 8666 Error: 0.62941716 lr: 0.900000 \n",
      "It: 28000 Batch: 1 Epoch 9333 Error: 0.62906543 lr: 0.900000 \n",
      "It: 30000 Batch: 3 Epoch 9999 Error: 0.62878429 lr: 0.900000 \n",
      "It: 32000 Batch: 2 Epoch 10666 Error: 0.62855555 lr: 0.900000 \n",
      "It: 34000 Batch: 1 Epoch 11333 Error: 0.62836546 lr: 0.900000 \n",
      "It: 36000 Batch: 3 Epoch 11999 Error: 0.62820702 lr: 0.900000 \n",
      "It: 38000 Batch: 2 Epoch 12666 Error: 0.62807095 lr: 0.900000 \n",
      "It: 40000 Batch: 1 Epoch 13333 Error: 0.62795497 lr: 0.900000 \n",
      "It: 42000 Batch: 3 Epoch 13999 Error: 0.62785366 lr: 0.900000 \n",
      "It: 44000 Batch: 2 Epoch 14666 Error: 0.62776442 lr: 0.900000 \n",
      "It: 46000 Batch: 1 Epoch 15333 Error: 0.62768655 lr: 0.900000 \n",
      "It: 48000 Batch: 3 Epoch 15999 Error: 0.62761649 lr: 0.900000 \n",
      "It: 50000 Batch: 2 Epoch 16666 Error: 0.62755465 lr: 0.900000 \n",
      "Finished \n",
      " It: 50000 Batch: 2 Epoch 16666 Train Loss: 0.62755465 lr: 0.900000 \n",
      "0.0\n",
      "[1 1 0] [1 1 0]\n"
     ]
    }
   ],
   "source": [
    "from utils import dataset_helper\n",
    "reload(loss_functions)\n",
    "reload(activation_functions)\n",
    "reload(network)\n",
    "reload(dataset_helper)\n",
    "network.DEBUG = False\n",
    "\n",
    "eps = np.finfo(np.float32).eps\n",
    "\n",
    "X = np.array([[0.05, 0.10], [0.05, 0.10], [0.10, 0.05]], np.float64)\n",
    "Y = np.array([[0.0, 1], [0.0, 1], [1., 0.]], np.float64)\n",
    "\n",
    "h1 = network.Layer(2, 10, 'sigmoid',  label=\"H1\")\n",
    "o = network.Layer(10, 2, 'sigmoid',  label=\"Output\")\n",
    "\n",
    "model = network.NN(loss='cross_entropy')\n",
    "model.add_layer(h1)\n",
    "model.add_layer(o)\n",
    "model.show_weights()\n",
    "\n",
    "model.fit(X, Y, max_iter=50000, \n",
    "          lr=0.9, epsilon=eps,\n",
    "          print_interval=2000)\n",
    "\n",
    "Y_ = np.array(model.predict(X))\n",
    "Y_ = Y_.argmax(axis=-1).flatten()\n",
    "Y = Y.argmax(axis=-1)\n",
    "mae = np.absolute(Y - Y_).mean()\n",
    "print(mae)\n",
    "print(Y, Y_)\n",
    "assert(mae < 0.1)"
   ]
  },
  {
   "cell_type": "markdown",
   "metadata": {},
   "source": [
    "# Multi class Classification Test"
   ]
  },
  {
   "cell_type": "code",
   "execution_count": 14,
   "metadata": {},
   "outputs": [],
   "source": [
    "nclasses = 3\n",
    "nsamples = 60000\n",
    "nfeatures = 128\n",
    "\n",
    "eps = np.finfo(np.float32).eps\n",
    "\n",
    "\n",
    "vals = dataset_helper.get_toy_data_multiclass(nclasses, nsamples, nfeatures)\n",
    "X,  _, _, _ = vals\n",
    "\n",
    "epoch_sz = X.shape[0]\n",
    "lr = 0.9\n",
    "max_iter = 10 * epoch_sz\n",
    "print_interval = 20*1000\n",
    "decay_iteractions= 1 * epoch_sz\n",
    "decay_rate = 0.8"
   ]
  },
  {
   "cell_type": "markdown",
   "metadata": {},
   "source": [
    "## Using Cross Entropy as the Loss Function"
   ]
  },
  {
   "cell_type": "code",
   "execution_count": 15,
   "metadata": {
    "scrolled": false
   },
   "outputs": [
    {
     "name": "stdout",
     "output_type": "stream",
     "text": [
      "Model Summary\n",
      "-------------------------------\n",
      "H1      (input=128, neurons=24, activation=tanh)\n",
      "H2      (input=24, neurons=32, activation=tanh)\n",
      "H3      (input=32, neurons=24, activation=tanh)\n",
      "Output  (input=24, neurons=3, activation=sigmoid)\n",
      "-------------------------------\n",
      "\n",
      "Shuffled\n"
     ]
    },
    {
     "name": "stderr",
     "output_type": "stream",
     "text": [
      "../NN/activation_functions.py:41: RuntimeWarning: overflow encountered in exp\n",
      "  return (2 / (1+np.exp(-2*h)))-1\n"
     ]
    },
    {
     "name": "stdout",
     "output_type": "stream",
     "text": [
      "It: 20000 Batch: 20000 Epoch 0 Train Loss: 1.90895007 lr: 0.900000 Val Loss: 1.89863641 Val Acc 0.47116667\n",
      "It: 40000 Batch: 40000 Epoch 0 Train Loss: 1.57407436 lr: 0.900000 Val Loss: 1.35639041 Val Acc 0.78225000\n",
      "It: 60000 Batch: 12000 Epoch 1 Train Loss: 1.33845516 lr: 0.720000 Val Loss: 1.33827933 Val Acc 0.83750000\n",
      "It: 80000 Batch: 32000 Epoch 1 Train Loss: 1.31153297 lr: 0.720000 Val Loss: 1.31628546 Val Acc 0.81091667\n",
      "It: 100000 Batch: 4000 Epoch 2 Train Loss: 1.32386109 lr: 0.576000 Val Loss: 1.31022284 Val Acc 0.81566667\n",
      "It: 120000 Batch: 24000 Epoch 2 Train Loss: 1.29910987 lr: 0.576000 Val Loss: 1.31699417 Val Acc 0.82758333\n",
      "It: 140000 Batch: 44000 Epoch 2 Train Loss: 1.33062375 lr: 0.576000 Val Loss: 1.34432218 Val Acc 0.83666667\n",
      "It: 160000 Batch: 16000 Epoch 3 Train Loss: 1.31807714 lr: 0.460800 Val Loss: 1.32014582 Val Acc 0.83675000\n",
      "It: 180000 Batch: 36000 Epoch 3 Train Loss: 1.30061129 lr: 0.460800 Val Loss: 1.28359356 Val Acc 0.86558333\n",
      "It: 200000 Batch: 8000 Epoch 4 Train Loss: 1.29459732 lr: 0.368640 Val Loss: 1.29177276 Val Acc 0.86058333\n",
      "It: 220000 Batch: 28000 Epoch 4 Train Loss: 1.29852748 lr: 0.368640 Val Loss: 1.36700281 Val Acc 0.81358333\n",
      "It: 240000 Batch: 48000 Epoch 4 Train Loss: 1.31665266 lr: 0.368640 Val Loss: 1.31481994 Val Acc 0.84208333\n",
      "It: 260000 Batch: 20000 Epoch 5 Train Loss: 1.31120441 lr: 0.294912 Val Loss: 1.32379977 Val Acc 0.85033333\n",
      "It: 280000 Batch: 40000 Epoch 5 Train Loss: 1.30001171 lr: 0.294912 Val Loss: 1.29905807 Val Acc 0.86133333\n",
      "It: 300000 Batch: 12000 Epoch 6 Train Loss: 1.31403736 lr: 0.235930 Val Loss: 1.32732080 Val Acc 0.84808333\n",
      "It: 320000 Batch: 32000 Epoch 6 Train Loss: 1.29579601 lr: 0.235930 Val Loss: 1.29071640 Val Acc 0.85441667\n",
      "It: 340000 Batch: 4000 Epoch 7 Train Loss: 1.29141041 lr: 0.188744 Val Loss: 1.29786181 Val Acc 0.85441667\n",
      "It: 360000 Batch: 24000 Epoch 7 Train Loss: 1.30190257 lr: 0.188744 Val Loss: 1.30872039 Val Acc 0.84516667\n",
      "It: 380000 Batch: 44000 Epoch 7 Train Loss: 1.30065529 lr: 0.188744 Val Loss: 1.30843737 Val Acc 0.84958333\n",
      "It: 400000 Batch: 16000 Epoch 8 Train Loss: 1.29359330 lr: 0.150995 Val Loss: 1.29180581 Val Acc 0.85016667\n",
      "It: 420000 Batch: 36000 Epoch 8 Train Loss: 1.29247635 lr: 0.150995 Val Loss: 1.30410501 Val Acc 0.85050000\n",
      "It: 440000 Batch: 8000 Epoch 9 Train Loss: 1.29987155 lr: 0.120796 Val Loss: 1.30315723 Val Acc 0.84941667\n",
      "It: 460000 Batch: 28000 Epoch 9 Train Loss: 1.29176717 lr: 0.120796 Val Loss: 1.31183961 Val Acc 0.84566667\n",
      "It: 480000 Batch: 48000 Epoch 9 Train Loss: 1.31343390 lr: 0.120796 Val Loss: 1.30314360 Val Acc 0.84966667\n",
      "Finished \n",
      " It: 480000 Batch: 48000 Epoch 9 Train Loss: 1.31343390 lr: 0.120796 Val Loss: 1.30314360\n",
      "6\n",
      "Time Spent  142.40514534000002\n",
      "Validation Stats...\n",
      "Accuracy: 0.850\n",
      "Precision: 0.871\n",
      "Recall: 0.849\n",
      "F1 Score: 0.859818\n",
      "{0: 0, 1: 1, 2: 2}\n",
      "Confusion matrix, without normalization\n",
      "Normalized confusion matrix\n"
     ]
    },
    {
     "data": {
      "image/png": "[encoded data removed]",
      "text/plain": [
       "<Figure size 432x288 with 2 Axes>"
      ]
     },
     "metadata": {
      "needs_background": "light"
     },
     "output_type": "display_data"
    },
    {
     "data": {
      "image/png": "[encoded data removed]",
      "text/plain": [
       "<Figure size 432x288 with 2 Axes>"
      ]
     },
     "metadata": {
      "needs_background": "light"
     },
     "output_type": "display_data"
    },
    {
     "data": {
      "text/plain": [
       "<matplotlib.axes._subplots.AxesSubplot at 0x7f0d4ead4d30>"
      ]
     },
     "execution_count": 15,
     "metadata": {},
     "output_type": "execute_result"
    },
    {
     "data": {
      "image/png": "[encoded data removed]",
      "text/plain": [
       "<Figure size 432x288 with 1 Axes>"
      ]
     },
     "metadata": {
      "needs_background": "light"
     },
     "output_type": "display_data"
    }
   ],
   "source": [
    "import time\n",
    "import timeit\n",
    "from utils import dataset_helper\n",
    "from utils import custom_scores\n",
    "reload(custom_scores)\n",
    "reload(dataset_helper)\n",
    "reload(loss_functions)\n",
    "reload(activation_functions)\n",
    "reload(network)\n",
    "reload(dataset_helper)\n",
    "\n",
    "X,  X_val, Y, Y_val = vals\n",
    "Y = dataset_helper.one_hot_encode(Y, nclasses)\n",
    "Y_val = dataset_helper.one_hot_encode(Y_val, nclasses)\n",
    "\n",
    "network.DEBUG = False\n",
    "\n",
    "h1 = network.Layer(nfeatures, 24, 'tanh',  label=\"H1\")\n",
    "h2 = network.Layer(24, 32, 'tanh',  label=\"H2\")\n",
    "h3 = network.Layer(32, 24, 'tanh', label=\"H3\")\n",
    "o = network.Layer(24, nclasses, 'sigmoid', label=\"Output\")\n",
    "\n",
    "model = network.NN(loss='cross_entropy')\n",
    "model.add_layer(h1)\n",
    "model.add_layer(h2)\n",
    "model.add_layer(h3)\n",
    "model.add_layer(o)\n",
    "model.summary()\n",
    "\n",
    "\n",
    "print(\"\")\n",
    "start = time.process_time()\n",
    "model.fit(X, Y, max_iter=max_iter, \n",
    "          lr=lr, epsilon=eps, b_sz = 1,\n",
    "          decay_iteractions= decay_iteractions, decay_rate = decay_rate,\n",
    "          X_val=X_val, Y_val=Y_val,\n",
    "          print_interval=print_interval)\n",
    "iteraction_log = network.get_iteration_log()\n",
    "\n",
    "Y_ = np.array(model.predict(X))\n",
    "Y_ = Y_.argmax(axis=-1).flatten()\n",
    "mae = np.absolute(Y.argmax(axis=-1) - Y_).mean()\n",
    "\n",
    "print(\"Time Spent \", time.process_time() - start)\n",
    "\n",
    "\n",
    "Y_val_ = np.array(model.predict(X_val))\n",
    "\n",
    "\n",
    "import time\n",
    "import timeit\n",
    "from utils import dataset_helper\n",
    "from utils import custom_scores\n",
    "custom_scores.evalute_multiclass(Y_val.argmax(axis=-1), Y_val_.argmax(axis=-1))\n",
    "iteraction_log.index = iteraction_log.it\n",
    "iteraction_log.error_train.plot()\n",
    "iteraction_log.error_val.plot()"
   ]
  },
  {
   "cell_type": "code",
   "execution_count": 16,
   "metadata": {
    "scrolled": false
   },
   "outputs": [
    {
     "name": "stdout",
     "output_type": "stream",
     "text": [
      "Model Summary\n",
      "-------------------------------\n",
      "H1      (input=128, neurons=24, activation=sigmoid)\n",
      "H2      (input=24, neurons=32, activation=sigmoid)\n",
      "H3      (input=32, neurons=24, activation=sigmoid)\n",
      "Output  (input=24, neurons=3, activation=sigmoid)\n",
      "-------------------------------\n",
      "\n",
      "Shuffled\n",
      "It: 20000 Batch: 20000 Epoch 0 Train Loss: 1.90944769 lr: 0.900000 Val Loss: 1.90954215 Val Acc 0.33658333\n",
      "It: 40000 Batch: 40000 Epoch 0 Train Loss: 1.90954214 lr: 0.900000 Val Loss: 1.90954208 Val Acc 0.33658333\n",
      "It: 60000 Batch: 12000 Epoch 1 Train Loss: 1.90954336 lr: 0.720000 Val Loss: 1.90954222 Val Acc 0.33658333\n",
      "It: 80000 Batch: 32000 Epoch 1 Train Loss: 1.90954299 lr: 0.720000 Val Loss: 1.90954228 Val Acc 0.33658333\n",
      "It: 100000 Batch: 4000 Epoch 2 Train Loss: 1.90954205 lr: 0.576000 Val Loss: 1.90954221 Val Acc 0.33658333\n",
      "It: 120000 Batch: 24000 Epoch 2 Train Loss: 1.90954276 lr: 0.576000 Val Loss: 1.90954224 Val Acc 0.33658333\n",
      "It: 140000 Batch: 44000 Epoch 2 Train Loss: 1.90954250 lr: 0.576000 Val Loss: 1.90954224 Val Acc 0.33658333\n",
      "It: 160000 Batch: 16000 Epoch 3 Train Loss: 1.90954240 lr: 0.460800 Val Loss: 1.90954223 Val Acc 0.33658333\n",
      "It: 180000 Batch: 36000 Epoch 3 Train Loss: 1.90954304 lr: 0.460800 Val Loss: 1.90954227 Val Acc 0.33658333\n",
      "It: 200000 Batch: 8000 Epoch 4 Train Loss: 1.90954251 lr: 0.368640 Val Loss: 1.90954227 Val Acc 0.33658333\n",
      "It: 220000 Batch: 28000 Epoch 4 Train Loss: 1.90954232 lr: 0.368640 Val Loss: 1.90954225 Val Acc 0.33658333\n",
      "It: 240000 Batch: 48000 Epoch 4 Train Loss: 1.90954275 lr: 0.368640 Val Loss: 1.90954227 Val Acc 0.33658333\n",
      "It: 260000 Batch: 20000 Epoch 5 Train Loss: 1.90954232 lr: 0.294912 Val Loss: 1.90954226 Val Acc 0.33658333\n",
      "It: 280000 Batch: 40000 Epoch 5 Train Loss: 1.90954295 lr: 0.294912 Val Loss: 1.90954228 Val Acc 0.33658333\n",
      "It: 300000 Batch: 12000 Epoch 6 Train Loss: 1.90954246 lr: 0.235930 Val Loss: 1.90954228 Val Acc 0.33658333\n",
      "It: 320000 Batch: 32000 Epoch 6 Train Loss: 1.90954278 lr: 0.235930 Val Loss: 1.90954230 Val Acc 0.33658333\n",
      "It: 340000 Batch: 4000 Epoch 7 Train Loss: 1.90954229 lr: 0.188744 Val Loss: 1.90954229 Val Acc 0.33658333\n",
      "It: 360000 Batch: 24000 Epoch 7 Train Loss: 1.90954247 lr: 0.188744 Val Loss: 1.90954229 Val Acc 0.33658333\n",
      "It: 380000 Batch: 44000 Epoch 7 Train Loss: 1.90954276 lr: 0.188744 Val Loss: 1.90954230 Val Acc 0.33658333\n",
      "It: 400000 Batch: 16000 Epoch 8 Train Loss: 1.90954303 lr: 0.150995 Val Loss: 1.90954231 Val Acc 0.33658333\n",
      "It: 420000 Batch: 36000 Epoch 8 Train Loss: 1.90954224 lr: 0.150995 Val Loss: 1.90954230 Val Acc 0.33658333\n",
      "It: 440000 Batch: 8000 Epoch 9 Train Loss: 1.90954270 lr: 0.120796 Val Loss: 1.90954231 Val Acc 0.33658333\n",
      "It: 460000 Batch: 28000 Epoch 9 Train Loss: 1.90954247 lr: 0.120796 Val Loss: 1.90954231 Val Acc 0.33658333\n",
      "It: 480000 Batch: 48000 Epoch 9 Train Loss: 1.90954267 lr: 0.120796 Val Loss: 1.90954231 Val Acc 0.33658333\n",
      "Finished \n",
      " It: 480000 Batch: 48000 Epoch 9 Train Loss: 1.90954267 lr: 0.120796 Val Loss: 1.90954231\n",
      "6\n",
      "Time Spent  126.988183937\n",
      "Validation Stats...\n",
      "Accuracy: 0.337\n",
      "Precision: nan\n",
      "Recall: 0.333\n",
      "F1 Score: 0.503647\n",
      "{0: 0, 1: 1, 2: 2}\n",
      "Confusion matrix, without normalization\n",
      "Normalized confusion matrix\n"
     ]
    },
    {
     "name": "stderr",
     "output_type": "stream",
     "text": [
      "../utils/custom_scores.py:29: RuntimeWarning: invalid value encountered in long_scalars\n",
      "  precision += TP / (TP + FP)\n"
     ]
    },
    {
     "data": {
      "image/png": "[encoded data removed]",
      "text/plain": [
       "<Figure size 432x288 with 2 Axes>"
      ]
     },
     "metadata": {
      "needs_background": "light"
     },
     "output_type": "display_data"
    },
    {
     "data": {
      "image/png": "[encoded data removed]",
      "text/plain": [
       "<Figure size 432x288 with 2 Axes>"
      ]
     },
     "metadata": {
      "needs_background": "light"
     },
     "output_type": "display_data"
    },
    {
     "data": {
      "text/plain": [
       "<matplotlib.axes._subplots.AxesSubplot at 0x7f0d4e988278>"
      ]
     },
     "execution_count": 16,
     "metadata": {},
     "output_type": "execute_result"
    },
    {
     "data": {
      "image/png": "[encoded data removed]",
      "text/plain": [
       "<Figure size 432x288 with 1 Axes>"
      ]
     },
     "metadata": {
      "needs_background": "light"
     },
     "output_type": "display_data"
    }
   ],
   "source": [
    "import time\n",
    "import timeit\n",
    "from utils import dataset_helper\n",
    "from utils import custom_scores\n",
    "reload(custom_scores)\n",
    "reload(dataset_helper)\n",
    "reload(loss_functions)\n",
    "reload(activation_functions)\n",
    "reload(network)\n",
    "reload(dataset_helper)\n",
    "\n",
    "X,  X_val, Y, Y_val = vals\n",
    "Y = dataset_helper.one_hot_encode(Y, nclasses)\n",
    "Y_val = dataset_helper.one_hot_encode(Y_val, nclasses)\n",
    "\n",
    "network.DEBUG = False\n",
    "\n",
    "eps = np.finfo(np.float32).eps\n",
    "\n",
    "h1 = network.Layer(nfeatures, 24, 'sigmoid',  label=\"H1\")\n",
    "h2 = network.Layer(24, 32, 'sigmoid',  label=\"H2\")\n",
    "h3 = network.Layer(32, 24, 'sigmoid', label=\"H3\")\n",
    "o = network.Layer(24, nclasses, 'sigmoid', label=\"Output\")\n",
    "\n",
    "model = network.NN(loss='cross_entropy')\n",
    "model.add_layer(h1)\n",
    "model.add_layer(h2)\n",
    "model.add_layer(h3)\n",
    "model.add_layer(o)\n",
    "model.summary()\n",
    "\n",
    "\n",
    "print(\"\")\n",
    "start = time.process_time()\n",
    "model.fit(X, Y, max_iter=max_iter, \n",
    "          lr=lr, epsilon=eps, b_sz = 1,\n",
    "          decay_iteractions= decay_iteractions, decay_rate = decay_rate,\n",
    "          X_val=X_val, Y_val=Y_val,\n",
    "          print_interval=print_interval)\n",
    "iteraction_log = network.get_iteration_log()\n",
    "\n",
    "Y_ = np.array(model.predict(X))\n",
    "Y_ = Y_.argmax(axis=-1).flatten()\n",
    "mae = np.absolute(Y.argmax(axis=-1) - Y_).mean()\n",
    "\n",
    "print(\"Time Spent \", time.process_time() - start)\n",
    "\n",
    "\n",
    "Y_val_ = np.array(model.predict(X_val))\n",
    "\n",
    "\n",
    "import time\n",
    "import timeit\n",
    "from utils import dataset_helper\n",
    "from utils import custom_scores\n",
    "custom_scores.evalute_multiclass(Y_val.argmax(axis=-1), Y_val_.argmax(axis=-1))\n",
    "iteraction_log.index = iteraction_log.it\n",
    "iteraction_log.error_train.plot()\n",
    "iteraction_log.error_val.plot()"
   ]
  },
  {
   "cell_type": "code",
   "execution_count": 17,
   "metadata": {
    "scrolled": false
   },
   "outputs": [
    {
     "name": "stdout",
     "output_type": "stream",
     "text": [
      "Model Summary\n",
      "-------------------------------\n",
      "H1      (input=128, neurons=24, activation=relu)\n",
      "H2      (input=24, neurons=32, activation=relu)\n",
      "H3      (input=32, neurons=24, activation=relu)\n",
      "Output  (input=24, neurons=3, activation=sigmoid)\n",
      "-------------------------------\n",
      "\n",
      "Shuffled\n",
      "It: 20000 Batch: 20000 Epoch 0 Train Loss: 1.90944453 lr: 0.900000 Val Loss: 1.90954111 Val Acc 0.33066667\n",
      "It: 40000 Batch: 40000 Epoch 0 Train Loss: 1.90954800 lr: 0.900000 Val Loss: 1.90954101 Val Acc 0.33075000\n",
      "It: 60000 Batch: 12000 Epoch 1 Train Loss: 1.90954297 lr: 0.720000 Val Loss: 1.90954017 Val Acc 0.33066667\n",
      "It: 80000 Batch: 32000 Epoch 1 Train Loss: 1.90954282 lr: 0.720000 Val Loss: 1.90954279 Val Acc 0.33066667\n",
      "It: 100000 Batch: 4000 Epoch 2 Train Loss: 1.90954087 lr: 0.576000 Val Loss: 1.90954129 Val Acc 0.33066667\n",
      "It: 120000 Batch: 24000 Epoch 2 Train Loss: 1.90954217 lr: 0.576000 Val Loss: 1.90954383 Val Acc 0.33066667\n",
      "It: 140000 Batch: 44000 Epoch 2 Train Loss: 1.90954365 lr: 0.576000 Val Loss: 1.90954044 Val Acc 0.33066667\n",
      "It: 160000 Batch: 16000 Epoch 3 Train Loss: 1.90954192 lr: 0.460800 Val Loss: 1.90954101 Val Acc 0.33066667\n",
      "It: 180000 Batch: 36000 Epoch 3 Train Loss: 1.90954436 lr: 0.460800 Val Loss: 1.90954225 Val Acc 0.33066667\n",
      "It: 200000 Batch: 8000 Epoch 4 Train Loss: 1.90954215 lr: 0.368640 Val Loss: 1.90954143 Val Acc 0.33066667\n",
      "It: 220000 Batch: 28000 Epoch 4 Train Loss: 1.90954244 lr: 0.368640 Val Loss: 1.90954224 Val Acc 0.33066667\n",
      "It: 240000 Batch: 48000 Epoch 4 Train Loss: 1.90954181 lr: 0.368640 Val Loss: 1.90954015 Val Acc 0.33066667\n",
      "It: 260000 Batch: 20000 Epoch 5 Train Loss: 1.90954231 lr: 0.294912 Val Loss: 1.90954344 Val Acc 0.33066667\n",
      "It: 280000 Batch: 40000 Epoch 5 Train Loss: 1.90953864 lr: 0.294912 Val Loss: 1.90954221 Val Acc 0.33066667\n",
      "It: 300000 Batch: 12000 Epoch 6 Train Loss: 1.90953898 lr: 0.235930 Val Loss: 1.90954295 Val Acc 0.33066667\n",
      "It: 320000 Batch: 32000 Epoch 6 Train Loss: 1.90954031 lr: 0.235930 Val Loss: 1.90954305 Val Acc 0.33066667\n",
      "It: 340000 Batch: 4000 Epoch 7 Train Loss: 1.90953743 lr: 0.188744 Val Loss: 1.90954309 Val Acc 0.33066667\n",
      "It: 360000 Batch: 24000 Epoch 7 Train Loss: 1.90954218 lr: 0.188744 Val Loss: 1.90954248 Val Acc 0.33066667\n",
      "It: 380000 Batch: 44000 Epoch 7 Train Loss: 1.90954017 lr: 0.188744 Val Loss: 1.90954248 Val Acc 0.33066667\n",
      "It: 400000 Batch: 16000 Epoch 8 Train Loss: 1.90954250 lr: 0.150995 Val Loss: 1.90954248 Val Acc 0.33066667\n",
      "It: 420000 Batch: 36000 Epoch 8 Train Loss: 1.90954250 lr: 0.150995 Val Loss: 1.90954248 Val Acc 0.33066667\n",
      "It: 440000 Batch: 8000 Epoch 9 Train Loss: 1.90954248 lr: 0.120796 Val Loss: 1.90954248 Val Acc 0.33066667\n",
      "It: 460000 Batch: 28000 Epoch 9 Train Loss: 1.90954250 lr: 0.120796 Val Loss: 1.90954248 Val Acc 0.33066667\n",
      "It: 480000 Batch: 48000 Epoch 9 Train Loss: 1.90954250 lr: 0.120796 Val Loss: 1.90954248 Val Acc 0.33066667\n",
      "Finished \n",
      " It: 480000 Batch: 48000 Epoch 9 Train Loss: 1.90954250 lr: 0.120796 Val Loss: 1.90954248\n",
      "6\n",
      "Time Spent  126.661688798\n",
      "Validation Stats...\n",
      "Accuracy: 0.331\n",
      "Precision: nan\n",
      "Recall: 0.333\n",
      "F1 Score: 0.496994\n",
      "{0: 0, 1: 1, 2: 2}\n",
      "Confusion matrix, without normalization\n",
      "Normalized confusion matrix\n"
     ]
    },
    {
     "name": "stderr",
     "output_type": "stream",
     "text": [
      "../utils/custom_scores.py:29: RuntimeWarning: invalid value encountered in long_scalars\n",
      "  precision += TP / (TP + FP)\n"
     ]
    },
    {
     "data": {
      "image/png": "[encoded data removed]",
      "text/plain": [
       "<Figure size 432x288 with 2 Axes>"
      ]
     },
     "metadata": {
      "needs_background": "light"
     },
     "output_type": "display_data"
    },
    {
     "data": {
      "image/png": "[encoded data removed]",
      "text/plain": [
       "<Figure size 432x288 with 2 Axes>"
      ]
     },
     "metadata": {
      "needs_background": "light"
     },
     "output_type": "display_data"
    },
    {
     "data": {
      "text/plain": [
       "<matplotlib.axes._subplots.AxesSubplot at 0x7f0d4e930da0>"
      ]
     },
     "execution_count": 17,
     "metadata": {},
     "output_type": "execute_result"
    },
    {
     "data": {
      "image/png": "[encoded data removed]",
      "text/plain": [
       "<Figure size 432x288 with 1 Axes>"
      ]
     },
     "metadata": {
      "needs_background": "light"
     },
     "output_type": "display_data"
    }
   ],
   "source": [
    "import time\n",
    "import timeit\n",
    "from utils import dataset_helper\n",
    "from utils import custom_scores\n",
    "reload(custom_scores)\n",
    "reload(dataset_helper)\n",
    "reload(loss_functions)\n",
    "reload(activation_functions)\n",
    "reload(network)\n",
    "reload(dataset_helper)\n",
    "\n",
    "X,  X_val, Y, Y_val = vals\n",
    "Y = dataset_helper.one_hot_encode(Y, nclasses)\n",
    "Y_val = dataset_helper.one_hot_encode(Y_val, nclasses)\n",
    "\n",
    "\n",
    "network.DEBUG = False\n",
    "\n",
    "h1 = network.Layer(nfeatures, 24, 'relu',  label=\"H1\")\n",
    "h2 = network.Layer(24, 32, 'relu',  label=\"H2\")\n",
    "h3 = network.Layer(32, 24, 'relu', label=\"H3\")\n",
    "o = network.Layer(24, nclasses, 'sigmoid', label=\"Output\")\n",
    "\n",
    "model = network.NN(loss='cross_entropy')\n",
    "model.add_layer(h1)\n",
    "model.add_layer(h2)\n",
    "model.add_layer(h3)\n",
    "model.add_layer(o)\n",
    "model.summary()\n",
    "\n",
    "\n",
    "print(\"\")\n",
    "start = time.process_time()\n",
    "model.fit(X, Y, max_iter=max_iter, \n",
    "          lr=lr, epsilon=eps, b_sz = 1,\n",
    "          decay_iteractions= decay_iteractions, decay_rate = decay_rate,\n",
    "          X_val=X_val, Y_val=Y_val,\n",
    "          print_interval=print_interval)\n",
    "iteraction_log = network.get_iteration_log()\n",
    "\n",
    "Y_ = np.array(model.predict(X))\n",
    "Y_ = Y_.argmax(axis=-1).flatten()\n",
    "mae = np.absolute(Y.argmax(axis=-1) - Y_).mean()\n",
    "\n",
    "print(\"Time Spent \", time.process_time() - start)\n",
    "\n",
    "\n",
    "Y_val_ = np.array(model.predict(X_val))\n",
    "\n",
    "\n",
    "import time\n",
    "import timeit\n",
    "from utils import dataset_helper\n",
    "from utils import custom_scores\n",
    "custom_scores.evalute_multiclass(Y_val.argmax(axis=-1), Y_val_.argmax(axis=-1))\n",
    "iteraction_log.index = iteraction_log.it\n",
    "iteraction_log.error_train.plot()\n",
    "iteraction_log.error_val.plot()"
   ]
  },
  {
   "cell_type": "markdown",
   "metadata": {},
   "source": [
    "## Using SMD "
   ]
  },
  {
   "cell_type": "code",
   "execution_count": 18,
   "metadata": {
    "scrolled": false
   },
   "outputs": [
    {
     "name": "stdout",
     "output_type": "stream",
     "text": [
      "Model Summary\n",
      "-------------------------------\n",
      "H1      (input=128, neurons=24, activation=tanh)\n",
      "H2      (input=24, neurons=32, activation=tanh)\n",
      "H3      (input=32, neurons=24, activation=tanh)\n",
      "Output  (input=24, neurons=3, activation=sigmoid)\n",
      "-------------------------------\n",
      "\n",
      "Shuffled\n"
     ]
    },
    {
     "name": "stderr",
     "output_type": "stream",
     "text": [
      "../NN/activation_functions.py:41: RuntimeWarning: overflow encountered in exp\n",
      "  return (2 / (1+np.exp(-2*h)))-1\n"
     ]
    },
    {
     "name": "stdout",
     "output_type": "stream",
     "text": [
      "It: 20000 Batch: 20000 Epoch 0 Train Loss: 0.66733621 lr: 0.900000 Val Loss: 0.45544104 Val Acc 0.40491667\n",
      "It: 40000 Batch: 40000 Epoch 0 Train Loss: 0.47142116 lr: 0.900000 Val Loss: 0.46309196 Val Acc 0.41258333\n",
      "It: 60000 Batch: 12000 Epoch 1 Train Loss: 0.46491209 lr: 0.720000 Val Loss: 0.45021678 Val Acc 0.41683333\n",
      "It: 80000 Batch: 32000 Epoch 1 Train Loss: 0.43633573 lr: 0.720000 Val Loss: 0.32725713 Val Acc 0.64841667\n",
      "It: 100000 Batch: 4000 Epoch 2 Train Loss: 0.34844888 lr: 0.576000 Val Loss: 0.29904185 Val Acc 0.64450000\n",
      "It: 120000 Batch: 24000 Epoch 2 Train Loss: 0.33697861 lr: 0.576000 Val Loss: 0.37856917 Val Acc 0.40241667\n",
      "It: 140000 Batch: 44000 Epoch 2 Train Loss: 0.34128883 lr: 0.576000 Val Loss: 0.33023701 Val Acc 0.64450000\n",
      "It: 160000 Batch: 16000 Epoch 3 Train Loss: 0.32871362 lr: 0.460800 Val Loss: 0.30938309 Val Acc 0.64516667\n",
      "It: 180000 Batch: 36000 Epoch 3 Train Loss: 0.32314097 lr: 0.460800 Val Loss: 0.35254541 Val Acc 0.64533333\n",
      "It: 200000 Batch: 8000 Epoch 4 Train Loss: 0.32211536 lr: 0.368640 Val Loss: 0.31482958 Val Acc 0.57433333\n",
      "It: 220000 Batch: 28000 Epoch 4 Train Loss: 0.31502656 lr: 0.368640 Val Loss: 0.30246881 Val Acc 0.64725000\n",
      "It: 240000 Batch: 48000 Epoch 4 Train Loss: 0.31499082 lr: 0.368640 Val Loss: 0.31804717 Val Acc 0.64775000\n",
      "It: 260000 Batch: 20000 Epoch 5 Train Loss: 0.30667790 lr: 0.294912 Val Loss: 0.33679765 Val Acc 0.57275000\n",
      "It: 280000 Batch: 40000 Epoch 5 Train Loss: 0.30386641 lr: 0.294912 Val Loss: 0.27795341 Val Acc 0.64816667\n",
      "It: 300000 Batch: 12000 Epoch 6 Train Loss: 0.30189335 lr: 0.235930 Val Loss: 0.28072428 Val Acc 0.64783333\n",
      "It: 320000 Batch: 32000 Epoch 6 Train Loss: 0.29859853 lr: 0.235930 Val Loss: 0.27863951 Val Acc 0.64783333\n",
      "It: 340000 Batch: 4000 Epoch 7 Train Loss: 0.29759854 lr: 0.188744 Val Loss: 0.26918253 Val Acc 0.64841667\n",
      "It: 360000 Batch: 24000 Epoch 7 Train Loss: 0.29054419 lr: 0.188744 Val Loss: 0.27970889 Val Acc 0.64875000\n",
      "It: 380000 Batch: 44000 Epoch 7 Train Loss: 0.29429436 lr: 0.188744 Val Loss: 0.29004583 Val Acc 0.56516667\n",
      "It: 400000 Batch: 16000 Epoch 8 Train Loss: 0.28861053 lr: 0.150995 Val Loss: 0.28152900 Val Acc 0.64925000\n",
      "It: 420000 Batch: 36000 Epoch 8 Train Loss: 0.28807286 lr: 0.150995 Val Loss: 0.29202029 Val Acc 0.64891667\n",
      "It: 440000 Batch: 8000 Epoch 9 Train Loss: 0.28849047 lr: 0.120796 Val Loss: 0.27327909 Val Acc 0.64875000\n",
      "It: 460000 Batch: 28000 Epoch 9 Train Loss: 0.28486294 lr: 0.120796 Val Loss: 0.28177994 Val Acc 0.64841667\n",
      "It: 480000 Batch: 48000 Epoch 9 Train Loss: 0.28542589 lr: 0.120796 Val Loss: 0.27399931 Val Acc 0.64833333\n",
      "Finished \n",
      " It: 480000 Batch: 48000 Epoch 9 Train Loss: 0.28542589 lr: 0.120796 Val Loss: 0.27399931\n",
      "6\n",
      "Time Spent  93.10450961999999\n",
      "Validation Stats...\n",
      "Accuracy: 0.648\n",
      "Precision: nan\n",
      "Recall: 0.648\n",
      "F1 Score: 0.782100\n",
      "{0: 0, 1: 1, 2: 2}\n",
      "Confusion matrix, without normalization\n",
      "Normalized confusion matrix\n"
     ]
    },
    {
     "name": "stderr",
     "output_type": "stream",
     "text": [
      "../utils/custom_scores.py:29: RuntimeWarning: invalid value encountered in long_scalars\n",
      "  precision += TP / (TP + FP)\n"
     ]
    },
    {
     "data": {
      "image/png": "[encoded data removed]",
      "text/plain": [
       "<Figure size 432x288 with 2 Axes>"
      ]
     },
     "metadata": {
      "needs_background": "light"
     },
     "output_type": "display_data"
    },
    {
     "data": {
      "image/png": "[encoded data removed]",
      "text/plain": [
       "<Figure size 432x288 with 2 Axes>"
      ]
     },
     "metadata": {
      "needs_background": "light"
     },
     "output_type": "display_data"
    },
    {
     "data": {
      "text/plain": [
       "<matplotlib.axes._subplots.AxesSubplot at 0x7f0d4e824d30>"
      ]
     },
     "execution_count": 18,
     "metadata": {},
     "output_type": "execute_result"
    },
    {
     "data": {
      "image/png": "[encoded data removed]",
      "text/plain": [
       "<Figure size 432x288 with 1 Axes>"
      ]
     },
     "metadata": {
      "needs_background": "light"
     },
     "output_type": "display_data"
    }
   ],
   "source": [
    "import time\n",
    "import timeit\n",
    "from utils import dataset_helper\n",
    "from utils import custom_scores\n",
    "reload(custom_scores)\n",
    "reload(dataset_helper)\n",
    "reload(loss_functions)\n",
    "reload(activation_functions)\n",
    "reload(network)\n",
    "reload(dataset_helper)\n",
    "\n",
    "X,  X_val, Y, Y_val = vals\n",
    "Y = dataset_helper.one_hot_encode(Y, nclasses)\n",
    "Y_val = dataset_helper.one_hot_encode(Y_val, nclasses)\n",
    "\n",
    "network.DEBUG = False\n",
    "\n",
    "h1 = network.Layer(nfeatures, 24, 'tanh',  label=\"H1\")\n",
    "h2 = network.Layer(24, 32, 'tanh',  label=\"H2\")\n",
    "h3 = network.Layer(32, 24, 'tanh', label=\"H3\")\n",
    "o = network.Layer(24, nclasses, 'sigmoid', label=\"Output\")\n",
    "\n",
    "model = network.NN(loss='smd')\n",
    "model.add_layer(h1)\n",
    "model.add_layer(h2)\n",
    "model.add_layer(h3)\n",
    "model.add_layer(o)\n",
    "model.summary()\n",
    "\n",
    "\n",
    "print(\"\")\n",
    "start = time.process_time()\n",
    "model.fit(X, Y, max_iter=max_iter, \n",
    "          lr=lr, epsilon=eps, b_sz = 1,\n",
    "          decay_iteractions= decay_iteractions, decay_rate = decay_rate,\n",
    "          X_val=X_val, Y_val=Y_val,\n",
    "          print_interval=print_interval)\n",
    "iteraction_log = network.get_iteration_log()\n",
    "\n",
    "Y_ = np.array(model.predict(X))\n",
    "Y_ = Y_.argmax(axis=-1).flatten()\n",
    "mae = np.absolute(Y.argmax(axis=-1) - Y_).mean()\n",
    "\n",
    "print(\"Time Spent \", time.process_time() - start)\n",
    "\n",
    "\n",
    "Y_val_ = np.array(model.predict(X_val))\n",
    "\n",
    "\n",
    "import time\n",
    "import timeit\n",
    "from utils import dataset_helper\n",
    "from utils import custom_scores\n",
    "custom_scores.evalute_multiclass(Y_val.argmax(axis=-1), Y_val_.argmax(axis=-1))\n",
    "iteraction_log.index = iteraction_log.it\n",
    "iteraction_log.error_train.plot()\n",
    "iteraction_log.error_val.plot()"
   ]
  },
  {
   "cell_type": "code",
   "execution_count": 19,
   "metadata": {
    "scrolled": false
   },
   "outputs": [
    {
     "name": "stdout",
     "output_type": "stream",
     "text": [
      "Model Summary\n",
      "-------------------------------\n",
      "H1      (input=128, neurons=24, activation=sigmoid)\n",
      "H2      (input=24, neurons=32, activation=sigmoid)\n",
      "H3      (input=32, neurons=24, activation=sigmoid)\n",
      "Output  (input=24, neurons=3, activation=sigmoid)\n",
      "-------------------------------\n",
      "\n",
      "Shuffled\n",
      "It: 20000 Batch: 20000 Epoch 0 Train Loss: 0.78810091 lr: 0.900000 Val Loss: 0.41235604 Val Acc 0.33066667\n",
      "It: 40000 Batch: 40000 Epoch 0 Train Loss: 0.47584875 lr: 0.900000 Val Loss: 0.40099896 Val Acc 0.33275000\n",
      "It: 60000 Batch: 12000 Epoch 1 Train Loss: 0.46100326 lr: 0.720000 Val Loss: 0.54192605 Val Acc 0.33275000\n",
      "It: 80000 Batch: 32000 Epoch 1 Train Loss: 0.45390197 lr: 0.720000 Val Loss: 0.47704924 Val Acc 0.33658333\n",
      "It: 100000 Batch: 4000 Epoch 2 Train Loss: 0.44906330 lr: 0.576000 Val Loss: 0.51765818 Val Acc 0.33066667\n",
      "It: 120000 Batch: 24000 Epoch 2 Train Loss: 0.43452862 lr: 0.576000 Val Loss: 0.38936212 Val Acc 0.33066667\n",
      "It: 140000 Batch: 44000 Epoch 2 Train Loss: 0.43265033 lr: 0.576000 Val Loss: 0.42791741 Val Acc 0.33066667\n",
      "It: 160000 Batch: 16000 Epoch 3 Train Loss: 0.42056195 lr: 0.460800 Val Loss: 0.42194503 Val Acc 0.33275000\n",
      "It: 180000 Batch: 36000 Epoch 3 Train Loss: 0.41348114 lr: 0.460800 Val Loss: 0.52367293 Val Acc 0.33066667\n",
      "It: 200000 Batch: 8000 Epoch 4 Train Loss: 0.27947023 lr: 0.368640 Val Loss: 0.30413830 Val Acc 0.61383333\n",
      "It: 220000 Batch: 28000 Epoch 4 Train Loss: 0.24865448 lr: 0.368640 Val Loss: 0.27455188 Val Acc 0.61766667\n",
      "It: 240000 Batch: 48000 Epoch 4 Train Loss: 0.24592959 lr: 0.368640 Val Loss: 0.29226393 Val Acc 0.61941667\n",
      "It: 260000 Batch: 20000 Epoch 5 Train Loss: 0.23684651 lr: 0.294912 Val Loss: 0.20881064 Val Acc 0.61675000\n",
      "It: 280000 Batch: 40000 Epoch 5 Train Loss: 0.23992686 lr: 0.294912 Val Loss: 0.24482661 Val Acc 0.59391667\n",
      "It: 300000 Batch: 12000 Epoch 6 Train Loss: 0.23421787 lr: 0.235930 Val Loss: 0.26118298 Val Acc 0.61891667\n",
      "It: 320000 Batch: 32000 Epoch 6 Train Loss: 0.22919844 lr: 0.235930 Val Loss: 0.22643789 Val Acc 0.62575000\n",
      "It: 340000 Batch: 4000 Epoch 7 Train Loss: 0.22678447 lr: 0.188744 Val Loss: 0.23293506 Val Acc 0.62733333\n",
      "It: 360000 Batch: 24000 Epoch 7 Train Loss: 0.22058462 lr: 0.188744 Val Loss: 0.20585837 Val Acc 0.62591667\n",
      "It: 380000 Batch: 44000 Epoch 7 Train Loss: 0.22259092 lr: 0.188744 Val Loss: 0.22470753 Val Acc 0.62725000\n",
      "It: 400000 Batch: 16000 Epoch 8 Train Loss: 0.21848302 lr: 0.150995 Val Loss: 0.22546171 Val Acc 0.62675000\n",
      "It: 420000 Batch: 36000 Epoch 8 Train Loss: 0.21625841 lr: 0.150995 Val Loss: 0.19719857 Val Acc 0.62641667\n",
      "It: 440000 Batch: 8000 Epoch 9 Train Loss: 0.21470114 lr: 0.120796 Val Loss: 0.20182993 Val Acc 0.62558333\n",
      "It: 460000 Batch: 28000 Epoch 9 Train Loss: 0.20821250 lr: 0.120796 Val Loss: 0.20230251 Val Acc 0.63016667\n",
      "It: 480000 Batch: 48000 Epoch 9 Train Loss: 0.21234313 lr: 0.120796 Val Loss: 0.20924542 Val Acc 0.62758333\n",
      "Finished \n",
      " It: 480000 Batch: 48000 Epoch 9 Train Loss: 0.21234313 lr: 0.120796 Val Loss: 0.20924542\n",
      "6\n",
      "Time Spent  64.50109323699996\n",
      "Validation Stats...\n",
      "Accuracy: 0.628\n",
      "Precision: nan\n",
      "Recall: 0.627\n",
      "F1 Score: 0.820243\n",
      "{0: 0, 1: 1, 2: 2}\n",
      "Confusion matrix, without normalization\n",
      "Normalized confusion matrix\n"
     ]
    },
    {
     "name": "stderr",
     "output_type": "stream",
     "text": [
      "../utils/custom_scores.py:29: RuntimeWarning: invalid value encountered in long_scalars\n",
      "  precision += TP / (TP + FP)\n"
     ]
    },
    {
     "data": {
      "image/png": "[encoded data removed]",
      "text/plain": [
       "<Figure size 432x288 with 2 Axes>"
      ]
     },
     "metadata": {
      "needs_background": "light"
     },
     "output_type": "display_data"
    },
    {
     "data": {
      "image/png": "[encoded data removed]",
      "text/plain": [
       "<Figure size 432x288 with 2 Axes>"
      ]
     },
     "metadata": {
      "needs_background": "light"
     },
     "output_type": "display_data"
    },
    {
     "data": {
      "text/plain": [
       "<matplotlib.axes._subplots.AxesSubplot at 0x7f0d4e718278>"
      ]
     },
     "execution_count": 19,
     "metadata": {},
     "output_type": "execute_result"
    },
    {
     "data": {
      "image/png": "[encoded data removed]",
      "text/plain": [
       "<Figure size 432x288 with 1 Axes>"
      ]
     },
     "metadata": {
      "needs_background": "light"
     },
     "output_type": "display_data"
    }
   ],
   "source": [
    "import time\n",
    "import timeit\n",
    "from utils import dataset_helper\n",
    "from utils import custom_scores\n",
    "reload(custom_scores)\n",
    "reload(dataset_helper)\n",
    "reload(loss_functions)\n",
    "reload(activation_functions)\n",
    "reload(network)\n",
    "reload(dataset_helper)\n",
    "\n",
    "X,  X_val, Y, Y_val = vals\n",
    "Y = dataset_helper.one_hot_encode(Y, nclasses)\n",
    "Y_val = dataset_helper.one_hot_encode(Y_val, nclasses)\n",
    "\n",
    "network.DEBUG = False\n",
    "\n",
    "h1 = network.Layer(nfeatures, 24, 'sigmoid',  label=\"H1\")\n",
    "h2 = network.Layer(24, 32, 'sigmoid',  label=\"H2\")\n",
    "h3 = network.Layer(32, 24, 'sigmoid', label=\"H3\")\n",
    "o = network.Layer(24, nclasses, 'sigmoid', label=\"Output\")\n",
    "\n",
    "model = network.NN(loss='smd')\n",
    "model.add_layer(h1)\n",
    "model.add_layer(h2)\n",
    "model.add_layer(h3)\n",
    "model.add_layer(o)\n",
    "model.summary()\n",
    "\n",
    "\n",
    "print(\"\")\n",
    "start = time.process_time()\n",
    "model.fit(X, Y, max_iter=max_iter, \n",
    "          lr=lr, epsilon=eps, b_sz = 1,\n",
    "          decay_iteractions= decay_iteractions, decay_rate = decay_rate,\n",
    "          X_val=X_val, Y_val=Y_val,\n",
    "          print_interval=print_interval)\n",
    "iteraction_log = network.get_iteration_log()\n",
    "\n",
    "Y_ = np.array(model.predict(X))\n",
    "Y_ = Y_.argmax(axis=-1).flatten()\n",
    "mae = np.absolute(Y.argmax(axis=-1) - Y_).mean()\n",
    "\n",
    "print(\"Time Spent \", time.process_time() - start)\n",
    "\n",
    "\n",
    "Y_val_ = np.array(model.predict(X_val))\n",
    "\n",
    "\n",
    "import time\n",
    "import timeit\n",
    "from utils import dataset_helper\n",
    "from utils import custom_scores\n",
    "custom_scores.evalute_multiclass(Y_val.argmax(axis=-1), Y_val_.argmax(axis=-1))\n",
    "iteraction_log.index = iteraction_log.it\n",
    "iteraction_log.error_train.plot()\n",
    "iteraction_log.error_val.plot()"
   ]
  },
  {
   "cell_type": "code",
   "execution_count": null,
   "metadata": {
    "scrolled": false
   },
   "outputs": [
    {
     "name": "stdout",
     "output_type": "stream",
     "text": [
      "Model Summary\n",
      "-------------------------------\n",
      "H1      (input=128, neurons=24, activation=relu)\n",
      "H2      (input=24, neurons=32, activation=relu)\n",
      "H3      (input=32, neurons=24, activation=relu)\n",
      "Output  (input=24, neurons=3, activation=sigmoid)\n",
      "-------------------------------\n",
      "\n",
      "Shuffled\n",
      "It: 20000 Batch: 20000 Epoch 0 Train Loss: 0.97009898 lr: 0.900000 Val Loss: 0.99463006 Val Acc 0.33066667\n",
      "It: 40000 Batch: 40000 Epoch 0 Train Loss: 0.99446584 lr: 0.900000 Val Loss: 0.99702765 Val Acc 0.33066667\n"
     ]
    },
    {
     "name": "stderr",
     "output_type": "stream",
     "text": [
      "../NN/activation_functions.py:18: RuntimeWarning: overflow encountered in exp\n",
      "  sig = 1. / (1. + np.exp(-h))\n"
     ]
    },
    {
     "name": "stdout",
     "output_type": "stream",
     "text": [
      "It: 60000 Batch: 12000 Epoch 1 Train Loss: 0.98837853 lr: 0.720000 Val Loss: 0.99869580 Val Acc 0.33066667\n",
      "It: 80000 Batch: 32000 Epoch 1 Train Loss: 0.99824989 lr: 0.720000 Val Loss: 0.99869584 Val Acc 0.33066667\n",
      "It: 100000 Batch: 4000 Epoch 2 Train Loss: 0.99856167 lr: 0.576000 Val Loss: 0.99869588 Val Acc 0.33066667\n"
     ]
    }
   ],
   "source": [
    "import time\n",
    "import timeit\n",
    "from utils import dataset_helper\n",
    "from utils import custom_scores\n",
    "reload(custom_scores)\n",
    "reload(dataset_helper)\n",
    "reload(loss_functions)\n",
    "reload(activation_functions)\n",
    "reload(network)\n",
    "reload(dataset_helper)\n",
    "\n",
    "X,  X_val, Y, Y_val = vals\n",
    "Y = dataset_helper.one_hot_encode(Y, nclasses)\n",
    "Y_val = dataset_helper.one_hot_encode(Y_val, nclasses)\n",
    "\n",
    "network.DEBUG = False\n",
    "\n",
    "h1 = network.Layer(nfeatures, 24, 'relu',  label=\"H1\")\n",
    "h2 = network.Layer(24, 32, 'relu',  label=\"H2\")\n",
    "h3 = network.Layer(32, 24, 'relu', label=\"H3\")\n",
    "o = network.Layer(24, nclasses, 'sigmoid', label=\"Output\")\n",
    "\n",
    "model = network.NN(loss='smd')\n",
    "model.add_layer(h1)\n",
    "model.add_layer(h2)\n",
    "model.add_layer(h3)\n",
    "model.add_layer(o)\n",
    "model.summary()\n",
    "\n",
    "\n",
    "print(\"\")\n",
    "start = time.process_time()\n",
    "model.fit(X, Y, max_iter=max_iter, \n",
    "          lr=lr, epsilon=eps, b_sz = 1,\n",
    "          decay_iteractions= decay_iteractions, decay_rate = decay_rate,\n",
    "          X_val=X_val, Y_val=Y_val,\n",
    "          print_interval=print_interval)\n",
    "iteraction_log = network.get_iteration_log()\n",
    "\n",
    "Y_ = np.array(model.predict(X))\n",
    "Y_ = Y_.argmax(axis=-1).flatten()\n",
    "mae = np.absolute(Y.argmax(axis=-1) - Y_).mean()\n",
    "\n",
    "print(\"Time Spent \", time.process_time() - start)\n",
    "\n",
    "\n",
    "Y_val_ = np.array(model.predict(X_val))\n",
    "\n",
    "\n",
    "import time\n",
    "import timeit\n",
    "from utils import dataset_helper\n",
    "from utils import custom_scores\n",
    "custom_scores.evalute_multiclass(Y_val.argmax(axis=-1), Y_val_.argmax(axis=-1))\n",
    "iteraction_log.index = iteraction_log.it\n",
    "iteraction_log.error_train.plot()\n",
    "iteraction_log.error_val.plot()"
   ]
  },
  {
   "cell_type": "code",
   "execution_count": null,
   "metadata": {},
   "outputs": [],
   "source": []
  }
 ],
 "metadata": {
  "kernelspec": {
   "display_name": "Python 3",
   "language": "python",
   "name": "python3"
  },
  "language_info": {
   "codemirror_mode": {
    "name": "ipython",
    "version": 3
   },
   "file_extension": ".py",
   "mimetype": "text/x-python",
   "name": "python",
   "nbconvert_exporter": "python",
   "pygments_lexer": "ipython3",
   "version": "3.5.2"
  }
 },
 "nbformat": 4,
 "nbformat_minor": 2
}
