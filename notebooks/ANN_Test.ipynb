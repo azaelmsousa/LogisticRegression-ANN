{
 "cells": [
  {
   "cell_type": "code",
   "execution_count": 1,
   "metadata": {},
   "outputs": [],
   "source": [
    "import sys \n",
    "sys.path.append('../')\n",
    "import numpy as np\n",
    "import pandas as pd\n",
    "import matplotlib.pyplot as plt\n",
    "from NN import network\n",
    "from NN import ANN\n",
    "X = np.array([[1,2],[3,4]])\n"
   ]
  },
  {
   "cell_type": "markdown",
   "metadata": {},
   "source": [
    "## First Code running"
   ]
  },
  {
   "cell_type": "code",
   "execution_count": 24,
   "metadata": {},
   "outputs": [
    {
     "name": "stdout",
     "output_type": "stream",
     "text": [
      "Hidden Layer  1\n",
      "[[0.94128955 0.87000199 0.23345753]\n",
      " [0.10338417 0.54883574 0.74485984]\n",
      " [0.88917069 0.30940208 0.5131762 ]] \n",
      "\n",
      "Output Layer \n",
      "[[0.8762694  0.07505548]\n",
      " [0.11052754 0.76150333]\n",
      " [0.13221709 0.40144313]\n",
      " [0.2673966  0.48444529]] \n",
      "\n",
      " Input size:  2\n",
      " Number of hidden layers:  1\n",
      " Number of perceptrons at each layer: \n",
      " HL 1: 3\n",
      " Number of classes: 2 \n",
      "\n",
      "Y\n",
      " [[1.33322165 1.57593273]\n",
      " [1.37961167 1.70187973]]\n",
      "\n",
      "a(Y)\n",
      " [[0.79137303 0.82862772]\n",
      " [0.79892863 0.84578008]]\n"
     ]
    }
   ],
   "source": [
    "# Random Init\n",
    "teste = ANN.ANN(\"sigmoid\")\n",
    "teste.initialize_random_weights(2, [3], 2)\n",
    "teste.show_weights()\n",
    "teste.show_setup()\n",
    "Y, aY = teste.foward_propagation(X)\n",
    "print(\"Y\\n\",Y)\n",
    "print(\"\\na(Y)\\n\",aY)"
   ]
  },
  {
   "cell_type": "markdown",
   "metadata": {},
   "source": [
    "## Comparing with the new Implementation by using the same weights"
   ]
  },
  {
   "cell_type": "code",
   "execution_count": 28,
   "metadata": {},
   "outputs": [
    {
     "name": "stdout",
     "output_type": "stream",
     "text": [
      "Model Weights\n",
      "-------------------------------\n",
      "H1       (input=2, neurons=3, activation=sigmoid)\n",
      "[[0.94128955 0.87000199 0.23345753]\n",
      " [0.10338417 0.54883574 0.74485984]\n",
      " [0.88917069 0.30940208 0.5131762 ]]\n",
      "out      (input=3, neurons=2, activation=sigmoid)\n",
      "[[0.8762694  0.07505548]\n",
      " [0.11052754 0.76150333]\n",
      " [0.13221709 0.40144313]\n",
      " [0.2673966  0.48444529]]\n",
      "-------------------------------\n",
      "Forwardign H1 weights (2, 2) (3, 3)\n",
      "Forwardign out weights (2, 3) (4, 2)\n",
      "Y\n",
      " [[1.33322165 1.57593273]\n",
      " [1.37961167 1.70187973]]\n",
      "\n",
      "a(Y)\n",
      " [[0.79137303 0.82862772]\n",
      " [0.79892863 0.84578008]]\n"
     ]
    }
   ],
   "source": [
    "from importlib import reload\n",
    "reload(network)\n",
    "model = network.NN()\n",
    "model.add_layer(network.Layer(2, 3, 'sigmoid', weights=teste.hidden_layers[0], label=\"H1\"))\n",
    "model.add_layer(network.Layer(3, 2, 'sigmoid', weights=teste.output_layer, label=\"out\"))\n",
    "model.show_weights()\n",
    "\n",
    "Y, aY = model.feed_forward(X)\n",
    "\n",
    "print(\"Y\\n\",Y)\n",
    "print(\"\\na(Y)\\n\",aY)\n",
    "\n"
   ]
  },
  {
   "cell_type": "markdown",
   "metadata": {},
   "source": [
    "## Random initialization"
   ]
  },
  {
   "cell_type": "code",
   "execution_count": 29,
   "metadata": {},
   "outputs": [
    {
     "name": "stdout",
     "output_type": "stream",
     "text": [
      "Model Weights\n",
      "-------------------------------\n",
      "H1       (input=2, neurons=3, activation=sigmoid)\n",
      "[[0.1029446  0.68405672 0.45291936]\n",
      " [0.3013103  0.82890018 0.3578943 ]\n",
      " [0.87485921 0.73195107 0.00466407]]\n",
      "out      (input=3, neurons=2, activation=sigmoid)\n",
      "[[0.37774559 0.52974304]\n",
      " [0.77071439 0.44225777]\n",
      " [0.69599344 0.72378758]\n",
      " [0.78767893 0.45069178]]\n",
      "-------------------------------\n",
      "Forwardign H1 weights (2, 2) (3, 3)\n",
      "Forwardign out weights (2, 3) (4, 2)\n",
      "Y\n",
      " [[2.27744522 1.92762032]\n",
      " [2.48370548 2.06081024]]\n",
      "\n",
      "a(Y)\n",
      " [[0.90699176 0.87298579]\n",
      " [0.92299159 0.88703538]]\n"
     ]
    }
   ],
   "source": [
    "from importlib import reload\n",
    "reload(network)\n",
    "model = network.NN()\n",
    "model.add_layer(network.Layer(2, 3, 'sigmoid',  label=\"H1\"))\n",
    "model.add_layer(network.Layer(3, 2, 'sigmoid',  label=\"out\"))\n",
    "model.show_weights()\n",
    "\n",
    "Y, aY = model.feed_forward(X)\n",
    "\n",
    "print(\"Y\\n\",Y)\n",
    "print(\"\\na(Y)\\n\",aY)\n"
   ]
  },
  {
   "cell_type": "code",
   "execution_count": null,
   "metadata": {},
   "outputs": [],
   "source": []
  }
 ],
 "metadata": {
  "kernelspec": {
   "display_name": "Python 3",
   "language": "python",
   "name": "python3"
  },
  "language_info": {
   "codemirror_mode": {
    "name": "ipython",
    "version": 3
   },
   "file_extension": ".py",
   "mimetype": "text/x-python",
   "name": "python",
   "nbconvert_exporter": "python",
   "pygments_lexer": "ipython3",
   "version": "3.5.2"
  }
 },
 "nbformat": 4,
 "nbformat_minor": 2
}
