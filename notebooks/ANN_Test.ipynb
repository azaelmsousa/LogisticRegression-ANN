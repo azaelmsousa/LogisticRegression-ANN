{
 "cells": [
  {
   "cell_type": "code",
   "execution_count": 1,
   "metadata": {},
   "outputs": [
    {
     "name": "stderr",
     "output_type": "stream",
     "text": [
      "/root/.local/lib/python3.5/site-packages/sklearn/ensemble/weight_boosting.py:29: DeprecationWarning: numpy.core.umath_tests is an internal NumPy module and should not be imported. It will be removed in a future NumPy release.\n",
      "  from numpy.core.umath_tests import inner1d\n"
     ]
    }
   ],
   "source": [
    "import sys \n",
    "sys.path.append('../')\n",
    "import numpy as np\n",
    "import pandas as pd\n",
    "import matplotlib.pyplot as plt\n",
    "from NN import network, activation_functions, loss_functions\n",
    "from NN import ANN\n"
   ]
  },
  {
   "cell_type": "markdown",
   "metadata": {},
   "source": [
    "## Simple Run Checks\n",
    "To identify if there is no code broken"
   ]
  },
  {
   "cell_type": "code",
   "execution_count": 2,
   "metadata": {},
   "outputs": [
    {
     "name": "stdout",
     "output_type": "stream",
     "text": [
      "[[0.3775 0.3925]]\n",
      "[[0.59326999 0.59688438]]\n"
     ]
    }
   ],
   "source": [
    "from importlib import reload\n",
    "reload(network)\n",
    "I = np.array([[0.05, 0.10]])\n",
    "W = np.array([[0.15, 0.2], [0.25, 0.3]]).T\n",
    "h1 = network.Layer(2, 2, 'sigmoid', weights=W, bias=0.35, label=\"H1\")\n",
    "netH, outH =  h1.feed_forward(I)\n",
    "print(netH)\n",
    "print(outH)"
   ]
  },
  {
   "cell_type": "code",
   "execution_count": 3,
   "metadata": {
    "scrolled": false
   },
   "outputs": [
    {
     "name": "stdout",
     "output_type": "stream",
     "text": [
      "[[1.10590597 1.2249214 ]]\n",
      "[[0.75136507 0.77292847]]\n"
     ]
    }
   ],
   "source": [
    "from importlib import reload\n",
    "reload(network)\n",
    "I = np.array([[0.59326999, 0.59688438]])\n",
    "W = np.array([[0.4, 0.45], [0.50, 0.55]]).T\n",
    "o1 = network.Layer(2, 2, 'sigmoid', weights=W, bias=0.6, label=\"H1\")\n",
    "netO, outO =  o1.feed_forward(I)\n",
    "print(netO)\n",
    "print(outO)"
   ]
  },
  {
   "cell_type": "markdown",
   "metadata": {},
   "source": [
    "# Convergence Checkings\n",
    "Based on the sample given by the class teacher"
   ]
  },
  {
   "cell_type": "markdown",
   "metadata": {},
   "source": [
    "## Manual Calculations"
   ]
  },
  {
   "cell_type": "code",
   "execution_count": 4,
   "metadata": {},
   "outputs": [
    {
     "name": "stdout",
     "output_type": "stream",
     "text": [
      "Y\n",
      " [1.10590597, 1.2249214]\n",
      "\n",
      "a(Y)\n",
      " [0.75136507, 0.77292847]\n"
     ]
    }
   ],
   "source": [
    "from importlib import reload\n",
    "reload(network)\n",
    "model = network.NN(loss='smd')\n",
    "X = np.array([[0.05, 0.10]])\n",
    "\n",
    "Wh = np.array([[0.15, 0.2], [0.25, 0.3]]).T\n",
    "h = network.Layer(2, 2, 'sigmoid', weights=Wh, bias=0.35, label=\"H1\")\n",
    "\n",
    "Wo = np.array([[0.4, 0.45], [0.50, 0.55]]).T\n",
    "o = network.Layer(2, 2, 'sigmoid', weights=Wo, bias=0.6, label=\"H1\")\n",
    "model.add_layer(h)\n",
    "model.add_layer(o)\n",
    "model.show_weights()\n",
    "\n",
    "Y, aY = model.feed_forward(X)\n",
    "Y_, aY_ = ([1.10590597, 1.2249214 ], [0.75136507, 0.77292847])\n",
    "print(\"Y\\n\",Y_)\n",
    "print(\"\\na(Y)\\n\",aY_)\n",
    "\n",
    "assert((Y - Y_).sum() < np.finfo(np.float32).eps)\n",
    "assert((aY - aY_).sum() < np.finfo(np.float32).eps)\n"
   ]
  },
  {
   "cell_type": "markdown",
   "metadata": {},
   "source": [
    "### Working on the back propagation"
   ]
  },
  {
   "cell_type": "code",
   "execution_count": 5,
   "metadata": {},
   "outputs": [
    {
     "name": "stdout",
     "output_type": "stream",
     "text": [
      "0.2983711087600027\n"
     ]
    }
   ],
   "source": [
    "from importlib import reload\n",
    "reload(network)\n",
    "model.show_weights()\n",
    "Y = np.array([0.01, 0.99])\n",
    "Etotal = loss_functions.smd(aY, Y)\n",
    "print(Etotal)\n",
    "assert((Etotal - 0.2983711) < np.finfo(np.float32).eps)"
   ]
  },
  {
   "cell_type": "markdown",
   "metadata": {},
   "source": [
    "### Emulating the weights update for the layer O "
   ]
  },
  {
   "cell_type": "code",
   "execution_count": 6,
   "metadata": {},
   "outputs": [
    {
     "name": "stdout",
     "output_type": "stream",
     "text": [
      "[[ 0.74136507 -0.21707153]]\n",
      "dout [[0.1868156  0.17551005]]\n",
      "dnet [[0.59326999 0.59688438]]\n",
      "delta [[ 0.13849856 -0.03809824]]\n",
      "dw [[ 0.08216704 -0.02274024]]\n",
      "update [[0.35891648 0.51137012]\n",
      " [0.40891648 0.56137012]]\n"
     ]
    }
   ],
   "source": [
    "reload(loss_functions)\n",
    "reload(activation_functions)\n",
    "lr = 0.5\n",
    "#Done - Partial\n",
    "dEo_dw = loss_functions.smd_derivative_chain(outO, Y)\n",
    "print(dEo_dw)\n",
    "\n",
    "# Done\n",
    "dOuto_Dneto = activation_functions.sigmoid_derivative_chain(outO)\n",
    "print('dout',dOuto_Dneto)\n",
    "\n",
    "# Done - Self.input\n",
    "dNeto  = outH\n",
    "print('dnet',dNeto) \n",
    "# Done\n",
    "deltaO  = dEo_dw * dOuto_Dneto\n",
    "print('delta', deltaO)\n",
    "\n",
    "dWO = deltaO * outH\n",
    "print('dw', dWO)\n",
    "# Done\n",
    "updateO = Wo - lr * dWO\n",
    "print('update', updateO)"
   ]
  },
  {
   "cell_type": "code",
   "execution_count": 7,
   "metadata": {},
   "outputs": [
    {
     "name": "stdout",
     "output_type": "stream",
     "text": [
      "[[ 0.05539942 -0.01904912]\n",
      " [ 0.06232435 -0.02095403]]\n",
      "dETotal_dOh [0.03635031 0.04137032]\n",
      "dOuth_Dneth [[0.24130071 0.24061342]]\n",
      "deltaH [[0.00877135 0.00995425]]\n",
      "dWh [[0.00043857 0.00099543]]\n",
      "update [[0.14978072 0.24950229]\n",
      " [0.19978072 0.29950229]]\n"
     ]
    }
   ],
   "source": [
    "#\n",
    "# Done - Partial\n",
    "dEo_dOh = deltaO * Wo\n",
    "dETotal_dOh = dEo_dOh.sum(axis=1)\n",
    "print (dEo_dOh)\n",
    "print('dETotal_dOh', dETotal_dOh)\n",
    "\n",
    "# Done\n",
    "dOuth_Dneth = activation_functions.sigmoid_derivative_chain(outH)\n",
    "print('dOuth_Dneth', dOuth_Dneth)\n",
    "\n",
    "\n",
    "# Done\n",
    "deltaH = dETotal_dOh * dOuth_Dneth \n",
    "print('deltaH', deltaH)\n",
    "\n",
    "# done\n",
    "# self.input\n",
    "dNeth_dw = X\n",
    "dWh = deltaH * dNeth_dw\n",
    "print('dWh', dWh)\n",
    "\n",
    "# Done\n",
    "updateH = Wh - lr * dWh\n",
    "print('update', updateH)"
   ]
  },
  {
   "cell_type": "markdown",
   "metadata": {},
   "source": [
    "## Using the implemented Grad calculation for Layers"
   ]
  },
  {
   "cell_type": "code",
   "execution_count": 8,
   "metadata": {
    "scrolled": false
   },
   "outputs": [
    {
     "name": "stdout",
     "output_type": "stream",
     "text": [
      "0 error 0.2983711087600027\n",
      "1000 error 0.001114349453733746\n",
      "2000 error 0.00044486770391326887\n",
      "3000 error 0.00025152360241099405\n",
      "4000 error 0.00016427727363225536\n",
      "5000 error 0.00011622569943793622\n",
      "6000 error 8.653979465934606e-05\n",
      "7000 error 6.676957838285888e-05\n",
      "8000 error 5.288555201099971e-05\n",
      "9000 error 4.2742284255545085e-05\n",
      "[[0.01591419 0.98406371]]\n"
     ]
    }
   ],
   "source": [
    "reload(loss_functions)\n",
    "reload(activation_functions)\n",
    "reload(network)\n",
    "network.DEBUG = False\n",
    "\n",
    "X = np.array([[0.05, 0.10]], np.float64)\n",
    "\n",
    "Wh = np.array([[0.15, 0.2], [0.25, 0.3]], np.float64).T\n",
    "h = network.Layer(2, 2, 'sigmoid', weights=Wh, bias=0.35, label=\"H1\")\n",
    "\n",
    "Wo = np.array([[0.4, 0.45], [0.50, 0.55]], np.float64).T\n",
    "o = network.Layer(2, 2, 'sigmoid', weights=Wo, bias=0.6, label=\"H1\")\n",
    "Y = np.array([0.01, 0.99], np.float64)\n",
    "\n",
    "for i in range(10000):\n",
    "    netH, outH = h.feed_forward(X)\n",
    "    netO, outO = o.feed_forward(outH)\n",
    "\n",
    "    \n",
    "    Etotal = loss_functions.smd(outO, Y)\n",
    "    if (i % 1000) == 0:\n",
    "        print(i, 'error', Etotal)\n",
    "    \n",
    "    dEo_dw = loss_functions.smd_derivative_chain(outO, Y)\n",
    "    network.dprint(dEo_dw)\n",
    "    network.dprint (\"\")\n",
    "    network.dprint (\"==========================================\")\n",
    "    network.dprint (\"Back Propagate Layer O\")\n",
    "    network.dprint (\"==========================================\")\n",
    "    o.backpropagate(dETotal_dOut=dEo_dw)\n",
    "    network.dprint (\"==========================================\")\n",
    "    network.dprint (\"\")\n",
    "\n",
    "    network.dprint (\"==========================================\")\n",
    "    network.dprint (\"Back Propagate Layer H\")\n",
    "    network.dprint (\"==========================================\")\n",
    "    h.backpropagate(output_layer=o)\n",
    "    network.dprint (\"==========================================\")\n",
    "\n",
    "print (outO)"
   ]
  },
  {
   "cell_type": "markdown",
   "metadata": {},
   "source": [
    "# Using the Fit Methods with the full network calculation"
   ]
  },
  {
   "cell_type": "markdown",
   "metadata": {},
   "source": [
    "## SMD as the Loss Function"
   ]
  },
  {
   "cell_type": "code",
   "execution_count": 9,
   "metadata": {
    "scrolled": false
   },
   "outputs": [
    {
     "name": "stdout",
     "output_type": "stream",
     "text": [
      "Shuffled\n",
      "It: 2000 Batch: 1 Epoch 1999 Error: 0.01027066 lr: 0.500000 \n",
      "It: 4000 Batch: 1 Epoch 3999 Error: 0.00054305 lr: 0.500000 \n",
      "It: 6000 Batch: 1 Epoch 5999 Error: 0.00025539 lr: 0.500000 \n",
      "It: 8000 Batch: 1 Epoch 7999 Error: 0.00015284 lr: 0.500000 \n",
      "It: 10000 Batch: 1 Epoch 9999 Error: 0.00010231 lr: 0.500000 \n",
      "It: 12000 Batch: 1 Epoch 11999 Error: 0.00007315 lr: 0.500000 \n",
      "It: 14000 Batch: 1 Epoch 13999 Error: 0.00005464 lr: 0.500000 \n",
      "It: 16000 Batch: 1 Epoch 15999 Error: 0.00004211 lr: 0.500000 \n",
      "It: 18000 Batch: 1 Epoch 17999 Error: 0.00003323 lr: 0.500000 \n",
      "It: 20000 Batch: 1 Epoch 19999 Error: 0.00002670 lr: 0.500000 \n",
      "It: 22000 Batch: 1 Epoch 21999 Error: 0.00002177 lr: 0.500000 \n",
      "It: 24000 Batch: 1 Epoch 23999 Error: 0.00001797 lr: 0.500000 \n",
      "It: 26000 Batch: 1 Epoch 25999 Error: 0.00001498 lr: 0.500000 \n",
      "It: 28000 Batch: 1 Epoch 27999 Error: 0.00001259 lr: 0.500000 \n",
      "It: 30000 Batch: 1 Epoch 29999 Error: 0.00001066 lr: 0.500000 \n",
      "Finished \n",
      " It: 30001 Batch: 1 Epoch 30000 Train Loss: 0.00000982 lr: 0.500000 \n",
      "[[0.01311912 0.98685128]] 0.0031339173313234357\n"
     ]
    }
   ],
   "source": [
    "from utils import dataset_helper\n",
    "reload(loss_functions)\n",
    "reload(activation_functions)\n",
    "reload(network)\n",
    "reload(dataset_helper)\n",
    "network.DEBUG = False\n",
    "eps = 0.00001\n",
    "\n",
    "X = np.array([[0.05, 0.10]], np.float64)\n",
    "Y = np.array([[0.01, 0.99]], np.float64)\n",
    "\n",
    "Wh = np.array([[0.15, 0.2], [0.25, 0.3]], np.float64).T\n",
    "h = network.Layer(2, 2, 'sigmoid', weights=Wh, bias=0.35, label=\"H1\")\n",
    "\n",
    "Wo = np.array([[0.4, 0.45], [0.50, 0.55]], np.float64).T\n",
    "o = network.Layer(2, 2, 'sigmoid', weights=Wo, bias=0.6, label=\"Output\")\n",
    "\n",
    "model = network.NN(loss='smd')\n",
    "model.add_layer(h)\n",
    "model.add_layer(o)\n",
    "model.show_weights()\n",
    "\n",
    "model.fit(X, Y, max_iter=50000, \n",
    "          lr=0.5, epsilon=eps, \n",
    "          print_interval=2000)\n",
    "\n",
    "_, Y_ = model.feed_forward(X)\n",
    "\n",
    "mae = np.absolute(Y - Y_).mean()\n",
    "print(Y_, mae)\n",
    "assert(mae < 0.01)"
   ]
  },
  {
   "cell_type": "markdown",
   "metadata": {},
   "source": [
    "## Cross Entropy "
   ]
  },
  {
   "cell_type": "code",
   "execution_count": 10,
   "metadata": {
    "scrolled": true
   },
   "outputs": [
    {
     "name": "stdout",
     "output_type": "stream",
     "text": [
      "Shuffled\n",
      "It: 2000 Batch: 1 Epoch 1999 Error: 0.44643445 lr: 0.100000 \n",
      "It: 4000 Batch: 1 Epoch 3999 Error: 0.19864310 lr: 0.100000 \n",
      "It: 6000 Batch: 1 Epoch 5999 Error: 0.16640629 lr: 0.100000 \n",
      "It: 8000 Batch: 1 Epoch 7999 Error: 0.15169125 lr: 0.100000 \n",
      "It: 10000 Batch: 1 Epoch 9999 Error: 0.14308035 lr: 0.100000 \n",
      "It: 12000 Batch: 1 Epoch 11999 Error: 0.13738293 lr: 0.100000 \n",
      "It: 14000 Batch: 1 Epoch 13999 Error: 0.13332083 lr: 0.100000 \n",
      "It: 16000 Batch: 1 Epoch 15999 Error: 0.13027448 lr: 0.100000 \n",
      "It: 18000 Batch: 1 Epoch 17999 Error: 0.12790469 lr: 0.100000 \n",
      "It: 20000 Batch: 1 Epoch 19999 Error: 0.12600928 lr: 0.100000 \n",
      "It: 22000 Batch: 1 Epoch 21999 Error: 0.12445982 lr: 0.100000 \n",
      "It: 24000 Batch: 1 Epoch 23999 Error: 0.12317068 lr: 0.100000 \n",
      "It: 26000 Batch: 1 Epoch 25999 Error: 0.12208243 lr: 0.100000 \n",
      "It: 28000 Batch: 1 Epoch 27999 Error: 0.12115250 lr: 0.100000 \n",
      "It: 30000 Batch: 1 Epoch 29999 Error: 0.12034958 lr: 0.100000 \n",
      "It: 32000 Batch: 1 Epoch 31999 Error: 0.11965011 lr: 0.100000 \n",
      "It: 34000 Batch: 1 Epoch 33999 Error: 0.11903600 lr: 0.100000 \n",
      "It: 36000 Batch: 1 Epoch 35999 Error: 0.11849314 lr: 0.100000 \n",
      "It: 38000 Batch: 1 Epoch 37999 Error: 0.11801034 lr: 0.100000 \n",
      "It: 40000 Batch: 1 Epoch 39999 Error: 0.11757864 lr: 0.100000 \n",
      "It: 42000 Batch: 1 Epoch 41999 Error: 0.11719075 lr: 0.100000 \n",
      "It: 44000 Batch: 1 Epoch 43999 Error: 0.11684070 lr: 0.100000 \n",
      "It: 46000 Batch: 1 Epoch 45999 Error: 0.11652355 lr: 0.100000 \n",
      "It: 48000 Batch: 1 Epoch 47999 Error: 0.11623515 lr: 0.100000 \n",
      "It: 50000 Batch: 1 Epoch 49999 Error: 0.11597204 lr: 0.100000 \n",
      "Finished \n",
      " It: 50000 Batch: 1 Epoch 49999 Train Loss: 0.11597204 lr: 0.100000 \n",
      "[[0.01738492 0.98243094]] 0.007476988809858003\n"
     ]
    }
   ],
   "source": [
    "from utils import dataset_helper\n",
    "reload(loss_functions)\n",
    "reload(activation_functions)\n",
    "reload(network)\n",
    "reload(dataset_helper)\n",
    "network.DEBUG = False\n",
    "eps = 0.0001\n",
    "X = np.array([[0.05, 0.10]], np.float64)\n",
    "Y = np.array([[0.01, 0.99]], np.float64)\n",
    "\n",
    "Wh = np.array([[0.15, 0.2], [0.25, 0.3]], np.float64).T\n",
    "h = network.Layer(2, 3, 'sigmoid', weights=Wh, bias=0.35, label=\"H1\")\n",
    "\n",
    "Wo = np.array([[0.4, 0.45], [0.50, 0.55]], np.float64).T\n",
    "o = network.Layer(3, 2, 'sigmoid', weights=Wo, bias=0.6, label=\"Output\")\n",
    "\n",
    "model = network.NN(loss='cross_entropy')\n",
    "model.add_layer(h)\n",
    "model.add_layer(o)\n",
    "model.show_weights()\n",
    "\n",
    "model.fit(X, Y, max_iter=50000, \n",
    "          lr=0.1, epsilon=eps, \n",
    "          print_interval=2000)\n",
    "\n",
    "_, Y_ = model.feed_forward(X)\n",
    "\n",
    "mae = np.absolute(Y - Y_).mean()\n",
    "print(Y_, mae)\n",
    "assert(mae < 0.01)"
   ]
  },
  {
   "cell_type": "code",
   "execution_count": 11,
   "metadata": {
    "scrolled": false
   },
   "outputs": [
    {
     "name": "stdout",
     "output_type": "stream",
     "text": [
      "Shuffled\n",
      "It: 2000 Batch: 2 Epoch 666 Error: 1.47487974 lr: 0.100000 \n",
      "It: 4000 Batch: 1 Epoch 1333 Error: 1.26985269 lr: 0.100000 \n",
      "It: 6000 Batch: 3 Epoch 1999 Error: 1.25810062 lr: 0.100000 \n",
      "It: 8000 Batch: 2 Epoch 2666 Error: 1.23560985 lr: 0.100000 \n",
      "It: 10000 Batch: 1 Epoch 3333 Error: 1.18780812 lr: 0.100000 \n",
      "It: 12000 Batch: 3 Epoch 3999 Error: 1.09188121 lr: 0.100000 \n",
      "It: 14000 Batch: 2 Epoch 4666 Error: 0.92185604 lr: 0.100000 \n",
      "It: 16000 Batch: 1 Epoch 5333 Error: 0.69838649 lr: 0.100000 \n",
      "It: 18000 Batch: 3 Epoch 5999 Error: 0.50044493 lr: 0.100000 \n",
      "It: 20000 Batch: 2 Epoch 6666 Error: 0.36877750 lr: 0.100000 \n",
      "It: 22000 Batch: 1 Epoch 7333 Error: 0.28783146 lr: 0.100000 \n",
      "It: 24000 Batch: 3 Epoch 7999 Error: 0.23609287 lr: 0.100000 \n",
      "It: 26000 Batch: 2 Epoch 8666 Error: 0.20096622 lr: 0.100000 \n",
      "It: 28000 Batch: 1 Epoch 9333 Error: 0.17586544 lr: 0.100000 \n",
      "It: 30000 Batch: 3 Epoch 9999 Error: 0.15700621 lr: 0.100000 \n",
      "It: 32000 Batch: 2 Epoch 10666 Error: 0.14231364 lr: 0.100000 \n",
      "It: 34000 Batch: 1 Epoch 11333 Error: 0.13060781 lr: 0.100000 \n",
      "It: 36000 Batch: 3 Epoch 11999 Error: 0.12098879 lr: 0.100000 \n",
      "It: 38000 Batch: 2 Epoch 12666 Error: 0.11295258 lr: 0.100000 \n",
      "It: 40000 Batch: 1 Epoch 13333 Error: 0.10610774 lr: 0.100000 \n",
      "It: 42000 Batch: 3 Epoch 13999 Error: 0.10025537 lr: 0.100000 \n",
      "It: 44000 Batch: 2 Epoch 14666 Error: 0.09512137 lr: 0.100000 \n",
      "It: 46000 Batch: 1 Epoch 15333 Error: 0.09064051 lr: 0.100000 \n",
      "It: 48000 Batch: 3 Epoch 15999 Error: 0.08663015 lr: 0.100000 \n",
      "It: 50000 Batch: 2 Epoch 16666 Error: 0.08309259 lr: 0.100000 \n",
      "Finished \n",
      " It: 50000 Batch: 2 Epoch 16666 Train Loss: 0.08309259 lr: 0.100000 \n",
      "0.0\n",
      "[1 1 0] [1 1 0]\n"
     ]
    }
   ],
   "source": [
    "from utils import dataset_helper\n",
    "reload(loss_functions)\n",
    "reload(activation_functions)\n",
    "reload(network)\n",
    "reload(dataset_helper)\n",
    "network.DEBUG = False\n",
    "\n",
    "eps = np.finfo(np.float32).eps\n",
    "\n",
    "X = np.array([[0.05, 0.10], [0.05, 0.10], [0.10, 0.05]], np.float64)\n",
    "Y = np.array([[0.0, 1], [0.0, 1], [1., 0.]], np.float64)\n",
    "\n",
    "h1 = network.Layer(2, 10, 'sigmoid',  label=\"H1\")\n",
    "h2 = network.Layer(10, 10, 'sigmoid',   label=\"H2\")\n",
    "o = network.Layer(10, 2, 'sigmoid',  label=\"Output\")\n",
    "\n",
    "model = network.NN(loss='cross_entropy')\n",
    "model.add_layer(h1)\n",
    "model.add_layer(o)\n",
    "model.show_weights()\n",
    "\n",
    "model.fit(X, Y, max_iter=50000, \n",
    "          lr=0.1, epsilon=eps,\n",
    "          print_interval=2000)\n",
    "\n",
    "Y_ = np.array(model.predict(X))\n",
    "Y_ = Y_.argmax(axis=-1).flatten()\n",
    "Y = Y.argmax(axis=-1)\n",
    "mae = np.absolute(Y - Y_).mean()\n",
    "print(mae)\n",
    "print(Y, Y_)\n",
    "assert(mae < 0.1)"
   ]
  },
  {
   "cell_type": "markdown",
   "metadata": {},
   "source": [
    "## Multi class Classification Test"
   ]
  },
  {
   "cell_type": "code",
   "execution_count": 12,
   "metadata": {},
   "outputs": [
    {
     "data": {
      "text/plain": [
       "array([[0., 1., 0., 0.],\n",
       "       [0., 0., 1., 0.],\n",
       "       [0., 0., 0., 1.],\n",
       "       [1., 0., 0., 0.]])"
      ]
     },
     "execution_count": 12,
     "metadata": {},
     "output_type": "execute_result"
    }
   ],
   "source": [
    "def indices_to_one_hot(data, nb_classes):\n",
    "    \"\"\"Convert an iterable of indices to one-hot encoded labels.\"\"\"\n",
    "    targets = np.array(data).reshape(-1)\n",
    "    return np.eye(nb_classes)[targets]\n",
    "indices_to_one_hot(np.array([1,2,3,0]), 4)"
   ]
  },
  {
   "cell_type": "code",
   "execution_count": 13,
   "metadata": {
    "scrolled": false
   },
   "outputs": [
    {
     "name": "stdout",
     "output_type": "stream",
     "text": [
      "\n",
      "Shuffled\n",
      "It: 10000 Batch: 10000 Epoch 0 Train Loss: 40.20647355 lr: 1.000000 Val Loss: 30.27153668\n",
      "It: 20000 Batch: 20000 Epoch 0 Train Loss: 22.84783424 lr: 1.000000 Val Loss: 13.88838187\n",
      "It: 30000 Batch: 30000 Epoch 0 Train Loss: 10.43027659 lr: 1.000000 Val Loss: 3.02323887\n",
      "It: 40000 Batch: 40000 Epoch 0 Train Loss: 3.32730969 lr: 1.000000 Val Loss: 3.38164373\n",
      "It: 50000 Batch: 2000 Epoch 1 Train Loss: 3.33487868 lr: 1.000000 Val Loss: 3.08500476\n",
      "It: 60000 Batch: 12000 Epoch 1 Train Loss: 3.34072132 lr: 1.000000 Val Loss: 3.00922680\n",
      "It: 70000 Batch: 22000 Epoch 1 Train Loss: 3.34736500 lr: 1.000000 Val Loss: 3.00397597\n",
      "It: 80000 Batch: 32000 Epoch 1 Train Loss: 3.33792257 lr: 1.000000 Val Loss: 2.99202411\n",
      "It: 90000 Batch: 42000 Epoch 1 Train Loss: 3.32792052 lr: 1.000000 Val Loss: 2.98065422\n",
      "It: 100000 Batch: 4000 Epoch 2 Train Loss: 3.33397672 lr: 1.000000 Val Loss: 3.01132207\n",
      "It: 110000 Batch: 14000 Epoch 2 Train Loss: 3.22460654 lr: 0.900000 Val Loss: 2.85666945\n",
      "It: 120000 Batch: 24000 Epoch 2 Train Loss: 3.22612320 lr: 0.900000 Val Loss: 2.86016321\n",
      "It: 130000 Batch: 34000 Epoch 2 Train Loss: 3.21911708 lr: 0.900000 Val Loss: 2.89816809\n",
      "It: 140000 Batch: 44000 Epoch 2 Train Loss: 3.21419865 lr: 0.900000 Val Loss: 3.61659842\n",
      "It: 150000 Batch: 6000 Epoch 3 Train Loss: 3.21932006 lr: 0.900000 Val Loss: 3.52669753\n",
      "It: 160000 Batch: 16000 Epoch 3 Train Loss: 3.20757058 lr: 0.900000 Val Loss: 4.61530043\n",
      "It: 170000 Batch: 26000 Epoch 3 Train Loss: 3.21955498 lr: 0.900000 Val Loss: 2.77346631\n",
      "It: 180000 Batch: 36000 Epoch 3 Train Loss: 3.21724655 lr: 0.900000 Val Loss: 4.25775033\n",
      "It: 190000 Batch: 46000 Epoch 3 Train Loss: 3.20426187 lr: 0.900000 Val Loss: 2.86726016\n",
      "It: 200000 Batch: 8000 Epoch 4 Train Loss: 3.18318841 lr: 0.900000 Val Loss: 3.09268504\n",
      "It: 210000 Batch: 18000 Epoch 4 Train Loss: 3.10627727 lr: 0.810000 Val Loss: 2.87454068\n",
      "It: 220000 Batch: 28000 Epoch 4 Train Loss: 3.09021098 lr: 0.810000 Val Loss: 3.27863879\n",
      "It: 230000 Batch: 38000 Epoch 4 Train Loss: 3.10070191 lr: 0.810000 Val Loss: 2.91688912\n",
      "It: 240000 Batch: 48000 Epoch 4 Train Loss: 3.10250359 lr: 0.810000 Val Loss: 4.10259938\n",
      "It: 250000 Batch: 10000 Epoch 5 Train Loss: 3.09737430 lr: 0.810000 Val Loss: 2.80420733\n",
      "It: 260000 Batch: 20000 Epoch 5 Train Loss: 3.09741400 lr: 0.810000 Val Loss: 3.08896812\n",
      "It: 270000 Batch: 30000 Epoch 5 Train Loss: 3.10183716 lr: 0.810000 Val Loss: 3.22153443\n",
      "It: 280000 Batch: 40000 Epoch 5 Train Loss: 3.09635536 lr: 0.810000 Val Loss: 2.91324772\n",
      "It: 290000 Batch: 2000 Epoch 6 Train Loss: 3.09363262 lr: 0.810000 Val Loss: 2.92590847\n",
      "It: 300000 Batch: 12000 Epoch 6 Train Loss: 3.09743239 lr: 0.810000 Val Loss: 3.57795119\n",
      "It: 310000 Batch: 22000 Epoch 6 Train Loss: 3.02916599 lr: 0.729000 Val Loss: 3.37500790\n",
      "It: 320000 Batch: 32000 Epoch 6 Train Loss: 3.03492692 lr: 0.729000 Val Loss: 2.87672317\n",
      "It: 330000 Batch: 42000 Epoch 6 Train Loss: 2.93726421 lr: 0.729000 Val Loss: 2.62743914\n",
      "It: 340000 Batch: 4000 Epoch 7 Train Loss: 2.87897792 lr: 0.729000 Val Loss: 2.66177059\n",
      "It: 350000 Batch: 14000 Epoch 7 Train Loss: 2.78046766 lr: 0.729000 Val Loss: 2.62520962\n",
      "It: 360000 Batch: 24000 Epoch 7 Train Loss: 2.74779200 lr: 0.729000 Val Loss: 2.36010993\n",
      "It: 370000 Batch: 34000 Epoch 7 Train Loss: 2.76883104 lr: 0.729000 Val Loss: 2.59155986\n",
      "It: 380000 Batch: 44000 Epoch 7 Train Loss: 2.75238436 lr: 0.729000 Val Loss: 2.55649492\n",
      "It: 390000 Batch: 6000 Epoch 8 Train Loss: 2.76250440 lr: 0.729000 Val Loss: 2.49025870\n",
      "It: 400000 Batch: 16000 Epoch 8 Train Loss: 2.71482866 lr: 0.729000 Val Loss: 3.50100398\n",
      "It: 410000 Batch: 26000 Epoch 8 Train Loss: 2.65366020 lr: 0.656100 Val Loss: 2.79179383\n",
      "It: 420000 Batch: 36000 Epoch 8 Train Loss: 2.63261298 lr: 0.656100 Val Loss: 3.39592859\n",
      "It: 430000 Batch: 46000 Epoch 8 Train Loss: 2.64911805 lr: 0.656100 Val Loss: 2.44038342\n",
      "It: 440000 Batch: 8000 Epoch 9 Train Loss: 2.67323489 lr: 0.656100 Val Loss: 2.53265436\n",
      "It: 450000 Batch: 18000 Epoch 9 Train Loss: 2.64278166 lr: 0.656100 Val Loss: 3.43835881\n",
      "It: 460000 Batch: 28000 Epoch 9 Train Loss: 2.62428269 lr: 0.656100 Val Loss: 3.45438750\n",
      "It: 470000 Batch: 38000 Epoch 9 Train Loss: 2.60803654 lr: 0.656100 Val Loss: 2.42393364\n",
      "It: 480000 Batch: 48000 Epoch 9 Train Loss: 2.63382961 lr: 0.656100 Val Loss: 3.32767294\n",
      "It: 490000 Batch: 10000 Epoch 10 Train Loss: 2.59116339 lr: 0.656100 Val Loss: 2.50380479\n",
      "It: 500000 Batch: 20000 Epoch 10 Train Loss: 2.60414627 lr: 0.656100 Val Loss: 2.38609719\n",
      "It: 510000 Batch: 30000 Epoch 10 Train Loss: 2.57367798 lr: 0.590490 Val Loss: 2.36991179\n",
      "It: 520000 Batch: 40000 Epoch 10 Train Loss: 2.56305862 lr: 0.590490 Val Loss: 2.52506132\n",
      "It: 530000 Batch: 2000 Epoch 11 Train Loss: 2.54622897 lr: 0.590490 Val Loss: 2.99644693\n",
      "It: 540000 Batch: 12000 Epoch 11 Train Loss: 2.54090976 lr: 0.590490 Val Loss: 2.45341805\n",
      "It: 550000 Batch: 22000 Epoch 11 Train Loss: 2.54648438 lr: 0.590490 Val Loss: 2.33186919\n",
      "It: 560000 Batch: 32000 Epoch 11 Train Loss: 2.53465386 lr: 0.590490 Val Loss: 2.40425347\n",
      "It: 570000 Batch: 42000 Epoch 11 Train Loss: 2.52070204 lr: 0.590490 Val Loss: 2.43825584\n",
      "It: 580000 Batch: 4000 Epoch 12 Train Loss: 2.56929721 lr: 0.590490 Val Loss: 3.33000472\n",
      "It: 590000 Batch: 14000 Epoch 12 Train Loss: 2.55391083 lr: 0.590490 Val Loss: 2.31178698\n",
      "It: 600000 Batch: 24000 Epoch 12 Train Loss: 2.53821469 lr: 0.590490 Val Loss: 2.40804115\n",
      "It: 610000 Batch: 34000 Epoch 12 Train Loss: 2.48531148 lr: 0.531441 Val Loss: 2.32086281\n",
      "It: 620000 Batch: 44000 Epoch 12 Train Loss: 2.48701068 lr: 0.531441 Val Loss: 2.33821771\n",
      "It: 630000 Batch: 6000 Epoch 13 Train Loss: 2.49836719 lr: 0.531441 Val Loss: 2.62518958\n",
      "It: 640000 Batch: 16000 Epoch 13 Train Loss: 2.49127038 lr: 0.531441 Val Loss: 3.25131546\n",
      "It: 650000 Batch: 26000 Epoch 13 Train Loss: 2.50990126 lr: 0.531441 Val Loss: 2.44078266\n",
      "It: 660000 Batch: 36000 Epoch 13 Train Loss: 2.50692151 lr: 0.531441 Val Loss: 2.38983866\n",
      "It: 670000 Batch: 46000 Epoch 13 Train Loss: 2.49093199 lr: 0.531441 Val Loss: 2.40205117\n",
      "It: 680000 Batch: 8000 Epoch 14 Train Loss: 2.49659730 lr: 0.531441 Val Loss: 2.44847695\n",
      "It: 690000 Batch: 18000 Epoch 14 Train Loss: 2.51680067 lr: 0.531441 Val Loss: 2.34604917\n",
      "It: 700000 Batch: 28000 Epoch 14 Train Loss: 2.47566431 lr: 0.531441 Val Loss: 2.61727974\n",
      "It: 710000 Batch: 38000 Epoch 14 Train Loss: 2.41982276 lr: 0.478297 Val Loss: 2.41291209\n",
      "It: 720000 Batch: 48000 Epoch 14 Train Loss: 2.45946133 lr: 0.478297 Val Loss: 2.38174947\n",
      "It: 730000 Batch: 10000 Epoch 15 Train Loss: 2.43485856 lr: 0.478297 Val Loss: 2.32434037\n",
      "It: 740000 Batch: 20000 Epoch 15 Train Loss: 2.42739532 lr: 0.478297 Val Loss: 2.83520389\n",
      "It: 750000 Batch: 30000 Epoch 15 Train Loss: 2.43595532 lr: 0.478297 Val Loss: 3.16428924\n",
      "It: 760000 Batch: 40000 Epoch 15 Train Loss: 2.20620898 lr: 0.478297 Val Loss: 2.47955729\n",
      "It: 770000 Batch: 2000 Epoch 16 Train Loss: 2.07173908 lr: 0.478297 Val Loss: 1.98611036\n",
      "It: 780000 Batch: 12000 Epoch 16 Train Loss: 2.15115963 lr: 0.478297 Val Loss: 2.14347112\n",
      "It: 790000 Batch: 22000 Epoch 16 Train Loss: 2.06895917 lr: 0.478297 Val Loss: 2.00564374\n",
      "It: 800000 Batch: 32000 Epoch 16 Train Loss: 2.10581998 lr: 0.478297 Val Loss: 1.99372323\n",
      "It: 810000 Batch: 42000 Epoch 16 Train Loss: 2.16438831 lr: 0.430467 Val Loss: 1.89479447\n",
      "It: 820000 Batch: 4000 Epoch 17 Train Loss: 2.07407914 lr: 0.430467 Val Loss: 2.18372533\n",
      "It: 830000 Batch: 14000 Epoch 17 Train Loss: 2.18216589 lr: 0.430467 Val Loss: 1.88987385\n",
      "It: 840000 Batch: 24000 Epoch 17 Train Loss: 2.13543461 lr: 0.430467 Val Loss: 1.84868988\n",
      "It: 850000 Batch: 34000 Epoch 17 Train Loss: 2.04564377 lr: 0.430467 Val Loss: 2.17719516\n",
      "It: 860000 Batch: 44000 Epoch 17 Train Loss: 2.16026604 lr: 0.430467 Val Loss: 2.30224763\n",
      "It: 870000 Batch: 6000 Epoch 18 Train Loss: 2.24576974 lr: 0.430467 Val Loss: 3.00288881\n",
      "It: 880000 Batch: 16000 Epoch 18 Train Loss: 2.33303199 lr: 0.430467 Val Loss: 2.53685998\n",
      "It: 890000 Batch: 26000 Epoch 18 Train Loss: 2.28863535 lr: 0.430467 Val Loss: 2.06986340\n",
      "It: 900000 Batch: 36000 Epoch 18 Train Loss: 2.18099242 lr: 0.430467 Val Loss: 2.87781164\n",
      "It: 910000 Batch: 46000 Epoch 18 Train Loss: 2.26413747 lr: 0.387420 Val Loss: 2.75067431\n",
      "It: 920000 Batch: 8000 Epoch 19 Train Loss: 2.19561957 lr: 0.387420 Val Loss: 2.10496407\n"
     ]
    },
    {
     "name": "stdout",
     "output_type": "stream",
     "text": [
      "It: 930000 Batch: 18000 Epoch 19 Train Loss: 2.17804419 lr: 0.387420 Val Loss: 2.00945369\n",
      "It: 940000 Batch: 28000 Epoch 19 Train Loss: 2.21719249 lr: 0.387420 Val Loss: 2.70246351\n",
      "It: 950000 Batch: 38000 Epoch 19 Train Loss: 2.39806406 lr: 0.387420 Val Loss: 2.32285805\n",
      "It: 960000 Batch: 48000 Epoch 19 Train Loss: 2.41335571 lr: 0.387420 Val Loss: 2.23126877\n",
      "It: 970000 Batch: 10000 Epoch 20 Train Loss: 2.50392399 lr: 0.387420 Val Loss: 2.55874761\n",
      "It: 980000 Batch: 20000 Epoch 20 Train Loss: 2.38888535 lr: 0.387420 Val Loss: 2.03826922\n",
      "It: 990000 Batch: 30000 Epoch 20 Train Loss: 2.44266710 lr: 0.387420 Val Loss: 2.13380753\n",
      "It: 1000000 Batch: 40000 Epoch 20 Train Loss: 2.43213033 lr: 0.387420 Val Loss: 2.67651794\n",
      "It: 1010000 Batch: 2000 Epoch 21 Train Loss: 2.54140067 lr: 0.348678 Val Loss: 2.58258720\n",
      "It: 1020000 Batch: 12000 Epoch 21 Train Loss: 2.61627008 lr: 0.348678 Val Loss: 2.84162014\n",
      "It: 1030000 Batch: 22000 Epoch 21 Train Loss: 2.39764644 lr: 0.348678 Val Loss: 2.19364585\n",
      "It: 1040000 Batch: 32000 Epoch 21 Train Loss: 2.30965960 lr: 0.348678 Val Loss: 2.47543545\n",
      "It: 1050000 Batch: 42000 Epoch 21 Train Loss: 2.41946102 lr: 0.348678 Val Loss: 2.89617315\n",
      "It: 1060000 Batch: 4000 Epoch 22 Train Loss: 2.50984818 lr: 0.348678 Val Loss: 2.89425009\n",
      "It: 1070000 Batch: 14000 Epoch 22 Train Loss: 2.44046718 lr: 0.348678 Val Loss: 2.28960075\n",
      "It: 1080000 Batch: 24000 Epoch 22 Train Loss: 2.34196423 lr: 0.348678 Val Loss: 2.83261250\n",
      "It: 1090000 Batch: 34000 Epoch 22 Train Loss: 2.47013763 lr: 0.348678 Val Loss: 2.66362961\n",
      "It: 1100000 Batch: 44000 Epoch 22 Train Loss: 2.33109336 lr: 0.348678 Val Loss: 2.47742214\n",
      "It: 1110000 Batch: 6000 Epoch 23 Train Loss: 2.48015495 lr: 0.313811 Val Loss: 2.57268959\n",
      "It: 1120000 Batch: 16000 Epoch 23 Train Loss: 2.34294188 lr: 0.313811 Val Loss: 2.32479108\n",
      "It: 1130000 Batch: 26000 Epoch 23 Train Loss: 2.22290007 lr: 0.313811 Val Loss: 2.10579085\n",
      "It: 1140000 Batch: 36000 Epoch 23 Train Loss: 2.07077191 lr: 0.313811 Val Loss: 2.07246762\n",
      "It: 1150000 Batch: 46000 Epoch 23 Train Loss: 2.06670874 lr: 0.313811 Val Loss: 2.14154828\n",
      "It: 1160000 Batch: 8000 Epoch 24 Train Loss: 1.97518865 lr: 0.313811 Val Loss: 1.61227934\n",
      "It: 1170000 Batch: 18000 Epoch 24 Train Loss: 2.00605606 lr: 0.313811 Val Loss: 2.78711528\n",
      "It: 1180000 Batch: 28000 Epoch 24 Train Loss: 1.91323287 lr: 0.313811 Val Loss: 2.31511974\n",
      "It: 1190000 Batch: 38000 Epoch 24 Train Loss: 2.03478362 lr: 0.313811 Val Loss: 1.80564710\n",
      "It: 1200000 Batch: 48000 Epoch 24 Train Loss: 2.03268150 lr: 0.313811 Val Loss: 1.90510815\n",
      "It: 1210000 Batch: 10000 Epoch 25 Train Loss: 1.73807838 lr: 0.282430 Val Loss: 1.94757929\n",
      "It: 1220000 Batch: 20000 Epoch 25 Train Loss: 1.73916808 lr: 0.282430 Val Loss: 1.54101435\n",
      "It: 1230000 Batch: 30000 Epoch 25 Train Loss: 1.64831321 lr: 0.282430 Val Loss: 1.82464676\n",
      "It: 1240000 Batch: 40000 Epoch 25 Train Loss: 1.64569670 lr: 0.282430 Val Loss: 1.42574405\n",
      "It: 1250000 Batch: 2000 Epoch 26 Train Loss: 1.41868787 lr: 0.282430 Val Loss: 1.20456184\n",
      "It: 1260000 Batch: 12000 Epoch 26 Train Loss: 1.24553218 lr: 0.282430 Val Loss: 1.20358375\n",
      "It: 1270000 Batch: 22000 Epoch 26 Train Loss: 1.29317290 lr: 0.282430 Val Loss: 1.28044174\n",
      "It: 1280000 Batch: 32000 Epoch 26 Train Loss: 1.27164863 lr: 0.282430 Val Loss: 1.36976801\n",
      "It: 1290000 Batch: 42000 Epoch 26 Train Loss: 1.29562282 lr: 0.282430 Val Loss: 1.42676621\n",
      "It: 1300000 Batch: 4000 Epoch 27 Train Loss: 1.36390145 lr: 0.282430 Val Loss: 1.29757227\n",
      "It: 1310000 Batch: 14000 Epoch 27 Train Loss: 1.25106567 lr: 0.254187 Val Loss: 1.16756650\n",
      "It: 1320000 Batch: 24000 Epoch 27 Train Loss: 1.26247579 lr: 0.254187 Val Loss: 1.36692734\n",
      "It: 1330000 Batch: 34000 Epoch 27 Train Loss: 1.22922186 lr: 0.254187 Val Loss: 1.20813833\n",
      "It: 1340000 Batch: 44000 Epoch 27 Train Loss: 1.29397372 lr: 0.254187 Val Loss: 1.32359472\n",
      "It: 1350000 Batch: 6000 Epoch 28 Train Loss: 1.18351221 lr: 0.254187 Val Loss: 1.20828552\n",
      "It: 1360000 Batch: 16000 Epoch 28 Train Loss: 1.15250521 lr: 0.254187 Val Loss: 1.20489904\n",
      "It: 1370000 Batch: 26000 Epoch 28 Train Loss: 1.30391973 lr: 0.254187 Val Loss: 1.28443537\n",
      "It: 1380000 Batch: 36000 Epoch 28 Train Loss: 1.28082990 lr: 0.254187 Val Loss: 1.18083488\n",
      "It: 1390000 Batch: 46000 Epoch 28 Train Loss: 1.23587039 lr: 0.254187 Val Loss: 1.57187748\n",
      "It: 1400000 Batch: 8000 Epoch 29 Train Loss: 1.30160835 lr: 0.254187 Val Loss: 1.23347212\n",
      "It: 1410000 Batch: 18000 Epoch 29 Train Loss: 1.24741227 lr: 0.228768 Val Loss: 1.28130070\n",
      "It: 1420000 Batch: 28000 Epoch 29 Train Loss: 1.25038435 lr: 0.228768 Val Loss: 1.24247500\n",
      "It: 1430000 Batch: 38000 Epoch 29 Train Loss: 1.19871878 lr: 0.228768 Val Loss: 1.17383630\n",
      "It: 1440000 Batch: 48000 Epoch 29 Train Loss: 1.17659726 lr: 0.228768 Val Loss: 1.20686028\n",
      "It: 1450000 Batch: 10000 Epoch 30 Train Loss: 1.18516654 lr: 0.228768 Val Loss: 1.31658782\n",
      "It: 1460000 Batch: 20000 Epoch 30 Train Loss: 1.23036565 lr: 0.228768 Val Loss: 1.30715343\n",
      "It: 1470000 Batch: 30000 Epoch 30 Train Loss: 1.17191522 lr: 0.228768 Val Loss: 1.19155955\n",
      "It: 1480000 Batch: 40000 Epoch 30 Train Loss: 1.16705975 lr: 0.228768 Val Loss: 1.15315993\n",
      "It: 1490000 Batch: 2000 Epoch 31 Train Loss: 1.22075365 lr: 0.228768 Val Loss: 1.19405288\n",
      "It: 1500000 Batch: 12000 Epoch 31 Train Loss: 1.19337040 lr: 0.228768 Val Loss: 1.12120458\n",
      "It: 1510000 Batch: 22000 Epoch 31 Train Loss: 1.13975162 lr: 0.205891 Val Loss: 1.16026139\n",
      "It: 1520000 Batch: 32000 Epoch 31 Train Loss: 1.17159736 lr: 0.205891 Val Loss: 1.18619177\n",
      "It: 1530000 Batch: 42000 Epoch 31 Train Loss: 1.09289877 lr: 0.205891 Val Loss: 1.23506484\n",
      "It: 1540000 Batch: 4000 Epoch 32 Train Loss: 1.11890635 lr: 0.205891 Val Loss: 1.27348064\n",
      "It: 1550000 Batch: 14000 Epoch 32 Train Loss: 1.13836705 lr: 0.205891 Val Loss: 1.14550650\n",
      "It: 1560000 Batch: 24000 Epoch 32 Train Loss: 1.13237727 lr: 0.205891 Val Loss: 1.17443336\n",
      "It: 1570000 Batch: 34000 Epoch 32 Train Loss: 1.18996125 lr: 0.205891 Val Loss: 1.15080862\n",
      "It: 1580000 Batch: 44000 Epoch 32 Train Loss: 1.21860586 lr: 0.205891 Val Loss: 1.30627929\n",
      "It: 1590000 Batch: 6000 Epoch 33 Train Loss: 1.16163454 lr: 0.205891 Val Loss: 1.14731453\n",
      "It: 1600000 Batch: 16000 Epoch 33 Train Loss: 1.14624820 lr: 0.205891 Val Loss: 1.17861934\n",
      "It: 1610000 Batch: 26000 Epoch 33 Train Loss: 1.09228330 lr: 0.185302 Val Loss: 1.12040065\n",
      "It: 1620000 Batch: 36000 Epoch 33 Train Loss: 1.11567706 lr: 0.185302 Val Loss: 1.10666661\n",
      "It: 1630000 Batch: 46000 Epoch 33 Train Loss: 1.16327086 lr: 0.185302 Val Loss: 1.19055424\n",
      "It: 1640000 Batch: 8000 Epoch 34 Train Loss: 1.12247825 lr: 0.185302 Val Loss: 1.15494245\n",
      "It: 1650000 Batch: 18000 Epoch 34 Train Loss: 1.11923964 lr: 0.185302 Val Loss: 1.14974678\n",
      "It: 1660000 Batch: 28000 Epoch 34 Train Loss: 1.17116460 lr: 0.185302 Val Loss: 1.26190638\n",
      "It: 1670000 Batch: 38000 Epoch 34 Train Loss: 1.08048839 lr: 0.185302 Val Loss: 1.18162506\n",
      "It: 1680000 Batch: 48000 Epoch 34 Train Loss: 1.11488051 lr: 0.185302 Val Loss: 1.25072236\n",
      "It: 1690000 Batch: 10000 Epoch 35 Train Loss: 1.12241063 lr: 0.185302 Val Loss: 1.21061752\n",
      "It: 1700000 Batch: 20000 Epoch 35 Train Loss: 1.17055564 lr: 0.185302 Val Loss: 1.38458858\n",
      "It: 1710000 Batch: 30000 Epoch 35 Train Loss: 1.12178817 lr: 0.166772 Val Loss: 1.09938319\n",
      "It: 1720000 Batch: 40000 Epoch 35 Train Loss: 1.09120302 lr: 0.166772 Val Loss: 1.21941617\n",
      "It: 1730000 Batch: 2000 Epoch 36 Train Loss: 1.12067141 lr: 0.166772 Val Loss: 1.12558968\n",
      "It: 1740000 Batch: 12000 Epoch 36 Train Loss: 1.07132807 lr: 0.166772 Val Loss: 1.16359308\n",
      "It: 1750000 Batch: 22000 Epoch 36 Train Loss: 1.14758672 lr: 0.166772 Val Loss: 1.16904015\n",
      "It: 1760000 Batch: 32000 Epoch 36 Train Loss: 1.13852650 lr: 0.166772 Val Loss: 1.17772204\n",
      "It: 1770000 Batch: 42000 Epoch 36 Train Loss: 1.12383625 lr: 0.166772 Val Loss: 1.34021328\n",
      "It: 1780000 Batch: 4000 Epoch 37 Train Loss: 1.13769745 lr: 0.166772 Val Loss: 1.17575868\n",
      "It: 1790000 Batch: 14000 Epoch 37 Train Loss: 1.14019627 lr: 0.166772 Val Loss: 1.25918074\n",
      "It: 1800000 Batch: 24000 Epoch 37 Train Loss: 1.12670794 lr: 0.166772 Val Loss: 1.26812737\n",
      "It: 1810000 Batch: 34000 Epoch 37 Train Loss: 1.10857906 lr: 0.150095 Val Loss: 1.24937651\n",
      "It: 1820000 Batch: 44000 Epoch 37 Train Loss: 1.13918235 lr: 0.150095 Val Loss: 1.29251736\n",
      "It: 1830000 Batch: 6000 Epoch 38 Train Loss: 1.12773930 lr: 0.150095 Val Loss: 1.33223775\n"
     ]
    },
    {
     "name": "stdout",
     "output_type": "stream",
     "text": [
      "It: 1840000 Batch: 16000 Epoch 38 Train Loss: 1.12616907 lr: 0.150095 Val Loss: 1.13479352\n",
      "It: 1850000 Batch: 26000 Epoch 38 Train Loss: 1.08673498 lr: 0.150095 Val Loss: 1.20094218\n",
      "It: 1860000 Batch: 36000 Epoch 38 Train Loss: 1.07912235 lr: 0.150095 Val Loss: 1.19067149\n",
      "It: 1870000 Batch: 46000 Epoch 38 Train Loss: 1.18522899 lr: 0.150095 Val Loss: 1.12701329\n",
      "It: 1880000 Batch: 8000 Epoch 39 Train Loss: 1.07288725 lr: 0.150095 Val Loss: 1.23877617\n",
      "It: 1890000 Batch: 18000 Epoch 39 Train Loss: 1.12684435 lr: 0.150095 Val Loss: 1.16811470\n",
      "It: 1900000 Batch: 28000 Epoch 39 Train Loss: 1.09469142 lr: 0.150095 Val Loss: 1.05445552\n",
      "It: 1910000 Batch: 38000 Epoch 39 Train Loss: 1.08483514 lr: 0.135085 Val Loss: 1.09603895\n",
      "It: 1920000 Batch: 48000 Epoch 39 Train Loss: 1.08502744 lr: 0.135085 Val Loss: 1.20335597\n",
      "It: 1930000 Batch: 10000 Epoch 40 Train Loss: 1.11070446 lr: 0.135085 Val Loss: 1.22144701\n",
      "It: 1940000 Batch: 20000 Epoch 40 Train Loss: 1.05451783 lr: 0.135085 Val Loss: 1.16373835\n",
      "It: 1950000 Batch: 30000 Epoch 40 Train Loss: 1.09252603 lr: 0.135085 Val Loss: 1.12899563\n",
      "It: 1960000 Batch: 40000 Epoch 40 Train Loss: 1.06897201 lr: 0.135085 Val Loss: 1.14220259\n",
      "It: 1970000 Batch: 2000 Epoch 41 Train Loss: 1.11784460 lr: 0.135085 Val Loss: 1.21421761\n",
      "It: 1980000 Batch: 12000 Epoch 41 Train Loss: 1.06911159 lr: 0.135085 Val Loss: 1.11671162\n",
      "It: 1990000 Batch: 22000 Epoch 41 Train Loss: 1.04451213 lr: 0.135085 Val Loss: 1.26840664\n",
      "It: 2000000 Batch: 32000 Epoch 41 Train Loss: 1.09318834 lr: 0.135085 Val Loss: 1.30544213\n",
      "It: 2010000 Batch: 42000 Epoch 41 Train Loss: 1.11489675 lr: 0.121577 Val Loss: 1.20019165\n",
      "It: 2020000 Batch: 4000 Epoch 42 Train Loss: 1.03854095 lr: 0.121577 Val Loss: 1.15848108\n",
      "It: 2030000 Batch: 14000 Epoch 42 Train Loss: 1.03982046 lr: 0.121577 Val Loss: 1.23480357\n",
      "It: 2040000 Batch: 24000 Epoch 42 Train Loss: 1.12886996 lr: 0.121577 Val Loss: 1.28470464\n",
      "It: 2050000 Batch: 34000 Epoch 42 Train Loss: 1.22688361 lr: 0.121577 Val Loss: 1.25706316\n",
      "It: 2060000 Batch: 44000 Epoch 42 Train Loss: 1.05884059 lr: 0.121577 Val Loss: 1.17542764\n",
      "It: 2070000 Batch: 6000 Epoch 43 Train Loss: 1.09041609 lr: 0.121577 Val Loss: 1.17767911\n",
      "It: 2080000 Batch: 16000 Epoch 43 Train Loss: 1.05549234 lr: 0.121577 Val Loss: 1.06724725\n",
      "It: 2090000 Batch: 26000 Epoch 43 Train Loss: 1.04132138 lr: 0.121577 Val Loss: 1.09544757\n",
      "It: 2100000 Batch: 36000 Epoch 43 Train Loss: 1.04481312 lr: 0.121577 Val Loss: 1.23795099\n",
      "It: 2110000 Batch: 46000 Epoch 43 Train Loss: 1.03897138 lr: 0.109419 Val Loss: 1.14569303\n",
      "It: 2120000 Batch: 8000 Epoch 44 Train Loss: 1.06144111 lr: 0.109419 Val Loss: 1.16944772\n",
      "It: 2130000 Batch: 18000 Epoch 44 Train Loss: 1.06880922 lr: 0.109419 Val Loss: 1.17934016\n",
      "It: 2140000 Batch: 28000 Epoch 44 Train Loss: 1.06808293 lr: 0.109419 Val Loss: 1.14892126\n",
      "It: 2150000 Batch: 38000 Epoch 44 Train Loss: 1.01527337 lr: 0.109419 Val Loss: 1.11835145\n",
      "It: 2160000 Batch: 48000 Epoch 44 Train Loss: 1.01755713 lr: 0.109419 Val Loss: 1.22484121\n",
      "It: 2170000 Batch: 10000 Epoch 45 Train Loss: 0.97265520 lr: 0.109419 Val Loss: 1.10714774\n",
      "It: 2180000 Batch: 20000 Epoch 45 Train Loss: 1.04949254 lr: 0.109419 Val Loss: 1.09697716\n",
      "It: 2190000 Batch: 30000 Epoch 45 Train Loss: 1.02522482 lr: 0.109419 Val Loss: 1.17236212\n",
      "It: 2200000 Batch: 40000 Epoch 45 Train Loss: 1.05594857 lr: 0.109419 Val Loss: 1.11084837\n",
      "It: 2210000 Batch: 2000 Epoch 46 Train Loss: 1.04221108 lr: 0.098477 Val Loss: 1.18245008\n",
      "It: 2220000 Batch: 12000 Epoch 46 Train Loss: 1.04919107 lr: 0.098477 Val Loss: 1.21221950\n",
      "It: 2230000 Batch: 22000 Epoch 46 Train Loss: 1.08458087 lr: 0.098477 Val Loss: 1.15729325\n",
      "It: 2240000 Batch: 32000 Epoch 46 Train Loss: 1.10443410 lr: 0.098477 Val Loss: 1.26509368\n",
      "It: 2250000 Batch: 42000 Epoch 46 Train Loss: 1.08052750 lr: 0.098477 Val Loss: 1.13759791\n",
      "It: 2260000 Batch: 4000 Epoch 47 Train Loss: 1.02879505 lr: 0.098477 Val Loss: 1.18428865\n",
      "It: 2270000 Batch: 14000 Epoch 47 Train Loss: 1.04434063 lr: 0.098477 Val Loss: 1.09121233\n",
      "It: 2280000 Batch: 24000 Epoch 47 Train Loss: 1.06676323 lr: 0.098477 Val Loss: 1.15957779\n",
      "It: 2290000 Batch: 34000 Epoch 47 Train Loss: 1.03187584 lr: 0.098477 Val Loss: 1.09612745\n",
      "It: 2300000 Batch: 44000 Epoch 47 Train Loss: 0.97936192 lr: 0.098477 Val Loss: 1.17947896\n",
      "It: 2310000 Batch: 6000 Epoch 48 Train Loss: 1.02240462 lr: 0.088629 Val Loss: 1.15095929\n",
      "It: 2320000 Batch: 16000 Epoch 48 Train Loss: 1.00320739 lr: 0.088629 Val Loss: 1.14251397\n",
      "It: 2330000 Batch: 26000 Epoch 48 Train Loss: 0.97443879 lr: 0.088629 Val Loss: 1.11572721\n",
      "It: 2340000 Batch: 36000 Epoch 48 Train Loss: 1.06184640 lr: 0.088629 Val Loss: 1.11968651\n",
      "It: 2350000 Batch: 46000 Epoch 48 Train Loss: 1.06465694 lr: 0.088629 Val Loss: 1.11618802\n",
      "It: 2360000 Batch: 8000 Epoch 49 Train Loss: 0.97707341 lr: 0.088629 Val Loss: 1.07018012\n",
      "It: 2370000 Batch: 18000 Epoch 49 Train Loss: 0.98044388 lr: 0.088629 Val Loss: 1.02585245\n",
      "It: 2380000 Batch: 28000 Epoch 49 Train Loss: 0.92238294 lr: 0.088629 Val Loss: 1.03742114\n",
      "It: 2390000 Batch: 38000 Epoch 49 Train Loss: 0.97298366 lr: 0.088629 Val Loss: 1.21647287\n",
      "It: 2400000 Batch: 48000 Epoch 49 Train Loss: 1.04761345 lr: 0.088629 Val Loss: 1.04554426\n",
      "Finished \n",
      " It: 2400000 Batch: 48000 Epoch 49 Train Loss: 1.04761345 lr: 0.088629 Val Loss: 1.04554426\n",
      "Time Spent  715.8121657419999\n",
      "6\n"
     ]
    }
   ],
   "source": [
    "import time\n",
    "import timeit\n",
    "from utils import dataset_helper\n",
    "from utils import custom_scores\n",
    "reload(custom_scores)\n",
    "reload(dataset_helper)\n",
    "reload(loss_functions)\n",
    "reload(activation_functions)\n",
    "reload(network)\n",
    "reload(dataset_helper)\n",
    "\n",
    "nclasses = 5\n",
    "nsamples = 60000\n",
    "nfeatures = 60\n",
    "eps = np.finfo(np.float32).eps\n",
    "X,  X_val, Y, Y_val = dataset_helper.get_toy_data_multiclass(nclasses, nsamples, nfeatures)\n",
    "\n",
    "Y = dataset_helper.one_hot_encode(Y, nclasses)\n",
    "Y_val = dataset_helper.one_hot_encode(Y_val, nclasses)\n",
    "\n",
    "eps = 0.9\n",
    "lr = 1.\n",
    "max_iter = 50 * X.shape[0]\n",
    "print_interval = 10 * 1000\n",
    "\n",
    "network.DEBUG = False\n",
    "\n",
    "eps = np.finfo(np.float32).eps\n",
    "\n",
    "h1 = network.Layer(nfeatures, 32, 'sigmoid', label=\"H1\")\n",
    "h2 = network.Layer(32, 32, 'sigmoid', label=\"H2\")\n",
    "h3 = network.Layer(32, 24, 'sigmoid', label=\"H3\")\n",
    "o = network.Layer(24, nclasses, 'sigmoid', label=\"Output\")\n",
    "\n",
    "model = network.NN(loss='cross_entropy')\n",
    "model.add_layer(h1)\n",
    "model.add_layer(h2)\n",
    "model.add_layer(h3)\n",
    "model.add_layer(o)\n",
    "model.show_weights()\n",
    "\n",
    "\n",
    "print(\"\")\n",
    "start = time.process_time()\n",
    "model.fit(X, Y, max_iter=max_iter, \n",
    "          lr=lr, epsilon=eps,\n",
    "          decay_iteractions=100 * 1000, decay_rate = 0.9,\n",
    "          X_val=X_val, Y_val=Y_val,\n",
    "          print_interval=print_interval)\n",
    "\n",
    "Y_ = np.array(model.predict(X))\n",
    "Y_ = Y_.argmax(axis=-1).flatten()\n",
    "Y = Y.argmax(axis=-1)\n",
    "mae = np.absolute(Y - Y_).mean()\n",
    "\n",
    "print(\"Time Spent \", time.process_time() - start)\n",
    "\n",
    "\n",
    "Y_val_ = np.array(model.predict(X_val))\n",
    "iteraction_log = network.get_iteration_log()"
   ]
  },
  {
   "cell_type": "code",
   "execution_count": 14,
   "metadata": {},
   "outputs": [
    {
     "name": "stdout",
     "output_type": "stream",
     "text": [
      "Validation Stats...\n",
      "Accuracy: 0.847\n",
      "Precision: 0.851\n",
      "Recall: 0.847\n",
      "F1 Score: 0.848730\n",
      "{0: 0, 1: 1, 2: 2, 3: 3, 4: 4}\n",
      "Confusion matrix, without normalization\n",
      "Normalized confusion matrix\n"
     ]
    },
    {
     "data": {
      "image/png": "[encoded data removed]",
      "text/plain": [
       "<Figure size 432x288 with 2 Axes>"
      ]
     },
     "metadata": {
      "needs_background": "light"
     },
     "output_type": "display_data"
    },
    {
     "data": {
      "image/png": "[encoded data removed]",
      "text/plain": [
       "<Figure size 432x288 with 2 Axes>"
      ]
     },
     "metadata": {
      "needs_background": "light"
     },
     "output_type": "display_data"
    },
    {
     "data": {
      "text/plain": [
       "<matplotlib.axes._subplots.AxesSubplot at 0x7f313b2a1eb8>"
      ]
     },
     "execution_count": 14,
     "metadata": {},
     "output_type": "execute_result"
    },
    {
     "data": {
      "image/png": "[encoded data removed]",
      "text/plain": [
       "<Figure size 432x288 with 1 Axes>"
      ]
     },
     "metadata": {
      "needs_background": "light"
     },
     "output_type": "display_data"
    }
   ],
   "source": [
    "import time\n",
    "import timeit\n",
    "from utils import dataset_helper\n",
    "from utils import custom_scores\n",
    "custom_scores.evalute_multiclass(Y_val.argmax(axis=-1), Y_val_.argmax(axis=-1))\n",
    "iteraction_log.index = iteraction_log.it\n",
    "iteraction_log.error_train.plot()\n",
    "iteraction_log.error_val.plot()"
   ]
  },
  {
   "cell_type": "code",
   "execution_count": null,
   "metadata": {},
   "outputs": [],
   "source": []
  }
 ],
 "metadata": {
  "kernelspec": {
   "display_name": "Python 3",
   "language": "python",
   "name": "python3"
  },
  "language_info": {
   "codemirror_mode": {
    "name": "ipython",
    "version": 3
   },
   "file_extension": ".py",
   "mimetype": "text/x-python",
   "name": "python",
   "nbconvert_exporter": "python",
   "pygments_lexer": "ipython3",
   "version": "3.5.2"
  }
 },
 "nbformat": 4,
 "nbformat_minor": 2
}
