{
 "cells": [
  {
   "cell_type": "code",
   "execution_count": 1,
   "metadata": {},
   "outputs": [],
   "source": [
    "import sys\n",
    "sys.path.append('../')\n",
    "from SGD import custom_SGD"
   ]
  },
  {
   "cell_type": "markdown",
   "metadata": {},
   "source": [
    "## Test with the single step for the gradient computation"
   ]
  },
  {
   "cell_type": "code",
   "execution_count": 2,
   "metadata": {
    "scrolled": true
   },
   "outputs": [
    {
     "name": "stdout",
     "output_type": "stream",
     "text": [
      "Iter 0 theta: [ 0.79204728 -0.17385816 -1.12669268]\n",
      "Training Accuracy: 0.500\n",
      "Iter 1 theta: [1.24104927 1.62377359 2.01713315]\n",
      "Training Accuracy: 0.500\n",
      "Iter 2 theta: [ 0.7910493   0.72377365 -0.68286668]\n",
      "Training Accuracy: 0.500\n",
      "Iter 3 theta: [1.06746351 1.9508098  1.31272243]\n",
      "Training Accuracy: 0.500\n",
      "Iter 4 theta: [ 0.6174647  1.0508122 -1.3872704]\n",
      "Training Accuracy: 0.500\n",
      "Iter 5 theta: [1.06245549 2.83407623 1.72931556]\n",
      "Training Accuracy: 0.500\n",
      "Iter 6 theta: [ 0.61245551  1.93407626 -0.97068434]\n",
      "Training Accuracy: 1.000\n",
      "Iter 7 theta: [ 0.5978657   2.06195888 -0.97969209]\n",
      "Training Accuracy: 1.000\n",
      "Iter 8 theta: [ 0.54438596  2.06343483 -1.24635281]\n",
      "Training Accuracy: 1.000\n",
      "Iter 9 theta: [0.7354739  2.87904569 0.11689236]\n",
      "Training Accuracy: 0.500\n",
      "Iter 10 theta: [ 0.28581227  1.97972433 -2.58107647]\n",
      "Training Accuracy: 0.500\n",
      "Iter 11 theta: [0.73578294 3.77961879 0.56872407]\n",
      "Training Accuracy: 0.500\n",
      "Iter 12 theta: [ 0.28578664  2.8796262  -2.13125369]\n",
      "Training Accuracy: 0.500\n",
      "Iter 13 theta: [0.71612522 4.602041   0.8816466 ]\n",
      "Training Accuracy: 0.500\n",
      "Iter 14 theta: [ 0.26612533  3.70204123 -1.81835274]\n",
      "Training Accuracy: 1.000\n",
      "Iter 15 theta: [ 0.28849362  3.82543646 -1.64481369]\n",
      "Training Accuracy: 1.000\n",
      "Iter 16 theta: [ 0.23893906  3.741342   -1.93463371]\n",
      "Training Accuracy: 1.000\n",
      "Iter 17 theta: [ 0.30166911  4.010362   -1.48647344]\n",
      "Training Accuracy: 1.000\n",
      "Iter 18 theta: [ 0.14303242  3.6954564  -2.43710972]\n",
      "Training Accuracy: 0.500\n",
      "Iter 19 theta: [0.54506982 5.30435643 0.37752732]\n",
      "Training Accuracy: 0.500\n",
      "Iter 20 theta: [ 0.09507049  4.40435776 -2.32246866]\n",
      "Training Accuracy: 1.000\n",
      "Iter 21 theta: [ 0.17728983  4.73907587 -1.7440129 ]\n",
      "Training Accuracy: 1.000\n",
      "Iter 22 theta: [ 0.03904991  4.46347933 -2.57301079]\n",
      "Training Accuracy: 0.500\n",
      "Iter 23 theta: [ 0.27662703  5.41517708 -0.90927633]\n",
      "Training Accuracy: 0.500\n",
      "Iter 24 theta: [-0.17179764  4.51832791 -3.59982425]\n",
      "Training Accuracy: 0.500\n",
      "Iter 25 theta: [ 0.27789641  6.31710677 -0.45196456]\n",
      "Training Accuracy: 0.500\n",
      "Iter 26 theta: [-0.17208687  5.41714021 -3.15186424]\n",
      "Training Accuracy: 0.500\n",
      "Iter 27 theta: [ 0.11488318  6.5652557  -1.14295627]\n",
      "Training Accuracy: 0.500\n",
      "Iter 28 theta: [-0.3343611   5.66676715 -3.83842194]\n",
      "Training Accuracy: 0.500\n",
      "Iter 29 theta: [ 0.11086622  7.44768181 -0.72182797]\n",
      "Training Accuracy: 0.500\n",
      "Iter 30 theta: [-0.33912338  6.54770261 -3.42176558]\n",
      "Training Accuracy: 1.000\n",
      "Iter 31 theta: [-0.28072943  6.7816566  -3.01281885]\n",
      "Training Accuracy: 1.000\n",
      "Iter 32 theta: [-0.28300434  6.77994469 -3.02504937]\n",
      "Training Accuracy: 1.000\n",
      "Iter 33 theta: [-0.28486001  6.7793523  -3.0346239 ]\n",
      "Training Accuracy: 1.000\n",
      "Iter 34 theta: [-0.28640193  6.77961688 -3.0422012 ]\n",
      "Training Accuracy: 1.000\n",
      "Iter 35 theta: [-0.2877071   6.78053833 -3.04826631]\n",
      "Training Accuracy: 1.000\n",
      "Iter 36 theta: [-0.28883291  6.78196232 -3.05318338]\n",
      "Training Accuracy: 1.000\n",
      "Iter 37 theta: [-0.2898226   6.78376946 -3.05722824]\n",
      "Training Accuracy: 1.000\n",
      "Iter 38 theta: [-0.29070886  6.7858676  -3.06061051]\n",
      "Training Accuracy: 1.000\n",
      "Iter 39 theta: [-0.2915165   6.78818582 -3.06348957]\n",
      "Training Accuracy: 1.000\n",
      "Iter 40 theta: [-0.29226428  6.79066978 -3.06598652]\n",
      "Training Accuracy: 1.000\n",
      "Iter 41 theta: [-0.29296645  6.79327795 -3.06819327]\n",
      "Training Accuracy: 1.000\n",
      "Iter 42 theta: [-0.29363378  6.79597871 -3.07017952]\n",
      "Training Accuracy: 1.000\n",
      "Iter 43 theta: [-0.29427441  6.79874801 -3.07199807]\n",
      "Training Accuracy: 1.000\n",
      "Iter 44 theta: [-0.29489454  6.8015676  -3.07368888]\n",
      "Training Accuracy: 1.000\n",
      "Iter 45 theta: [-0.29549881  6.80442366 -3.07528221]\n",
      "Training Accuracy: 1.000\n",
      "Iter 46 theta: [-0.29609076  6.8073057  -3.07680095]\n",
      "Training Accuracy: 1.000\n",
      "Iter 47 theta: [-0.29667307  6.8102058  -3.07826244]\n",
      "Training Accuracy: 1.000\n",
      "Iter 48 theta: [-0.29724775  6.81311795 -3.07967979]\n",
      "Training Accuracy: 1.000\n",
      "Iter 49 theta: [-0.29781635  6.81603763 -3.08106294]\n",
      "Training Accuracy: 1.000\n",
      "Predicted: [0.99549877 0.00575383]\n",
      "Expected: [1. 0.]\n"
     ]
    }
   ],
   "source": [
    "custom_SGD.grad_logit_step_test()"
   ]
  },
  {
   "cell_type": "markdown",
   "metadata": {},
   "source": [
    "## Testing One against all Classification for multiclass"
   ]
  },
  {
   "cell_type": "code",
   "execution_count": 3,
   "metadata": {
    "scrolled": true
   },
   "outputs": [
    {
     "name": "stdout",
     "output_type": "stream",
     "text": [
      "\n",
      "Stochastic Mini batch\n",
      "[0 1 2 3]\n",
      "==============================================\n",
      "Training for class 0\n",
      "==============================================\n",
      "Number of samples: 400\n",
      "Number of parameters: 11\n",
      "Shuffled\n",
      "It: 1 Batch: 1 Epoch 0 Train Acc : 0.81250000 lr: 0.00100000 \n",
      "Finished \n",
      " Whole Set Train Acc: 0.81500000 \n",
      "==============================================\n",
      "==============================================\n",
      "Training for class 1\n",
      "==============================================\n",
      "Number of samples: 400\n",
      "Number of parameters: 11\n",
      "Shuffled\n",
      "It: 1 Batch: 1 Epoch 0 Train Acc : 0.96875000 lr: 0.00100000 \n",
      "Finished \n",
      " Whole Set Train Acc: 0.94750000 \n",
      "==============================================\n",
      "==============================================\n",
      "Training for class 2\n",
      "==============================================\n",
      "Number of samples: 400\n",
      "Number of parameters: 11\n",
      "Shuffled\n",
      "It: 1 Batch: 1 Epoch 0 Train Acc : 0.85937500 lr: 0.00100000 \n",
      "Finished \n",
      " Whole Set Train Acc: 0.86000000 \n",
      "==============================================\n",
      "==============================================\n",
      "Training for class 3\n",
      "==============================================\n",
      "Number of samples: 400\n",
      "Number of parameters: 11\n",
      "Shuffled\n",
      "It: 1 Batch: 1 Epoch 0 Train Acc : 0.93750000 lr: 0.00100000 \n",
      "Finished \n",
      " Whole Set Train Acc: 0.89750000 \n",
      "==============================================\n",
      "Time Spent  0.06621859599999969\n",
      "Validation Stats...\n",
      "Accuracy: 0.840\n",
      "Precision: 0.851\n",
      "Recall: 0.831\n",
      "F1 Score: 0.841027\n",
      "{0: 0, 1: 1, 2: 2, 3: 3}\n",
      "Confusion matrix, without normalization\n",
      "Normalized confusion matrix\n"
     ]
    },
    {
     "data": {
      "image/png": "[encoded data removed]",
      "text/plain": [
       "<Figure size 360x360 with 2 Axes>"
      ]
     },
     "metadata": {
      "needs_background": "light"
     },
     "output_type": "display_data"
    },
    {
     "data": {
      "image/png": "[encoded data removed]",
      "text/plain": [
       "<Figure size 360x360 with 2 Axes>"
      ]
     },
     "metadata": {
      "needs_background": "light"
     },
     "output_type": "display_data"
    }
   ],
   "source": [
    "from importlib import reload\n",
    "reload(custom_SGD)\n",
    "custom_SGD.SGD_toy_test_multiclass()"
   ]
  },
  {
   "cell_type": "code",
   "execution_count": null,
   "metadata": {},
   "outputs": [],
   "source": []
  }
 ],
 "metadata": {
  "kernelspec": {
   "display_name": "Python 3",
   "language": "python",
   "name": "python3"
  },
  "language_info": {
   "codemirror_mode": {
    "name": "ipython",
    "version": 3
   },
   "file_extension": ".py",
   "mimetype": "text/x-python",
   "name": "python",
   "nbconvert_exporter": "python",
   "pygments_lexer": "ipython3",
   "version": "3.5.2"
  }
 },
 "nbformat": 4,
 "nbformat_minor": 2
}
