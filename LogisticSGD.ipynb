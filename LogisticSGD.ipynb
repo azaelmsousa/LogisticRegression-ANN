{
 "cells": [
  {
   "cell_type": "code",
   "execution_count": null,
   "metadata": {},
   "outputs": [],
   "source": [
    "import numpy as np\n",
    "import pandas as pd\n",
    "import matplotlib.pyplot as plt\n",
    "import os\n",
    "import math"
   ]
  },
  {
   "cell_type": "code",
   "execution_count": null,
   "metadata": {},
   "outputs": [],
   "source": [
    "def Hypothesis(theta,X):\n",
    "\th = 1 / (1 + np.exp(-np.dot(X,theta)))\n",
    "\treturn h"
   ]
  },
  {
   "cell_type": "code",
   "execution_count": null,
   "metadata": {},
   "outputs": [],
   "source": [
    "def Cost(theta,X,y):\n",
    "\th = Hypothesis(theta,X)\n",
    "\tcost = np.multiply(np.log(h),-y) + np.multiply((1-np.log(h)),-(1-y))\n",
    "\treturn cost"
   ]
  },
  {
   "cell_type": "code",
   "execution_count": null,
   "metadata": {},
   "outputs": [],
   "source": [
    "def BGD(X,y,alpha,iterations):\n",
    "\n",
    "\tX = np.insert(X,0,1,axis=1)\n",
    "\n",
    "\tnsamples = X.shape[0]\n",
    "\tnfeatures = X.shape[1]\n",
    "\ttheta = np.zeros(nfeatures)\n",
    "\ttheta_errors=[]\n",
    "\n",
    "\tfor i in range(iterations):\n",
    "\n",
    "\t\th = Hypothesis(theta,X)\n",
    "\n",
    "\t\terror = h - y\n",
    "\n",
    "\t\tgrad = np.dot(X.transpose(),error)/nsamples\n",
    "\n",
    "\t\ttheta = theta - alpha*grad\n",
    "\n",
    "\t\tcost = Cost(theta,X,y)\n",
    "\t\ttheta_errors.append(cost)\n",
    "\n",
    "\tX = np.delete(X,0,axis=1)\n",
    "\n",
    "\tplt.plot(theta_errors)\n",
    "\tplt.ylabel('Error')\n",
    "\tplt.xlabel('iterations')\n",
    "\tplt.show()\n",
    "\n",
    "\treturn theta,cost"
   ]
  }
 ],
 "metadata": {
  "kernelspec": {
   "display_name": "Python 3",
   "language": "python",
   "name": "python3"
  },
  "language_info": {
   "codemirror_mode": {
    "name": "ipython",
    "version": 3
   },
   "file_extension": ".py",
   "mimetype": "text/x-python",
   "name": "python",
   "nbconvert_exporter": "python",
   "pygments_lexer": "ipython3",
   "version": "3.5.2"
  }
 },
 "nbformat": 4,
 "nbformat_minor": 2
}
